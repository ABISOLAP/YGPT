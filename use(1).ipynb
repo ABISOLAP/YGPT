{
  "cells": [
    {
      "cell_type": "markdown",
      "id": "fa032160",
      "metadata": {
        "id": "fa032160"
      },
      "source": [
        "# In this notebook, I'll try to apply TRANSFORMER model for a CHATBOT from scratch"
      ]
    },
    {
      "cell_type": "markdown",
      "id": "698a1320",
      "metadata": {
        "id": "698a1320"
      },
      "source": [
        "## Overview\n",
        "***\n",
        "*A chatbot or chatterbot is a software application used to conduct an on-line chat conversation via text or text-to-speech, in lieu of providing direct contact with a live human agent chatbot is a type of software that can help human by automating conversations and interact with them through messaging platforms. here are different approaches and tools that you can use when building chatbots. Depending on the use case you want to address, some technologies are more appropriate than others. Combining artificial intelligence forms such as natural language processing, machine learning, and semantic understanding may be the best option to achieve the desired results.*\n",
        "***\n"
      ]
    },
    {
      "cell_type": "markdown",
      "id": "b94feefe",
      "metadata": {
        "id": "b94feefe"
      },
      "source": [
        "## How to build a Chatbot for our task?\n",
        "***\n",
        "ChatBots are usually Task specific means if there a chatbot which serves only food delivery app have trained on a dataset which\n",
        "completely different from the dataset on which chatbot which serves online healthcare app. Similary, for this kaggle problem\n",
        "we have provided with movie dataset which may feel that its not specific to any task, but actually it is specific to how people\n",
        "will interect generally as these movie dialogues are nothing but daily life conversation between people however, that chatbot\n",
        "may reply things which sounds too much dramatic and filmy like some dialogue of Tom cruise, shah rukh khan etc.\n",
        "\n",
        "We can approch this problem by applying Neural network models like encoder-decoder architecture with some attention mechanism.\n",
        "***"
      ]
    },
    {
      "cell_type": "code",
      "execution_count": null,
      "id": "425a8749",
      "metadata": {
        "id": "425a8749"
      },
      "outputs": [],
      "source": [
        "import transformers\n",
        "import numpy as np\n",
        "import codecs\n",
        "import tensorflow as tf\n",
        "import pandas as pd\n",
        "import ast\n",
        "import tqdm\n",
        "import matplotlib.pyplot as plt\n",
        "%matplotlib inline\n",
        "# import seaborn as sns\n",
        "import pandas as pd\n",
        "import re\n",
        "import tensorflow as tf\n",
        "from tensorflow.keras.layers import Embedding, LSTM, Dense\n",
        "from tensorflow.keras.models import Model\n",
        "from tensorflow.keras.preprocessing.text import Tokenizer\n",
        "from tensorflow.keras.preprocessing.sequence import pad_sequences\n",
        "import numpy as np\n",
        "import re\n",
        "import warnings\n",
        "import tensorflow_datasets as tfds\n",
        "import tensorflow as tf\n",
        "import joblib\n",
        "import time\n",
        "import numpy as np\n",
        "import matplotlib.pyplot as plt\n",
        "from tensorflow.keras.utils import Progbar\n",
        "warnings.filterwarnings('ignore')"
      ]
    },
    {
      "cell_type": "code",
      "source": [
        "import pandas as pd\n",
        "\n",
        "# Load the Excel file\n",
        "#file_path = 'https://docs.google.com/spreadsheets/d/12oPDLqEbwcCN1bhzfFIAkOFRU0Vqf7xY/export?format=xlsx'\n",
        "file_path = 'https://docs.google.com/spreadsheets/d/1R7kmn9LtcGZFUCplZVN804NXsGWyUBHF/export?format=xlsx'  # Update this path to the location of your uploaded file\n",
        "sheet_name = 'combinedata'\n",
        "\n",
        "# Read the specific sheet into a DataFrame\n",
        "data = pd.read_excel(file_path, sheet_name=sheet_name)\n",
        "\n",
        "# Display the DataFrame\n",
        "data.head()"
      ],
      "metadata": {
        "colab": {
          "base_uri": "https://localhost:8080/",
          "height": 206
        },
        "id": "CjCc4-MK551M",
        "outputId": "45661003-f91c-4365-e7ac-2404ee46cb8d"
      },
      "id": "CjCc4-MK551M",
      "execution_count": null,
      "outputs": [
        {
          "output_type": "execute_result",
          "data": {
            "text/plain": [
              "                       question  \\\n",
              "0            Ẹ ǹlẹ́ o, Ẹlẹ́ran.   \n",
              "1               Ṣé ajé ń wọgbá?   \n",
              "2           Eélòó ni kilo ẹran?   \n",
              "3         Ṣé jálẹ̀jálẹ̀ nì yẹn?   \n",
              "4  Ṣe bí o ti mọ, ẹlẹ́wà Ṣàpọn.   \n",
              "\n",
              "                                              answer  \n",
              "0                                Ẹ ǹlẹ́ o, Oníbàárà.  \n",
              "1                                        Olúwa ṣeun.  \n",
              "2                                   N1, 300 ni kílò.  \n",
              "3  Bẹ́ẹ̀ni, jálẹ̀jálẹ̀ nì yẹn. Kódà, àwọn kan ń t...  \n",
              "4                                        Òótó lẹ sọ.  "
            ],
            "text/html": [
              "\n",
              "  <div id=\"df-821511ee-5f69-4b4c-96fb-3f9d72863603\" class=\"colab-df-container\">\n",
              "    <div>\n",
              "<style scoped>\n",
              "    .dataframe tbody tr th:only-of-type {\n",
              "        vertical-align: middle;\n",
              "    }\n",
              "\n",
              "    .dataframe tbody tr th {\n",
              "        vertical-align: top;\n",
              "    }\n",
              "\n",
              "    .dataframe thead th {\n",
              "        text-align: right;\n",
              "    }\n",
              "</style>\n",
              "<table border=\"1\" class=\"dataframe\">\n",
              "  <thead>\n",
              "    <tr style=\"text-align: right;\">\n",
              "      <th></th>\n",
              "      <th>question</th>\n",
              "      <th>answer</th>\n",
              "    </tr>\n",
              "  </thead>\n",
              "  <tbody>\n",
              "    <tr>\n",
              "      <th>0</th>\n",
              "      <td>Ẹ ǹlẹ́ o, Ẹlẹ́ran.</td>\n",
              "      <td>Ẹ ǹlẹ́ o, Oníbàárà.</td>\n",
              "    </tr>\n",
              "    <tr>\n",
              "      <th>1</th>\n",
              "      <td>Ṣé ajé ń wọgbá?</td>\n",
              "      <td>Olúwa ṣeun.</td>\n",
              "    </tr>\n",
              "    <tr>\n",
              "      <th>2</th>\n",
              "      <td>Eélòó ni kilo ẹran?</td>\n",
              "      <td>N1, 300 ni kílò.</td>\n",
              "    </tr>\n",
              "    <tr>\n",
              "      <th>3</th>\n",
              "      <td>Ṣé jálẹ̀jálẹ̀ nì yẹn?</td>\n",
              "      <td>Bẹ́ẹ̀ni, jálẹ̀jálẹ̀ nì yẹn. Kódà, àwọn kan ń t...</td>\n",
              "    </tr>\n",
              "    <tr>\n",
              "      <th>4</th>\n",
              "      <td>Ṣe bí o ti mọ, ẹlẹ́wà Ṣàpọn.</td>\n",
              "      <td>Òótó lẹ sọ.</td>\n",
              "    </tr>\n",
              "  </tbody>\n",
              "</table>\n",
              "</div>\n",
              "    <div class=\"colab-df-buttons\">\n",
              "\n",
              "  <div class=\"colab-df-container\">\n",
              "    <button class=\"colab-df-convert\" onclick=\"convertToInteractive('df-821511ee-5f69-4b4c-96fb-3f9d72863603')\"\n",
              "            title=\"Convert this dataframe to an interactive table.\"\n",
              "            style=\"display:none;\">\n",
              "\n",
              "  <svg xmlns=\"http://www.w3.org/2000/svg\" height=\"24px\" viewBox=\"0 -960 960 960\">\n",
              "    <path d=\"M120-120v-720h720v720H120Zm60-500h600v-160H180v160Zm220 220h160v-160H400v160Zm0 220h160v-160H400v160ZM180-400h160v-160H180v160Zm440 0h160v-160H620v160ZM180-180h160v-160H180v160Zm440 0h160v-160H620v160Z\"/>\n",
              "  </svg>\n",
              "    </button>\n",
              "\n",
              "  <style>\n",
              "    .colab-df-container {\n",
              "      display:flex;\n",
              "      gap: 12px;\n",
              "    }\n",
              "\n",
              "    .colab-df-convert {\n",
              "      background-color: #E8F0FE;\n",
              "      border: none;\n",
              "      border-radius: 50%;\n",
              "      cursor: pointer;\n",
              "      display: none;\n",
              "      fill: #1967D2;\n",
              "      height: 32px;\n",
              "      padding: 0 0 0 0;\n",
              "      width: 32px;\n",
              "    }\n",
              "\n",
              "    .colab-df-convert:hover {\n",
              "      background-color: #E2EBFA;\n",
              "      box-shadow: 0px 1px 2px rgba(60, 64, 67, 0.3), 0px 1px 3px 1px rgba(60, 64, 67, 0.15);\n",
              "      fill: #174EA6;\n",
              "    }\n",
              "\n",
              "    .colab-df-buttons div {\n",
              "      margin-bottom: 4px;\n",
              "    }\n",
              "\n",
              "    [theme=dark] .colab-df-convert {\n",
              "      background-color: #3B4455;\n",
              "      fill: #D2E3FC;\n",
              "    }\n",
              "\n",
              "    [theme=dark] .colab-df-convert:hover {\n",
              "      background-color: #434B5C;\n",
              "      box-shadow: 0px 1px 3px 1px rgba(0, 0, 0, 0.15);\n",
              "      filter: drop-shadow(0px 1px 2px rgba(0, 0, 0, 0.3));\n",
              "      fill: #FFFFFF;\n",
              "    }\n",
              "  </style>\n",
              "\n",
              "    <script>\n",
              "      const buttonEl =\n",
              "        document.querySelector('#df-821511ee-5f69-4b4c-96fb-3f9d72863603 button.colab-df-convert');\n",
              "      buttonEl.style.display =\n",
              "        google.colab.kernel.accessAllowed ? 'block' : 'none';\n",
              "\n",
              "      async function convertToInteractive(key) {\n",
              "        const element = document.querySelector('#df-821511ee-5f69-4b4c-96fb-3f9d72863603');\n",
              "        const dataTable =\n",
              "          await google.colab.kernel.invokeFunction('convertToInteractive',\n",
              "                                                    [key], {});\n",
              "        if (!dataTable) return;\n",
              "\n",
              "        const docLinkHtml = 'Like what you see? Visit the ' +\n",
              "          '<a target=\"_blank\" href=https://colab.research.google.com/notebooks/data_table.ipynb>data table notebook</a>'\n",
              "          + ' to learn more about interactive tables.';\n",
              "        element.innerHTML = '';\n",
              "        dataTable['output_type'] = 'display_data';\n",
              "        await google.colab.output.renderOutput(dataTable, element);\n",
              "        const docLink = document.createElement('div');\n",
              "        docLink.innerHTML = docLinkHtml;\n",
              "        element.appendChild(docLink);\n",
              "      }\n",
              "    </script>\n",
              "  </div>\n",
              "\n",
              "\n",
              "<div id=\"df-83f26618-e02e-4b19-ae8e-307f3d3202fd\">\n",
              "  <button class=\"colab-df-quickchart\" onclick=\"quickchart('df-83f26618-e02e-4b19-ae8e-307f3d3202fd')\"\n",
              "            title=\"Suggest charts\"\n",
              "            style=\"display:none;\">\n",
              "\n",
              "<svg xmlns=\"http://www.w3.org/2000/svg\" height=\"24px\"viewBox=\"0 0 24 24\"\n",
              "     width=\"24px\">\n",
              "    <g>\n",
              "        <path d=\"M19 3H5c-1.1 0-2 .9-2 2v14c0 1.1.9 2 2 2h14c1.1 0 2-.9 2-2V5c0-1.1-.9-2-2-2zM9 17H7v-7h2v7zm4 0h-2V7h2v10zm4 0h-2v-4h2v4z\"/>\n",
              "    </g>\n",
              "</svg>\n",
              "  </button>\n",
              "\n",
              "<style>\n",
              "  .colab-df-quickchart {\n",
              "      --bg-color: #E8F0FE;\n",
              "      --fill-color: #1967D2;\n",
              "      --hover-bg-color: #E2EBFA;\n",
              "      --hover-fill-color: #174EA6;\n",
              "      --disabled-fill-color: #AAA;\n",
              "      --disabled-bg-color: #DDD;\n",
              "  }\n",
              "\n",
              "  [theme=dark] .colab-df-quickchart {\n",
              "      --bg-color: #3B4455;\n",
              "      --fill-color: #D2E3FC;\n",
              "      --hover-bg-color: #434B5C;\n",
              "      --hover-fill-color: #FFFFFF;\n",
              "      --disabled-bg-color: #3B4455;\n",
              "      --disabled-fill-color: #666;\n",
              "  }\n",
              "\n",
              "  .colab-df-quickchart {\n",
              "    background-color: var(--bg-color);\n",
              "    border: none;\n",
              "    border-radius: 50%;\n",
              "    cursor: pointer;\n",
              "    display: none;\n",
              "    fill: var(--fill-color);\n",
              "    height: 32px;\n",
              "    padding: 0;\n",
              "    width: 32px;\n",
              "  }\n",
              "\n",
              "  .colab-df-quickchart:hover {\n",
              "    background-color: var(--hover-bg-color);\n",
              "    box-shadow: 0 1px 2px rgba(60, 64, 67, 0.3), 0 1px 3px 1px rgba(60, 64, 67, 0.15);\n",
              "    fill: var(--button-hover-fill-color);\n",
              "  }\n",
              "\n",
              "  .colab-df-quickchart-complete:disabled,\n",
              "  .colab-df-quickchart-complete:disabled:hover {\n",
              "    background-color: var(--disabled-bg-color);\n",
              "    fill: var(--disabled-fill-color);\n",
              "    box-shadow: none;\n",
              "  }\n",
              "\n",
              "  .colab-df-spinner {\n",
              "    border: 2px solid var(--fill-color);\n",
              "    border-color: transparent;\n",
              "    border-bottom-color: var(--fill-color);\n",
              "    animation:\n",
              "      spin 1s steps(1) infinite;\n",
              "  }\n",
              "\n",
              "  @keyframes spin {\n",
              "    0% {\n",
              "      border-color: transparent;\n",
              "      border-bottom-color: var(--fill-color);\n",
              "      border-left-color: var(--fill-color);\n",
              "    }\n",
              "    20% {\n",
              "      border-color: transparent;\n",
              "      border-left-color: var(--fill-color);\n",
              "      border-top-color: var(--fill-color);\n",
              "    }\n",
              "    30% {\n",
              "      border-color: transparent;\n",
              "      border-left-color: var(--fill-color);\n",
              "      border-top-color: var(--fill-color);\n",
              "      border-right-color: var(--fill-color);\n",
              "    }\n",
              "    40% {\n",
              "      border-color: transparent;\n",
              "      border-right-color: var(--fill-color);\n",
              "      border-top-color: var(--fill-color);\n",
              "    }\n",
              "    60% {\n",
              "      border-color: transparent;\n",
              "      border-right-color: var(--fill-color);\n",
              "    }\n",
              "    80% {\n",
              "      border-color: transparent;\n",
              "      border-right-color: var(--fill-color);\n",
              "      border-bottom-color: var(--fill-color);\n",
              "    }\n",
              "    90% {\n",
              "      border-color: transparent;\n",
              "      border-bottom-color: var(--fill-color);\n",
              "    }\n",
              "  }\n",
              "</style>\n",
              "\n",
              "  <script>\n",
              "    async function quickchart(key) {\n",
              "      const quickchartButtonEl =\n",
              "        document.querySelector('#' + key + ' button');\n",
              "      quickchartButtonEl.disabled = true;  // To prevent multiple clicks.\n",
              "      quickchartButtonEl.classList.add('colab-df-spinner');\n",
              "      try {\n",
              "        const charts = await google.colab.kernel.invokeFunction(\n",
              "            'suggestCharts', [key], {});\n",
              "      } catch (error) {\n",
              "        console.error('Error during call to suggestCharts:', error);\n",
              "      }\n",
              "      quickchartButtonEl.classList.remove('colab-df-spinner');\n",
              "      quickchartButtonEl.classList.add('colab-df-quickchart-complete');\n",
              "    }\n",
              "    (() => {\n",
              "      let quickchartButtonEl =\n",
              "        document.querySelector('#df-83f26618-e02e-4b19-ae8e-307f3d3202fd button');\n",
              "      quickchartButtonEl.style.display =\n",
              "        google.colab.kernel.accessAllowed ? 'block' : 'none';\n",
              "    })();\n",
              "  </script>\n",
              "</div>\n",
              "\n",
              "    </div>\n",
              "  </div>\n"
            ],
            "application/vnd.google.colaboratory.intrinsic+json": {
              "type": "dataframe",
              "variable_name": "data",
              "summary": "{\n  \"name\": \"data\",\n  \"rows\": 1229,\n  \"fields\": [\n    {\n      \"column\": \"question\",\n      \"properties\": {\n        \"dtype\": \"string\",\n        \"num_unique_values\": 748,\n        \"samples\": [\n          \" Gbow\\u00f3 re\\u0323\",\n          \"\\u1eb8 k\\u00fa is\\u1eb9\\u0301 o. B\\u00e1wo ni?\",\n          \"\\u00d3 d\\u00e1a. \\u00c0b\\u00f9s\\u00ed Ol\\u00fawa o. \\u1eb8 gba ow\\u00f3.\"\n        ],\n        \"semantic_type\": \"\",\n        \"description\": \"\"\n      }\n    },\n    {\n      \"column\": \"answer\",\n      \"properties\": {\n        \"dtype\": \"string\",\n        \"num_unique_values\": 693,\n        \"samples\": [\n          \" M\\u00e0\\u00e1 t\\u00e0 \\u00e1 f\\u00fan un y\\u00edn n\\u00ed  \\u1ecdg\\u1ecd\\u0301\\u1ecd\\u0300ru\\u0300n-\\u00fan m\\u00e9j\\u00ec l\\u00e9l\\u00e0\\u00e1d\\u1ecd\\u0301rin \\u1eb9gb\\u1eb9\\u0300run\",\n          \"\\u1eccg\\u1ecd\\u0301r\\u00f9n-\\u00fan m\\u00e9j\\u00ec \\u00e0ti \\u00e0\\u00e1d\\u1ecd\\u0301ta n\\u00e1\\u00edr\\u00e0\",\n          \"\\u1eb8 \\u1e63\\u00e9 o. \\u1eb8 gba \\u1e63\\u1eb9\\u0301\\u0144j\\u00ec y\\u00edn\"\n        ],\n        \"semantic_type\": \"\",\n        \"description\": \"\"\n      }\n    }\n  ]\n}"
            }
          },
          "metadata": {},
          "execution_count": 36
        }
      ]
    },
    {
      "cell_type": "code",
      "source": [],
      "metadata": {
        "id": "HYQKhupr56eI"
      },
      "id": "HYQKhupr56eI",
      "execution_count": null,
      "outputs": []
    },
    {
      "cell_type": "markdown",
      "id": "ea97982f",
      "metadata": {
        "id": "ea97982f"
      },
      "source": [
        "## Loading cleaned data that I have preprared while EDA and preprocessing"
      ]
    },
    {
      "cell_type": "code",
      "execution_count": null,
      "id": "c0645f4e",
      "metadata": {
        "id": "c0645f4e"
      },
      "outputs": [],
      "source": [
        "#data = joblib.load('data_cleaned')\n",
        "#data.head()"
      ]
    },
    {
      "cell_type": "markdown",
      "id": "81af0edc",
      "metadata": {
        "id": "81af0edc"
      },
      "source": [
        "## Dividing into TWO, train/validation"
      ]
    },
    {
      "cell_type": "code",
      "execution_count": null,
      "id": "5d494f32",
      "metadata": {
        "id": "5d494f32"
      },
      "outputs": [],
      "source": [
        "from sklearn.model_selection import train_test_split\n",
        "train, validation = train_test_split(data, test_size=0.2, random_state=4)"
      ]
    },
    {
      "cell_type": "code",
      "execution_count": null,
      "id": "ebf65780",
      "metadata": {
        "colab": {
          "base_uri": "https://localhost:8080/"
        },
        "id": "ebf65780",
        "outputId": "1cf1256b-b455-4264-ac93-f5bcc458c7f6"
      },
      "outputs": [
        {
          "output_type": "stream",
          "name": "stdout",
          "text": [
            "vocab_size_ans, vocab_size_ques:1458,1370\n"
          ]
        }
      ],
      "source": [
        "vocab_ans = list(set(\" \".join(train['answer'].values).split()))\n",
        "vocab_ques = list(set(\" \".join(train['question'].values).split()))\n",
        "vocab_size_ans, vocab_size_ques = len(vocab_ans), len(vocab_ques)\n",
        "print(f\"vocab_size_ans, vocab_size_ques:{vocab_size_ans},{ vocab_size_ques}\")"
      ]
    },
    {
      "cell_type": "markdown",
      "id": "289182c9",
      "metadata": {
        "id": "289182c9"
      },
      "source": [
        "## Using tfds SubwordTextEncoder, it will create tokens\n",
        "#### example Multiplication -> Multi, pli, cat, i, on\n",
        "#### Advantages:\n",
        "    1. Reduces vocab size => faster learning\n",
        "    2. Reduces chances of missing word in test data"
      ]
    },
    {
      "cell_type": "code",
      "execution_count": null,
      "id": "f322ecb3",
      "metadata": {
        "id": "f322ecb3"
      },
      "outputs": [],
      "source": [
        "tokenizer_a = tfds.deprecated.text.SubwordTextEncoder.build_from_corpus(\n",
        "    train['answer'], target_vocab_size=2**15)\n",
        "\n",
        "tokenizer_q = tfds.deprecated.text.SubwordTextEncoder.build_from_corpus(\n",
        "    train['question'], target_vocab_size=2**15)"
      ]
    },
    {
      "cell_type": "code",
      "execution_count": null,
      "id": "609b2718",
      "metadata": {
        "colab": {
          "base_uri": "https://localhost:8080/"
        },
        "id": "609b2718",
        "outputId": "06423e5c-86ed-4c9e-fbd6-81f1990b5697"
      },
      "outputs": [
        {
          "output_type": "stream",
          "name": "stdout",
          "text": [
            "tokenizer_q:1499\n",
            "tokenizer_a:1594\n"
          ]
        }
      ],
      "source": [
        "print(f\"tokenizer_q:{tokenizer_q.vocab_size}\")\n",
        "print(f\"tokenizer_a:{tokenizer_a.vocab_size}\")"
      ]
    },
    {
      "cell_type": "markdown",
      "id": "02392cc3",
      "metadata": {
        "id": "02392cc3"
      },
      "source": [
        "#### Examples of subword tokenization in action!"
      ]
    },
    {
      "cell_type": "code",
      "execution_count": null,
      "id": "cf67e110",
      "metadata": {
        "colab": {
          "base_uri": "https://localhost:8080/"
        },
        "id": "cf67e110",
        "outputId": "d680aeb6-f061-4dac-b014-ab32e75b114c"
      },
      "outputs": [
        {
          "output_type": "stream",
          "name": "stdout",
          "text": [
            "Tokenized string is [1407, 1448, 1437, 1449, 1438, 1439, 1452, 1370, 1438, 1439, 1437, 1449, 1438, 1439, 1452]\n",
            "The original string: Encoder decoder\n",
            "1407---->E\n",
            "1448---->n\n",
            "1437---->c\n",
            "1449---->o\n",
            "1438---->d\n",
            "1439---->e\n",
            "1452---->r\n",
            "1370----> \n",
            "1438---->d\n",
            "1439---->e\n",
            "1437---->c\n",
            "1449---->o\n",
            "1438---->d\n",
            "1439---->e\n",
            "1452---->r\n",
            "================================================================================\n",
            "Tokenized string is [1312, 1353, 1342, 1354, 1343, 1344, 1357, 1275, 1343, 1344, 1342, 1354, 1343, 1344, 1357]\n",
            "The original string: Encoder decoder\n",
            "1312---->E\n",
            "1353---->n\n",
            "1342---->c\n",
            "1354---->o\n",
            "1343---->d\n",
            "1344---->e\n",
            "1357---->r\n",
            "1275----> \n",
            "1343---->d\n",
            "1344---->e\n",
            "1342---->c\n",
            "1354---->o\n",
            "1343---->d\n",
            "1344---->e\n",
            "1357---->r\n"
          ]
        }
      ],
      "source": [
        "sample_string = 'Encoder decoder'\n",
        "\n",
        "tokenized_string = tokenizer_a.encode(sample_string)\n",
        "print ('Tokenized string is {}'.format(tokenized_string))\n",
        "\n",
        "original_string = tokenizer_a.decode(tokenized_string)\n",
        "print ('The original string: {}'.format(original_string))\n",
        "\n",
        "for token in tokenized_string:\n",
        "    print(str(token) + \"---->\" + tokenizer_a.decode([token]))\n",
        "\n",
        "print(\"=\"*80)\n",
        "tokenized_string = tokenizer_q.encode(sample_string)\n",
        "print ('Tokenized string is {}'.format(tokenized_string))\n",
        "\n",
        "original_string = tokenizer_q.decode(tokenized_string)\n",
        "print ('The original string: {}'.format(original_string))\n",
        "\n",
        "for token in tokenized_string:\n",
        "    print(str(token) + \"---->\" + tokenizer_q.decode([token]))"
      ]
    },
    {
      "cell_type": "markdown",
      "id": "ff9e30ce",
      "metadata": {
        "id": "ff9e30ce"
      },
      "source": [
        "###### 0-27512 for questions\n",
        "\n",
        "###### 0-27357 for answers"
      ]
    },
    {
      "cell_type": "markdown",
      "id": "3d9469ee",
      "metadata": {
        "id": "3d9469ee"
      },
      "source": [
        "* **Attaching token number '27513' representing \\<start> and '27514' representing \\<end> QUESTIONS**\n",
        "* **Attaching token number '27358' representing \\<start> and '27359' representing \\<end> ANSWERS**"
      ]
    },
    {
      "cell_type": "code",
      "execution_count": null,
      "id": "aeb6d990",
      "metadata": {
        "id": "aeb6d990"
      },
      "outputs": [],
      "source": [
        "def encode(ques, ans):\n",
        "    ques = [tokenizer_q.vocab_size] + tokenizer_q.encode(ques.numpy()) + [tokenizer_q.vocab_size+1]\n",
        "    ans = [tokenizer_a.vocab_size] + tokenizer_a.encode(ans.numpy()) + [tokenizer_a.vocab_size+1]\n",
        "    return ques, ans\n",
        "\n",
        "def tf_encode(ques, ans):\n",
        "    result_ques, result_ans = tf.py_function(encode, [ques, ans], [tf.float32, tf.float32])\n",
        "    result_ques.set_shape([None])\n",
        "    result_ans.set_shape([None])\n",
        "    return result_ques, result_ans"
      ]
    },
    {
      "cell_type": "code",
      "execution_count": null,
      "id": "bc78baed",
      "metadata": {
        "colab": {
          "base_uri": "https://localhost:8080/"
        },
        "id": "bc78baed",
        "outputId": "2594af67-a5a4-4601-9ecd-edca0fb7a692"
      },
      "outputs": [
        {
          "output_type": "stream",
          "name": "stdout",
          "text": [
            " Fun mi ni meta kilo. \n",
            "  O dara, o jẹ ẹgbẹrun meji ati ọgọrun naira.\n",
            "tf.Tensor(\n",
            "[1.499e+03 1.275e+03 6.300e+01 1.200e+01 1.000e+00 6.160e+02 6.370e+02\n",
            " 1.289e+03 1.500e+03], shape=(9,), dtype=float32)\n",
            "tf.Tensor(\n",
            "[1594. 1370.    8.   45.    2.   42.   17.   15.   81.   73.   47.   12.\n",
            " 1384. 1595.], shape=(14,), dtype=float32)\n"
          ]
        }
      ],
      "source": [
        "print(train['question'].values[0],\"\\n\",train['answer'].values[0])\n",
        "question, answer = tf_encode(train['question'].values[0],train['answer'].values[0])\n",
        "print(question)\n",
        "print(answer)"
      ]
    },
    {
      "cell_type": "markdown",
      "id": "d1413123",
      "metadata": {
        "id": "d1413123"
      },
      "source": [
        "### Creating train_dataset/test_dataset object from Dataframe + padding\n",
        "\n",
        "###### prefetch: If I'm at epoch-20 then prefetch prepares the Batch for epoch-21, so when epoch-21 start, it will make available the batch in no time, basically enhancing speed"
      ]
    },
    {
      "cell_type": "code",
      "execution_count": null,
      "id": "54bb56c4",
      "metadata": {
        "id": "54bb56c4"
      },
      "outputs": [],
      "source": [
        "train_dataset = tf.data.Dataset.from_tensor_slices(dict(train))\n",
        "train_dataset = train_dataset.map(lambda x:tf_encode(x['question'], x['answer']))\n",
        "train_dataset = train_dataset.cache()\n",
        "train_dataset = train_dataset.shuffle(20000).padded_batch(64, padded_shapes=([None],[None]))\n",
        "train_dataset = train_dataset.prefetch(tf.data.experimental.AUTOTUNE)"
      ]
    },
    {
      "cell_type": "code",
      "execution_count": null,
      "id": "436c73c8",
      "metadata": {
        "id": "436c73c8"
      },
      "outputs": [],
      "source": [
        "val_dataset = tf.data.Dataset.from_tensor_slices(dict(validation))\n",
        "val_dataset = val_dataset.map(lambda x:tf_encode(x['question'], x['answer']))\n",
        "val_dataset = val_dataset.padded_batch(64, padded_shapes=([None],[None]))"
      ]
    },
    {
      "cell_type": "code",
      "execution_count": null,
      "id": "85844a50",
      "metadata": {
        "colab": {
          "base_uri": "https://localhost:8080/"
        },
        "id": "85844a50",
        "outputId": "24764adb-6688-45a8-fa12-87ae99cc3a00"
      },
      "outputs": [
        {
          "output_type": "execute_result",
          "data": {
            "text/plain": [
              "<tf.Tensor: shape=(64, 95), dtype=float32, numpy=\n",
              "array([[1499.,   10.,   62., ...,    0.,    0.,    0.],\n",
              "       [1499.,  460.,   37., ...,    0.,    0.,    0.],\n",
              "       [1499., 1275.,   21., ...,    0.,    0.,    0.],\n",
              "       ...,\n",
              "       [1499., 1275.,    9., ...,    0.,    0.,    0.],\n",
              "       [1499.,   15.,   27., ...,    0.,    0.,    0.],\n",
              "       [1499., 1275.,  848., ...,   20., 1289., 1500.]], dtype=float32)>"
            ]
          },
          "metadata": {},
          "execution_count": 47
        }
      ],
      "source": [
        "question, answer = next(iter(train_dataset))\n",
        "question"
      ]
    },
    {
      "cell_type": "markdown",
      "id": "80bf8241",
      "metadata": {
        "id": "80bf8241"
      },
      "source": [
        "### Positional encoding function where 'i' -> embedding dimn index, 'pos' -> word index in a sentence"
      ]
    },
    {
      "cell_type": "markdown",
      "id": "9500b25e",
      "metadata": {
        "id": "9500b25e"
      },
      "source": [
        "$$\\Large{PE_{(pos, 2i)} = sin(pos / 10000^{2i / d_{model}})} $$\n",
        "$$\\Large{PE_{(pos, 2i+1)} = cos(pos / 10000^{2i / d_{model}})} $$"
      ]
    },
    {
      "cell_type": "code",
      "execution_count": null,
      "id": "2ae35c9d",
      "metadata": {
        "colab": {
          "base_uri": "https://localhost:8080/",
          "height": 472
        },
        "id": "2ae35c9d",
        "outputId": "5b89fdcd-eb87-4a95-a503-f34f3f5db95a"
      },
      "outputs": [
        {
          "output_type": "stream",
          "name": "stdout",
          "text": [
            "(1, 50, 512)\n"
          ]
        },
        {
          "output_type": "display_data",
          "data": {
            "text/plain": [
              "<Figure size 640x480 with 2 Axes>"
            ],
            "image/png": "[encoded data removed]"
          },
          "metadata": {}
        }
      ],
      "source": [
        "# Positional encoding\n",
        "\n",
        "\n",
        "def get_angles(pos, i, d_model):\n",
        "    angle_rates = 1 / np.power(10000, (2 * (i//2)) / np.float32(d_model))\n",
        "    return pos * angle_rates\n",
        "\n",
        "\n",
        "\n",
        "def positional_encoding(position, d_model):\n",
        "    angle_rads = get_angles(np.arange(position)[:, np.newaxis],\n",
        "                          np.arange(d_model)[np.newaxis, :],\n",
        "                          d_model)\n",
        "\n",
        "    # apply sin to even indices in the array; 2i\n",
        "    angle_rads[:, 0::2] = np.sin(angle_rads[:, 0::2])\n",
        "\n",
        "    # apply cos to odd indices in the array; 2i+1\n",
        "    angle_rads[:, 1::2] = np.cos(angle_rads[:, 1::2])\n",
        "\n",
        "    pos_encoding = angle_rads[np.newaxis,:]\n",
        "\n",
        "    return tf.cast(pos_encoding, dtype=tf.float32)\n",
        "\n",
        "\n",
        "\n",
        "pos_encoding = positional_encoding(50, 512)\n",
        "print (pos_encoding.shape)\n",
        "\n",
        "plt.pcolormesh(pos_encoding[0], cmap='RdBu')\n",
        "plt.xlabel('Depth')\n",
        "plt.xlim((0, 512))\n",
        "plt.ylabel('Position')\n",
        "plt.colorbar()\n",
        "plt.show()"
      ]
    },
    {
      "cell_type": "markdown",
      "id": "5d393354",
      "metadata": {
        "id": "5d393354"
      },
      "source": [
        "## 1. Pad Masking\n",
        "#### Making all the padded tokens, self attention/attention calculation of a word with those paddings will be ignored"
      ]
    },
    {
      "cell_type": "markdown",
      "id": "9ecbd402",
      "metadata": {
        "id": "9ecbd402"
      },
      "source": [
        "\n",
        "* Here output dimn -> (batch_size, 1, 1, seq_len)\n",
        "          \n",
        "*  for each 8 attention heads, for each query word it will be multiplied, thats why creating 1, 1 in the middle\n",
        "\n",
        "##### (batch_size, 8, query_word_len, seq_len) * (batch_size, 1, 1, seq_len)"
      ]
    },
    {
      "cell_type": "code",
      "execution_count": null,
      "id": "628afe59",
      "metadata": {
        "id": "628afe59"
      },
      "outputs": [],
      "source": [
        "# Masking\n",
        "\n",
        "'''Mask all the pad tokens in the batch of sequence.\n",
        "It ensures that the model does not treat padding as the input.\n",
        "The mask indicates where pad value 0 is present: it outputs a 1 at those locations, and a 0 otherwise.\n",
        "'''\n",
        "def create_padding_mask(seq):\n",
        "    \"\"\"\n",
        "    seq: padded sentence length (5)\n",
        "    \"\"\"\n",
        "    seq = tf.cast(tf.math.equal(seq, 0), tf.float32)\n",
        "    # Adding 2, 3 dimn using tf.newaxis, 2-> As this mask will be multiplied with each attention head and 3-> for each word in a sentance\n",
        "    return seq[:, tf.newaxis, tf.newaxis, :]  # (batch_size, 1, 1, seq_len)\n",
        "# create_padding_mask(np.array([[1,2,3,0,0,0],[1,2,3,0,0,1]]))"
      ]
    },
    {
      "cell_type": "markdown",
      "id": "2d9aceca",
      "metadata": {
        "id": "2d9aceca"
      },
      "source": [
        "## 2. Looakahead mask\n",
        "\n",
        "for the first word, its self attention calculation with be ignored with proceeding words i.e. second, third word and so on"
      ]
    },
    {
      "cell_type": "code",
      "execution_count": null,
      "id": "d26dea25",
      "metadata": {
        "colab": {
          "base_uri": "https://localhost:8080/"
        },
        "id": "d26dea25",
        "outputId": "8665a2ce-f233-4c46-8f30-0739d5be0662"
      },
      "outputs": [
        {
          "output_type": "execute_result",
          "data": {
            "text/plain": [
              "<tf.Tensor: shape=(3, 3), dtype=float32, numpy=\n",
              "array([[0., 1., 1.],\n",
              "       [0., 0., 1.],\n",
              "       [0., 0., 0.]], dtype=float32)>"
            ]
          },
          "metadata": {},
          "execution_count": 50
        }
      ],
      "source": [
        "# Looakahead mask\n",
        "\n",
        "\"\"\"The look-ahead mask is used to mask the future tokens in a sequence.\n",
        "In other words, the mask indicates which entries should not be used.\n",
        "\"\"\"\n",
        "def create_look_ahead_mask(size):\n",
        "    \"\"\"\n",
        "    The look-ahead mask is used to mask the future tokens in a sequence\n",
        "    \"\"\"\n",
        "    #band_part with this setting creates lower triangular matrix that's why subtracting from 1\n",
        "    # [[0., 1., 1.],\n",
        "    #  [0., 0., 1.],\n",
        "    #  [0., 0., 0.]] output with size:3\n",
        "    mask = 1 - tf.linalg.band_part(tf.ones((size, size)), -1, 0)\n",
        "    return mask  # (seq_len, seq_len)\n",
        "\n",
        "#example\n",
        "x = tf.random.uniform((1, 3))\n",
        "temp = create_look_ahead_mask(x.shape[1])\n",
        "temp"
      ]
    },
    {
      "cell_type": "markdown",
      "id": "2896ca7e",
      "metadata": {
        "id": "2896ca7e"
      },
      "source": [
        "## 3. SELF-ATTENTION calculation"
      ]
    },
    {
      "cell_type": "markdown",
      "id": "04daf49a",
      "metadata": {
        "id": "04daf49a"
      },
      "source": [
        "![image](images/attenion_formula.png)"
      ]
    },
    {
      "cell_type": "code",
      "execution_count": null,
      "id": "f55e44a8",
      "metadata": {
        "id": "f55e44a8"
      },
      "outputs": [],
      "source": [
        "def scaled_dot_product_attention(q, k, v, mask=None):\n",
        "    \"\"\"\n",
        "    Args:\n",
        "    q: query shape == (..., seq_len_q, depth) # NOTE: depth=dk\n",
        "    k: key shape == (..., seq_len_k, depth)\n",
        "    v: value shape == (..., seq_len_v, depth_v)\n",
        "    mask: Float tensor with shape broadcastable to (..., seq_len_q, seq_len_k). Defaults to None.\n",
        "\n",
        "    Returns:\n",
        "    output, attention_weights\n",
        "    \"\"\"\n",
        "    matmul_qk = tf.matmul(q, k, transpose_b=True)  # (..., seq_len_q, seq_len_k)\n",
        "    # scale matmul_qk. underroot d_model i.e. underroot(100)\n",
        "    dk = tf.cast(tf.shape(k)[-1], tf.float32)\n",
        "    scaled_attention_logits = matmul_qk / tf.math.sqrt(dk)\n",
        "    # add the mask to the scaled tensor.\n",
        "    if mask is not None:\n",
        "        scaled_attention_logits += (mask * -1e9)  # -1e9 ~ (-INFINITY) => where ever mask is set, make its logit value close to -INF\n",
        "    # softmax is normalized on the last axis (seq_len_k) so that the scores add up to 1.\n",
        "    attention_weights = tf.nn.softmax(scaled_attention_logits, axis=-1)  # (..., seq_len_q, seq_len_k)\n",
        "    output = tf.matmul(attention_weights, v)  # (..., seq_len_q, depth_v)\n",
        "\n",
        "    return output, attention_weights"
      ]
    },
    {
      "cell_type": "markdown",
      "id": "798eca41",
      "metadata": {
        "id": "798eca41"
      },
      "source": [
        "## 4. MultiHeadAttention Calculation\n",
        "#### Its nothing but a RESHAPING !! :)\n",
        "example :\n",
        "1. if we have (64, 10, 512)->(BATCH, #words, embeddding) as input, after passiing it though dense layer of size 512 we will get (64, 10, 512)\n",
        "2. We have three such dense layers representing/for Q, K, V encodings.\n",
        "3. (64, 10, 512) -> reshape -> (64, 8, 10 ,64) -> (BATCH, attention head, #words, encode)\n",
        "    '64' is representing encoding of 512 -> 64 dimension\n",
        "4. (64, 8, 10 ,64)->self-attention-code->(64, 8, 10 ,10) called attention weights, (64, 8, 10 ,64)\n",
        "5. Concatenate such that 8*64 will be new dimension -> (64, 10, 512)\n",
        "    \n",
        "    **Beware embedding dimn must be divisible by no. of heads and always embedding_dimn/heads => encodin_dimn(here 64)**\n",
        "    \n",
        "    **NICE HACK** (-_-)"
      ]
    },
    {
      "cell_type": "markdown",
      "id": "0f41cf3c",
      "metadata": {
        "id": "0f41cf3c"
      },
      "source": [
        "![image](images/multi_head.png)"
      ]
    },
    {
      "cell_type": "code",
      "execution_count": null,
      "id": "ab0b6ec3",
      "metadata": {
        "id": "ab0b6ec3"
      },
      "outputs": [],
      "source": [
        "class MultiHeadAttention(tf.keras.layers.Layer):\n",
        "    def __init__(self, d_model, num_heads):\n",
        "        super(MultiHeadAttention, self).__init__()\n",
        "        self.num_heads = num_heads\n",
        "        self.d_model = d_model  # typically 512\n",
        "\n",
        "        assert d_model % self.num_heads == 0\n",
        "\n",
        "        self.depth = d_model // self.num_heads\n",
        "\n",
        "        self.wq = tf.keras.layers.Dense(d_model)\n",
        "        self.wk = tf.keras.layers.Dense(d_model)\n",
        "        self.wv = tf.keras.layers.Dense(d_model)\n",
        "\n",
        "        self.dense = tf.keras.layers.Dense(d_model)\n",
        "\n",
        "    def split_heads(self, x, batch_size):\n",
        "        \"\"\"Split the last dimension into (num_heads, depth).\n",
        "        Transpose the result such that the shape is (batch_size, num_heads, seq_len, depth)\n",
        "        \"\"\"\n",
        "        x = tf.reshape(x, (batch_size, -1, self.num_heads, self.depth))\n",
        "        return tf.transpose(x, perm=[0, 2, 1, 3])\n",
        "\n",
        "    def call(self, v, k, q, mask):\n",
        "        batch_size = tf.shape(q)[0]\n",
        "\n",
        "        q = self.wq(q)  # (batch_size, seq_len, d_model)\n",
        "        k = self.wk(k)  # (batch_size, seq_len, d_model)\n",
        "        v = self.wv(v)  # (batch_size, seq_len, d_model)\n",
        "\n",
        "        q = self.split_heads(q, batch_size)  # (batch_size, num_heads, seq_len_q, depth)\n",
        "        k = self.split_heads(k, batch_size)  # (batch_size, num_heads, seq_len_k, depth)\n",
        "        v = self.split_heads(v, batch_size)  # (batch_size, num_heads, seq_len_v, depth)\n",
        "\n",
        "        # scaled_attention.shape == (batch_size, num_heads, seq_len_q, depth)\n",
        "        # attention_weights.shape == (batch_size, num_heads, seq_len_q, seq_len_k)\n",
        "        scaled_attention, attention_weights = scaled_dot_product_attention(\n",
        "            q, k, v, mask)\n",
        "\n",
        "        scaled_attention = tf.transpose(scaled_attention, perm=[0, 2, 1, 3])  # (batch_size, seq_len_q, num_heads, depth)\n",
        "\n",
        "        concat_attention = tf.reshape(scaled_attention,\n",
        "                                      (batch_size, -1, self.d_model))  # (batch_size, seq_len_q, d_model)\n",
        "\n",
        "        output = self.dense(concat_attention)  # (batch_size, seq_len_q, d_model)\n",
        "\n",
        "        return output, attention_weights\n"
      ]
    },
    {
      "cell_type": "markdown",
      "id": "809f3721",
      "metadata": {
        "id": "809f3721"
      },
      "source": [
        "## 5. ENCODER layer\n",
        "\n",
        "#### -> self Multihead attention -> Residual+Norm -> Feed forward neural network -> Residual+Norm\n",
        "\n",
        "![image](images/encoder_layer.png)\n"
      ]
    },
    {
      "cell_type": "code",
      "execution_count": null,
      "id": "2c9b69f5",
      "metadata": {
        "id": "2c9b69f5"
      },
      "outputs": [],
      "source": [
        "def point_wise_feed_forward_network(d_model, dff): #dff = 512\n",
        "    return tf.keras.Sequential([\n",
        "      tf.keras.layers.Dense(dff, activation='relu'),  # (batch_size, seq_len, dff)\n",
        "      tf.keras.layers.Dense(d_model)  # (batch_size, seq_len, d_model)\n",
        "    ])\n",
        "\n",
        "\n",
        "class EncoderLayer(tf.keras.layers.Layer):\n",
        "    def __init__(self, d_model, num_heads, dff, rate=0.1):\n",
        "        super(EncoderLayer, self).__init__()\n",
        "\n",
        "        self.mha = MultiHeadAttention(d_model, num_heads)\n",
        "        self.ffn = point_wise_feed_forward_network(d_model, dff)\n",
        "\n",
        "        self.layernorm1 = tf.keras.layers.LayerNormalization(epsilon=1e-6)\n",
        "        self.layernorm2 = tf.keras.layers.LayerNormalization(epsilon=1e-6)\n",
        "\n",
        "        self.dropout1 = tf.keras.layers.Dropout(rate)\n",
        "        self.dropout2 = tf.keras.layers.Dropout(rate)\n",
        "\n",
        "    def call(self, x, training, mask):\n",
        "        attn_output, _ = self.mha(x, x, x, mask)  # (batch_size, input_seq_len, d_model)\n",
        "        attn_output = self.dropout1(attn_output, training=training)\n",
        "        out1 = self.layernorm1(x + attn_output)  # (batch_size, input_seq_len, d_model) # with Attention\n",
        "\n",
        "        ffn_output = self.ffn(out1)  # (batch_size, input_seq_len, d_model)\n",
        "        ffn_output = self.dropout2(ffn_output, training=training)\n",
        "        out2 = self.layernorm2(out1 + ffn_output)  # (batch_size, input_seq_len, d_model) #with Attention\n",
        "\n",
        "        return out2"
      ]
    },
    {
      "cell_type": "code",
      "execution_count": null,
      "id": "d18de1ef",
      "metadata": {
        "colab": {
          "base_uri": "https://localhost:8080/"
        },
        "id": "d18de1ef",
        "outputId": "c3810c4c-7ac4-46fe-8bfb-7a86a974130f"
      },
      "outputs": [
        {
          "output_type": "execute_result",
          "data": {
            "text/plain": [
              "TensorShape([64, 43, 512])"
            ]
          },
          "metadata": {},
          "execution_count": 54
        }
      ],
      "source": [
        "sample_encoder_layer = EncoderLayer(512, 8, 2048)\n",
        "\n",
        "sample_encoder_layer_output = sample_encoder_layer(\n",
        "    tf.random.uniform((64, 43, 512)), False, None)\n",
        "\n",
        "sample_encoder_layer_output.shape  # (batch_size, input_seq_len, d_model)"
      ]
    },
    {
      "cell_type": "markdown",
      "id": "0d49552e",
      "metadata": {
        "id": "0d49552e"
      },
      "source": [
        "## 6. DECODER LAYER\n",
        "#### -> self multihead attention -> residual+norm -> multihead attention(between E & D) -> residual+norm -> feed forward NN -> residual+norm\n",
        "\n",
        "![image](images/decoder_layer.png)"
      ]
    },
    {
      "cell_type": "code",
      "execution_count": null,
      "id": "f3061bff",
      "metadata": {
        "id": "f3061bff"
      },
      "outputs": [],
      "source": [
        "class DecoderLayer(tf.keras.layers.Layer):\n",
        "    def __init__(self, d_model, num_heads, dff, rate=0.1):\n",
        "        super(DecoderLayer, self).__init__()\n",
        "\n",
        "        self.mha1 = MultiHeadAttention(d_model, num_heads)\n",
        "        self.mha2 = MultiHeadAttention(d_model, num_heads)\n",
        "\n",
        "        self.ffn = point_wise_feed_forward_network(d_model, dff)\n",
        "\n",
        "        self.layernorm1 = tf.keras.layers.LayerNormalization(epsilon=1e-6)\n",
        "        self.layernorm2 = tf.keras.layers.LayerNormalization(epsilon=1e-6)\n",
        "        self.layernorm3 = tf.keras.layers.LayerNormalization(epsilon=1e-6)\n",
        "\n",
        "        self.dropout1 = tf.keras.layers.Dropout(rate)\n",
        "        self.dropout2 = tf.keras.layers.Dropout(rate)\n",
        "        self.dropout3 = tf.keras.layers.Dropout(rate)\n",
        "\n",
        "\n",
        "    def call(self, x, enc_output, training, look_ahead_mask, padding_mask):\n",
        "\n",
        "        attn1, attn_weights_block1 = self.mha1(x, x, x, look_ahead_mask)  # (batch_size, target_seq_len, d_model)\n",
        "        attn1 = self.dropout1(attn1, training=training)\n",
        "        out1 = self.layernorm1(attn1 + x)\n",
        "        attn2, attn_weights_block2 = self.mha2(\n",
        "            enc_output, enc_output, out1, padding_mask)  # (batch_size, target_seq_len, d_model)\n",
        "        attn2 = self.dropout2(attn2, training=training)\n",
        "        out2 = self.layernorm2(attn2 + out1)  # (batch_size, target_seq_len, d_model)\n",
        "\n",
        "        ffn_output = self.ffn(out2)  # (batch_size, target_seq_len, d_model)\n",
        "        ffn_output = self.dropout3(ffn_output, training=training)\n",
        "        out3 = self.layernorm3(ffn_output + out2)  # (batch_size, target_seq_len, d_model)\n",
        "\n",
        "        return out3, attn_weights_block1, attn_weights_block2"
      ]
    },
    {
      "cell_type": "markdown",
      "id": "7a2123ca",
      "metadata": {
        "id": "7a2123ca"
      },
      "source": [
        "## 7. ENCODER\n",
        "#### Nothing but repetation of Encoder layer :-) + Input embedding vector + positional encoding\n",
        "\n",
        "![image](images/encoder.png)"
      ]
    },
    {
      "cell_type": "code",
      "execution_count": null,
      "id": "98960a2d",
      "metadata": {
        "id": "98960a2d"
      },
      "outputs": [],
      "source": [
        "class Encoder(tf.keras.layers.Layer):\n",
        "    def __init__(self, num_layers, d_model, num_heads, dff, input_vocab_size,\n",
        "               maximum_position_encoding, rate=0.1):\n",
        "        super(Encoder, self).__init__()\n",
        "\n",
        "        self.d_model = d_model\n",
        "        self.num_layers = num_layers\n",
        "\n",
        "        self.embedding = tf.keras.layers.Embedding(input_vocab_size, d_model)\n",
        "        self.pos_encoding = positional_encoding(maximum_position_encoding,\n",
        "                                                self.d_model)\n",
        "\n",
        "\n",
        "        self.enc_layers = [EncoderLayer(d_model, num_heads, dff, rate)\n",
        "                           for _ in range(num_layers)]\n",
        "\n",
        "        self.dropout = tf.keras.layers.Dropout(rate)\n",
        "\n",
        "    def call(self, x, training, mask):\n",
        "\n",
        "        seq_len = tf.shape(x)[1]   #x:(batch, seq_len)\n",
        "        # adding embedding and position encoding.\n",
        "        x = self.embedding(x)  # (batch_size, input_seq_len, d_model)\n",
        "        x *= tf.math.sqrt(tf.cast(self.d_model, tf.float32))\n",
        "        x += self.pos_encoding[:, :seq_len, :]\n",
        "\n",
        "        x = self.dropout(x, training=training)\n",
        "\n",
        "        for i in range(self.num_layers):\n",
        "            x = self.enc_layers[i](x, training, mask)\n",
        "\n",
        "        return x  # (batch_size, input_seq_len, d_model)"
      ]
    },
    {
      "cell_type": "markdown",
      "id": "5fd0dcc2",
      "metadata": {
        "id": "5fd0dcc2"
      },
      "source": [
        "## 8. DECODER\n",
        "#### Nothing but Repetation of decoder layers + posisional encoder + embedding layer\n",
        "\n",
        "![image](images/decoder.png)"
      ]
    },
    {
      "cell_type": "code",
      "execution_count": null,
      "id": "b4232ef9",
      "metadata": {
        "id": "b4232ef9"
      },
      "outputs": [],
      "source": [
        "class Decoder(tf.keras.layers.Layer):\n",
        "    def __init__(self, num_layers, d_model, num_heads, dff, target_vocab_size,\n",
        "               maximum_position_encoding, rate=0.1):\n",
        "        super(Decoder, self).__init__()\n",
        "\n",
        "        self.d_model = d_model\n",
        "        self.num_layers = num_layers\n",
        "\n",
        "        self.embedding = tf.keras.layers.Embedding(target_vocab_size, d_model)\n",
        "        self.pos_encoding = positional_encoding(maximum_position_encoding, d_model)\n",
        "\n",
        "        self.dec_layers = [DecoderLayer(d_model, num_heads, dff, rate)\n",
        "                           for _ in range(num_layers)]\n",
        "        self.dropout = tf.keras.layers.Dropout(rate)\n",
        "\n",
        "    def call(self, x, enc_output, training, look_ahead_mask, padding_mask):\n",
        "\n",
        "        seq_len = tf.shape(x)[1]\n",
        "        attention_weights = {}\n",
        "\n",
        "        x = self.embedding(x)  # (batch_size, target_seq_len, d_model)\n",
        "        x *= tf.math.sqrt(tf.cast(self.d_model, tf.float32))\n",
        "        x += self.pos_encoding[:, :seq_len, :]\n",
        "\n",
        "        x = self.dropout(x, training=training)\n",
        "\n",
        "        for i in range(self.num_layers):\n",
        "            x, block1, block2 = self.dec_layers[i](x, enc_output, training,\n",
        "                                                 look_ahead_mask, padding_mask)\n",
        "\n",
        "            attention_weights['decoder_layer{}_block1'.format(i+1)] = block1\n",
        "            attention_weights['decoder_layer{}_block2'.format(i+1)] = block2\n",
        "\n",
        "        # x.shape == (batch_size, target_seq_len, d_model)\n",
        "        return x, attention_weights"
      ]
    },
    {
      "cell_type": "markdown",
      "id": "50318f4f",
      "metadata": {
        "id": "50318f4f"
      },
      "source": [
        "## 9. TRANSFORMER\n",
        "\n",
        "#### Nothing but encoder+decoder+dense layer\n",
        "##### (64,10,512) -> dense_layer -> (64,10,vocab_size)\n",
        "\n",
        "![image](images/transformer.png)\n"
      ]
    },
    {
      "cell_type": "code",
      "execution_count": null,
      "id": "6ba6c5e1",
      "metadata": {
        "id": "6ba6c5e1"
      },
      "outputs": [],
      "source": [
        "\n",
        "class Transformer(tf.keras.Model):\n",
        "    def __init__(self, num_layers, d_model, num_heads, dff, input_vocab_size,\n",
        "               target_vocab_size, pe_input, pe_target, rate=0.1):\n",
        "        super(Transformer, self).__init__()\n",
        "\n",
        "        self.encoder = Encoder(num_layers, d_model, num_heads, dff,\n",
        "                               input_vocab_size, pe_input, rate)\n",
        "\n",
        "        self.decoder = Decoder(num_layers, d_model, num_heads, dff,\n",
        "                               target_vocab_size, pe_target, rate)\n",
        "\n",
        "        self.final_layer = tf.keras.layers.Dense(target_vocab_size)\n",
        "\n",
        "    def call(self, inp, tar, training, enc_padding_mask,\n",
        "           look_ahead_mask, dec_padding_mask):\n",
        "\n",
        "        enc_output = self.encoder(inp, training, enc_padding_mask)  # (batch_size, inp_seq_len, d_model)\n",
        "\n",
        "        # dec_output.shape == (batch_size, tar_seq_len, d_model)\n",
        "        dec_output, attention_weights = self.decoder(\n",
        "            tar, enc_output, training, look_ahead_mask, dec_padding_mask)\n",
        "\n",
        "        final_output = self.final_layer(dec_output)  # (batch_size, tar_seq_len, target_vocab_size)\n",
        "\n",
        "        return final_output, attention_weights"
      ]
    },
    {
      "cell_type": "markdown",
      "id": "db99e050",
      "metadata": {
        "id": "db99e050"
      },
      "source": [
        "#### So to create a transformer architecture which is now everywhere in NLP models, we require only 9 STEPs :-O"
      ]
    },
    {
      "cell_type": "code",
      "execution_count": null,
      "id": "0ad95ab6",
      "metadata": {
        "id": "0ad95ab6"
      },
      "outputs": [],
      "source": [
        "# tokenizer_a = joblib.load(\"tokenizer_a\")\n",
        "# tokenizer_q = joblib.load(\"tokenizer_q\")"
      ]
    },
    {
      "cell_type": "code",
      "execution_count": null,
      "id": "ca0583e3",
      "metadata": {
        "id": "ca0583e3"
      },
      "outputs": [],
      "source": []
    },
    {
      "cell_type": "code",
      "execution_count": null,
      "id": "fb699bbb",
      "metadata": {
        "id": "fb699bbb"
      },
      "outputs": [],
      "source": [
        "num_layers = 4\n",
        "d_model = 128\n",
        "dff = 512\n",
        "num_heads = 8\n",
        "\n",
        "input_vocab_size = tokenizer_q.vocab_size + 2\n",
        "target_vocab_size = tokenizer_a.vocab_size + 2\n",
        "dropout_rate = 0.1"
      ]
    },
    {
      "cell_type": "markdown",
      "id": "a6dd6833",
      "metadata": {
        "id": "a6dd6833"
      },
      "source": [
        "## Custom learning rate, proposed in the paper\n",
        "#### First learning rate will be high and then after some epochs it will be decreasing ONLY\n",
        "\n",
        "![image](images/lr.png)\n"
      ]
    },
    {
      "cell_type": "code",
      "execution_count": null,
      "id": "af0bd674",
      "metadata": {
        "id": "af0bd674"
      },
      "outputs": [],
      "source": [
        "class CustomSchedule(tf.keras.optimizers.schedules.LearningRateSchedule):\n",
        "    def __init__(self, d_model, warmup_steps=4000):\n",
        "        super(CustomSchedule, self).__init__()\n",
        "\n",
        "        self.d_model = d_model\n",
        "        self.d_model = tf.cast(self.d_model, tf.float32)\n",
        "\n",
        "        self.warmup_steps = warmup_steps\n",
        "\n",
        "    def __call__(self, step):\n",
        "        arg1 = tf.math.rsqrt(step)\n",
        "        arg2 = step * (self.warmup_steps ** -1.5)\n",
        "\n",
        "        return tf.math.rsqrt(self.d_model,tf.float32) * tf.math.minimum(arg1, arg2)"
      ]
    },
    {
      "cell_type": "code",
      "execution_count": null,
      "id": "95ed1f98",
      "metadata": {
        "colab": {
          "base_uri": "https://localhost:8080/",
          "height": 373
        },
        "id": "95ed1f98",
        "outputId": "19ed0e4d-75eb-459a-872d-ef0fa00b9a2f"
      },
      "outputs": [
        {
          "output_type": "error",
          "ename": "InvalidArgumentError",
          "evalue": "Value for attr 'T' of int64 is not in the list of allowed values: bfloat16, half, float, double, complex64, complex128\n\t; NodeDef: {{node Rsqrt}}; Op<name=Rsqrt; signature=x:T -> y:T; attr=T:type,allowed=[DT_BFLOAT16, DT_HALF, DT_FLOAT, DT_DOUBLE, DT_COMPLEX64, DT_COMPLEX128]> [Op:Rsqrt] name: ",
          "traceback": [
            "\u001b[0;31m---------------------------------------------------------------------------\u001b[0m",
            "\u001b[0;31mInvalidArgumentError\u001b[0m                      Traceback (most recent call last)",
            "\u001b[0;32m<ipython-input-63-f16deb2bf343>\u001b[0m in \u001b[0;36m<cell line: 3>\u001b[0;34m()\u001b[0m\n\u001b[1;32m      1\u001b[0m \u001b[0mlearning_rate\u001b[0m \u001b[0;34m=\u001b[0m \u001b[0mCustomSchedule\u001b[0m\u001b[0;34m(\u001b[0m\u001b[0md_model\u001b[0m\u001b[0;34m)\u001b[0m\u001b[0;34m\u001b[0m\u001b[0;34m\u001b[0m\u001b[0m\n\u001b[1;32m      2\u001b[0m \u001b[0;34m\u001b[0m\u001b[0m\n\u001b[0;32m----> 3\u001b[0;31m optimizer = tf.keras.optimizers.Adam(learning_rate,  beta_1=0.9, beta_2=0.98,\n\u001b[0m\u001b[1;32m      4\u001b[0m                                      epsilon=1e-9)\n",
            "\u001b[0;32m/usr/local/lib/python3.10/dist-packages/keras/src/optimizers/adam.py\u001b[0m in \u001b[0;36m__init__\u001b[0;34m(self, learning_rate, beta_1, beta_2, epsilon, amsgrad, weight_decay, clipnorm, clipvalue, global_clipnorm, use_ema, ema_momentum, ema_overwrite_frequency, jit_compile, name, **kwargs)\u001b[0m\n\u001b[1;32m    120\u001b[0m             \u001b[0;34m**\u001b[0m\u001b[0mkwargs\u001b[0m\u001b[0;34m\u001b[0m\u001b[0;34m\u001b[0m\u001b[0m\n\u001b[1;32m    121\u001b[0m         )\n\u001b[0;32m--> 122\u001b[0;31m         \u001b[0mself\u001b[0m\u001b[0;34m.\u001b[0m\u001b[0m_learning_rate\u001b[0m \u001b[0;34m=\u001b[0m \u001b[0mself\u001b[0m\u001b[0;34m.\u001b[0m\u001b[0m_build_learning_rate\u001b[0m\u001b[0;34m(\u001b[0m\u001b[0mlearning_rate\u001b[0m\u001b[0;34m)\u001b[0m\u001b[0;34m\u001b[0m\u001b[0;34m\u001b[0m\u001b[0m\n\u001b[0m\u001b[1;32m    123\u001b[0m         \u001b[0mself\u001b[0m\u001b[0;34m.\u001b[0m\u001b[0mbeta_1\u001b[0m \u001b[0;34m=\u001b[0m \u001b[0mbeta_1\u001b[0m\u001b[0;34m\u001b[0m\u001b[0;34m\u001b[0m\u001b[0m\n\u001b[1;32m    124\u001b[0m         \u001b[0mself\u001b[0m\u001b[0;34m.\u001b[0m\u001b[0mbeta_2\u001b[0m \u001b[0;34m=\u001b[0m \u001b[0mbeta_2\u001b[0m\u001b[0;34m\u001b[0m\u001b[0;34m\u001b[0m\u001b[0m\n",
            "\u001b[0;32m/usr/local/lib/python3.10/dist-packages/keras/src/optimizers/optimizer.py\u001b[0m in \u001b[0;36m_build_learning_rate\u001b[0;34m(self, learning_rate)\u001b[0m\n\u001b[1;32m   1280\u001b[0m     \u001b[0;32mdef\u001b[0m \u001b[0m_build_learning_rate\u001b[0m\u001b[0;34m(\u001b[0m\u001b[0mself\u001b[0m\u001b[0;34m,\u001b[0m \u001b[0mlearning_rate\u001b[0m\u001b[0;34m)\u001b[0m\u001b[0;34m:\u001b[0m\u001b[0;34m\u001b[0m\u001b[0;34m\u001b[0m\u001b[0m\n\u001b[1;32m   1281\u001b[0m         \u001b[0;32mif\u001b[0m \u001b[0;32mnot\u001b[0m \u001b[0mself\u001b[0m\u001b[0;34m.\u001b[0m\u001b[0m_mesh\u001b[0m\u001b[0;34m:\u001b[0m\u001b[0;34m\u001b[0m\u001b[0;34m\u001b[0m\u001b[0m\n\u001b[0;32m-> 1282\u001b[0;31m             \u001b[0;32mreturn\u001b[0m \u001b[0msuper\u001b[0m\u001b[0;34m(\u001b[0m\u001b[0;34m)\u001b[0m\u001b[0;34m.\u001b[0m\u001b[0m_build_learning_rate\u001b[0m\u001b[0;34m(\u001b[0m\u001b[0mlearning_rate\u001b[0m\u001b[0;34m)\u001b[0m\u001b[0;34m\u001b[0m\u001b[0;34m\u001b[0m\u001b[0m\n\u001b[0m\u001b[1;32m   1283\u001b[0m \u001b[0;34m\u001b[0m\u001b[0m\n\u001b[1;32m   1284\u001b[0m         \u001b[0;31m# For DTensor\u001b[0m\u001b[0;34m\u001b[0m\u001b[0;34m\u001b[0m\u001b[0m\n",
            "\u001b[0;32m/usr/local/lib/python3.10/dist-packages/keras/src/optimizers/optimizer.py\u001b[0m in \u001b[0;36m_build_learning_rate\u001b[0;34m(self, learning_rate)\u001b[0m\n\u001b[1;32m    383\u001b[0m                 \u001b[0;31m# Create a variable to hold the current learning rate.\u001b[0m\u001b[0;34m\u001b[0m\u001b[0;34m\u001b[0m\u001b[0m\n\u001b[1;32m    384\u001b[0m                 current_learning_rate = tf.convert_to_tensor(\n\u001b[0;32m--> 385\u001b[0;31m                     \u001b[0mlearning_rate\u001b[0m\u001b[0;34m(\u001b[0m\u001b[0mself\u001b[0m\u001b[0;34m.\u001b[0m\u001b[0miterations\u001b[0m\u001b[0;34m)\u001b[0m\u001b[0;34m\u001b[0m\u001b[0;34m\u001b[0m\u001b[0m\n\u001b[0m\u001b[1;32m    386\u001b[0m                 )\n\u001b[1;32m    387\u001b[0m                 self._current_learning_rate = tf.Variable(\n",
            "\u001b[0;32m<ipython-input-61-44e69433fbf9>\u001b[0m in \u001b[0;36m__call__\u001b[0;34m(self, step)\u001b[0m\n\u001b[1;32m      9\u001b[0m \u001b[0;34m\u001b[0m\u001b[0m\n\u001b[1;32m     10\u001b[0m     \u001b[0;32mdef\u001b[0m \u001b[0m__call__\u001b[0m\u001b[0;34m(\u001b[0m\u001b[0mself\u001b[0m\u001b[0;34m,\u001b[0m \u001b[0mstep\u001b[0m\u001b[0;34m)\u001b[0m\u001b[0;34m:\u001b[0m\u001b[0;34m\u001b[0m\u001b[0;34m\u001b[0m\u001b[0m\n\u001b[0;32m---> 11\u001b[0;31m         \u001b[0marg1\u001b[0m \u001b[0;34m=\u001b[0m \u001b[0mtf\u001b[0m\u001b[0;34m.\u001b[0m\u001b[0mmath\u001b[0m\u001b[0;34m.\u001b[0m\u001b[0mrsqrt\u001b[0m\u001b[0;34m(\u001b[0m\u001b[0mstep\u001b[0m\u001b[0;34m)\u001b[0m\u001b[0;34m\u001b[0m\u001b[0;34m\u001b[0m\u001b[0m\n\u001b[0m\u001b[1;32m     12\u001b[0m         \u001b[0marg2\u001b[0m \u001b[0;34m=\u001b[0m \u001b[0mstep\u001b[0m \u001b[0;34m*\u001b[0m \u001b[0;34m(\u001b[0m\u001b[0mself\u001b[0m\u001b[0;34m.\u001b[0m\u001b[0mwarmup_steps\u001b[0m \u001b[0;34m**\u001b[0m \u001b[0;34m-\u001b[0m\u001b[0;36m1.5\u001b[0m\u001b[0;34m)\u001b[0m\u001b[0;34m\u001b[0m\u001b[0;34m\u001b[0m\u001b[0m\n\u001b[1;32m     13\u001b[0m \u001b[0;34m\u001b[0m\u001b[0m\n",
            "\u001b[0;32m/usr/local/lib/python3.10/dist-packages/tensorflow/python/ops/weak_tensor_ops.py\u001b[0m in \u001b[0;36mwrapper\u001b[0;34m(*args, **kwargs)\u001b[0m\n\u001b[1;32m     86\u001b[0m   \u001b[0;32mdef\u001b[0m \u001b[0mwrapper\u001b[0m\u001b[0;34m(\u001b[0m\u001b[0;34m*\u001b[0m\u001b[0margs\u001b[0m\u001b[0;34m,\u001b[0m \u001b[0;34m**\u001b[0m\u001b[0mkwargs\u001b[0m\u001b[0;34m)\u001b[0m\u001b[0;34m:\u001b[0m\u001b[0;34m\u001b[0m\u001b[0;34m\u001b[0m\u001b[0m\n\u001b[1;32m     87\u001b[0m     \u001b[0;32mif\u001b[0m \u001b[0;32mnot\u001b[0m \u001b[0mops\u001b[0m\u001b[0;34m.\u001b[0m\u001b[0mis_auto_dtype_conversion_enabled\u001b[0m\u001b[0;34m(\u001b[0m\u001b[0;34m)\u001b[0m\u001b[0;34m:\u001b[0m\u001b[0;34m\u001b[0m\u001b[0;34m\u001b[0m\u001b[0m\n\u001b[0;32m---> 88\u001b[0;31m       \u001b[0;32mreturn\u001b[0m \u001b[0mop\u001b[0m\u001b[0;34m(\u001b[0m\u001b[0;34m*\u001b[0m\u001b[0margs\u001b[0m\u001b[0;34m,\u001b[0m \u001b[0;34m**\u001b[0m\u001b[0mkwargs\u001b[0m\u001b[0;34m)\u001b[0m\u001b[0;34m\u001b[0m\u001b[0;34m\u001b[0m\u001b[0m\n\u001b[0m\u001b[1;32m     89\u001b[0m     \u001b[0mbound_arguments\u001b[0m \u001b[0;34m=\u001b[0m \u001b[0msignature\u001b[0m\u001b[0;34m.\u001b[0m\u001b[0mbind\u001b[0m\u001b[0;34m(\u001b[0m\u001b[0;34m*\u001b[0m\u001b[0margs\u001b[0m\u001b[0;34m,\u001b[0m \u001b[0;34m**\u001b[0m\u001b[0mkwargs\u001b[0m\u001b[0;34m)\u001b[0m\u001b[0;34m\u001b[0m\u001b[0;34m\u001b[0m\u001b[0m\n\u001b[1;32m     90\u001b[0m     \u001b[0mbound_arguments\u001b[0m\u001b[0;34m.\u001b[0m\u001b[0mapply_defaults\u001b[0m\u001b[0;34m(\u001b[0m\u001b[0;34m)\u001b[0m\u001b[0;34m\u001b[0m\u001b[0;34m\u001b[0m\u001b[0m\n",
            "\u001b[0;32m/usr/local/lib/python3.10/dist-packages/tensorflow/python/util/traceback_utils.py\u001b[0m in \u001b[0;36merror_handler\u001b[0;34m(*args, **kwargs)\u001b[0m\n\u001b[1;32m    151\u001b[0m     \u001b[0;32mexcept\u001b[0m \u001b[0mException\u001b[0m \u001b[0;32mas\u001b[0m \u001b[0me\u001b[0m\u001b[0;34m:\u001b[0m\u001b[0;34m\u001b[0m\u001b[0;34m\u001b[0m\u001b[0m\n\u001b[1;32m    152\u001b[0m       \u001b[0mfiltered_tb\u001b[0m \u001b[0;34m=\u001b[0m \u001b[0m_process_traceback_frames\u001b[0m\u001b[0;34m(\u001b[0m\u001b[0me\u001b[0m\u001b[0;34m.\u001b[0m\u001b[0m__traceback__\u001b[0m\u001b[0;34m)\u001b[0m\u001b[0;34m\u001b[0m\u001b[0;34m\u001b[0m\u001b[0m\n\u001b[0;32m--> 153\u001b[0;31m       \u001b[0;32mraise\u001b[0m \u001b[0me\u001b[0m\u001b[0;34m.\u001b[0m\u001b[0mwith_traceback\u001b[0m\u001b[0;34m(\u001b[0m\u001b[0mfiltered_tb\u001b[0m\u001b[0;34m)\u001b[0m \u001b[0;32mfrom\u001b[0m \u001b[0;32mNone\u001b[0m\u001b[0;34m\u001b[0m\u001b[0;34m\u001b[0m\u001b[0m\n\u001b[0m\u001b[1;32m    154\u001b[0m     \u001b[0;32mfinally\u001b[0m\u001b[0;34m:\u001b[0m\u001b[0;34m\u001b[0m\u001b[0;34m\u001b[0m\u001b[0m\n\u001b[1;32m    155\u001b[0m       \u001b[0;32mdel\u001b[0m \u001b[0mfiltered_tb\u001b[0m\u001b[0;34m\u001b[0m\u001b[0;34m\u001b[0m\u001b[0m\n",
            "\u001b[0;32m/usr/local/lib/python3.10/dist-packages/tensorflow/python/framework/ops.py\u001b[0m in \u001b[0;36mraise_from_not_ok_status\u001b[0;34m(e, name)\u001b[0m\n\u001b[1;32m   5881\u001b[0m \u001b[0;32mdef\u001b[0m \u001b[0mraise_from_not_ok_status\u001b[0m\u001b[0;34m(\u001b[0m\u001b[0me\u001b[0m\u001b[0;34m,\u001b[0m \u001b[0mname\u001b[0m\u001b[0;34m)\u001b[0m \u001b[0;34m->\u001b[0m \u001b[0mNoReturn\u001b[0m\u001b[0;34m:\u001b[0m\u001b[0;34m\u001b[0m\u001b[0;34m\u001b[0m\u001b[0m\n\u001b[1;32m   5882\u001b[0m   \u001b[0me\u001b[0m\u001b[0;34m.\u001b[0m\u001b[0mmessage\u001b[0m \u001b[0;34m+=\u001b[0m \u001b[0;34m(\u001b[0m\u001b[0;34m\" name: \"\u001b[0m \u001b[0;34m+\u001b[0m \u001b[0mstr\u001b[0m\u001b[0;34m(\u001b[0m\u001b[0mname\u001b[0m \u001b[0;32mif\u001b[0m \u001b[0mname\u001b[0m \u001b[0;32mis\u001b[0m \u001b[0;32mnot\u001b[0m \u001b[0;32mNone\u001b[0m \u001b[0;32melse\u001b[0m \u001b[0;34m\"\"\u001b[0m\u001b[0;34m)\u001b[0m\u001b[0;34m)\u001b[0m\u001b[0;34m\u001b[0m\u001b[0;34m\u001b[0m\u001b[0m\n\u001b[0;32m-> 5883\u001b[0;31m   \u001b[0;32mraise\u001b[0m \u001b[0mcore\u001b[0m\u001b[0;34m.\u001b[0m\u001b[0m_status_to_exception\u001b[0m\u001b[0;34m(\u001b[0m\u001b[0me\u001b[0m\u001b[0;34m)\u001b[0m \u001b[0;32mfrom\u001b[0m \u001b[0;32mNone\u001b[0m  \u001b[0;31m# pylint: disable=protected-access\u001b[0m\u001b[0;34m\u001b[0m\u001b[0;34m\u001b[0m\u001b[0m\n\u001b[0m\u001b[1;32m   5884\u001b[0m \u001b[0;34m\u001b[0m\u001b[0m\n\u001b[1;32m   5885\u001b[0m \u001b[0;34m\u001b[0m\u001b[0m\n",
            "\u001b[0;31mInvalidArgumentError\u001b[0m: Value for attr 'T' of int64 is not in the list of allowed values: bfloat16, half, float, double, complex64, complex128\n\t; NodeDef: {{node Rsqrt}}; Op<name=Rsqrt; signature=x:T -> y:T; attr=T:type,allowed=[DT_BFLOAT16, DT_HALF, DT_FLOAT, DT_DOUBLE, DT_COMPLEX64, DT_COMPLEX128]> [Op:Rsqrt] name: "
          ]
        }
      ],
      "source": [
        "learning_rate = CustomSchedule(d_model)\n",
        "\n",
        "optimizer = tf.keras.optimizers.Adam(learning_rate,  beta_1=0.9, beta_2=0.98,\n",
        "                                     epsilon=1e-9)"
      ]
    },
    {
      "cell_type": "markdown",
      "id": "a8e3f318",
      "metadata": {
        "id": "a8e3f318"
      },
      "source": [
        "### See, increasing and then decreasing"
      ]
    },
    {
      "cell_type": "code",
      "execution_count": null,
      "id": "a02400de",
      "metadata": {
        "id": "a02400de",
        "outputId": "739860cb-a876-4e1e-c3e2-e6665533006a"
      },
      "outputs": [
        {
          "data": {
            "text/plain": [
              "Text(0.5, 0, 'Train Step')"
            ]
          },
          "execution_count": 356,
          "metadata": {},
          "output_type": "execute_result"
        },
        {
          "data": {
            "image/png": "[encoded data removed]",
            "text/plain": [
              "<Figure size 432x288 with 1 Axes>"
            ]
          },
          "metadata": {
            "needs_background": "light"
          },
          "output_type": "display_data"
        }
      ],
      "source": [
        "temp_learning_rate_schedule = CustomSchedule(d_model)\n",
        "\n",
        "plt.plot(temp_learning_rate_schedule(tf.range(40000, dtype=tf.float32)))\n",
        "plt.ylabel(\"Learning Rate\")\n",
        "plt.xlabel(\"Train Step\")"
      ]
    },
    {
      "cell_type": "markdown",
      "id": "05c461fb",
      "metadata": {
        "id": "05c461fb"
      },
      "source": [
        "##### Custom losss function, same as sparse categorical cross entropy but considers only no padded values"
      ]
    },
    {
      "cell_type": "code",
      "execution_count": null,
      "id": "ba02438a",
      "metadata": {
        "id": "ba02438a"
      },
      "outputs": [],
      "source": [
        "loss_object = tf.keras.losses.SparseCategoricalCrossentropy(\n",
        "    from_logits=True, reduction='none')\n",
        "def loss_function(real, pred):\n",
        "    mask = tf.math.logical_not(tf.math.equal(real, 0))\n",
        "    loss_ = loss_object(real, pred)\n",
        "\n",
        "    mask = tf.cast(mask, dtype=loss_.dtype)\n",
        "    loss_ *= mask\n",
        "\n",
        "    return tf.reduce_sum(loss_)/tf.reduce_sum(mask)\n",
        "\n",
        "train_loss = tf.keras.metrics.Mean(name='train_loss')\n",
        "train_accuracy = tf.keras.metrics.SparseCategoricalAccuracy(\n",
        "    name='train_accuracy')"
      ]
    },
    {
      "cell_type": "markdown",
      "id": "01b9a90f",
      "metadata": {
        "id": "01b9a90f"
      },
      "source": [
        "### Creating pad mask(encoder), pad mask(decoder), lookahead mask(decoder)"
      ]
    },
    {
      "cell_type": "code",
      "execution_count": null,
      "id": "b61f4e3f",
      "metadata": {
        "id": "b61f4e3f"
      },
      "outputs": [],
      "source": [
        "def create_masks(inp, tar):\n",
        "    # Encoder padding mask\n",
        "    enc_padding_mask = create_padding_mask(inp)\n",
        "\n",
        "    # Used in the 2nd attention block in the decoder.\n",
        "    # This padding mask is used to mask the encoder outputs.\n",
        "    dec_padding_mask = create_padding_mask(inp)\n",
        "\n",
        "    # Used in the 1st attention block in the decoder.\n",
        "    # It is used to pad and mask future tokens in the input received by\n",
        "    # the decoder.\n",
        "    look_ahead_mask = create_look_ahead_mask(tf.shape(tar)[1])\n",
        "    dec_target_padding_mask = create_padding_mask(tar)\n",
        "    combined_mask = tf.maximum(dec_target_padding_mask, look_ahead_mask)\n",
        "\n",
        "    return enc_padding_mask, combined_mask, dec_padding_mask"
      ]
    },
    {
      "cell_type": "markdown",
      "id": "644505ce",
      "metadata": {
        "id": "644505ce"
      },
      "source": [
        "## Saving model checkpoint"
      ]
    },
    {
      "cell_type": "code",
      "execution_count": null,
      "id": "7a9ba0f8",
      "metadata": {
        "id": "7a9ba0f8"
      },
      "outputs": [],
      "source": [
        "checkpoint_path = \"./checkpoints_test/train\"\n",
        "\n",
        "ckpt = tf.train.Checkpoint(transformer=transformer,\n",
        "                           optimizer=optimizer)\n",
        "\n",
        "ckpt_manager = tf.train.CheckpointManager(ckpt, checkpoint_path, max_to_keep=5)\n",
        "\n",
        "# if a checkpoint exists, restore the latest checkpoint.\n",
        "if ckpt_manager.latest_checkpoint:\n",
        "    ckpt.restore(ckpt_manager.latest_checkpoint)\n",
        "    print ('Latest checkpoint restored!!')"
      ]
    },
    {
      "cell_type": "markdown",
      "id": "f4c3cdf4",
      "metadata": {
        "id": "f4c3cdf4"
      },
      "source": [
        "## Using gradient tape for getting derivatives of loss functions w.r.t. weights then applyiing to optimizer => BACKPROPAGATION"
      ]
    },
    {
      "cell_type": "code",
      "execution_count": null,
      "id": "5e0dc634",
      "metadata": {
        "id": "5e0dc634"
      },
      "outputs": [],
      "source": [
        "# The @tf.function trace-compiles train_step into a TF graph for faster\n",
        "# execution. The function specializes to the precise shape of the argument\n",
        "# tensors. To avoid re-tracing due to the variable sequence lengths or variable\n",
        "# batch sizes (the last batch is smaller), use input_signature to specify\n",
        "# more generic shapes.\n",
        "\n",
        "train_step_signature = [\n",
        "    tf.TensorSpec(shape=(None, None), dtype=tf.int64),\n",
        "    tf.TensorSpec(shape=(None, None), dtype=tf.int64),\n",
        "]\n",
        "\n",
        "@tf.function(input_signature=train_step_signature)\n",
        "def train_step(inp, tar):\n",
        "    tar_inp = tar[:, :-1]\n",
        "    tar_real = tar[:, 1:]\n",
        "\n",
        "    enc_padding_mask, combined_mask, dec_padding_mask = create_masks(inp, tar_inp)\n",
        "    with tf.GradientTape() as tape:\n",
        "        predictions, _ = transformer(inp, tar_inp,\n",
        "                                     True,\n",
        "                                     enc_padding_mask,\n",
        "                                     combined_mask,\n",
        "                                     dec_padding_mask)\n",
        "        loss = loss_function(tar_real, predictions)\n",
        "\n",
        "    gradients = tape.gradient(loss, transformer.trainable_variables)\n",
        "    optimizer.apply_gradients(zip(gradients, transformer.trainable_variables))\n",
        "\n",
        "    train_loss(loss)\n",
        "    train_accuracy(tar_real, predictions)"
      ]
    },
    {
      "cell_type": "markdown",
      "id": "bf410f58",
      "metadata": {
        "id": "bf410f58"
      },
      "source": [
        "## Creating sample transformer to know the no. of trainable parameters"
      ]
    },
    {
      "cell_type": "code",
      "execution_count": null,
      "id": "d0d0ea48",
      "metadata": {
        "id": "d0d0ea48",
        "outputId": "7bec5f23-c310-4329-e5b9-c8c0f357bc45"
      },
      "outputs": [
        {
          "name": "stdout",
          "output_type": "stream",
          "text": [
            "Model: \"transformer_5\"\n",
            "_________________________________________________________________\n",
            " Layer (type)                Output Shape              Param #   \n",
            "=================================================================\n",
            " encoder_5 (Encoder)         multiple                  4315008   \n",
            "                                                                 \n",
            " decoder_5 (Decoder)         multiple                  4560384   \n",
            "                                                                 \n",
            " dense_293 (Dense)           multiple                  3529440   \n",
            "                                                                 \n",
            "=================================================================\n",
            "Total params: 12,404,832\n",
            "Trainable params: 12,404,832\n",
            "Non-trainable params: 0\n",
            "_________________________________________________________________\n"
          ]
        }
      ],
      "source": [
        "num_layers = 4\n",
        "d_model = 128\n",
        "dff = 512\n",
        "num_heads = 8\n",
        "input_vocab_size = tokenizer_q.vocab_size + 2\n",
        "target_vocab_size = tokenizer_a.vocab_size + 2\n",
        "dropout_rate = 0.1\n",
        "\n",
        "sample_transformer = Transformer(num_layers, d_model, num_heads, dff,\n",
        "                          input_vocab_size, target_vocab_size,\n",
        "                          pe_input=input_vocab_size,\n",
        "                          pe_target=target_vocab_size,\n",
        "                          rate=dropout_rate)\n",
        "\n",
        "temp_input = tf.random.uniform((64, 27), dtype=tf.int64, minval=0, maxval=200)\n",
        "temp_target = tf.random.uniform((64, 27), dtype=tf.int64, minval=0, maxval=200)\n",
        "\n",
        "fn_out, _ = sample_transformer(temp_input, temp_target, training=False,\n",
        "                               enc_padding_mask=None,\n",
        "                               look_ahead_mask=None,\n",
        "                               dec_padding_mask=None)\n",
        "\n",
        "fn_out.shape  # (batch_size, tar_seq_len, target_vocab_size)\n",
        "sample_transformer.summary()"
      ]
    },
    {
      "cell_type": "code",
      "execution_count": null,
      "id": "8d653136",
      "metadata": {
        "id": "8d653136"
      },
      "outputs": [],
      "source": [
        "num_layers = 4\n",
        "d_model = 128\n",
        "dff = 512\n",
        "num_heads = 8\n",
        "input_vocab_size = tokenizer_q.vocab_size + 2\n",
        "target_vocab_size = tokenizer_a.vocab_size + 2\n",
        "dropout_rate = 0.1\n",
        "\n",
        "\n",
        "transformer = Transformer(num_layers, d_model, num_heads, dff,\n",
        "                          input_vocab_size, target_vocab_size,\n",
        "                          pe_input=input_vocab_size,\n",
        "                          pe_target=target_vocab_size,\n",
        "                          rate=dropout_rate)"
      ]
    },
    {
      "cell_type": "code",
      "execution_count": null,
      "id": "a47d4b94",
      "metadata": {
        "id": "a47d4b94",
        "outputId": "0ca1ed7e-e86f-4be4-d62d-a1c5f339457c"
      },
      "outputs": [
        {
          "name": "stdout",
          "output_type": "stream",
          "text": [
            "\n",
            "epoch 1/20\n",
            "111552/111527 [==============================] - 304s 3ms/step - loss: 5.6714 - acc: 0.0692\n",
            "\n",
            "epoch 2/20\n",
            "111552/111527 [==============================] - 219s 2ms/step - loss: 5.5175 - acc: 0.0746\n",
            "\n",
            "epoch 3/20\n",
            "111552/111527 [==============================] - 157s 1ms/step - loss: 5.4285 - acc: 0.0776\n",
            "\n",
            "epoch 4/20\n",
            "111552/111527 [==============================] - 155s 1ms/step - loss: 5.3675 - acc: 0.0797\n",
            "\n",
            "epoch 5/20\n",
            "111552/111527 [==============================] - 156s 1ms/step - loss: 5.3132 - acc: 0.0813\n",
            "Saving checkpoint for epoch 5 at ./checkpoints/train\\ckpt-1\n",
            "\n",
            "epoch 6/20\n",
            "111552/111527 [==============================] - 157s 1ms/step - loss: 5.2668 - acc: 0.0827\n",
            "\n",
            "epoch 7/20\n",
            "111552/111527 [==============================] - 157s 1ms/step - loss: 5.2267 - acc: 0.0840\n",
            "\n",
            "epoch 8/20\n",
            "111552/111527 [==============================] - 157s 1ms/step - loss: 5.1926 - acc: 0.0851\n",
            "\n",
            "epoch 9/20\n",
            "111552/111527 [==============================] - 157s 1ms/step - loss: 5.1626 - acc: 0.0863\n",
            "\n",
            "epoch 10/20\n",
            "111552/111527 [==============================] - 157s 1ms/step - loss: 5.1361 - acc: 0.0873\n",
            "Saving checkpoint for epoch 10 at ./checkpoints/train\\ckpt-2\n",
            "\n",
            "epoch 11/20\n",
            "111552/111527 [==============================] - 157s 1ms/step - loss: 5.1137 - acc: 0.0883\n",
            "\n",
            "epoch 12/20\n",
            "111552/111527 [==============================] - 154s 1ms/step - loss: 5.0942 - acc: 0.0891\n",
            "\n",
            "epoch 13/20\n",
            "111552/111527 [==============================] - 155s 1ms/step - loss: 5.0781 - acc: 0.0898\n",
            "\n",
            "epoch 14/20\n",
            "111552/111527 [==============================] - 154s 1ms/step - loss: 5.0637 - acc: 0.0904\n",
            "\n",
            "epoch 15/20\n",
            "111552/111527 [==============================] - 155s 1ms/step - loss: 5.0511 - acc: 0.0910\n",
            "Saving checkpoint for epoch 15 at ./checkpoints/train\\ckpt-3\n",
            "\n",
            "epoch 16/20\n",
            "111552/111527 [==============================] - 157s 1ms/step - loss: 5.0399 - acc: 0.0916\n",
            "\n",
            "epoch 17/20\n",
            "111552/111527 [==============================] - 157s 1ms/step - loss: 5.0301 - acc: 0.0921\n",
            "\n",
            "epoch 18/20\n",
            "111552/111527 [==============================] - 157s 1ms/step - loss: 5.0213 - acc: 0.0925\n",
            "\n",
            "epoch 19/20\n",
            "111552/111527 [==============================] - 156s 1ms/step - loss: 5.0136 - acc: 0.0930\n",
            "\n",
            "epoch 20/20\n",
            "111552/111527 [==============================] - 158s 1ms/step - loss: 5.0065 - acc: 0.0934\n",
            "Saving checkpoint for epoch 20 at ./checkpoints/train\\ckpt-4\n"
          ]
        }
      ],
      "source": [
        "EPOCHS = 20\n",
        "batch_size = 64\n",
        "metrics_names = ['loss', 'acc']\n",
        "train_loss.reset_states()\n",
        "train_accuracy.reset_states()\n",
        "for epoch in range(EPOCHS):\n",
        "    print(\"\\nepoch {}/{}\".format(epoch+1,EPOCHS))\n",
        "    pb_i = Progbar(train.shape[0], stateful_metrics=metrics_names)\n",
        "\n",
        "    # inp -> question, tar -> answer\n",
        "    for (batch, (inp, tar)) in enumerate(train_dataset):\n",
        "        train_step(inp, tar)\n",
        "\n",
        "        values=[('loss',train_loss.result()), ('acc',train_accuracy.result())]\n",
        "\n",
        "        pb_i.add(batch_size, values=values)\n",
        "    if (epoch + 1) % 5 == 0:\n",
        "        ckpt_save_path = ckpt_manager.save()\n",
        "        print ('Saving checkpoint for epoch {} at {}'.format(epoch+1,ckpt_save_path))"
      ]
    },
    {
      "cell_type": "code",
      "execution_count": null,
      "id": "addc165f",
      "metadata": {
        "id": "addc165f",
        "outputId": "20ce1e37-d25a-4019-ac30-357639cd751b"
      },
      "outputs": [
        {
          "name": "stdout",
          "output_type": "stream",
          "text": [
            "\n",
            "epoch 1/5\n",
            "111552/111527 [==============================] - 169s 2ms/step - loss: 4.9995 - acc: 0.0938\n",
            "\n",
            "epoch 2/5\n",
            "111552/111527 [==============================] - 154s 1ms/step - loss: 4.9930 - acc: 0.0941\n",
            "\n",
            "epoch 3/5\n",
            "111552/111527 [==============================] - 215s 2ms/step - loss: 4.9866 - acc: 0.0945\n",
            "\n",
            "epoch 4/5\n",
            "111552/111527 [==============================] - 489s 4ms/step - loss: 4.9803 - acc: 0.0948\n",
            "\n",
            "epoch 5/5\n",
            "111552/111527 [==============================] - 487s 4ms/step - loss: 4.9743 - acc: 0.0951\n",
            "Saving checkpoint for epoch 5 at ./checkpoints/train\\ckpt-5\n"
          ]
        }
      ],
      "source": [
        "EPOCHS = 5\n",
        "batch_size = 64\n",
        "metrics_names = ['loss', 'acc']\n",
        "# train_loss.reset_states()\n",
        "# train_accuracy.reset_states()\n",
        "for epoch in range(EPOCHS):\n",
        "    print(\"\\nepoch {}/{}\".format(epoch+1,EPOCHS))\n",
        "    pb_i = Progbar(train.shape[0], stateful_metrics=metrics_names)\n",
        "\n",
        "    # inp -> question, tar -> answer\n",
        "    for (batch, (inp, tar)) in enumerate(train_dataset):\n",
        "        train_step(inp, tar)\n",
        "\n",
        "        values=[('loss',train_loss.result()), ('acc',train_accuracy.result())]\n",
        "\n",
        "        pb_i.add(batch_size, values=values)\n",
        "    if (epoch + 1) % 5 == 0:\n",
        "        ckpt_save_path = ckpt_manager.save()\n",
        "        print ('Saving checkpoint for epoch {} at {}'.format(epoch+1,ckpt_save_path))"
      ]
    },
    {
      "cell_type": "markdown",
      "id": "eca700ca",
      "metadata": {
        "id": "eca700ca"
      },
      "source": [
        "# With those hyperparameters it seems model is not learning at all, as there is no progress in 25 EPOCHS"
      ]
    },
    {
      "cell_type": "code",
      "execution_count": null,
      "id": "3c6542bc",
      "metadata": {
        "id": "3c6542bc"
      },
      "outputs": [],
      "source": [
        "MAX_LENGTH = 27\n",
        "def evaluate(inp_sentence):\n",
        "    start_token = [tokenizer_q.vocab_size]\n",
        "    end_token = [tokenizer_q.vocab_size + 1]\n",
        "\n",
        "    # inp sentence is portuguese, hence adding the start and end token\n",
        "    inp_sentence = start_token + tokenizer_q.encode(inp_sentence) + end_token\n",
        "    encoder_input = tf.expand_dims(inp_sentence, 0)\n",
        "\n",
        "    # as the target is english, the first word to the transformer should be the\n",
        "    # english start token.\n",
        "    decoder_input = [tokenizer_a.vocab_size]\n",
        "    output = tf.expand_dims(decoder_input, 0)\n",
        "\n",
        "    for i in range(MAX_LENGTH):\n",
        "        enc_padding_mask, combined_mask, dec_padding_mask = create_masks(\n",
        "            encoder_input, output)\n",
        "\n",
        "        # predictions.shape == (batch_size, seq_len, vocab_size)\n",
        "        predictions, attention_weights = transformer(encoder_input,\n",
        "                                                     output,\n",
        "                                                     False,\n",
        "                                                     enc_padding_mask,\n",
        "                                                     combined_mask,\n",
        "                                                     dec_padding_mask)\n",
        "\n",
        "        # select the last word from the seq_len dimension\n",
        "#         print(predictions.shape,\"aa\",predictions[: ,-1:, :].shape)\n",
        "        predictions = predictions[: ,-1:, :]  # (batch_size, 1, vocab_size)\n",
        "\n",
        "        predicted_id = tf.cast(tf.argmax(predictions, axis=-1), tf.int32)\n",
        "#         print(predicted_id, output)\n",
        "    # return the result if the predicted_id is equal to the end token\n",
        "        if predicted_id == tokenizer_a.vocab_size+1:\n",
        "            return tf.squeeze(output, axis=0), attention_weights\n",
        "\n",
        "    # concatentate the predicted_id to the output which is given to the decoder\n",
        "    # as its input.\n",
        "        output = tf.concat([output, predicted_id], axis=-1)\n",
        "\n",
        "    return tf.squeeze(output, axis=0), attention_weights"
      ]
    },
    {
      "cell_type": "code",
      "execution_count": null,
      "id": "dcfbf0c7",
      "metadata": {
        "id": "dcfbf0c7"
      },
      "outputs": [],
      "source": [
        "inp_sentence = \"i am doing great\"\n",
        "a, b = evaluate(inp_sentence)"
      ]
    },
    {
      "cell_type": "markdown",
      "id": "30d36412",
      "metadata": {
        "id": "30d36412"
      },
      "source": [
        "# RESULTS are ABSURD"
      ]
    },
    {
      "cell_type": "code",
      "execution_count": null,
      "id": "7ee9871b",
      "metadata": {
        "id": "7ee9871b",
        "outputId": "c5aeedf2-2e9e-47a4-994f-57dd908fee89"
      },
      "outputs": [
        {
          "name": "stdout",
          "output_type": "stream",
          "text": [
            "thel\n",
            "thel\n",
            "thel\n",
            "luc \n",
            "luc \n",
            "luc \n",
            "luc \n",
            "luc \n",
            "luc \n",
            "luc \n",
            "luc \n",
            "luc \n",
            "luc \n",
            "luc \n",
            "luc \n",
            "luc \n",
            "luc \n",
            "luc \n",
            "luc \n",
            "luc \n",
            "luc \n",
            "luc \n",
            "luc \n",
            "luc \n",
            "luc \n",
            "luc \n",
            "luc \n"
          ]
        }
      ],
      "source": [
        "for i in a[1:]:\n",
        "    print(tokenizer_a.decode([i]))"
      ]
    },
    {
      "cell_type": "markdown",
      "id": "c45aebc4",
      "metadata": {
        "id": "c45aebc4"
      },
      "source": [
        " ## Lets try with different hyperparameters"
      ]
    },
    {
      "cell_type": "code",
      "execution_count": null,
      "id": "a79abb08",
      "metadata": {
        "id": "a79abb08",
        "outputId": "ed315b6c-4548-4ac0-8a5d-270ebe96cdac"
      },
      "outputs": [
        {
          "name": "stdout",
          "output_type": "stream",
          "text": [
            "Model: \"transformer_5\"\n",
            "_________________________________________________________________\n",
            " Layer (type)                Output Shape              Param #   \n",
            "=================================================================\n",
            " encoder_5 (Encoder)         multiple                  4315008   \n",
            "                                                                 \n",
            " decoder_5 (Decoder)         multiple                  4560384   \n",
            "                                                                 \n",
            " dense_293 (Dense)           multiple                  3529440   \n",
            "                                                                 \n",
            "=================================================================\n",
            "Total params: 12,404,832\n",
            "Trainable params: 12,404,832\n",
            "Non-trainable params: 0\n",
            "_________________________________________________________________\n"
          ]
        }
      ],
      "source": [
        "num_layers = 4\n",
        "d_model = 128\n",
        "dff = 512\n",
        "num_heads = 8\n",
        "\n",
        "input_vocab_size = tokenizer_q.vocab_size + 2\n",
        "target_vocab_size = tokenizer_a.vocab_size + 2\n",
        "dropout_rate = 0.1\n",
        "temp_input = tf.random.uniform((64, 27), dtype=tf.int64, minval=0, maxval=200)\n",
        "temp_target = tf.random.uniform((64, 27), dtype=tf.int64, minval=0, maxval=200)\n",
        "\n",
        "fn_out, _ = sample_transformer(temp_input, temp_target, training=False,\n",
        "                               enc_padding_mask=None,\n",
        "                               look_ahead_mask=None,\n",
        "                               dec_padding_mask=None)\n",
        "\n",
        "fn_out.shape  # (batch_size, tar_seq_len, target_vocab_size)\n",
        "sample_transformer.summary()"
      ]
    },
    {
      "cell_type": "code",
      "execution_count": null,
      "id": "5709905a",
      "metadata": {
        "id": "5709905a",
        "outputId": "ed632b49-5998-4424-ab0e-25c34a0cb01d"
      },
      "outputs": [
        {
          "name": "stdout",
          "output_type": "stream",
          "text": [
            "Model: \"transformer_6\"\n",
            "_________________________________________________________________\n",
            " Layer (type)                Output Shape              Param #   \n",
            "=================================================================\n",
            " encoder_6 (Encoder)         multiple                  8098048   \n",
            "                                                                 \n",
            " decoder_6 (Decoder)         multiple                  8585728   \n",
            "                                                                 \n",
            " dense_326 (Dense)           multiple                  7031520   \n",
            "                                                                 \n",
            "=================================================================\n",
            "Total params: 23,715,296\n",
            "Trainable params: 23,715,296\n",
            "Non-trainable params: 0\n",
            "_________________________________________________________________\n"
          ]
        }
      ],
      "source": [
        "num_layers = 2\n",
        "d_model = 256\n",
        "dff = 512\n",
        "num_heads = 8\n",
        "input_vocab_size = tokenizer_q.vocab_size + 2\n",
        "target_vocab_size = tokenizer_a.vocab_size + 2\n",
        "dropout_rate = 0.1\n",
        "\n",
        "sample_transformer = Transformer(num_layers, d_model, num_heads, dff,\n",
        "                          input_vocab_size, target_vocab_size,\n",
        "                          pe_input=input_vocab_size,\n",
        "                          pe_target=target_vocab_size,\n",
        "                          rate=dropout_rate)\n",
        "\n",
        "temp_input = tf.random.uniform((64, 27), dtype=tf.int64, minval=0, maxval=200)\n",
        "temp_target = tf.random.uniform((64, 27), dtype=tf.int64, minval=0, maxval=200)\n",
        "\n",
        "fn_out, _ = sample_transformer(temp_input, temp_target, training=False,\n",
        "                               enc_padding_mask=None,\n",
        "                               look_ahead_mask=None,\n",
        "                               dec_padding_mask=None)\n",
        "sample_transformer.summary()"
      ]
    },
    {
      "cell_type": "markdown",
      "id": "17f5656e",
      "metadata": {
        "id": "17f5656e"
      },
      "source": [
        "### Now the trainable parameters has increased from 12M to 24M, Lets test this!!"
      ]
    },
    {
      "cell_type": "code",
      "execution_count": null,
      "id": "27d76c6e",
      "metadata": {
        "id": "27d76c6e",
        "outputId": "e50e8e49-33a6-4e88-d2b1-9367ad6eef4f"
      },
      "outputs": [
        {
          "name": "stdout",
          "output_type": "stream",
          "text": [
            "\n",
            "epoch 1/20\n",
            "111552/111527 [==============================] - 184s 2ms/step - loss: 5.2070 - acc: 0.0921\n",
            "\n",
            "epoch 2/20\n",
            "111552/111527 [==============================] - 142s 1ms/step - loss: 4.9807 - acc: 0.0979\n",
            "\n",
            "epoch 3/20\n",
            "111552/111527 [==============================] - 141s 1ms/step - loss: 4.8595 - acc: 0.1010\n",
            "\n",
            "epoch 4/20\n",
            "111552/111527 [==============================] - 142s 1ms/step - loss: 4.7736 - acc: 0.1033\n",
            "\n",
            "epoch 5/20\n",
            "111552/111527 [==============================] - 145s 1ms/step - loss: 4.7041 - acc: 0.1053\n",
            "Saving checkpoint for epoch 5 at ./checkpoints2/train\\ckpt-1\n",
            "\n",
            "epoch 6/20\n",
            "111552/111527 [==============================] - 144s 1ms/step - loss: 4.6442 - acc: 0.1072\n",
            "\n",
            "epoch 7/20\n",
            "111552/111527 [==============================] - 143s 1ms/step - loss: 4.5910 - acc: 0.1089\n",
            "\n",
            "epoch 8/20\n",
            "111552/111527 [==============================] - 145s 1ms/step - loss: 4.5422 - acc: 0.1107\n",
            "\n",
            "epoch 9/20\n",
            "111552/111527 [==============================] - 143s 1ms/step - loss: 4.4968 - acc: 0.1123\n",
            "\n",
            "epoch 10/20\n",
            "111552/111527 [==============================] - 145s 1ms/step - loss: 4.4542 - acc: 0.1139\n",
            "Saving checkpoint for epoch 10 at ./checkpoints2/train\\ckpt-2\n",
            "\n",
            "epoch 11/20\n",
            "111552/111527 [==============================] - 148s 1ms/step - loss: 4.4140 - acc: 0.1155\n",
            "\n",
            "epoch 12/20\n",
            "111552/111527 [==============================] - 144s 1ms/step - loss: 4.3760 - acc: 0.1171\n",
            "\n",
            "epoch 13/20\n",
            "111552/111527 [==============================] - 143s 1ms/step - loss: 4.3402 - acc: 0.1186\n",
            "\n",
            "epoch 14/20\n",
            "111552/111527 [==============================] - 145s 1ms/step - loss: 4.3065 - acc: 0.1201\n",
            "\n",
            "epoch 15/20\n",
            "111552/111527 [==============================] - 145s 1ms/step - loss: 4.2753 - acc: 0.1216\n",
            "Saving checkpoint for epoch 15 at ./checkpoints2/train\\ckpt-3\n",
            "\n",
            "epoch 16/20\n",
            "111552/111527 [==============================] - 146s 1ms/step - loss: 4.2467 - acc: 0.1230\n",
            "\n",
            "epoch 17/20\n",
            "111552/111527 [==============================] - 144s 1ms/step - loss: 4.2203 - acc: 0.1245\n",
            "\n",
            "epoch 18/20\n",
            "111552/111527 [==============================] - 144s 1ms/step - loss: 4.1958 - acc: 0.1258\n",
            "\n",
            "epoch 19/20\n",
            "111552/111527 [==============================] - 143s 1ms/step - loss: 4.1724 - acc: 0.1271\n",
            "\n",
            "epoch 20/20\n",
            "111552/111527 [==============================] - 141s 1ms/step - loss: 4.1498 - acc: 0.1285\n",
            "Saving checkpoint for epoch 20 at ./checkpoints2/train\\ckpt-4\n"
          ]
        }
      ],
      "source": [
        "EPOCHS = 20\n",
        "batch_size = 64\n",
        "metrics_names = ['loss', 'acc']\n",
        "train_loss.reset_states()\n",
        "train_accuracy.reset_states()\n",
        "for epoch in range(EPOCHS):\n",
        "    print(\"\\nepoch {}/{}\".format(epoch+1,EPOCHS))\n",
        "    pb_i = Progbar(train.shape[0], stateful_metrics=metrics_names)\n",
        "\n",
        "    # inp -> question, tar -> answer\n",
        "    for (batch, (inp, tar)) in enumerate(train_dataset):\n",
        "        train_step(inp, tar)\n",
        "\n",
        "        values=[('loss',train_loss.result()), ('acc',train_accuracy.result())]\n",
        "\n",
        "        pb_i.add(batch_size, values=values)\n",
        "    if (epoch + 1) % 5 == 0:\n",
        "        ckpt_save_path = ckpt_manager.save()\n",
        "        print ('Saving checkpoint for epoch {} at {}'.format(epoch+1,ckpt_save_path))"
      ]
    },
    {
      "cell_type": "code",
      "execution_count": null,
      "id": "8990f5ec",
      "metadata": {
        "id": "8990f5ec",
        "outputId": "64487a12-6fd3-4290-8f16-9bf0f1c1055e"
      },
      "outputs": [
        {
          "name": "stdout",
          "output_type": "stream",
          "text": [
            "\n",
            "epoch 1/30\n",
            "111552/111527 [==============================] - 146s 1ms/step - loss: 4.1279 - acc: 0.1297\n",
            "\n",
            "epoch 2/30\n",
            "111552/111527 [==============================] - 148s 1ms/step - loss: 4.1067 - acc: 0.1310\n",
            "\n",
            "epoch 3/30\n",
            "111552/111527 [==============================] - 143s 1ms/step - loss: 4.0860 - acc: 0.1322\n",
            "\n",
            "epoch 4/30\n",
            "111552/111527 [==============================] - 144s 1ms/step - loss: 4.0660 - acc: 0.1334\n",
            "\n",
            "epoch 5/30\n",
            "111552/111527 [==============================] - 146s 1ms/step - loss: 4.0465 - acc: 0.1346\n",
            "Saving checkpoint for epoch 5 at ./checkpoints2/train\\ckpt-5\n",
            "\n",
            "epoch 6/30\n",
            "111552/111527 [==============================] - 147s 1ms/step - loss: 4.0276 - acc: 0.1358\n",
            "\n",
            "epoch 7/30\n",
            "111552/111527 [==============================] - 149s 1ms/step - loss: 4.0091 - acc: 0.1369\n",
            "\n",
            "epoch 8/30\n",
            "111552/111527 [==============================] - 149s 1ms/step - loss: 3.9912 - acc: 0.1381\n",
            "\n",
            "epoch 9/30\n",
            "111552/111527 [==============================] - 147s 1ms/step - loss: 3.9736 - acc: 0.1392\n",
            "\n",
            "epoch 10/30\n",
            "111552/111527 [==============================] - 148s 1ms/step - loss: 3.9566 - acc: 0.1402\n",
            "Saving checkpoint for epoch 10 at ./checkpoints2/train\\ckpt-6\n",
            "\n",
            "epoch 11/30\n",
            "111552/111527 [==============================] - 148s 1ms/step - loss: 3.9399 - acc: 0.1413\n",
            "\n",
            "epoch 12/30\n",
            "111552/111527 [==============================] - 148s 1ms/step - loss: 3.9237 - acc: 0.1423\n",
            "\n",
            "epoch 13/30\n",
            "111552/111527 [==============================] - 148s 1ms/step - loss: 3.9078 - acc: 0.1434\n",
            "\n",
            "epoch 14/30\n",
            "111552/111527 [==============================] - 149s 1ms/step - loss: 3.8923 - acc: 0.1444\n",
            "\n",
            "epoch 15/30\n",
            "111552/111527 [==============================] - 149s 1ms/step - loss: 3.8773 - acc: 0.1453\n",
            "Saving checkpoint for epoch 15 at ./checkpoints2/train\\ckpt-7\n",
            "\n",
            "epoch 16/30\n",
            "111552/111527 [==============================] - 149s 1ms/step - loss: 3.8624 - acc: 0.1463\n",
            "\n",
            "epoch 17/30\n",
            "111552/111527 [==============================] - 148s 1ms/step - loss: 3.8478 - acc: 0.1473\n",
            "\n",
            "epoch 18/30\n",
            "111552/111527 [==============================] - 151s 1ms/step - loss: 3.8336 - acc: 0.1482\n",
            "\n",
            "epoch 19/30\n",
            "111552/111527 [==============================] - 153s 1ms/step - loss: 3.8196 - acc: 0.1491\n",
            "\n",
            "epoch 20/30\n",
            "111552/111527 [==============================] - 151s 1ms/step - loss: 3.8059 - acc: 0.1500\n",
            "Saving checkpoint for epoch 20 at ./checkpoints2/train\\ckpt-8\n",
            "\n",
            "epoch 21/30\n",
            "111552/111527 [==============================] - 151s 1ms/step - loss: 3.7925 - acc: 0.1509\n",
            "\n",
            "epoch 22/30\n",
            "111552/111527 [==============================] - 153s 1ms/step - loss: 3.7793 - acc: 0.1518\n",
            "\n",
            "epoch 23/30\n",
            "111552/111527 [==============================] - 150s 1ms/step - loss: 3.7663 - acc: 0.1526\n",
            "\n",
            "epoch 24/30\n",
            "111552/111527 [==============================] - 142s 1ms/step - loss: 3.7536 - acc: 0.1534\n",
            "\n",
            "epoch 25/30\n",
            "111552/111527 [==============================] - 141s 1ms/step - loss: 3.7411 - acc: 0.1543\n",
            "Saving checkpoint for epoch 25 at ./checkpoints2/train\\ckpt-9\n",
            "\n",
            "epoch 26/30\n",
            "111552/111527 [==============================] - 141s 1ms/step - loss: 3.7288 - acc: 0.1551\n",
            "\n",
            "epoch 27/30\n",
            "111552/111527 [==============================] - 143s 1ms/step - loss: 3.7167 - acc: 0.1559\n",
            "\n",
            "epoch 28/30\n",
            "111552/111527 [==============================] - 142s 1ms/step - loss: 3.7048 - acc: 0.1567\n",
            "\n",
            "epoch 29/30\n",
            "111552/111527 [==============================] - 142s 1ms/step - loss: 3.6931 - acc: 0.1574\n",
            "\n",
            "epoch 30/30\n",
            "111552/111527 [==============================] - 141s 1ms/step - loss: 3.6816 - acc: 0.1582\n",
            "Saving checkpoint for epoch 30 at ./checkpoints2/train\\ckpt-10\n"
          ]
        }
      ],
      "source": [
        "EPOCHS = 30\n",
        "batch_size = 64\n",
        "metrics_names = ['loss', 'acc']\n",
        "# train_loss.reset_states()\n",
        "# train_accuracy.reset_states()\n",
        "for epoch in range(EPOCHS):\n",
        "    print(\"\\nepoch {}/{}\".format(epoch+1,EPOCHS))\n",
        "    pb_i = Progbar(train.shape[0], stateful_metrics=metrics_names)\n",
        "\n",
        "    # inp -> question, tar -> answer\n",
        "    for (batch, (inp, tar)) in enumerate(train_dataset):\n",
        "        train_step(inp, tar)\n",
        "\n",
        "        values=[('loss',train_loss.result()), ('acc',train_accuracy.result())]\n",
        "\n",
        "        pb_i.add(batch_size, values=values)\n",
        "    if (epoch + 1) % 5 == 0:\n",
        "        ckpt_save_path = ckpt_manager.save()\n",
        "        print ('Saving checkpoint for epoch {} at {}'.format(epoch+1,ckpt_save_path))"
      ]
    },
    {
      "cell_type": "markdown",
      "id": "e364afa5",
      "metadata": {
        "id": "e364afa5"
      },
      "source": [
        "## Learning is slow, but not stagnant (-__-)"
      ]
    },
    {
      "cell_type": "code",
      "execution_count": null,
      "id": "47943fa8",
      "metadata": {
        "id": "47943fa8",
        "outputId": "bdd9520a-6675-4d35-ddd5-71a37a9ca97a"
      },
      "outputs": [
        {
          "name": "stdout",
          "output_type": "stream",
          "text": [
            "\n",
            "epoch 51/100\n",
            "111552/111527 [==============================] - 142s 1ms/step - loss: 3.6703 - acc: 0.1589\n",
            "\n",
            "epoch 52/100\n",
            "111552/111527 [==============================] - 141s 1ms/step - loss: 3.6591 - acc: 0.1597\n",
            "\n",
            "epoch 53/100\n",
            "111552/111527 [==============================] - 143s 1ms/step - loss: 3.6481 - acc: 0.1604\n",
            "\n",
            "epoch 54/100\n",
            "111552/111527 [==============================] - 143s 1ms/step - loss: 3.6373 - acc: 0.1611\n",
            "\n",
            "epoch 55/100\n",
            "111552/111527 [==============================] - 142s 1ms/step - loss: 3.6266 - acc: 0.1618\n",
            "Saving checkpoint for epoch 55 at ./checkpoints2/train\\ckpt-11\n",
            "\n",
            "epoch 56/100\n",
            "111552/111527 [==============================] - 142s 1ms/step - loss: 3.6161 - acc: 0.1625\n",
            "\n",
            "epoch 57/100\n",
            "111552/111527 [==============================] - 142s 1ms/step - loss: 3.6057 - acc: 0.1632\n",
            "\n",
            "epoch 58/100\n",
            "111552/111527 [==============================] - 142s 1ms/step - loss: 3.5955 - acc: 0.1639\n",
            "\n",
            "epoch 59/100\n",
            "111552/111527 [==============================] - 142s 1ms/step - loss: 3.5855 - acc: 0.1646\n",
            "\n",
            "epoch 60/100\n",
            "111552/111527 [==============================] - 143s 1ms/step - loss: 3.5755 - acc: 0.1652\n",
            "Saving checkpoint for epoch 60 at ./checkpoints2/train\\ckpt-12\n",
            "\n",
            "epoch 61/100\n",
            "111552/111527 [==============================] - 144s 1ms/step - loss: 3.5657 - acc: 0.1659\n",
            "\n",
            "epoch 62/100\n",
            "111552/111527 [==============================] - 144s 1ms/step - loss: 3.5561 - acc: 0.1665\n",
            "\n",
            "epoch 63/100\n",
            "111552/111527 [==============================] - 143s 1ms/step - loss: 3.5465 - acc: 0.1671\n",
            "\n",
            "epoch 64/100\n",
            "111552/111527 [==============================] - 143s 1ms/step - loss: 3.5371 - acc: 0.1678\n",
            "\n",
            "epoch 65/100\n",
            "111552/111527 [==============================] - 143s 1ms/step - loss: 3.5278 - acc: 0.1684\n",
            "Saving checkpoint for epoch 65 at ./checkpoints2/train\\ckpt-13\n",
            "\n",
            "epoch 66/100\n",
            "111552/111527 [==============================] - 141s 1ms/step - loss: 3.5186 - acc: 0.1690\n",
            "\n",
            "epoch 67/100\n",
            "111552/111527 [==============================] - 265s 2ms/step - loss: 3.5094 - acc: 0.1696\n",
            "\n",
            "epoch 68/100\n",
            "111552/111527 [==============================] - 364s 3ms/step - loss: 3.5004 - acc: 0.1702\n",
            "\n",
            "epoch 69/100\n",
            "111552/111527 [==============================] - 142s 1ms/step - loss: 3.4914 - acc: 0.1708\n",
            "\n",
            "epoch 70/100\n",
            "111552/111527 [==============================] - 142s 1ms/step - loss: 3.4825 - acc: 0.1714\n",
            "Saving checkpoint for epoch 70 at ./checkpoints2/train\\ckpt-14\n",
            "\n",
            "epoch 71/100\n",
            "111552/111527 [==============================] - 142s 1ms/step - loss: 3.4737 - acc: 0.1719\n",
            "\n",
            "epoch 72/100\n",
            "111552/111527 [==============================] - 143s 1ms/step - loss: 3.4650 - acc: 0.1725\n",
            "\n",
            "epoch 73/100\n",
            "111552/111527 [==============================] - 143s 1ms/step - loss: 3.4564 - acc: 0.1730\n",
            "\n",
            "epoch 74/100\n",
            "111552/111527 [==============================] - 142s 1ms/step - loss: 3.4479 - acc: 0.1736\n",
            "\n",
            "epoch 75/100\n",
            "111552/111527 [==============================] - 143s 1ms/step - loss: 3.4394 - acc: 0.1741\n",
            "Saving checkpoint for epoch 75 at ./checkpoints2/train\\ckpt-15\n",
            "\n",
            "epoch 76/100\n",
            "111552/111527 [==============================] - 143s 1ms/step - loss: 3.4311 - acc: 0.1747\n",
            "\n",
            "epoch 77/100\n",
            "111552/111527 [==============================] - 143s 1ms/step - loss: 3.4229 - acc: 0.1752\n",
            "\n",
            "epoch 78/100\n",
            "111552/111527 [==============================] - 141s 1ms/step - loss: 3.4148 - acc: 0.1757\n",
            "\n",
            "epoch 79/100\n",
            "111552/111527 [==============================] - 141s 1ms/step - loss: 3.4068 - acc: 0.1762\n",
            "\n",
            "epoch 80/100\n",
            "111552/111527 [==============================] - 142s 1ms/step - loss: 3.3989 - acc: 0.1768\n",
            "Saving checkpoint for epoch 80 at ./checkpoints2/train\\ckpt-16\n",
            "\n",
            "epoch 81/100\n",
            "111552/111527 [==============================] - 140s 1ms/step - loss: 3.3912 - acc: 0.1773\n",
            "\n",
            "epoch 82/100\n",
            "111552/111527 [==============================] - 142s 1ms/step - loss: 3.3837 - acc: 0.1778\n",
            "\n",
            "epoch 83/100\n",
            "111552/111527 [==============================] - 142s 1ms/step - loss: 3.3762 - acc: 0.1783\n",
            "\n",
            "epoch 84/100\n",
            "111552/111527 [==============================] - 142s 1ms/step - loss: 3.3689 - acc: 0.1787\n",
            "\n",
            "epoch 85/100\n",
            "111552/111527 [==============================] - 142s 1ms/step - loss: 3.3617 - acc: 0.1792\n",
            "Saving checkpoint for epoch 85 at ./checkpoints2/train\\ckpt-17\n",
            "\n",
            "epoch 86/100\n",
            "111552/111527 [==============================] - 141s 1ms/step - loss: 3.3546 - acc: 0.1797\n",
            "\n",
            "epoch 87/100\n",
            "111552/111527 [==============================] - 141s 1ms/step - loss: 3.3476 - acc: 0.1802\n",
            "\n",
            "epoch 88/100\n",
            "111552/111527 [==============================] - 142s 1ms/step - loss: 3.3407 - acc: 0.1807\n",
            "\n",
            "epoch 89/100\n",
            "111552/111527 [==============================] - 142s 1ms/step - loss: 3.3339 - acc: 0.1811\n",
            "\n",
            "epoch 90/100\n",
            "111552/111527 [==============================] - 141s 1ms/step - loss: 3.3273 - acc: 0.1816\n",
            "Saving checkpoint for epoch 90 at ./checkpoints2/train\\ckpt-18\n",
            "\n",
            "epoch 91/100\n",
            "111552/111527 [==============================] - 142s 1ms/step - loss: 3.3206 - acc: 0.1820\n",
            "\n",
            "epoch 92/100\n",
            "111552/111527 [==============================] - 142s 1ms/step - loss: 3.3141 - acc: 0.1825\n",
            "\n",
            "epoch 93/100\n",
            "111552/111527 [==============================] - 142s 1ms/step - loss: 3.3077 - acc: 0.1829\n",
            "\n",
            "epoch 94/100\n",
            "111552/111527 [==============================] - 142s 1ms/step - loss: 3.3012 - acc: 0.1834\n",
            "\n",
            "epoch 95/100\n",
            "111552/111527 [==============================] - 141s 1ms/step - loss: 3.2949 - acc: 0.1838\n",
            "Saving checkpoint for epoch 95 at ./checkpoints2/train\\ckpt-19\n",
            "\n",
            "epoch 96/100\n",
            "111552/111527 [==============================] - 141s 1ms/step - loss: 3.2886 - acc: 0.1843\n",
            "\n",
            "epoch 97/100\n",
            "111552/111527 [==============================] - 141s 1ms/step - loss: 3.2824 - acc: 0.1847\n",
            "\n",
            "epoch 98/100\n",
            "111552/111527 [==============================] - 142s 1ms/step - loss: 3.2763 - acc: 0.1851\n",
            "\n",
            "epoch 99/100\n",
            "111552/111527 [==============================] - 141s 1ms/step - loss: 3.2702 - acc: 0.1855\n",
            "\n",
            "epoch 100/100\n",
            "111552/111527 [==============================] - 142s 1ms/step - loss: 3.2642 - acc: 0.1860\n",
            "Saving checkpoint for epoch 100 at ./checkpoints2/train\\ckpt-20\n"
          ]
        }
      ],
      "source": [
        "EPOCHS = 100\n",
        "batch_size = 64\n",
        "metrics_names = ['loss', 'acc']\n",
        "# train_loss.reset_states()\n",
        "# train_accuracy.reset_states()\n",
        "for epoch in range(50, EPOCHS):\n",
        "    print(\"\\nepoch {}/{}\".format(epoch+1,EPOCHS))\n",
        "    pb_i = Progbar(train.shape[0], stateful_metrics=metrics_names)\n",
        "\n",
        "    # inp -> question, tar -> answer\n",
        "    for (batch, (inp, tar)) in enumerate(train_dataset):\n",
        "        train_step(inp, tar)\n",
        "\n",
        "        values=[('loss',train_loss.result()), ('acc',train_accuracy.result())]\n",
        "\n",
        "        pb_i.add(batch_size, values=values)\n",
        "    if (epoch + 1) % 5 == 0:\n",
        "        ckpt_save_path = ckpt_manager.save()\n",
        "        print ('Saving checkpoint for epoch {} at {}'.format(epoch+1,ckpt_save_path))"
      ]
    },
    {
      "cell_type": "code",
      "execution_count": null,
      "id": "c533244c",
      "metadata": {
        "id": "c533244c",
        "outputId": "ada9ceb8-fb46-4535-c825-f69ffaa7dc82"
      },
      "outputs": [
        {
          "name": "stdout",
          "output_type": "stream",
          "text": [
            "\n",
            "epoch 101/150\n",
            "111552/111527 [==============================] - 141s 1ms/step - loss: 3.2584 - acc: 0.1864\n",
            "\n",
            "epoch 102/150\n",
            "111552/111527 [==============================] - 141s 1ms/step - loss: 3.2525 - acc: 0.1868\n",
            "\n",
            "epoch 103/150\n",
            "111552/111527 [==============================] - 141s 1ms/step - loss: 3.2468 - acc: 0.1872\n",
            "\n",
            "epoch 104/150\n",
            "111552/111527 [==============================] - 141s 1ms/step - loss: 3.2411 - acc: 0.1876\n",
            "\n",
            "epoch 105/150\n",
            "111552/111527 [==============================] - 142s 1ms/step - loss: 3.2355 - acc: 0.1880\n",
            "Saving checkpoint for epoch 105 at ./checkpoints2/train\\ckpt-21\n",
            "\n",
            "epoch 106/150\n",
            "111552/111527 [==============================] - 142s 1ms/step - loss: 3.2300 - acc: 0.1884\n",
            "\n",
            "epoch 107/150\n",
            "111552/111527 [==============================] - 141s 1ms/step - loss: 3.2245 - acc: 0.1888\n",
            "\n",
            "epoch 108/150\n",
            "111552/111527 [==============================] - 143s 1ms/step - loss: 3.2192 - acc: 0.1892\n",
            "\n",
            "epoch 109/150\n",
            "111552/111527 [==============================] - 143s 1ms/step - loss: 3.2139 - acc: 0.1895\n",
            "\n",
            "epoch 110/150\n",
            "111552/111527 [==============================] - 142s 1ms/step - loss: 3.2086 - acc: 0.1899\n",
            "Saving checkpoint for epoch 110 at ./checkpoints2/train\\ckpt-22\n",
            "\n",
            "epoch 111/150\n",
            "111552/111527 [==============================] - 142s 1ms/step - loss: 3.2034 - acc: 0.1903\n",
            "\n",
            "epoch 112/150\n",
            "111552/111527 [==============================] - 142s 1ms/step - loss: 3.1983 - acc: 0.1907\n",
            "\n",
            "epoch 113/150\n",
            "111552/111527 [==============================] - 142s 1ms/step - loss: 3.1932 - acc: 0.1910\n",
            "\n",
            "epoch 114/150\n",
            "111552/111527 [==============================] - 141s 1ms/step - loss: 3.1881 - acc: 0.1914\n",
            "\n",
            "epoch 115/150\n",
            "111552/111527 [==============================] - 142s 1ms/step - loss: 3.1831 - acc: 0.1918\n",
            "Saving checkpoint for epoch 115 at ./checkpoints2/train\\ckpt-23\n",
            "\n",
            "epoch 116/150\n",
            "111552/111527 [==============================] - 142s 1ms/step - loss: 3.1781 - acc: 0.1921\n",
            "\n",
            "epoch 117/150\n",
            "111552/111527 [==============================] - 142s 1ms/step - loss: 3.1732 - acc: 0.1925\n",
            "\n",
            "epoch 118/150\n",
            "111552/111527 [==============================] - 142s 1ms/step - loss: 3.1683 - acc: 0.1928\n",
            "\n",
            "epoch 119/150\n",
            "111552/111527 [==============================] - 142s 1ms/step - loss: 3.1634 - acc: 0.1932\n",
            "\n",
            "epoch 120/150\n",
            "111552/111527 [==============================] - 143s 1ms/step - loss: 3.1586 - acc: 0.1936\n",
            "Saving checkpoint for epoch 120 at ./checkpoints2/train\\ckpt-24\n",
            "\n",
            "epoch 121/150\n",
            "111552/111527 [==============================] - 142s 1ms/step - loss: 3.1538 - acc: 0.1939\n",
            "\n",
            "epoch 122/150\n",
            "111552/111527 [==============================] - 142s 1ms/step - loss: 3.1490 - acc: 0.1942\n",
            "\n",
            "epoch 123/150\n",
            "111552/111527 [==============================] - 142s 1ms/step - loss: 3.1442 - acc: 0.1946\n",
            "\n",
            "epoch 124/150\n",
            "111552/111527 [==============================] - 142s 1ms/step - loss: 3.1395 - acc: 0.1949\n",
            "\n",
            "epoch 125/150\n",
            "111552/111527 [==============================] - 142s 1ms/step - loss: 3.1348 - acc: 0.1953\n",
            "Saving checkpoint for epoch 125 at ./checkpoints2/train\\ckpt-25\n",
            "\n",
            "epoch 126/150\n",
            "111552/111527 [==============================] - 144s 1ms/step - loss: 3.1301 - acc: 0.1956\n",
            "\n",
            "epoch 127/150\n",
            "111552/111527 [==============================] - 142s 1ms/step - loss: 3.1255 - acc: 0.1960\n",
            "\n",
            "epoch 128/150\n",
            "111552/111527 [==============================] - 142s 1ms/step - loss: 3.1209 - acc: 0.1963\n",
            "\n",
            "epoch 129/150\n",
            "111552/111527 [==============================] - 142s 1ms/step - loss: 3.1163 - acc: 0.1966\n",
            "\n",
            "epoch 130/150\n",
            "111552/111527 [==============================] - 142s 1ms/step - loss: 3.1118 - acc: 0.1969\n",
            "Saving checkpoint for epoch 130 at ./checkpoints2/train\\ckpt-26\n",
            "\n",
            "epoch 131/150\n",
            "111552/111527 [==============================] - 142s 1ms/step - loss: 3.1072 - acc: 0.1973\n",
            "\n",
            "epoch 132/150\n",
            "111552/111527 [==============================] - 142s 1ms/step - loss: 3.1027 - acc: 0.1976\n",
            "\n",
            "epoch 133/150\n",
            "111552/111527 [==============================] - 142s 1ms/step - loss: 3.0983 - acc: 0.1979\n",
            "\n",
            "epoch 134/150\n",
            "111552/111527 [==============================] - 142s 1ms/step - loss: 3.0938 - acc: 0.1982\n",
            "\n",
            "epoch 135/150\n",
            "111552/111527 [==============================] - 142s 1ms/step - loss: 3.0894 - acc: 0.1986\n",
            "Saving checkpoint for epoch 135 at ./checkpoints2/train\\ckpt-27\n",
            "\n",
            "epoch 136/150\n",
            "111552/111527 [==============================] - 142s 1ms/step - loss: 3.0850 - acc: 0.1989\n",
            "\n",
            "epoch 137/150\n",
            "111552/111527 [==============================] - 142s 1ms/step - loss: 3.0806 - acc: 0.1992\n",
            "\n",
            "epoch 138/150\n",
            "111552/111527 [==============================] - 142s 1ms/step - loss: 3.0763 - acc: 0.1995\n",
            "\n",
            "epoch 139/150\n",
            "111552/111527 [==============================] - 142s 1ms/step - loss: 3.0720 - acc: 0.1998\n",
            "\n",
            "epoch 140/150\n",
            "111552/111527 [==============================] - 142s 1ms/step - loss: 3.0677 - acc: 0.2001\n",
            "Saving checkpoint for epoch 140 at ./checkpoints2/train\\ckpt-28\n",
            "\n",
            "epoch 141/150\n",
            "111552/111527 [==============================] - 142s 1ms/step - loss: 3.0635 - acc: 0.2004\n",
            "\n",
            "epoch 142/150\n",
            "111552/111527 [==============================] - 142s 1ms/step - loss: 3.0593 - acc: 0.2007\n",
            "\n",
            "epoch 143/150\n",
            "111552/111527 [==============================] - 142s 1ms/step - loss: 3.0550 - acc: 0.2010\n",
            "\n",
            "epoch 144/150\n",
            "111552/111527 [==============================] - 142s 1ms/step - loss: 3.0509 - acc: 0.2013\n",
            "\n",
            "epoch 145/150\n",
            "111552/111527 [==============================] - 142s 1ms/step - loss: 3.0467 - acc: 0.2016\n",
            "Saving checkpoint for epoch 145 at ./checkpoints2/train\\ckpt-29\n",
            "\n",
            "epoch 146/150\n",
            "111552/111527 [==============================] - 142s 1ms/step - loss: 3.0426 - acc: 0.2019\n",
            "\n",
            "epoch 147/150\n",
            "111552/111527 [==============================] - 142s 1ms/step - loss: 3.0385 - acc: 0.2022\n",
            "\n",
            "epoch 148/150\n",
            "111552/111527 [==============================] - 142s 1ms/step - loss: 3.0344 - acc: 0.2025\n",
            "\n",
            "epoch 149/150\n",
            "111552/111527 [==============================] - 142s 1ms/step - loss: 3.0304 - acc: 0.2028\n",
            "\n",
            "epoch 150/150\n",
            "111552/111527 [==============================] - 142s 1ms/step - loss: 3.0263 - acc: 0.2031\n",
            "Saving checkpoint for epoch 150 at ./checkpoints2/train\\ckpt-30\n"
          ]
        }
      ],
      "source": [
        "EPOCHS = 150\n",
        "batch_size = 64\n",
        "metrics_names = ['loss', 'acc']\n",
        "# train_loss.reset_states()\n",
        "# train_accuracy.reset_states()\n",
        "for epoch in range(100, EPOCHS):\n",
        "    print(\"\\nepoch {}/{}\".format(epoch+1,EPOCHS))\n",
        "    pb_i = Progbar(train.shape[0], stateful_metrics=metrics_names)\n",
        "\n",
        "    # inp -> question, tar -> answer\n",
        "    for (batch, (inp, tar)) in enumerate(train_dataset):\n",
        "        train_step(inp, tar)\n",
        "\n",
        "        values=[('loss',train_loss.result()), ('acc',train_accuracy.result())]\n",
        "\n",
        "        pb_i.add(batch_size, values=values)\n",
        "    if (epoch + 1) % 5 == 0:\n",
        "        ckpt_save_path = ckpt_manager.save()\n",
        "        print ('Saving checkpoint for epoch {} at {}'.format(epoch+1,ckpt_save_path))"
      ]
    },
    {
      "cell_type": "code",
      "execution_count": null,
      "id": "7ebb9b2d",
      "metadata": {
        "id": "7ebb9b2d",
        "outputId": "49db7083-347e-4b36-b53d-9520ddfa3294"
      },
      "outputs": [
        {
          "name": "stdout",
          "output_type": "stream",
          "text": [
            "\n",
            "epoch 151/200\n",
            "111552/111527 [==============================] - 140s 1ms/step - loss: 3.0223 - acc: 0.2033\n",
            "\n",
            "epoch 152/200\n",
            "111552/111527 [==============================] - 141s 1ms/step - loss: 3.0183 - acc: 0.2036\n",
            "\n",
            "epoch 153/200\n",
            "111552/111527 [==============================] - 141s 1ms/step - loss: 3.0144 - acc: 0.2039\n",
            "\n",
            "epoch 154/200\n",
            "111552/111527 [==============================] - 141s 1ms/step - loss: 3.0105 - acc: 0.2042\n",
            "\n",
            "epoch 155/200\n",
            "111552/111527 [==============================] - 141s 1ms/step - loss: 3.0066 - acc: 0.2045\n",
            "Saving checkpoint for epoch 155 at ./checkpoints2/train\\ckpt-31\n",
            "\n",
            "epoch 156/200\n",
            "111552/111527 [==============================] - 141s 1ms/step - loss: 3.0027 - acc: 0.2047\n",
            "\n",
            "epoch 157/200\n",
            "111552/111527 [==============================] - 141s 1ms/step - loss: 2.9989 - acc: 0.2050\n",
            "\n",
            "epoch 158/200\n",
            "111552/111527 [==============================] - 142s 1ms/step - loss: 2.9950 - acc: 0.2053\n",
            "\n",
            "epoch 159/200\n",
            "111552/111527 [==============================] - 142s 1ms/step - loss: 2.9912 - acc: 0.2056\n",
            "\n",
            "epoch 160/200\n",
            "111552/111527 [==============================] - 142s 1ms/step - loss: 2.9875 - acc: 0.2058\n",
            "Saving checkpoint for epoch 160 at ./checkpoints2/train\\ckpt-32\n",
            "\n",
            "epoch 161/200\n",
            "111552/111527 [==============================] - 142s 1ms/step - loss: 2.9837 - acc: 0.2061\n",
            "\n",
            "epoch 162/200\n",
            "111552/111527 [==============================] - 141s 1ms/step - loss: 2.9800 - acc: 0.2063\n",
            "\n",
            "epoch 163/200\n",
            "111552/111527 [==============================] - 142s 1ms/step - loss: 2.9763 - acc: 0.2066\n",
            "\n",
            "epoch 164/200\n",
            "111552/111527 [==============================] - 142s 1ms/step - loss: 2.9726 - acc: 0.2069\n",
            "\n",
            "epoch 165/200\n",
            "111552/111527 [==============================] - 142s 1ms/step - loss: 2.9689 - acc: 0.2071\n",
            "Saving checkpoint for epoch 165 at ./checkpoints2/train\\ckpt-33\n",
            "\n",
            "epoch 166/200\n",
            "111552/111527 [==============================] - 142s 1ms/step - loss: 2.9653 - acc: 0.2074\n",
            "\n",
            "epoch 167/200\n",
            "111552/111527 [==============================] - 142s 1ms/step - loss: 2.9617 - acc: 0.2077\n",
            "\n",
            "epoch 168/200\n",
            "111552/111527 [==============================] - 141s 1ms/step - loss: 2.9581 - acc: 0.2079\n",
            "\n",
            "epoch 169/200\n",
            "111552/111527 [==============================] - 142s 1ms/step - loss: 2.9546 - acc: 0.2082\n",
            "\n",
            "epoch 170/200\n",
            "111552/111527 [==============================] - 141s 1ms/step - loss: 2.9510 - acc: 0.2084\n",
            "Saving checkpoint for epoch 170 at ./checkpoints2/train\\ckpt-34\n",
            "\n",
            "epoch 171/200\n",
            "111552/111527 [==============================] - 142s 1ms/step - loss: 2.9475 - acc: 0.2087\n",
            "\n",
            "epoch 172/200\n",
            "111552/111527 [==============================] - 141s 1ms/step - loss: 2.9440 - acc: 0.2089\n",
            "\n",
            "epoch 173/200\n",
            "111552/111527 [==============================] - 141s 1ms/step - loss: 2.9406 - acc: 0.2092\n",
            "\n",
            "epoch 174/200\n",
            "111552/111527 [==============================] - 141s 1ms/step - loss: 2.9371 - acc: 0.2094\n",
            "\n",
            "epoch 175/200\n",
            "111552/111527 [==============================] - 142s 1ms/step - loss: 2.9337 - acc: 0.2097\n",
            "Saving checkpoint for epoch 175 at ./checkpoints2/train\\ckpt-35\n",
            "\n",
            "epoch 176/200\n",
            "111552/111527 [==============================] - 142s 1ms/step - loss: 2.9303 - acc: 0.2099\n",
            "\n",
            "epoch 177/200\n",
            "111552/111527 [==============================] - 142s 1ms/step - loss: 2.9269 - acc: 0.2101\n",
            "\n",
            "epoch 178/200\n",
            "111552/111527 [==============================] - 142s 1ms/step - loss: 2.9235 - acc: 0.2104\n",
            "\n",
            "epoch 179/200\n",
            "111552/111527 [==============================] - 142s 1ms/step - loss: 2.9202 - acc: 0.2106\n",
            "\n",
            "epoch 180/200\n",
            "111552/111527 [==============================] - 142s 1ms/step - loss: 2.9168 - acc: 0.2109\n",
            "Saving checkpoint for epoch 180 at ./checkpoints2/train\\ckpt-36\n",
            "\n",
            "epoch 181/200\n",
            "111552/111527 [==============================] - 142s 1ms/step - loss: 2.9135 - acc: 0.2111\n",
            "\n",
            "epoch 182/200\n",
            "111552/111527 [==============================] - 142s 1ms/step - loss: 2.9102 - acc: 0.2113\n",
            "\n",
            "epoch 183/200\n",
            "111552/111527 [==============================] - 142s 1ms/step - loss: 2.9069 - acc: 0.2116\n",
            "\n",
            "epoch 184/200\n",
            "111552/111527 [==============================] - 142s 1ms/step - loss: 2.9037 - acc: 0.2118\n",
            "\n",
            "epoch 185/200\n",
            "111552/111527 [==============================] - 142s 1ms/step - loss: 2.9004 - acc: 0.2120\n",
            "Saving checkpoint for epoch 185 at ./checkpoints2/train\\ckpt-37\n",
            "\n",
            "epoch 186/200\n",
            "111552/111527 [==============================] - 142s 1ms/step - loss: 2.8972 - acc: 0.2123\n",
            "\n",
            "epoch 187/200\n",
            "111552/111527 [==============================] - 142s 1ms/step - loss: 2.8941 - acc: 0.2125\n",
            "\n",
            "epoch 188/200\n",
            "111552/111527 [==============================] - 142s 1ms/step - loss: 2.8909 - acc: 0.2127\n",
            "\n",
            "epoch 189/200\n",
            "111552/111527 [==============================] - 142s 1ms/step - loss: 2.8877 - acc: 0.2129\n",
            "\n",
            "epoch 190/200\n",
            "111552/111527 [==============================] - 143s 1ms/step - loss: 2.8846 - acc: 0.2132\n",
            "Saving checkpoint for epoch 190 at ./checkpoints2/train\\ckpt-38\n",
            "\n",
            "epoch 191/200\n",
            "111552/111527 [==============================] - 141s 1ms/step - loss: 2.8815 - acc: 0.2134\n",
            "\n",
            "epoch 192/200\n",
            "111552/111527 [==============================] - 142s 1ms/step - loss: 2.8784 - acc: 0.2136\n",
            "\n",
            "epoch 193/200\n",
            "111552/111527 [==============================] - 142s 1ms/step - loss: 2.8753 - acc: 0.2138\n",
            "\n",
            "epoch 194/200\n",
            "111552/111527 [==============================] - 143s 1ms/step - loss: 2.8722 - acc: 0.2141\n",
            "\n",
            "epoch 195/200\n",
            "111552/111527 [==============================] - 142s 1ms/step - loss: 2.8692 - acc: 0.2143\n",
            "Saving checkpoint for epoch 195 at ./checkpoints2/train\\ckpt-39\n",
            "\n",
            "epoch 196/200\n",
            "111552/111527 [==============================] - 141s 1ms/step - loss: 2.8662 - acc: 0.2145\n",
            "\n",
            "epoch 197/200\n",
            "111552/111527 [==============================] - 142s 1ms/step - loss: 2.8632 - acc: 0.2147\n",
            "\n",
            "epoch 198/200\n",
            "111552/111527 [==============================] - 141s 1ms/step - loss: 2.8602 - acc: 0.2149\n",
            "\n",
            "epoch 199/200\n",
            "111552/111527 [==============================] - 141s 1ms/step - loss: 2.8572 - acc: 0.2151\n",
            "\n",
            "epoch 200/200\n",
            "111552/111527 [==============================] - 141s 1ms/step - loss: 2.8543 - acc: 0.2153\n",
            "Saving checkpoint for epoch 200 at ./checkpoints2/train\\ckpt-40\n"
          ]
        }
      ],
      "source": [
        "EPOCHS = 200\n",
        "batch_size = 64\n",
        "metrics_names = ['loss', 'acc']\n",
        "# train_loss.reset_states()\n",
        "# train_accuracy.reset_states()\n",
        "for epoch in range(150, EPOCHS):\n",
        "    print(\"\\nepoch {}/{}\".format(epoch+1,EPOCHS))\n",
        "    pb_i = Progbar(train.shape[0], stateful_metrics=metrics_names)\n",
        "\n",
        "    # inp -> question, tar -> answer\n",
        "    for (batch, (inp, tar)) in enumerate(train_dataset):\n",
        "        train_step(inp, tar)\n",
        "\n",
        "        values=[('loss',train_loss.result()), ('acc',train_accuracy.result())]\n",
        "\n",
        "        pb_i.add(batch_size, values=values)\n",
        "    if (epoch + 1) % 5 == 0:\n",
        "        ckpt_save_path = ckpt_manager.save()\n",
        "        print ('Saving checkpoint for epoch {} at {}'.format(epoch+1,ckpt_save_path))"
      ]
    },
    {
      "cell_type": "code",
      "execution_count": null,
      "id": "fa114565",
      "metadata": {
        "id": "fa114565",
        "outputId": "98853583-c4db-4e81-879c-abe770555176"
      },
      "outputs": [
        {
          "name": "stdout",
          "output_type": "stream",
          "text": [
            "\n",
            "epoch 201/300\n",
            "111552/111527 [==============================] - 140s 1ms/step - loss: 2.8513 - acc: 0.2156\n",
            "\n",
            "epoch 202/300\n",
            "111552/111527 [==============================] - 141s 1ms/step - loss: 2.8484 - acc: 0.2158\n",
            "\n",
            "epoch 203/300\n",
            "111552/111527 [==============================] - 142s 1ms/step - loss: 2.8455 - acc: 0.2160\n",
            "\n",
            "epoch 204/300\n",
            "111552/111527 [==============================] - 142s 1ms/step - loss: 2.8426 - acc: 0.2162\n",
            "\n",
            "epoch 205/300\n",
            "111552/111527 [==============================] - 143s 1ms/step - loss: 2.8398 - acc: 0.2164\n",
            "Saving checkpoint for epoch 205 at ./checkpoints2/train\\ckpt-41\n",
            "\n",
            "epoch 206/300\n",
            "111552/111527 [==============================] - 143s 1ms/step - loss: 2.8369 - acc: 0.2166\n",
            "\n",
            "epoch 207/300\n",
            "111552/111527 [==============================] - 142s 1ms/step - loss: 2.8341 - acc: 0.2168\n",
            "\n",
            "epoch 208/300\n",
            "111552/111527 [==============================] - 142s 1ms/step - loss: 2.8312 - acc: 0.2170\n",
            "\n",
            "epoch 209/300\n",
            "111552/111527 [==============================] - 143s 1ms/step - loss: 2.8284 - acc: 0.2172\n",
            "\n",
            "epoch 210/300\n",
            "111552/111527 [==============================] - 143s 1ms/step - loss: 2.8256 - acc: 0.2174\n",
            "Saving checkpoint for epoch 210 at ./checkpoints2/train\\ckpt-42\n",
            "\n",
            "epoch 211/300\n",
            "111552/111527 [==============================] - 143s 1ms/step - loss: 2.8228 - acc: 0.2176\n",
            "\n",
            "epoch 212/300\n",
            "111552/111527 [==============================] - 143s 1ms/step - loss: 2.8201 - acc: 0.2178\n",
            "\n",
            "epoch 213/300\n",
            "111552/111527 [==============================] - 143s 1ms/step - loss: 2.8173 - acc: 0.2180\n",
            "\n",
            "epoch 214/300\n",
            "111552/111527 [==============================] - 143s 1ms/step - loss: 2.8146 - acc: 0.2182\n",
            "\n",
            "epoch 215/300\n",
            "111552/111527 [==============================] - 142s 1ms/step - loss: 2.8118 - acc: 0.2184\n",
            "Saving checkpoint for epoch 215 at ./checkpoints2/train\\ckpt-43\n",
            "\n",
            "epoch 216/300\n",
            "111552/111527 [==============================] - 142s 1ms/step - loss: 2.8091 - acc: 0.2186\n",
            "\n",
            "epoch 217/300\n",
            "111552/111527 [==============================] - 142s 1ms/step - loss: 2.8064 - acc: 0.2188\n",
            "\n",
            "epoch 218/300\n",
            "111552/111527 [==============================] - 142s 1ms/step - loss: 2.8037 - acc: 0.2190\n",
            "\n",
            "epoch 219/300\n",
            "111552/111527 [==============================] - 142s 1ms/step - loss: 2.8011 - acc: 0.2192\n",
            "\n",
            "epoch 220/300\n",
            "111552/111527 [==============================] - 142s 1ms/step - loss: 2.7984 - acc: 0.2194\n",
            "Saving checkpoint for epoch 220 at ./checkpoints2/train\\ckpt-44\n",
            "\n",
            "epoch 221/300\n",
            "111552/111527 [==============================] - 143s 1ms/step - loss: 2.7958 - acc: 0.2195\n",
            "\n",
            "epoch 222/300\n",
            "111552/111527 [==============================] - 142s 1ms/step - loss: 2.7931 - acc: 0.2197\n",
            "\n",
            "epoch 223/300\n",
            "111552/111527 [==============================] - 143s 1ms/step - loss: 2.7905 - acc: 0.2199\n",
            "\n",
            "epoch 224/300\n",
            "111552/111527 [==============================] - 142s 1ms/step - loss: 2.7879 - acc: 0.2201\n",
            "\n",
            "epoch 225/300\n",
            "111552/111527 [==============================] - 142s 1ms/step - loss: 2.7853 - acc: 0.2203\n",
            "Saving checkpoint for epoch 225 at ./checkpoints2/train\\ckpt-45\n",
            "\n",
            "epoch 226/300\n",
            "111552/111527 [==============================] - 142s 1ms/step - loss: 2.7827 - acc: 0.2205\n",
            "\n",
            "epoch 227/300\n",
            "111552/111527 [==============================] - 142s 1ms/step - loss: 2.7802 - acc: 0.2207\n",
            "\n",
            "epoch 228/300\n",
            "111552/111527 [==============================] - 142s 1ms/step - loss: 2.7776 - acc: 0.2208\n",
            "\n",
            "epoch 229/300\n",
            "111552/111527 [==============================] - 142s 1ms/step - loss: 2.7751 - acc: 0.2210\n",
            "\n",
            "epoch 230/300\n",
            "111552/111527 [==============================] - 142s 1ms/step - loss: 2.7726 - acc: 0.2212\n",
            "Saving checkpoint for epoch 230 at ./checkpoints2/train\\ckpt-46\n",
            "\n",
            "epoch 231/300\n",
            "111552/111527 [==============================] - 142s 1ms/step - loss: 2.7700 - acc: 0.2214\n",
            "\n",
            "epoch 232/300\n",
            "111552/111527 [==============================] - 142s 1ms/step - loss: 2.7675 - acc: 0.2216\n",
            "\n",
            "epoch 233/300\n",
            "111552/111527 [==============================] - 142s 1ms/step - loss: 2.7651 - acc: 0.2217\n",
            "\n",
            "epoch 234/300\n",
            "111552/111527 [==============================] - 142s 1ms/step - loss: 2.7626 - acc: 0.2219\n",
            "\n",
            "epoch 235/300\n",
            "111552/111527 [==============================] - 142s 1ms/step - loss: 2.7601 - acc: 0.2221\n",
            "Saving checkpoint for epoch 235 at ./checkpoints2/train\\ckpt-47\n",
            "\n",
            "epoch 236/300\n",
            "111552/111527 [==============================] - 142s 1ms/step - loss: 2.7577 - acc: 0.2223\n",
            "\n",
            "epoch 237/300\n",
            "111552/111527 [==============================] - 142s 1ms/step - loss: 2.7552 - acc: 0.2225\n",
            "\n",
            "epoch 238/300\n",
            "111552/111527 [==============================] - 142s 1ms/step - loss: 2.7528 - acc: 0.2226\n",
            "\n",
            "epoch 239/300\n",
            "111552/111527 [==============================] - 142s 1ms/step - loss: 2.7504 - acc: 0.2228\n",
            "\n",
            "epoch 240/300\n",
            "111552/111527 [==============================] - 142s 1ms/step - loss: 2.7481 - acc: 0.2230\n",
            "Saving checkpoint for epoch 240 at ./checkpoints2/train\\ckpt-48\n",
            "\n",
            "epoch 241/300\n",
            "111552/111527 [==============================] - 143s 1ms/step - loss: 2.7457 - acc: 0.2231\n",
            "\n",
            "epoch 242/300\n",
            "111552/111527 [==============================] - 143s 1ms/step - loss: 2.7433 - acc: 0.2233\n",
            "\n",
            "epoch 243/300\n",
            "111552/111527 [==============================] - 143s 1ms/step - loss: 2.7410 - acc: 0.2235\n",
            "\n",
            "epoch 244/300\n",
            "111552/111527 [==============================] - 142s 1ms/step - loss: 2.7386 - acc: 0.2237\n",
            "\n",
            "epoch 245/300\n",
            "111552/111527 [==============================] - 143s 1ms/step - loss: 2.7363 - acc: 0.2238\n",
            "Saving checkpoint for epoch 245 at ./checkpoints2/train\\ckpt-49\n",
            "\n",
            "epoch 246/300\n",
            "111552/111527 [==============================] - 143s 1ms/step - loss: 2.7339 - acc: 0.2240\n",
            "\n",
            "epoch 247/300\n",
            "111552/111527 [==============================] - 141s 1ms/step - loss: 2.7316 - acc: 0.2242\n",
            "\n",
            "epoch 248/300\n",
            "111552/111527 [==============================] - 143s 1ms/step - loss: 2.7292 - acc: 0.2243\n",
            "\n",
            "epoch 249/300\n",
            "111552/111527 [==============================] - 142s 1ms/step - loss: 2.7269 - acc: 0.2245\n",
            "\n",
            "epoch 250/300\n",
            "111552/111527 [==============================] - 142s 1ms/step - loss: 2.7245 - acc: 0.2247\n",
            "Saving checkpoint for epoch 250 at ./checkpoints2/train\\ckpt-50\n",
            "\n",
            "epoch 251/300\n",
            "111552/111527 [==============================] - 142s 1ms/step - loss: 2.7222 - acc: 0.2248\n",
            "\n",
            "epoch 252/300\n",
            "111552/111527 [==============================] - 142s 1ms/step - loss: 2.7199 - acc: 0.2250\n",
            "\n",
            "epoch 253/300\n",
            "111552/111527 [==============================] - 143s 1ms/step - loss: 2.7175 - acc: 0.2252\n",
            "\n",
            "epoch 254/300\n",
            "111552/111527 [==============================] - 142s 1ms/step - loss: 2.7152 - acc: 0.2253\n",
            "\n",
            "epoch 255/300\n",
            "111552/111527 [==============================] - 142s 1ms/step - loss: 2.7129 - acc: 0.2255\n",
            "Saving checkpoint for epoch 255 at ./checkpoints2/train\\ckpt-51\n",
            "\n",
            "epoch 256/300\n",
            "111552/111527 [==============================] - 143s 1ms/step - loss: 2.7107 - acc: 0.2256\n",
            "\n",
            "epoch 257/300\n",
            "111552/111527 [==============================] - 142s 1ms/step - loss: 2.7084 - acc: 0.2258\n",
            "\n",
            "epoch 258/300\n",
            "111552/111527 [==============================] - 142s 1ms/step - loss: 2.7062 - acc: 0.2260\n",
            "\n",
            "epoch 259/300\n",
            "111552/111527 [==============================] - 142s 1ms/step - loss: 2.7039 - acc: 0.2261\n",
            "\n",
            "epoch 260/300\n",
            "111552/111527 [==============================] - 143s 1ms/step - loss: 2.7017 - acc: 0.2263\n",
            "Saving checkpoint for epoch 260 at ./checkpoints2/train\\ckpt-52\n",
            "\n",
            "epoch 261/300\n",
            "111552/111527 [==============================] - 142s 1ms/step - loss: 2.6994 - acc: 0.2264\n",
            "\n",
            "epoch 262/300\n",
            "111552/111527 [==============================] - 143s 1ms/step - loss: 2.6972 - acc: 0.2266\n",
            "\n",
            "epoch 263/300\n",
            "111552/111527 [==============================] - 143s 1ms/step - loss: 2.6950 - acc: 0.2267\n",
            "\n",
            "epoch 264/300\n",
            "111552/111527 [==============================] - 142s 1ms/step - loss: 2.6928 - acc: 0.2269\n",
            "\n",
            "epoch 265/300\n",
            "111552/111527 [==============================] - 143s 1ms/step - loss: 2.6906 - acc: 0.2271\n",
            "Saving checkpoint for epoch 265 at ./checkpoints2/train\\ckpt-53\n",
            "\n",
            "epoch 266/300\n",
            "111552/111527 [==============================] - 143s 1ms/step - loss: 2.6884 - acc: 0.2272\n",
            "\n",
            "epoch 267/300\n",
            "111552/111527 [==============================] - 142s 1ms/step - loss: 2.6862 - acc: 0.2274\n",
            "\n",
            "epoch 268/300\n",
            "111552/111527 [==============================] - 143s 1ms/step - loss: 2.6841 - acc: 0.2275\n",
            "\n",
            "epoch 269/300\n",
            "111552/111527 [==============================] - 144s 1ms/step - loss: 2.6819 - acc: 0.2277\n",
            "\n",
            "epoch 270/300\n",
            "111552/111527 [==============================] - 144s 1ms/step - loss: 2.6797 - acc: 0.2278\n",
            "Saving checkpoint for epoch 270 at ./checkpoints2/train\\ckpt-54\n",
            "\n",
            "epoch 271/300\n",
            "111552/111527 [==============================] - 143s 1ms/step - loss: 2.6776 - acc: 0.2280\n",
            "\n",
            "epoch 272/300\n",
            "111552/111527 [==============================] - 142s 1ms/step - loss: 2.6754 - acc: 0.2281\n",
            "\n",
            "epoch 273/300\n",
            "111552/111527 [==============================] - 143s 1ms/step - loss: 2.6733 - acc: 0.2283\n",
            "\n",
            "epoch 274/300\n",
            "111552/111527 [==============================] - 142s 1ms/step - loss: 2.6711 - acc: 0.2284\n",
            "\n",
            "epoch 275/300\n",
            "111552/111527 [==============================] - 143s 1ms/step - loss: 2.6690 - acc: 0.2286\n",
            "Saving checkpoint for epoch 275 at ./checkpoints2/train\\ckpt-55\n",
            "\n",
            "epoch 276/300\n",
            "111552/111527 [==============================] - 143s 1ms/step - loss: 2.6668 - acc: 0.2287\n",
            "\n",
            "epoch 277/300\n",
            "111552/111527 [==============================] - 143s 1ms/step - loss: 2.6647 - acc: 0.2289\n",
            "\n",
            "epoch 278/300\n",
            "111552/111527 [==============================] - 142s 1ms/step - loss: 2.6626 - acc: 0.2290\n",
            "\n",
            "epoch 279/300\n",
            "111552/111527 [==============================] - 143s 1ms/step - loss: 2.6605 - acc: 0.2292\n",
            "\n",
            "epoch 280/300\n",
            "111552/111527 [==============================] - 142s 1ms/step - loss: 2.6584 - acc: 0.2293\n",
            "Saving checkpoint for epoch 280 at ./checkpoints2/train\\ckpt-56\n",
            "\n",
            "epoch 281/300\n",
            "111552/111527 [==============================] - 142s 1ms/step - loss: 2.6563 - acc: 0.2295\n",
            "\n",
            "epoch 282/300\n",
            "111552/111527 [==============================] - 142s 1ms/step - loss: 2.6542 - acc: 0.2296\n",
            "\n",
            "epoch 283/300\n",
            "111552/111527 [==============================] - 142s 1ms/step - loss: 2.6521 - acc: 0.2298\n",
            "\n",
            "epoch 284/300\n",
            "111552/111527 [==============================] - 142s 1ms/step - loss: 2.6500 - acc: 0.2299\n",
            "\n",
            "epoch 285/300\n",
            "111552/111527 [==============================] - 142s 1ms/step - loss: 2.6480 - acc: 0.2301\n",
            "Saving checkpoint for epoch 285 at ./checkpoints2/train\\ckpt-57\n",
            "\n",
            "epoch 286/300\n",
            "111552/111527 [==============================] - 142s 1ms/step - loss: 2.6459 - acc: 0.2302\n",
            "\n",
            "epoch 287/300\n",
            "111552/111527 [==============================] - 143s 1ms/step - loss: 2.6439 - acc: 0.2304\n",
            "\n",
            "epoch 288/300\n",
            "111552/111527 [==============================] - 143s 1ms/step - loss: 2.6418 - acc: 0.2305\n",
            "\n",
            "epoch 289/300\n",
            "111552/111527 [==============================] - 142s 1ms/step - loss: 2.6398 - acc: 0.2306\n",
            "\n",
            "epoch 290/300\n",
            "111552/111527 [==============================] - 142s 1ms/step - loss: 2.6378 - acc: 0.2308\n",
            "Saving checkpoint for epoch 290 at ./checkpoints2/train\\ckpt-58\n",
            "\n",
            "epoch 291/300\n",
            "111552/111527 [==============================] - 142s 1ms/step - loss: 2.6357 - acc: 0.2309\n",
            "\n",
            "epoch 292/300\n",
            "111552/111527 [==============================] - 143s 1ms/step - loss: 2.6337 - acc: 0.2311\n",
            "\n",
            "epoch 293/300\n",
            "111552/111527 [==============================] - 142s 1ms/step - loss: 2.6317 - acc: 0.2312\n",
            "\n",
            "epoch 294/300\n",
            "111552/111527 [==============================] - 143s 1ms/step - loss: 2.6298 - acc: 0.2313\n",
            "\n",
            "epoch 295/300\n",
            "111552/111527 [==============================] - 143s 1ms/step - loss: 2.6278 - acc: 0.2315\n",
            "Saving checkpoint for epoch 295 at ./checkpoints2/train\\ckpt-59\n",
            "\n",
            "epoch 296/300\n",
            "111552/111527 [==============================] - 143s 1ms/step - loss: 2.6258 - acc: 0.2316\n",
            "\n",
            "epoch 297/300\n",
            "111552/111527 [==============================] - 142s 1ms/step - loss: 2.6239 - acc: 0.2318\n",
            "\n",
            "epoch 298/300\n",
            "111552/111527 [==============================] - 142s 1ms/step - loss: 2.6220 - acc: 0.2319\n",
            "\n",
            "epoch 299/300\n",
            "111552/111527 [==============================] - 143s 1ms/step - loss: 2.6201 - acc: 0.2320\n",
            "\n",
            "epoch 300/300\n",
            "111552/111527 [==============================] - 142s 1ms/step - loss: 2.6182 - acc: 0.2322\n",
            "Saving checkpoint for epoch 300 at ./checkpoints2/train\\ckpt-60\n"
          ]
        }
      ],
      "source": [
        "EPOCHS = 300\n",
        "batch_size = 64\n",
        "metrics_names = ['loss', 'acc']\n",
        "# train_loss.reset_states()\n",
        "# train_accuracy.reset_states()\n",
        "for epoch in range(200, EPOCHS):\n",
        "    print(\"\\nepoch {}/{}\".format(epoch+1,EPOCHS))\n",
        "    pb_i = Progbar(train.shape[0], stateful_metrics=metrics_names)\n",
        "\n",
        "    # inp -> question, tar -> answer\n",
        "    for (batch, (inp, tar)) in enumerate(train_dataset):\n",
        "        train_step(inp, tar)\n",
        "\n",
        "        values=[('loss',train_loss.result()), ('acc',train_accuracy.result())]\n",
        "\n",
        "        pb_i.add(batch_size, values=values)\n",
        "    if (epoch + 1) % 5 == 0:\n",
        "        ckpt_save_path = ckpt_manager.save()\n",
        "        print ('Saving checkpoint for epoch {} at {}'.format(epoch+1,ckpt_save_path))"
      ]
    },
    {
      "cell_type": "code",
      "execution_count": null,
      "id": "88154466",
      "metadata": {
        "id": "88154466",
        "outputId": "7d649ee2-5770-40aa-bb75-ab15e3f4e28e"
      },
      "outputs": [
        {
          "name": "stdout",
          "output_type": "stream",
          "text": [
            "\n",
            "epoch 301/350\n",
            "111552/111527 [==============================] - 142s 1ms/step - loss: 2.6134 - acc: 0.2325\n",
            "\n",
            "epoch 302/350\n",
            "111552/111527 [==============================] - 142s 1ms/step - loss: 2.6115 - acc: 0.2326\n",
            "\n",
            "epoch 303/350\n",
            "111552/111527 [==============================] - 142s 1ms/step - loss: 2.6096 - acc: 0.2328\n",
            "\n",
            "epoch 304/350\n",
            "111552/111527 [==============================] - 142s 1ms/step - loss: 2.6078 - acc: 0.2329\n",
            "\n",
            "epoch 305/350\n",
            "111552/111527 [==============================] - 142s 1ms/step - loss: 2.6059 - acc: 0.2330\n",
            "Saving checkpoint for epoch 305 at ./checkpoints2/train\\ckpt-61\n",
            "\n",
            "epoch 306/350\n",
            "111552/111527 [==============================] - 141s 1ms/step - loss: 2.6041 - acc: 0.2331\n",
            "\n",
            "epoch 307/350\n",
            "111552/111527 [==============================] - 141s 1ms/step - loss: 2.6023 - acc: 0.2333\n",
            "\n",
            "epoch 308/350\n",
            "111552/111527 [==============================] - 141s 1ms/step - loss: 2.6005 - acc: 0.2334\n",
            "\n",
            "epoch 309/350\n",
            "111552/111527 [==============================] - 141s 1ms/step - loss: 2.5986 - acc: 0.2335\n",
            "\n",
            "epoch 310/350\n",
            "111552/111527 [==============================] - 141s 1ms/step - loss: 2.5968 - acc: 0.2337\n",
            "Saving checkpoint for epoch 310 at ./checkpoints2/train\\ckpt-62\n",
            "\n",
            "epoch 311/350\n",
            "111552/111527 [==============================] - 141s 1ms/step - loss: 2.5950 - acc: 0.2338\n",
            "\n",
            "epoch 312/350\n",
            "111552/111527 [==============================] - 141s 1ms/step - loss: 2.5932 - acc: 0.2339\n",
            "\n",
            "epoch 313/350\n",
            "111552/111527 [==============================] - 142s 1ms/step - loss: 2.5914 - acc: 0.2340\n",
            "\n",
            "epoch 314/350\n",
            "111552/111527 [==============================] - 142s 1ms/step - loss: 2.5896 - acc: 0.2342\n",
            "\n",
            "epoch 315/350\n",
            "111552/111527 [==============================] - 142s 1ms/step - loss: 2.5878 - acc: 0.2343\n",
            "Saving checkpoint for epoch 315 at ./checkpoints2/train\\ckpt-63\n",
            "\n",
            "epoch 316/350\n",
            "111552/111527 [==============================] - 142s 1ms/step - loss: 2.5861 - acc: 0.2344\n",
            "\n",
            "epoch 317/350\n",
            "111552/111527 [==============================] - 142s 1ms/step - loss: 2.5843 - acc: 0.2345\n",
            "\n",
            "epoch 318/350\n",
            "111552/111527 [==============================] - 143s 1ms/step - loss: 2.5825 - acc: 0.2346\n",
            "\n",
            "epoch 319/350\n",
            "111552/111527 [==============================] - 143s 1ms/step - loss: 2.5808 - acc: 0.2348\n",
            "\n",
            "epoch 320/350\n",
            "111552/111527 [==============================] - 142s 1ms/step - loss: 2.5790 - acc: 0.2349\n",
            "Saving checkpoint for epoch 320 at ./checkpoints2/train\\ckpt-64\n",
            "\n",
            "epoch 321/350\n",
            "111552/111527 [==============================] - 143s 1ms/step - loss: 2.5773 - acc: 0.2350\n",
            "\n",
            "epoch 322/350\n",
            "111552/111527 [==============================] - 142s 1ms/step - loss: 2.5755 - acc: 0.2351\n",
            "\n",
            "epoch 323/350\n",
            "111552/111527 [==============================] - 142s 1ms/step - loss: 2.5738 - acc: 0.2352\n",
            "\n",
            "epoch 324/350\n",
            "111552/111527 [==============================] - 143s 1ms/step - loss: 2.5721 - acc: 0.2354\n",
            "\n",
            "epoch 325/350\n",
            "111552/111527 [==============================] - 142s 1ms/step - loss: 2.5704 - acc: 0.2355\n",
            "Saving checkpoint for epoch 325 at ./checkpoints2/train\\ckpt-65\n",
            "\n",
            "epoch 326/350\n",
            "111552/111527 [==============================] - 143s 1ms/step - loss: 2.5686 - acc: 0.2356\n",
            "\n",
            "epoch 327/350\n",
            "111552/111527 [==============================] - 142s 1ms/step - loss: 2.5670 - acc: 0.2357\n",
            "\n",
            "epoch 328/350\n",
            "111552/111527 [==============================] - 142s 1ms/step - loss: 2.5653 - acc: 0.2358\n",
            "\n",
            "epoch 329/350\n",
            "111552/111527 [==============================] - 143s 1ms/step - loss: 2.5636 - acc: 0.2360\n",
            "\n",
            "epoch 330/350\n",
            "111552/111527 [==============================] - 142s 1ms/step - loss: 2.5619 - acc: 0.2361\n",
            "Saving checkpoint for epoch 330 at ./checkpoints2/train\\ckpt-66\n",
            "\n",
            "epoch 331/350\n",
            "111552/111527 [==============================] - 143s 1ms/step - loss: 2.5602 - acc: 0.2362\n",
            "\n",
            "epoch 332/350\n",
            "111552/111527 [==============================] - 142s 1ms/step - loss: 2.5586 - acc: 0.2363\n",
            "\n",
            "epoch 333/350\n",
            "111552/111527 [==============================] - 143s 1ms/step - loss: 2.5569 - acc: 0.2364\n",
            "\n",
            "epoch 334/350\n",
            "111552/111527 [==============================] - 142s 1ms/step - loss: 2.5553 - acc: 0.2365\n",
            "\n",
            "epoch 335/350\n",
            "111552/111527 [==============================] - 141s 1ms/step - loss: 2.5536 - acc: 0.2367\n",
            "Saving checkpoint for epoch 335 at ./checkpoints2/train\\ckpt-67\n",
            "\n",
            "epoch 336/350\n",
            "111552/111527 [==============================] - 142s 1ms/step - loss: 2.5520 - acc: 0.2368\n",
            "\n",
            "epoch 337/350\n",
            "111552/111527 [==============================] - 142s 1ms/step - loss: 2.5504 - acc: 0.2369\n",
            "\n",
            "epoch 338/350\n",
            "111552/111527 [==============================] - 141s 1ms/step - loss: 2.5488 - acc: 0.2370\n",
            "\n",
            "epoch 339/350\n",
            "111552/111527 [==============================] - 142s 1ms/step - loss: 2.5472 - acc: 0.2371\n",
            "\n",
            "epoch 340/350\n",
            "111552/111527 [==============================] - 142s 1ms/step - loss: 2.5456 - acc: 0.2372\n",
            "Saving checkpoint for epoch 340 at ./checkpoints2/train\\ckpt-68\n",
            "\n",
            "epoch 341/350\n",
            "111552/111527 [==============================] - 142s 1ms/step - loss: 2.5440 - acc: 0.2374\n",
            "\n",
            "epoch 342/350\n",
            "111552/111527 [==============================] - 143s 1ms/step - loss: 2.5424 - acc: 0.2375\n",
            "\n",
            "epoch 343/350\n",
            "111552/111527 [==============================] - 143s 1ms/step - loss: 2.5408 - acc: 0.2376\n",
            "\n",
            "epoch 344/350\n",
            "111552/111527 [==============================] - 143s 1ms/step - loss: 2.5393 - acc: 0.2377\n",
            "\n",
            "epoch 345/350\n",
            "111552/111527 [==============================] - 143s 1ms/step - loss: 2.5377 - acc: 0.2378\n",
            "Saving checkpoint for epoch 345 at ./checkpoints2/train\\ckpt-69\n",
            "\n",
            "epoch 346/350\n",
            "111552/111527 [==============================] - 142s 1ms/step - loss: 2.5362 - acc: 0.2379\n",
            "\n",
            "epoch 347/350\n",
            "111552/111527 [==============================] - 143s 1ms/step - loss: 2.5347 - acc: 0.2380\n",
            "\n",
            "epoch 348/350\n",
            "111552/111527 [==============================] - 143s 1ms/step - loss: 2.5332 - acc: 0.2381\n",
            "\n",
            "epoch 349/350\n",
            "111552/111527 [==============================] - 143s 1ms/step - loss: 2.5316 - acc: 0.2383\n",
            "\n",
            "epoch 350/350\n",
            "111552/111527 [==============================] - 143s 1ms/step - loss: 2.5301 - acc: 0.2384\n",
            "Saving checkpoint for epoch 350 at ./checkpoints2/train\\ckpt-70\n"
          ]
        }
      ],
      "source": [
        "EPOCHS = 350\n",
        "batch_size = 64\n",
        "metrics_names = ['loss', 'acc']\n",
        "# train_loss.reset_states()\n",
        "# train_accuracy.reset_states()\n",
        "for epoch in range(300, EPOCHS):\n",
        "    print(\"\\nepoch {}/{}\".format(epoch+1,EPOCHS))\n",
        "    pb_i = Progbar(train.shape[0], stateful_metrics=metrics_names)\n",
        "\n",
        "    # inp -> question, tar -> answer\n",
        "    for (batch, (inp, tar)) in enumerate(train_dataset):\n",
        "        train_step(inp, tar)\n",
        "\n",
        "        values=[('loss',train_loss.result()), ('acc',train_accuracy.result())]\n",
        "\n",
        "        pb_i.add(batch_size, values=values)\n",
        "    if (epoch + 1) % 5 == 0:\n",
        "        ckpt_save_path = ckpt_manager.save()\n",
        "        print ('Saving checkpoint for epoch {} at {}'.format(epoch+1,ckpt_save_path))"
      ]
    },
    {
      "cell_type": "markdown",
      "id": "58fe7b10",
      "metadata": {
        "id": "58fe7b10"
      },
      "source": [
        "# EPOCH:350, I think its enough, let's check what type of REPLIES that CHATBOT is generating"
      ]
    },
    {
      "cell_type": "code",
      "execution_count": null,
      "id": "578270c4",
      "metadata": {
        "id": "578270c4"
      },
      "outputs": [],
      "source": [
        "# joblib.dump(tokenizer_q, \"tokenizer_q\")\n",
        "# joblib.dump(tokenizer_a, \"tokenizer_a\")\n",
        "# transformer.save_weights('transformer_model/weights')"
      ]
    },
    {
      "cell_type": "code",
      "execution_count": null,
      "id": "5c93b48c",
      "metadata": {
        "id": "5c93b48c"
      },
      "outputs": [],
      "source": [
        "import matplotlib.pyplot as plt\n",
        "import matplotlib.ticker as ticker\n",
        "def plot_attention(attention, sentence, predicted_sentence):\n",
        "    fig = plt.figure(figsize=(10,10))\n",
        "    ax = fig.add_subplot(1, 1, 1)\n",
        "    ax.matshow(attention, cmap='viridis')\n",
        "\n",
        "    fontdict = {'fontsize': 14}\n",
        "    sentence = sentence.split(\" \")\n",
        "    predicted_sentence = predicted_sentence.split(\" \")\n",
        "    ax.xaxis.set_major_locator(ticker.MultipleLocator(1))\n",
        "    ax.yaxis.set_major_locator(ticker.MultipleLocator(1))\n",
        "    ax.set_xticklabels([''] + sentence, fontdict=fontdict, rotation=90)\n",
        "    ax.set_yticklabels([''] + predicted_sentence, fontdict=fontdict)\n",
        "\n",
        "\n",
        "\n",
        "def plot_attention_weights(attention,tokenizer_q, tokenizer_a, sentence, result, layer):\n",
        "\n",
        "    fig = plt.figure(figsize=(16, 8))\n",
        "\n",
        "    sentence = tokenizer_q.encode(sentence)\n",
        "\n",
        "    attention = tf.squeeze(attention[layer], axis=0)\n",
        "    #(1, 8, 5, 4) --> (8, 5, 4)\n",
        "    for head in range(attention.shape[0]):\n",
        "        ax = fig.add_subplot(2, 4, head+1)\n",
        "\n",
        "        # plot the attention weights [:-1, :]\n",
        "        ax.matshow(attention[head][:-1, :], cmap='viridis')\n",
        "        fontdict = {'fontsize': 10}\n",
        "\n",
        "        ax.set_xticks(range(len(sentence)+2))\n",
        "        ax.set_yticks(range(len(result)-1))\n",
        "\n",
        "        ax.set_ylim(len(result)-1.5, -0.5)\n",
        "        ax.xaxis.set_major_locator(ticker.MultipleLocator(1))\n",
        "        ax.yaxis.set_major_locator(ticker.MultipleLocator(1))\n",
        "        x = ['<start>']+[tokenizer_q.decode([i]) for i in sentence]+['<end>']\n",
        "        y = [tokenizer_a.decode([i]) for i in result if i < tokenizer_a.vocab_size]\n",
        "        ax.set_xticklabels([''] + x, fontdict=fontdict, rotation=90)\n",
        "        ax.set_yticklabels([''] + y, fontdict=fontdict)\n",
        "\n",
        "\n",
        "        ax.set_xlabel('Head {}'.format(head+1))\n",
        "\n",
        "    plt.tight_layout()\n",
        "    plt.show()\n",
        "\n",
        "\n",
        "MAX_LENGTH = 27\n",
        "\n",
        "def evaluate(inp_sentence, model,  tokenizer_q, tokenizer_a):\n",
        "    start_token = [tokenizer_q.vocab_size]\n",
        "    end_token = [tokenizer_q.vocab_size + 1]\n",
        "\n",
        "    # All questions has the start and end token\n",
        "    inp_sentence = start_token + tokenizer_q.encode(inp_sentence) + end_token\n",
        "    encoder_input = tf.expand_dims(inp_sentence, 0)\n",
        "\n",
        "    # 'answers' start token : 27358\n",
        "    decoder_input = [tokenizer_a.vocab_size]\n",
        "    decoder_input = tf.expand_dims(decoder_input, 0)\n",
        "\n",
        "    for i in range(MAX_LENGTH):\n",
        "        enc_padding_mask, combined_mask, dec_padding_mask = create_masks(encoder_input, decoder_input)\n",
        "\n",
        "        # predictions.shape == (batch_size, seq_len, vocab_size)\n",
        "        predictions, attention_weights = model(encoder_input,\n",
        "                                                     decoder_input,\n",
        "                                                     False,\n",
        "                                                     enc_padding_mask,\n",
        "                                                     combined_mask,\n",
        "                                                     dec_padding_mask)\n",
        "\n",
        "        # select the last word from the seq_len dimension\n",
        "        predictions = predictions[: ,-1:, :]  # (batch_size, 1, vocab_size)\n",
        "\n",
        "        predicted_id = tf.cast(tf.argmax(predictions, axis=-1), tf.int32)\n",
        "\n",
        "        # return the result if the predicted_id is equal to the end token\n",
        "        if predicted_id == tokenizer_a.vocab_size+1:\n",
        "            print(f\"=============\\nGot end token\\n=============\")\n",
        "            return tf.squeeze(decoder_input, axis=0), attention_weights\n",
        "\n",
        "        # concatentate the predicted_id to the output which is given to the decoder\n",
        "        # as its input.\n",
        "        decoder_input = tf.concat([decoder_input, predicted_id], axis=-1)\n",
        "\n",
        "    return tf.squeeze(decoder_input, axis=0), attention_weights"
      ]
    },
    {
      "cell_type": "code",
      "execution_count": null,
      "id": "4f3aad84",
      "metadata": {
        "id": "4f3aad84"
      },
      "outputs": [],
      "source": [
        "def reply(sentence, transformer,  tokenizer_q, tokenizer_a, plot=''):\n",
        "    result, attention_weights = evaluate(sentence, transformer,  tokenizer_q, tokenizer_a)\n",
        "#     print(\"Attention_Blocks:\", list(attention_weights.keys()))\n",
        "    predicted_sentence = tokenizer_a.decode([i for i in result\n",
        "                                            if i < tokenizer_a.vocab_size])\n",
        "\n",
        "    print('Input: {}'.format(sentence))\n",
        "    print('Predicted translation: {}'.format(predicted_sentence))\n",
        "    if plot:\n",
        "        plot_attention_weights(attention_weights,tokenizer_q, tokenizer_a, sentence, result, plot)\n",
        "    return sentence, predicted_sentence"
      ]
    },
    {
      "cell_type": "code",
      "execution_count": null,
      "id": "1b5f1253",
      "metadata": {
        "id": "1b5f1253",
        "outputId": "a045cbd3-c972-4053-ba50-039247790d33"
      },
      "outputs": [
        {
          "name": "stdout",
          "output_type": "stream",
          "text": [
            "=============\n",
            "Got end token\n",
            "=============\n",
            "Attention_Blocks: ['decoder_layer1_block1', 'decoder_layer1_block2', 'decoder_layer2_block1', 'decoder_layer2_block2']\n",
            "Input: i was told ten thousand in each pack\n",
            "Predicted translation: you did not count it\n"
          ]
        },
        {
          "data": {
            "image/png": "[encoded data removed]",
            "text/plain": [
              "<Figure size 1152x576 with 8 Axes>"
            ]
          },
          "metadata": {
            "needs_background": "light"
          },
          "output_type": "display_data"
        }
      ],
      "source": [
        "inp_sentence = \"i was told ten thousand in each pack\"\n",
        "reply(inp_sentence, transformer,  tokenizer_q, tokenizer_a, \"decoder_layer2_block2\")"
      ]
    },
    {
      "cell_type": "markdown",
      "id": "b3db5f71",
      "metadata": {
        "id": "b3db5f71"
      },
      "source": [
        "## OUTPUTS are not absurd at all, It has LEARNED"
      ]
    },
    {
      "cell_type": "code",
      "execution_count": null,
      "id": "298cfd21",
      "metadata": {
        "id": "298cfd21",
        "outputId": "360ee881-6a05-42b2-d8aa-8aa04cee402f"
      },
      "outputs": [
        {
          "name": "stdout",
          "output_type": "stream",
          "text": [
            "=============\n",
            "Got end token\n",
            "=============\n",
            "Attention_Blocks: ['decoder_layer1_block1', 'decoder_layer1_block2', 'decoder_layer2_block1', 'decoder_layer2_block2']\n",
            "Input: i did not sleep well\n",
            "Predicted translation: great bye\n"
          ]
        }
      ],
      "source": [
        "inp_sentence = \"i did not sleep well\"\n",
        "reply(inp_sentence, transformer,  tokenizer_q, tokenizer_a)"
      ]
    },
    {
      "cell_type": "code",
      "execution_count": null,
      "id": "afd920ba",
      "metadata": {
        "scrolled": true,
        "id": "afd920ba",
        "outputId": "ef9e53c3-f392-4f11-8d30-64067229a6aa"
      },
      "outputs": [
        {
          "data": {
            "text/html": [
              "<div>\n",
              "<style scoped>\n",
              "    .dataframe tbody tr th:only-of-type {\n",
              "        vertical-align: middle;\n",
              "    }\n",
              "\n",
              "    .dataframe tbody tr th {\n",
              "        vertical-align: top;\n",
              "    }\n",
              "\n",
              "    .dataframe thead th {\n",
              "        text-align: right;\n",
              "    }\n",
              "</style>\n",
              "<table border=\"1\" class=\"dataframe\">\n",
              "  <thead>\n",
              "    <tr style=\"text-align: right;\">\n",
              "      <th></th>\n",
              "      <th>question</th>\n",
              "      <th>answer</th>\n",
              "    </tr>\n",
              "  </thead>\n",
              "  <tbody>\n",
              "    <tr>\n",
              "      <th>84608</th>\n",
              "      <td>irwin professional journalism time now go back...</td>\n",
              "      <td>i will frank i will something came up okay</td>\n",
              "    </tr>\n",
              "    <tr>\n",
              "      <th>6889</th>\n",
              "      <td>you mean with you and that woman chained to ya...</td>\n",
              "      <td>you treat folks special when they company it i...</td>\n",
              "    </tr>\n",
              "    <tr>\n",
              "      <th>125210</th>\n",
              "      <td>why has he bothered you before</td>\n",
              "      <td>is it news to you</td>\n",
              "    </tr>\n",
              "    <tr>\n",
              "      <th>24800</th>\n",
              "      <td>i was told ten thousand in each pack</td>\n",
              "      <td>you did not count it</td>\n",
              "    </tr>\n",
              "    <tr>\n",
              "      <th>76507</th>\n",
              "      <td>he just wants me to make him cinnamon cookies ...</td>\n",
              "      <td>i think he wants more than your cookies</td>\n",
              "    </tr>\n",
              "    <tr>\n",
              "      <th>81602</th>\n",
              "      <td>no no  you boys are tired</td>\n",
              "      <td>no we are not  jack</td>\n",
              "    </tr>\n",
              "  </tbody>\n",
              "</table>\n",
              "</div>"
            ],
            "text/plain": [
              "                                                 question  \\\n",
              "84608   irwin professional journalism time now go back...   \n",
              "6889    you mean with you and that woman chained to ya...   \n",
              "125210                     why has he bothered you before   \n",
              "24800                i was told ten thousand in each pack   \n",
              "76507   he just wants me to make him cinnamon cookies ...   \n",
              "81602                           no no  you boys are tired   \n",
              "\n",
              "                                                   answer  \n",
              "84608          i will frank i will something came up okay  \n",
              "6889    you treat folks special when they company it i...  \n",
              "125210                                  is it news to you  \n",
              "24800                                you did not count it  \n",
              "76507             i think he wants more than your cookies  \n",
              "81602                                 no we are not  jack  "
            ]
          },
          "execution_count": 1075,
          "metadata": {},
          "output_type": "execute_result"
        }
      ],
      "source": [
        "train.iloc[400:406]"
      ]
    },
    {
      "cell_type": "code",
      "execution_count": null,
      "id": "14569967",
      "metadata": {
        "id": "14569967",
        "outputId": "b2c9f495-6bb4-4187-bd90-0af88333345f"
      },
      "outputs": [
        {
          "data": {
            "text/html": [
              "<div>\n",
              "<style scoped>\n",
              "    .dataframe tbody tr th:only-of-type {\n",
              "        vertical-align: middle;\n",
              "    }\n",
              "\n",
              "    .dataframe tbody tr th {\n",
              "        vertical-align: top;\n",
              "    }\n",
              "\n",
              "    .dataframe thead th {\n",
              "        text-align: right;\n",
              "    }\n",
              "</style>\n",
              "<table border=\"1\" class=\"dataframe\">\n",
              "  <thead>\n",
              "    <tr style=\"text-align: right;\">\n",
              "      <th></th>\n",
              "      <th>question</th>\n",
              "      <th>answer</th>\n",
              "    </tr>\n",
              "  </thead>\n",
              "  <tbody>\n",
              "    <tr>\n",
              "      <th>23940</th>\n",
              "      <td>south america</td>\n",
              "      <td>we leave miami in an hour soon is we get some ...</td>\n",
              "    </tr>\n",
              "    <tr>\n",
              "      <th>54489</th>\n",
              "      <td>i did not sleep well</td>\n",
              "      <td>do you want to talk about it</td>\n",
              "    </tr>\n",
              "    <tr>\n",
              "      <th>15996</th>\n",
              "      <td>really both of you why not</td>\n",
              "      <td>just because</td>\n",
              "    </tr>\n",
              "    <tr>\n",
              "      <th>38692</th>\n",
              "      <td>what department store did they go to</td>\n",
              "      <td>mcintire is</td>\n",
              "    </tr>\n",
              "    <tr>\n",
              "      <th>21519</th>\n",
              "      <td>i should not say this but you are pretty gabri...</td>\n",
              "      <td>really i always think myself so ugly no not ug...</td>\n",
              "    </tr>\n",
              "    <tr>\n",
              "      <th>116659</th>\n",
              "      <td>i do not know</td>\n",
              "      <td>do not know what</td>\n",
              "    </tr>\n",
              "  </tbody>\n",
              "</table>\n",
              "</div>"
            ],
            "text/plain": [
              "                                                 question  \\\n",
              "23940                                       south america   \n",
              "54489                                i did not sleep well   \n",
              "15996                          really both of you why not   \n",
              "38692                what department store did they go to   \n",
              "21519   i should not say this but you are pretty gabri...   \n",
              "116659                                      i do not know   \n",
              "\n",
              "                                                   answer  \n",
              "23940   we leave miami in an hour soon is we get some ...  \n",
              "54489                        do you want to talk about it  \n",
              "15996                                        just because  \n",
              "38692                                         mcintire is  \n",
              "21519   really i always think myself so ugly no not ug...  \n",
              "116659                                   do not know what  "
            ]
          },
          "execution_count": 1070,
          "metadata": {},
          "output_type": "execute_result"
        }
      ],
      "source": [
        "validation.iloc[400:406]"
      ]
    },
    {
      "cell_type": "code",
      "execution_count": null,
      "id": "a112d4ac",
      "metadata": {
        "scrolled": true,
        "id": "a112d4ac",
        "outputId": "33cd693b-993f-4dcf-b839-be0ac5a53f10"
      },
      "outputs": [
        {
          "name": "stdout",
          "output_type": "stream",
          "text": [
            "=============\n",
            "Got end token\n",
            "=============\n",
            "Input: and the fifty is all gone huh who is the ten for\n",
            "Predicted translation: the chance is impossible\n",
            "Actual: the websters\n",
            "=============\n",
            "Got end token\n",
            "=============\n",
            "Input: rocky do you have any representation a manager\n",
            "Predicted translation: no  just me\n",
            "Actual: no  just me\n",
            "=============\n",
            "Got end token\n",
            "=============\n",
            "Input: jeanne let me introduce the king is half brother the dogged lord dunois\n",
            "Predicted translation: then lord have given my lord is name in rome\n",
            "Actual: then lord dunois show me the way to the other side of the river\n",
            "=============\n",
            "Got end token\n",
            "=============\n",
            "Input: father martineau but i do not see him as a candidate\n",
            "Predicted translation: could there have been anyone else\n",
            "Actual: could there have been anyone else\n",
            "=============\n",
            "Got end token\n",
            "=============\n",
            "Input: i have not read you your rights\n",
            "Predicted translation: would you mind saying that into your bag\n",
            "Actual: would you mind saying that into your bag\n",
            "=============\n",
            "Got end token\n",
            "=============\n",
            "Input: is this a good spot\n",
            "Predicted translation: i am not sure look at it  time is it  time to look at it\n",
            "Actual: i am not burying him here\n",
            "=============\n",
            "Got end token\n",
            "=============\n",
            "Input: my turn what is your favorite song\n",
            "Predicted translation: same time when you were at school\n",
            "Actual: soft and wet by the artist formerly known as prince\n",
            "=============\n",
            "Got end token\n",
            "=============\n",
            "Input: why do not you dump it mail it off give the fucking fbi a present\n",
            "Predicted translation: why do not you dump the fat lady\n",
            "Actual: why do not you dump the fat lady\n",
            "=============\n",
            "Got end token\n",
            "=============\n",
            "Input: time to impact\n",
            "Predicted translation: twelve seconds\n",
            "Actual: twelve seconds\n",
            "=============\n",
            "Got end token\n",
            "=============\n",
            "Input: run for your lives boys  it is that great twogun dogcatcher from kansas\n",
            "Predicted translation: you you seen all the in a to years old man\n",
            "Actual: mcmasters is not it  listen you seen a black stallion with\n"
          ]
        }
      ],
      "source": [
        "import nltk.translate.bleu_score as bleu\n",
        "from tqdm import tqdm\n",
        "test_q = train[\"question\"].values[:10]\n",
        "test_a = train[\"answer\"].values[:10]\n",
        "bss = []\n",
        "for i in range(10):\n",
        "    input_test_sentence = test_q[i]\n",
        "    input_sentence, pred_string = reply(input_test_sentence, transformer,  tokenizer_q, tokenizer_a, plot='')\n",
        "    print(\"Actual:\", test_a[i])\n",
        "    reference = [test_a[i].split()] # the original\n",
        "    translation = pred_string.split() # trasilated using model\n",
        "#     bs = bleu.sentence_bleu(reference, translation)\n",
        "#     bss.append(bs)\n"
      ]
    },
    {
      "cell_type": "code",
      "execution_count": null,
      "id": "c86d5e23",
      "metadata": {
        "id": "c86d5e23",
        "outputId": "709738ed-5183-4b72-f595-77fce423e66f"
      },
      "outputs": [
        {
          "name": "stdout",
          "output_type": "stream",
          "text": [
            "=============\n",
            "Got end token\n",
            "=============\n",
            "Input: you have been talking to her on the phone for weeks\n",
            "Predicted translation: yes i can imagine that she was there that i am\n",
            "Actual: it was only a few times\n",
            "=============\n",
            "Got end token\n",
            "=============\n",
            "Input: into our group\n",
            "Predicted translation: leave me at the house\n",
            "Actual: it is really hard to do some kids try for all ofhigh school and never make it\n",
            "=============\n",
            "Got end token\n",
            "=============\n",
            "Input: we will do that but how are we going to hold him he can change himself into a man he can disappear\n",
            "Predicted translation: where should we be  we still have to move a rock n roll\n",
            "Actual: that is the chance we have to take\n",
            "=============\n",
            "Got end token\n",
            "=============\n",
            "Input: oh nothing wade how ya doin there\n",
            "Predicted translation: holy cow\n",
            "Actual: stan grossman looked at your proposal says it is pretty sweet\n",
            "=============\n",
            "Got end token\n",
            "=============\n",
            "Input: i do not understand \n",
            "Predicted translation: i am so scared i did not take you back\n",
            "Actual: did you say rape her\n",
            "=============\n",
            "Got end token\n",
            "=============\n",
            "Input: you are missing the game for us\n",
            "Predicted translation: you are the one that can not be done\n",
            "Actual: no  i am missing the game for you\n",
            "=============\n",
            "Got end token\n",
            "=============\n",
            "Input: i took sleeping pills\n",
            "Predicted translation: i should have taken that great life to see your father and him has gone to hell out of there\n",
            "Actual: do you know where you are fran\n",
            "=============\n",
            "Got end token\n",
            "=============\n",
            "Input: this is all cause of your mom kyle she is such a bitch  agh i mean  she is such a meanie\n",
            "Predicted translation: i know her there would be more to her again  i never met her i am not sure\n",
            "Actual: and she is getting worse\n",
            "=============\n",
            "Got end token\n",
            "=============\n",
            "Input: the insurance business\n",
            "Predicted translation: jesus christ an old man got that woman in my life\n",
            "Actual: it is a good honest business is not it\n",
            "=============\n",
            "Got end token\n",
            "=============\n",
            "Input: have you evacuated anyone\n",
            "Predicted translation: or what about us\n",
            "Actual: only that floor\n"
          ]
        }
      ],
      "source": [
        "import nltk.translate.bleu_score as bleu\n",
        "from tqdm import tqdm\n",
        "test_q = validation[\"question\"].values[100:110]\n",
        "test_a = validation[\"answer\"].values[100:110]\n",
        "bss = []\n",
        "for i in range(10):\n",
        "    input_test_sentence = test_q[i]\n",
        "    input_sentence, pred_string = reply(input_test_sentence, load_transformer,  tokenizer_q, tokenizer_a, plot='')\n",
        "    print(\"Actual:\", test_a[i])\n",
        "    reference = [test_a[i].split()] # the original\n",
        "    translation = pred_string.split() # trasilated using model"
      ]
    },
    {
      "cell_type": "code",
      "execution_count": null,
      "id": "f5221356",
      "metadata": {
        "id": "f5221356",
        "outputId": "de3bf62b-49d6-4999-9ec4-9f1702dd6908"
      },
      "outputs": [
        {
          "data": {
            "text/plain": [
              "<tensorflow.python.training.tracking.util.CheckpointLoadStatus at 0x27e0fd93940>"
            ]
          },
          "execution_count": 26,
          "metadata": {},
          "output_type": "execute_result"
        }
      ],
      "source": [
        "# num_layers = 2\n",
        "# d_model = 256\n",
        "# dff = 512\n",
        "# num_heads = 8\n",
        "# input_vocab_size = tokenizer_q.vocab_size + 2\n",
        "# target_vocab_size = tokenizer_a.vocab_size + 2\n",
        "# dropout_rate = 0.1\n",
        "\n",
        "# load_transformer = Transformer(num_layers, d_model, num_heads, dff,\n",
        "#                           input_vocab_size, target_vocab_size,\n",
        "#                           pe_input=input_vocab_size,\n",
        "#                           pe_target=target_vocab_size,\n",
        "#                           rate=dropout_rate)\n",
        "# load_transformer.load_weights('transformer_model/weights')"
      ]
    },
    {
      "cell_type": "code",
      "execution_count": null,
      "id": "5d2d6845",
      "metadata": {
        "id": "5d2d6845",
        "outputId": "e55247de-0b12-4bad-afb0-82ae24e11b25"
      },
      "outputs": [
        {
          "name": "stdout",
          "output_type": "stream",
          "text": [
            "=============\n",
            "Got end token\n",
            "=============\n",
            "Input: i was told ten thousand in each pack\n",
            "Predicted translation: you did not count it\n"
          ]
        },
        {
          "data": {
            "image/png": "[encoded data removed]",
            "text/plain": [
              "<Figure size 1152x576 with 8 Axes>"
            ]
          },
          "metadata": {
            "needs_background": "light"
          },
          "output_type": "display_data"
        },
        {
          "data": {
            "text/plain": [
              "('i was told ten thousand in each pack', 'you did not count it')"
            ]
          },
          "execution_count": 29,
          "metadata": {},
          "output_type": "execute_result"
        }
      ],
      "source": [
        "inp_sentence = \"i was told ten thousand in each pack\"\n",
        "reply(inp_sentence, load_transformer,  tokenizer_q, tokenizer_a, \"decoder_layer2_block2\")"
      ]
    },
    {
      "cell_type": "markdown",
      "id": "76541209",
      "metadata": {
        "id": "76541209"
      },
      "source": [
        "* Results are great, better than encoder-decoder with bahadenau attention mechanism\n",
        "* Still we can see the results are not perfect, because the architecture has less parameters plus the dataset is not very big and transformers works close to humans with large data and large trainable parameters"
      ]
    },
    {
      "cell_type": "markdown",
      "id": "144f2d50",
      "metadata": {
        "id": "144f2d50"
      },
      "source": [
        "# On random inputs!\n",
        "### Results are genuine"
      ]
    },
    {
      "cell_type": "code",
      "execution_count": null,
      "id": "c357afa8",
      "metadata": {
        "id": "c357afa8",
        "outputId": "1a6f98b5-84ed-46e6-ac1b-e328733acff3"
      },
      "outputs": [
        {
          "name": "stdout",
          "output_type": "stream",
          "text": [
            "=============\n",
            "Got end token\n",
            "=============\n",
            "Input: hi\n",
            "Predicted translation: hi\n"
          ]
        },
        {
          "data": {
            "text/plain": [
              "('hi', 'hi')"
            ]
          },
          "execution_count": 36,
          "metadata": {},
          "output_type": "execute_result"
        }
      ],
      "source": [
        "inp_sentence = \"hi\"\n",
        "reply(inp_sentence, load_transformer,  tokenizer_q, tokenizer_a)\n"
      ]
    },
    {
      "cell_type": "code",
      "execution_count": null,
      "id": "a8dbf4e6",
      "metadata": {
        "id": "a8dbf4e6",
        "outputId": "254f18a1-9156-465c-f696-6991528bffd4"
      },
      "outputs": [
        {
          "name": "stdout",
          "output_type": "stream",
          "text": [
            "=============\n",
            "Got end token\n",
            "=============\n",
            "Input: Where have you been\n",
            "Predicted translation: i think you came up with this town again\n"
          ]
        },
        {
          "data": {
            "text/plain": [
              "('Where have you been', 'i think you came up with this town again')"
            ]
          },
          "execution_count": 39,
          "metadata": {},
          "output_type": "execute_result"
        }
      ],
      "source": [
        "inp_sentence = \"Where have you been\"\n",
        "reply(inp_sentence, load_transformer,  tokenizer_q, tokenizer_a)\n"
      ]
    },
    {
      "cell_type": "markdown",
      "id": "b357781a",
      "metadata": {
        "id": "b357781a"
      },
      "source": [
        "#### Making sense haha : ) \"who are you\""
      ]
    },
    {
      "cell_type": "code",
      "execution_count": null,
      "id": "b1d86b1c",
      "metadata": {
        "id": "b1d86b1c",
        "outputId": "7d199675-d295-4f9a-a6f2-64d7ff6f2def"
      },
      "outputs": [
        {
          "name": "stdout",
          "output_type": "stream",
          "text": [
            "=============\n",
            "Got end token\n",
            "=============\n",
            "Input: who are you\n",
            "Predicted translation: i am the guy who is he\n"
          ]
        },
        {
          "data": {
            "text/plain": [
              "('who are you', 'i am the guy who is he')"
            ]
          },
          "execution_count": 40,
          "metadata": {},
          "output_type": "execute_result"
        }
      ],
      "source": [
        "inp_sentence = \"who are you\"\n",
        "reply(inp_sentence, load_transformer,  tokenizer_q, tokenizer_a)\n"
      ]
    },
    {
      "cell_type": "markdown",
      "id": "58f0fab3",
      "metadata": {
        "id": "58f0fab3"
      },
      "source": [
        "####  Again making sense \"where do you live\""
      ]
    },
    {
      "cell_type": "code",
      "execution_count": null,
      "id": "635f4b9c",
      "metadata": {
        "id": "635f4b9c",
        "outputId": "c5cf3263-13ab-45fb-bec3-4fdbf5e58c78"
      },
      "outputs": [
        {
          "name": "stdout",
          "output_type": "stream",
          "text": [
            "=============\n",
            "Got end token\n",
            "=============\n",
            "Input: where do you live\n",
            "Predicted translation: in new york\n"
          ]
        },
        {
          "data": {
            "text/plain": [
              "('where do you live', 'in new york')"
            ]
          },
          "execution_count": 43,
          "metadata": {},
          "output_type": "execute_result"
        }
      ],
      "source": [
        "inp_sentence = \"where do you live\"\n",
        "reply(inp_sentence, load_transformer,  tokenizer_q, tokenizer_a)"
      ]
    },
    {
      "cell_type": "code",
      "execution_count": null,
      "id": "88ecdc49",
      "metadata": {
        "id": "88ecdc49",
        "outputId": "16b8ab8a-648e-4257-f19b-ab6dfb9ff137"
      },
      "outputs": [
        {
          "name": "stdout",
          "output_type": "stream",
          "text": [
            "=============\n",
            "Got end token\n",
            "=============\n",
            "Input: what is your name\n",
            "Predicted translation: my name is sir te i am not the one i am talking about you\n"
          ]
        },
        {
          "data": {
            "text/plain": [
              "('what is your name',\n",
              " 'my name is sir te i am not the one i am talking about you')"
            ]
          },
          "execution_count": 46,
          "metadata": {},
          "output_type": "execute_result"
        }
      ],
      "source": [
        "inp_sentence = \"what is your name\"\n",
        "reply(inp_sentence, load_transformer,  tokenizer_q, tokenizer_a)"
      ]
    },
    {
      "cell_type": "code",
      "execution_count": null,
      "id": "b5f480ff",
      "metadata": {
        "scrolled": true,
        "id": "b5f480ff",
        "outputId": "72b23484-ae9f-431b-95b9-32bd1dbcd629"
      },
      "outputs": [
        {
          "name": "stdout",
          "output_type": "stream",
          "text": [
            "=============\n",
            "Got end token\n",
            "=============\n",
            "Input: why are you angry with me is there anything i did wrong\n",
            "Predicted translation: i did not know you had something to do for me\n"
          ]
        },
        {
          "data": {
            "text/plain": [
              "('why are you angry with me is there anything i did wrong',\n",
              " 'i did not know you had something to do for me')"
            ]
          },
          "execution_count": 47,
          "metadata": {},
          "output_type": "execute_result"
        }
      ],
      "source": [
        "inp_sentence = \"why are you angry with me is there anything i did wrong\"\n",
        "reply(inp_sentence, load_transformer,  tokenizer_q, tokenizer_a)"
      ]
    },
    {
      "cell_type": "markdown",
      "id": "e57d9937",
      "metadata": {
        "id": "e57d9937"
      },
      "source": [
        "# Even with this small architecture its working fine, what else it could do If I train it with trainable parameters with more data"
      ]
    }
  ],
  "metadata": {
    "kernelspec": {
      "display_name": "Python 3 (ipykernel)",
      "language": "python",
      "name": "python3"
    },
    "language_info": {
      "codemirror_mode": {
        "name": "ipython",
        "version": 3
      },
      "file_extension": ".py",
      "mimetype": "text/x-python",
      "name": "python",
      "nbconvert_exporter": "python",
      "pygments_lexer": "ipython3",
      "version": "3.9.7"
    },
    "colab": {
      "provenance": []
    }
  },
  "nbformat": 4,
  "nbformat_minor": 5
}