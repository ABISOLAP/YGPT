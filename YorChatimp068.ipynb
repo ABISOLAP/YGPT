{
  "nbformat": 4,
  "nbformat_minor": 0,
  "metadata": {
    "colab": {
      "provenance": [],
      "gpuType": "T4"
    },
    "kernelspec": {
      "name": "python3",
      "display_name": "Python 3"
    },
    "language_info": {
      "name": "python"
    },
    "accelerator": "GPU"
  },
  "cells": [
    {
      "cell_type": "code",
      "execution_count": 1,
      "metadata": {
        "colab": {
          "base_uri": "https://localhost:8080/",
          "height": 206
        },
        "id": "eRu8s0Uv7ILG",
        "outputId": "cba25cba-f6b7-4793-bb0e-58e22598423a"
      },
      "outputs": [
        {
          "output_type": "execute_result",
          "data": {
            "text/plain": [
              "                       Question  \\\n",
              "0            Ẹ ǹlẹ́ o, Ẹlẹ́ran.   \n",
              "1               Ṣé ajé ń wọgbá?   \n",
              "2           Eélòó ni kilo ẹran?   \n",
              "3         Ṣé jálẹ̀jálẹ̀ nì yẹn?   \n",
              "4  Ṣe bí o ti mọ, ẹlẹ́wà Ṣàpọn.   \n",
              "\n",
              "                                              Answer  \n",
              "0                                Ẹ ǹlẹ́ o, Oníbàárà.  \n",
              "1                                        Olúwa ṣeun.  \n",
              "2                ẹgbẹ̀rún meji ati abo naira ni kílò  \n",
              "3  Bẹ́ẹ̀ni, jálẹ̀jálẹ̀ nì yẹn. Kódà, àwọn kan ń t...  \n",
              "4                                        Òótó lẹ sọ.  "
            ],
            "text/html": [
              "\n",
              "  <div id=\"df-5d65f151-1cad-47ea-ab83-77acc4354e5d\" class=\"colab-df-container\">\n",
              "    <div>\n",
              "<style scoped>\n",
              "    .dataframe tbody tr th:only-of-type {\n",
              "        vertical-align: middle;\n",
              "    }\n",
              "\n",
              "    .dataframe tbody tr th {\n",
              "        vertical-align: top;\n",
              "    }\n",
              "\n",
              "    .dataframe thead th {\n",
              "        text-align: right;\n",
              "    }\n",
              "</style>\n",
              "<table border=\"1\" class=\"dataframe\">\n",
              "  <thead>\n",
              "    <tr style=\"text-align: right;\">\n",
              "      <th></th>\n",
              "      <th>Question</th>\n",
              "      <th>Answer</th>\n",
              "    </tr>\n",
              "  </thead>\n",
              "  <tbody>\n",
              "    <tr>\n",
              "      <th>0</th>\n",
              "      <td>Ẹ ǹlẹ́ o, Ẹlẹ́ran.</td>\n",
              "      <td>Ẹ ǹlẹ́ o, Oníbàárà.</td>\n",
              "    </tr>\n",
              "    <tr>\n",
              "      <th>1</th>\n",
              "      <td>Ṣé ajé ń wọgbá?</td>\n",
              "      <td>Olúwa ṣeun.</td>\n",
              "    </tr>\n",
              "    <tr>\n",
              "      <th>2</th>\n",
              "      <td>Eélòó ni kilo ẹran?</td>\n",
              "      <td>ẹgbẹ̀rún meji ati abo naira ni kílò</td>\n",
              "    </tr>\n",
              "    <tr>\n",
              "      <th>3</th>\n",
              "      <td>Ṣé jálẹ̀jálẹ̀ nì yẹn?</td>\n",
              "      <td>Bẹ́ẹ̀ni, jálẹ̀jálẹ̀ nì yẹn. Kódà, àwọn kan ń t...</td>\n",
              "    </tr>\n",
              "    <tr>\n",
              "      <th>4</th>\n",
              "      <td>Ṣe bí o ti mọ, ẹlẹ́wà Ṣàpọn.</td>\n",
              "      <td>Òótó lẹ sọ.</td>\n",
              "    </tr>\n",
              "  </tbody>\n",
              "</table>\n",
              "</div>\n",
              "    <div class=\"colab-df-buttons\">\n",
              "\n",
              "  <div class=\"colab-df-container\">\n",
              "    <button class=\"colab-df-convert\" onclick=\"convertToInteractive('df-5d65f151-1cad-47ea-ab83-77acc4354e5d')\"\n",
              "            title=\"Convert this dataframe to an interactive table.\"\n",
              "            style=\"display:none;\">\n",
              "\n",
              "  <svg xmlns=\"http://www.w3.org/2000/svg\" height=\"24px\" viewBox=\"0 -960 960 960\">\n",
              "    <path d=\"M120-120v-720h720v720H120Zm60-500h600v-160H180v160Zm220 220h160v-160H400v160Zm0 220h160v-160H400v160ZM180-400h160v-160H180v160Zm440 0h160v-160H620v160ZM180-180h160v-160H180v160Zm440 0h160v-160H620v160Z\"/>\n",
              "  </svg>\n",
              "    </button>\n",
              "\n",
              "  <style>\n",
              "    .colab-df-container {\n",
              "      display:flex;\n",
              "      gap: 12px;\n",
              "    }\n",
              "\n",
              "    .colab-df-convert {\n",
              "      background-color: #E8F0FE;\n",
              "      border: none;\n",
              "      border-radius: 50%;\n",
              "      cursor: pointer;\n",
              "      display: none;\n",
              "      fill: #1967D2;\n",
              "      height: 32px;\n",
              "      padding: 0 0 0 0;\n",
              "      width: 32px;\n",
              "    }\n",
              "\n",
              "    .colab-df-convert:hover {\n",
              "      background-color: #E2EBFA;\n",
              "      box-shadow: 0px 1px 2px rgba(60, 64, 67, 0.3), 0px 1px 3px 1px rgba(60, 64, 67, 0.15);\n",
              "      fill: #174EA6;\n",
              "    }\n",
              "\n",
              "    .colab-df-buttons div {\n",
              "      margin-bottom: 4px;\n",
              "    }\n",
              "\n",
              "    [theme=dark] .colab-df-convert {\n",
              "      background-color: #3B4455;\n",
              "      fill: #D2E3FC;\n",
              "    }\n",
              "\n",
              "    [theme=dark] .colab-df-convert:hover {\n",
              "      background-color: #434B5C;\n",
              "      box-shadow: 0px 1px 3px 1px rgba(0, 0, 0, 0.15);\n",
              "      filter: drop-shadow(0px 1px 2px rgba(0, 0, 0, 0.3));\n",
              "      fill: #FFFFFF;\n",
              "    }\n",
              "  </style>\n",
              "\n",
              "    <script>\n",
              "      const buttonEl =\n",
              "        document.querySelector('#df-5d65f151-1cad-47ea-ab83-77acc4354e5d button.colab-df-convert');\n",
              "      buttonEl.style.display =\n",
              "        google.colab.kernel.accessAllowed ? 'block' : 'none';\n",
              "\n",
              "      async function convertToInteractive(key) {\n",
              "        const element = document.querySelector('#df-5d65f151-1cad-47ea-ab83-77acc4354e5d');\n",
              "        const dataTable =\n",
              "          await google.colab.kernel.invokeFunction('convertToInteractive',\n",
              "                                                    [key], {});\n",
              "        if (!dataTable) return;\n",
              "\n",
              "        const docLinkHtml = 'Like what you see? Visit the ' +\n",
              "          '<a target=\"_blank\" href=https://colab.research.google.com/notebooks/data_table.ipynb>data table notebook</a>'\n",
              "          + ' to learn more about interactive tables.';\n",
              "        element.innerHTML = '';\n",
              "        dataTable['output_type'] = 'display_data';\n",
              "        await google.colab.output.renderOutput(dataTable, element);\n",
              "        const docLink = document.createElement('div');\n",
              "        docLink.innerHTML = docLinkHtml;\n",
              "        element.appendChild(docLink);\n",
              "      }\n",
              "    </script>\n",
              "  </div>\n",
              "\n",
              "\n",
              "<div id=\"df-562f56dd-ae9b-4f4c-be68-de458b79c1a5\">\n",
              "  <button class=\"colab-df-quickchart\" onclick=\"quickchart('df-562f56dd-ae9b-4f4c-be68-de458b79c1a5')\"\n",
              "            title=\"Suggest charts\"\n",
              "            style=\"display:none;\">\n",
              "\n",
              "<svg xmlns=\"http://www.w3.org/2000/svg\" height=\"24px\"viewBox=\"0 0 24 24\"\n",
              "     width=\"24px\">\n",
              "    <g>\n",
              "        <path d=\"M19 3H5c-1.1 0-2 .9-2 2v14c0 1.1.9 2 2 2h14c1.1 0 2-.9 2-2V5c0-1.1-.9-2-2-2zM9 17H7v-7h2v7zm4 0h-2V7h2v10zm4 0h-2v-4h2v4z\"/>\n",
              "    </g>\n",
              "</svg>\n",
              "  </button>\n",
              "\n",
              "<style>\n",
              "  .colab-df-quickchart {\n",
              "      --bg-color: #E8F0FE;\n",
              "      --fill-color: #1967D2;\n",
              "      --hover-bg-color: #E2EBFA;\n",
              "      --hover-fill-color: #174EA6;\n",
              "      --disabled-fill-color: #AAA;\n",
              "      --disabled-bg-color: #DDD;\n",
              "  }\n",
              "\n",
              "  [theme=dark] .colab-df-quickchart {\n",
              "      --bg-color: #3B4455;\n",
              "      --fill-color: #D2E3FC;\n",
              "      --hover-bg-color: #434B5C;\n",
              "      --hover-fill-color: #FFFFFF;\n",
              "      --disabled-bg-color: #3B4455;\n",
              "      --disabled-fill-color: #666;\n",
              "  }\n",
              "\n",
              "  .colab-df-quickchart {\n",
              "    background-color: var(--bg-color);\n",
              "    border: none;\n",
              "    border-radius: 50%;\n",
              "    cursor: pointer;\n",
              "    display: none;\n",
              "    fill: var(--fill-color);\n",
              "    height: 32px;\n",
              "    padding: 0;\n",
              "    width: 32px;\n",
              "  }\n",
              "\n",
              "  .colab-df-quickchart:hover {\n",
              "    background-color: var(--hover-bg-color);\n",
              "    box-shadow: 0 1px 2px rgba(60, 64, 67, 0.3), 0 1px 3px 1px rgba(60, 64, 67, 0.15);\n",
              "    fill: var(--button-hover-fill-color);\n",
              "  }\n",
              "\n",
              "  .colab-df-quickchart-complete:disabled,\n",
              "  .colab-df-quickchart-complete:disabled:hover {\n",
              "    background-color: var(--disabled-bg-color);\n",
              "    fill: var(--disabled-fill-color);\n",
              "    box-shadow: none;\n",
              "  }\n",
              "\n",
              "  .colab-df-spinner {\n",
              "    border: 2px solid var(--fill-color);\n",
              "    border-color: transparent;\n",
              "    border-bottom-color: var(--fill-color);\n",
              "    animation:\n",
              "      spin 1s steps(1) infinite;\n",
              "  }\n",
              "\n",
              "  @keyframes spin {\n",
              "    0% {\n",
              "      border-color: transparent;\n",
              "      border-bottom-color: var(--fill-color);\n",
              "      border-left-color: var(--fill-color);\n",
              "    }\n",
              "    20% {\n",
              "      border-color: transparent;\n",
              "      border-left-color: var(--fill-color);\n",
              "      border-top-color: var(--fill-color);\n",
              "    }\n",
              "    30% {\n",
              "      border-color: transparent;\n",
              "      border-left-color: var(--fill-color);\n",
              "      border-top-color: var(--fill-color);\n",
              "      border-right-color: var(--fill-color);\n",
              "    }\n",
              "    40% {\n",
              "      border-color: transparent;\n",
              "      border-right-color: var(--fill-color);\n",
              "      border-top-color: var(--fill-color);\n",
              "    }\n",
              "    60% {\n",
              "      border-color: transparent;\n",
              "      border-right-color: var(--fill-color);\n",
              "    }\n",
              "    80% {\n",
              "      border-color: transparent;\n",
              "      border-right-color: var(--fill-color);\n",
              "      border-bottom-color: var(--fill-color);\n",
              "    }\n",
              "    90% {\n",
              "      border-color: transparent;\n",
              "      border-bottom-color: var(--fill-color);\n",
              "    }\n",
              "  }\n",
              "</style>\n",
              "\n",
              "  <script>\n",
              "    async function quickchart(key) {\n",
              "      const quickchartButtonEl =\n",
              "        document.querySelector('#' + key + ' button');\n",
              "      quickchartButtonEl.disabled = true;  // To prevent multiple clicks.\n",
              "      quickchartButtonEl.classList.add('colab-df-spinner');\n",
              "      try {\n",
              "        const charts = await google.colab.kernel.invokeFunction(\n",
              "            'suggestCharts', [key], {});\n",
              "      } catch (error) {\n",
              "        console.error('Error during call to suggestCharts:', error);\n",
              "      }\n",
              "      quickchartButtonEl.classList.remove('colab-df-spinner');\n",
              "      quickchartButtonEl.classList.add('colab-df-quickchart-complete');\n",
              "    }\n",
              "    (() => {\n",
              "      let quickchartButtonEl =\n",
              "        document.querySelector('#df-562f56dd-ae9b-4f4c-be68-de458b79c1a5 button');\n",
              "      quickchartButtonEl.style.display =\n",
              "        google.colab.kernel.accessAllowed ? 'block' : 'none';\n",
              "    })();\n",
              "  </script>\n",
              "</div>\n",
              "\n",
              "    </div>\n",
              "  </div>\n"
            ],
            "application/vnd.google.colaboratory.intrinsic+json": {
              "type": "dataframe",
              "variable_name": "df",
              "summary": "{\n  \"name\": \"df\",\n  \"rows\": 3223,\n  \"fields\": [\n    {\n      \"column\": \"Question\",\n      \"properties\": {\n        \"dtype\": \"category\",\n        \"num_unique_values\": 1556,\n        \"samples\": [\n          \"\\u1e62\\u00e9 o le \\u1e63\\u00e0l\\u00e0y\\u00e9 \\u00ecm\\u00fal\\u00f2 y\\u00ec\\u00ed f\\u00fan mi?\",\n          \"\\u00c1-h\\u00e0\\u00e1! \\u1eccg\\u1ecd\\u0301r\\u00f9n-\\u00fan n\\u00e1\\u00edr\\u00e0 k\\u1eb9\\u0300?\",\n          \"\\u00d3 d\\u00e1a n\\u00e1\\u00e0. \\u1eb8 \\u1e63\\u00e9 o\"\n        ],\n        \"semantic_type\": \"\",\n        \"description\": \"\"\n      }\n    },\n    {\n      \"column\": \"Answer\",\n      \"properties\": {\n        \"dtype\": \"category\",\n        \"num_unique_values\": 1285,\n        \"samples\": [\n          \"A ni k\\u1ecd\\u0301\\u1ecd\\u0300s\\u00ec n\\u00edpa \\u00ecm\\u1ecd\\u0300 \\u1eb9\\u0300r\\u1ecd k\\u1ecd\\u0300mp\\u00fat\\u00e0, \\u00ecm\\u00fal\\u00f2 \\u00e0w\\u1ecdn \\u1eb9r\\u1ecd, \\u00e0ti \\u1eb9\\u0300k\\u1ecd\\u0301 i\\u1e63\\u1eb9\\u0301 \\u1ecdn\\u00e0 \\u00e0t\\u1ecdk\\u00e0nw\\u00e1.\",\n          \"B\\u1eb9\\u1eb9ni, a ni ebi \\u1ecdk\\u1ecd to dara.\",\n          \" O j\\u1eb9 \\u1eb9gb\\u1eb9run m\\u1eb9fa naira.\"\n        ],\n        \"semantic_type\": \"\",\n        \"description\": \"\"\n      }\n    }\n  ]\n}"
            }
          },
          "metadata": {},
          "execution_count": 1
        }
      ],
      "source": [
        "import pandas as pd\n",
        "\n",
        "# Load the Excel file\n",
        "file_path = 'https://docs.google.com/spreadsheets/d/1R7kmn9LtcGZFUCplZVN804NXsGWyUBHF/export?format=xlsx'\n",
        "sheet_name = 'combinedata1'\n",
        "\n",
        "# Read the specific sheet into a DataFrame\n",
        "df = pd.read_excel(file_path, sheet_name=sheet_name)\n",
        "\n",
        "# Display the DataFrame\n",
        "df.head()\n"
      ]
    },
    {
      "cell_type": "code",
      "source": [
        "df.info()"
      ],
      "metadata": {
        "colab": {
          "base_uri": "https://localhost:8080/"
        },
        "id": "OznBfrZAAzPv",
        "outputId": "194fa070-e4b3-4a34-c9ce-22db68ee9ac3"
      },
      "execution_count": 2,
      "outputs": [
        {
          "output_type": "stream",
          "name": "stdout",
          "text": [
            "<class 'pandas.core.frame.DataFrame'>\n",
            "RangeIndex: 3223 entries, 0 to 3222\n",
            "Data columns (total 2 columns):\n",
            " #   Column    Non-Null Count  Dtype \n",
            "---  ------    --------------  ----- \n",
            " 0   Question  3223 non-null   object\n",
            " 1   Answer    3223 non-null   object\n",
            "dtypes: object(2)\n",
            "memory usage: 50.5+ KB\n"
          ]
        }
      ]
    },
    {
      "cell_type": "code",
      "source": [
        "df=df.dropna()"
      ],
      "metadata": {
        "id": "QfiAR-caBAs5"
      },
      "execution_count": 3,
      "outputs": []
    },
    {
      "cell_type": "code",
      "source": [
        "df.info()"
      ],
      "metadata": {
        "colab": {
          "base_uri": "https://localhost:8080/"
        },
        "id": "Wzhtfe2SBEvZ",
        "outputId": "cbd5b31d-de25-4803-cc7c-b830ba31cb09"
      },
      "execution_count": 4,
      "outputs": [
        {
          "output_type": "stream",
          "name": "stdout",
          "text": [
            "<class 'pandas.core.frame.DataFrame'>\n",
            "RangeIndex: 3223 entries, 0 to 3222\n",
            "Data columns (total 2 columns):\n",
            " #   Column    Non-Null Count  Dtype \n",
            "---  ------    --------------  ----- \n",
            " 0   Question  3223 non-null   object\n",
            " 1   Answer    3223 non-null   object\n",
            "dtypes: object(2)\n",
            "memory usage: 50.5+ KB\n"
          ]
        }
      ]
    },
    {
      "cell_type": "code",
      "source": [
        "# Load the data and separate into train, validation and test data\n",
        "import os\n",
        "import math\n",
        "import torch\n",
        "import torch.nn as nn\n",
        "from torch.utils.data import Dataset, DataLoader, random_split\n",
        "from pathlib import Path\n",
        "\n",
        "from tqdm import tqdm"
      ],
      "metadata": {
        "id": "BJzYmiox7Vln"
      },
      "execution_count": 5,
      "outputs": []
    },
    {
      "cell_type": "code",
      "source": [
        "device = torch.device(\"cuda\" if torch.cuda.is_available() else \"cpu\")"
      ],
      "metadata": {
        "id": "ZW_-oqaN7WL0"
      },
      "execution_count": 6,
      "outputs": []
    },
    {
      "cell_type": "code",
      "source": [
        "# Let's now split up the data into train and validation sets\n",
        "data=df.copy()\n",
        "n = int(0.9*len(data)) # first 90% will be train, rest val\n",
        "raw_train_dataset = data[:n]\n",
        "raw_validation_dataset = data[n:]"
      ],
      "metadata": {
        "id": "BFAqxlOn75-m"
      },
      "execution_count": 7,
      "outputs": []
    },
    {
      "cell_type": "code",
      "source": [
        "#Create tokenizers\n",
        "\n",
        "from tokenizers import Tokenizer\n",
        "from tokenizers.models import BPE\n",
        "from tokenizers.trainers import BpeTrainer\n",
        "from tokenizers.pre_tokenizers import Whitespace"
      ],
      "metadata": {
        "id": "MI9j9Amz8vkM"
      },
      "execution_count": 8,
      "outputs": []
    },
    {
      "cell_type": "code",
      "source": [
        "os.mkdir(\"./tokenizer_que\")\n",
        "os.mkdir(\"./tokenizer_ans\")"
      ],
      "metadata": {
        "id": "h_AUyNyD8x02"
      },
      "execution_count": 9,
      "outputs": []
    },
    {
      "cell_type": "code",
      "source": [
        "def get_ds_iterator(raw_train_dataset, lang):\n",
        "    for _, row in raw_train_dataset.iterrows():\n",
        "        yield row[lang]\n",
        "\n"
      ],
      "metadata": {
        "id": "KDT-iAVt_xgx"
      },
      "execution_count": 10,
      "outputs": []
    },
    {
      "cell_type": "code",
      "source": [
        "# Create Source Tokenizer - Question\n",
        "tokenizer_en = Tokenizer(BPE(unk_token=\"[UNK]\"))\n",
        "trainer_en = BpeTrainer(min_frequency=2, special_tokens=[\"[PAD]\",\"[UNK]\",\"[CLS]\", \"[SEP]\", \"[MASK]\"])\n",
        "# We’ll also need to add a pre-tokenizer to split our input into words as without a pre-tokenizer, we might get tokens that overlap several words: for instance we could get a \"there is\" token since those two words often appear next to each other.\n",
        "# Using a pre-tokenizer will ensure no token is bigger than a word returned by the pre-tokenizer.\n",
        "tokenizer_en.pre_tokenizer = Whitespace()\n",
        "tokenizer_en.train_from_iterator(get_ds_iterator(raw_train_dataset, \"Question\"), trainer=trainer_en)\n",
        "tokenizer_en.save(\"./tokenizer_que/tokenizer_question.json\")\n",
        "\n"
      ],
      "metadata": {
        "id": "LSLR8XMp9lat"
      },
      "execution_count": 11,
      "outputs": []
    },
    {
      "cell_type": "code",
      "source": [
        "# Create Target Tokenizer - answer\n",
        "tokenizer_my = Tokenizer(BPE(unk_token=\"[UNK]\"))\n",
        "trainer_my = BpeTrainer(min_frequency=2, special_tokens=[\"[PAD]\",\"[UNK]\",\"[CLS]\", \"[SEP]\", \"[MASK]\"])\n",
        "tokenizer_my.pre_tokenizer = Whitespace()\n",
        "tokenizer_my.train_from_iterator(get_ds_iterator(raw_train_dataset, \"Answer\"), trainer=trainer_my)\n",
        "tokenizer_my.save(\"./tokenizer_ans/tokenizer_answer.json\")\n"
      ],
      "metadata": {
        "id": "F3prYw38-_IA"
      },
      "execution_count": 12,
      "outputs": []
    },
    {
      "cell_type": "code",
      "source": [
        "raw_train_dataset[0:1]"
      ],
      "metadata": {
        "colab": {
          "base_uri": "https://localhost:8080/",
          "height": 81
        },
        "id": "hineO27e_TZb",
        "outputId": "2514c2dd-4a15-49ef-b863-938bd4d4a3c4"
      },
      "execution_count": 13,
      "outputs": [
        {
          "output_type": "execute_result",
          "data": {
            "text/plain": [
              "             Question               Answer\n",
              "0  Ẹ ǹlẹ́ o, Ẹlẹ́ran.  Ẹ ǹlẹ́ o, Oníbàárà."
            ],
            "text/html": [
              "\n",
              "  <div id=\"df-2c0b840e-8ae6-446a-99ef-1e8e33fe9a61\" class=\"colab-df-container\">\n",
              "    <div>\n",
              "<style scoped>\n",
              "    .dataframe tbody tr th:only-of-type {\n",
              "        vertical-align: middle;\n",
              "    }\n",
              "\n",
              "    .dataframe tbody tr th {\n",
              "        vertical-align: top;\n",
              "    }\n",
              "\n",
              "    .dataframe thead th {\n",
              "        text-align: right;\n",
              "    }\n",
              "</style>\n",
              "<table border=\"1\" class=\"dataframe\">\n",
              "  <thead>\n",
              "    <tr style=\"text-align: right;\">\n",
              "      <th></th>\n",
              "      <th>Question</th>\n",
              "      <th>Answer</th>\n",
              "    </tr>\n",
              "  </thead>\n",
              "  <tbody>\n",
              "    <tr>\n",
              "      <th>0</th>\n",
              "      <td>Ẹ ǹlẹ́ o, Ẹlẹ́ran.</td>\n",
              "      <td>Ẹ ǹlẹ́ o, Oníbàárà.</td>\n",
              "    </tr>\n",
              "  </tbody>\n",
              "</table>\n",
              "</div>\n",
              "    <div class=\"colab-df-buttons\">\n",
              "\n",
              "  <div class=\"colab-df-container\">\n",
              "    <button class=\"colab-df-convert\" onclick=\"convertToInteractive('df-2c0b840e-8ae6-446a-99ef-1e8e33fe9a61')\"\n",
              "            title=\"Convert this dataframe to an interactive table.\"\n",
              "            style=\"display:none;\">\n",
              "\n",
              "  <svg xmlns=\"http://www.w3.org/2000/svg\" height=\"24px\" viewBox=\"0 -960 960 960\">\n",
              "    <path d=\"M120-120v-720h720v720H120Zm60-500h600v-160H180v160Zm220 220h160v-160H400v160Zm0 220h160v-160H400v160ZM180-400h160v-160H180v160Zm440 0h160v-160H620v160ZM180-180h160v-160H180v160Zm440 0h160v-160H620v160Z\"/>\n",
              "  </svg>\n",
              "    </button>\n",
              "\n",
              "  <style>\n",
              "    .colab-df-container {\n",
              "      display:flex;\n",
              "      gap: 12px;\n",
              "    }\n",
              "\n",
              "    .colab-df-convert {\n",
              "      background-color: #E8F0FE;\n",
              "      border: none;\n",
              "      border-radius: 50%;\n",
              "      cursor: pointer;\n",
              "      display: none;\n",
              "      fill: #1967D2;\n",
              "      height: 32px;\n",
              "      padding: 0 0 0 0;\n",
              "      width: 32px;\n",
              "    }\n",
              "\n",
              "    .colab-df-convert:hover {\n",
              "      background-color: #E2EBFA;\n",
              "      box-shadow: 0px 1px 2px rgba(60, 64, 67, 0.3), 0px 1px 3px 1px rgba(60, 64, 67, 0.15);\n",
              "      fill: #174EA6;\n",
              "    }\n",
              "\n",
              "    .colab-df-buttons div {\n",
              "      margin-bottom: 4px;\n",
              "    }\n",
              "\n",
              "    [theme=dark] .colab-df-convert {\n",
              "      background-color: #3B4455;\n",
              "      fill: #D2E3FC;\n",
              "    }\n",
              "\n",
              "    [theme=dark] .colab-df-convert:hover {\n",
              "      background-color: #434B5C;\n",
              "      box-shadow: 0px 1px 3px 1px rgba(0, 0, 0, 0.15);\n",
              "      filter: drop-shadow(0px 1px 2px rgba(0, 0, 0, 0.3));\n",
              "      fill: #FFFFFF;\n",
              "    }\n",
              "  </style>\n",
              "\n",
              "    <script>\n",
              "      const buttonEl =\n",
              "        document.querySelector('#df-2c0b840e-8ae6-446a-99ef-1e8e33fe9a61 button.colab-df-convert');\n",
              "      buttonEl.style.display =\n",
              "        google.colab.kernel.accessAllowed ? 'block' : 'none';\n",
              "\n",
              "      async function convertToInteractive(key) {\n",
              "        const element = document.querySelector('#df-2c0b840e-8ae6-446a-99ef-1e8e33fe9a61');\n",
              "        const dataTable =\n",
              "          await google.colab.kernel.invokeFunction('convertToInteractive',\n",
              "                                                    [key], {});\n",
              "        if (!dataTable) return;\n",
              "\n",
              "        const docLinkHtml = 'Like what you see? Visit the ' +\n",
              "          '<a target=\"_blank\" href=https://colab.research.google.com/notebooks/data_table.ipynb>data table notebook</a>'\n",
              "          + ' to learn more about interactive tables.';\n",
              "        element.innerHTML = '';\n",
              "        dataTable['output_type'] = 'display_data';\n",
              "        await google.colab.output.renderOutput(dataTable, element);\n",
              "        const docLink = document.createElement('div');\n",
              "        docLink.innerHTML = docLinkHtml;\n",
              "        element.appendChild(docLink);\n",
              "      }\n",
              "    </script>\n",
              "  </div>\n",
              "\n",
              "\n",
              "    </div>\n",
              "  </div>\n"
            ],
            "application/vnd.google.colaboratory.intrinsic+json": {
              "type": "dataframe",
              "summary": "{\n  \"name\": \"raw_train_dataset[0:1]\",\n  \"rows\": 1,\n  \"fields\": [\n    {\n      \"column\": \"Question\",\n      \"properties\": {\n        \"dtype\": \"string\",\n        \"num_unique_values\": 1,\n        \"samples\": [\n          \"\\u1eb8 \\u01f9l\\u1eb9\\u0301 o, \\u1eb8l\\u1eb9\\u0301ran.\"\n        ],\n        \"semantic_type\": \"\",\n        \"description\": \"\"\n      }\n    },\n    {\n      \"column\": \"Answer\",\n      \"properties\": {\n        \"dtype\": \"string\",\n        \"num_unique_values\": 1,\n        \"samples\": [\n          \"\\u1eb8 \\u01f9l\\u1eb9\\u0301 o, On\\u00edb\\u00e0\\u00e1r\\u00e0.\"\n        ],\n        \"semantic_type\": \"\",\n        \"description\": \"\"\n      }\n    }\n  ]\n}"
            }
          },
          "metadata": {},
          "execution_count": 13
        }
      ]
    },
    {
      "cell_type": "code",
      "source": [
        "tokenizer_que = Tokenizer.from_file(\"./tokenizer_que/tokenizer_question.json\")\n",
        "tokenizer_ans = Tokenizer.from_file(\"./tokenizer_ans/tokenizer_answer.json\")\n",
        "\n",
        "source_vocab_size = tokenizer_que.get_vocab_size()\n",
        "target_vocab_size = tokenizer_ans.get_vocab_size()\n",
        "\n",
        "# to calculate the max sequence lenth in the entire training dataset for the source and target dataset\n",
        "max_seq_len_source = 0\n",
        "max_seq_len_target = 0\n",
        "\n",
        "for  _, data in raw_train_dataset.iterrows():\n",
        "    enc_ids = tokenizer_en.encode(data['Question']).ids\n",
        "    dec_ids = tokenizer_my.encode(data['Answer']).ids\n",
        "    max_seq_len_source = max(max_seq_len_source, len(enc_ids))\n",
        "    max_seq_len_target = max(max_seq_len_target, len(dec_ids))\n",
        "\n",
        "print(f'max_seqlen_source: {max_seq_len_source}')   #99 - can be different in your case\n",
        "print(f'max_seqlen_target: {max_seq_len_target}')   #109 - can be different in your case\n",
        "\n",
        "# to make it standard for our training we'll just take max_seq_len_source and add 20-50 to cover the additional tokens such as PAD, CLS, SEP\n",
        "max_seq_len = 225"
      ],
      "metadata": {
        "colab": {
          "base_uri": "https://localhost:8080/"
        },
        "id": "2Bk6PUxe_RMz",
        "outputId": "4c483020-111b-467d-8a9f-4d0395c68c42"
      },
      "execution_count": 14,
      "outputs": [
        {
          "output_type": "stream",
          "name": "stdout",
          "text": [
            "max_seqlen_source: 81\n",
            "max_seqlen_target: 170\n"
          ]
        }
      ]
    },
    {
      "cell_type": "code",
      "source": [],
      "metadata": {
        "id": "sx-cYv35WbM8"
      },
      "execution_count": 14,
      "outputs": []
    },
    {
      "cell_type": "code",
      "source": [
        "\n"
      ],
      "metadata": {
        "id": "Ahxo3i4wXHe1"
      },
      "execution_count": null,
      "outputs": []
    },
    {
      "cell_type": "markdown",
      "source": [],
      "metadata": {
        "id": "reqfC1YNB_Wi"
      }
    },
    {
      "cell_type": "code",
      "source": [
        "\n",
        "\n",
        "# Transform raw dataset to the encoded dataset that can be processed by the model\n",
        "class EncodeDataset(Dataset):\n",
        "    def __init__(self, raw_dataset, max_seq_len):\n",
        "        super().__init__()\n",
        "        self.raw_dataset = raw_dataset\n",
        "        self.max_seq_len = max_seq_len\n",
        "\n",
        "    def __len__(self):\n",
        "        return len(self.raw_dataset)\n",
        "\n",
        "    def __getitem__(self, index):\n",
        "\n",
        "        # fetching the single data for the given index value that consist of both question and response.\n",
        "        raw_text = self.raw_dataset.iloc[index]\n",
        "\n",
        "        # separating text by question and answer which will be later used for encoding.\n",
        "        source_text = raw_text[\"Question\"]\n",
        "        target_text = raw_text['Answer']\n",
        "\n",
        "        # Encoding both question and answer text\n",
        "        source_text_encoded = tokenizer_en.encode(source_text).ids\n",
        "        target_text_encoded = tokenizer_my.encode(target_text).ids\n",
        "\n",
        "        # Convert the CLS, SEP and PAD tokens to their corresponding index id in vocabulary using tokenizer [the id would be same with either tokenizers]\n",
        "        CLS_ID = torch.tensor([tokenizer_my.token_to_id(\"[CLS]\")], dtype=torch.int64)\n",
        "        SEP_ID = torch.tensor([tokenizer_my.token_to_id(\"[SEP]\")], dtype=torch.int64)\n",
        "        PAD_ID = torch.tensor([tokenizer_my.token_to_id(\"[PAD]\")], dtype=torch.int64)\n",
        "\n",
        "        # To train the model, the sequence lenth of each input should be equal max seq length. Hence additional number of padding will be added to the input sequence if the length is not equal to the max seq length.\n",
        "        num_source_padding = self.max_seq_len - len(source_text_encoded) - 2\n",
        "        num_target_padding = self.max_seq_len - len(target_text_encoded) - 1\n",
        "\n",
        "        encoder_padding = torch.tensor([PAD_ID] * num_source_padding, dtype = torch.int64)\n",
        "        decoder_padding = torch.tensor([PAD_ID] * num_target_padding, dtype = torch.int64)\n",
        "\n",
        "        # encoder_input has the first token as start of senstence - CLS_ID, followed by source encoding which is then followed by the end of sentence token - SEP.\n",
        "        # To reach the required max_seq_len, addition PAD token will be added at the end.\n",
        "        encoder_input = torch.cat([CLS_ID, torch.tensor(source_text_encoded, dtype=torch.int64), SEP_ID, encoder_padding], dim=0)\n",
        "\n",
        "        # decoder_input has the first token as start of senstence - CLS_ID, followed by target encoding.\n",
        "        # To reach the required max_seq_len, addition PAD token will be added at the end. There is no end of sentence token - SEP in decoder input.\n",
        "        decoder_input = torch.cat([CLS_ID, torch.tensor(target_text_encoded, dtype=torch.int64), decoder_padding ], dim=0)\n",
        "\n",
        "        # target_label is required for the loss calculation during training to compare between the predicted and target label.\n",
        "        # target_label has the first token as target encoding followed by actual target encoding. There is no start of sentence token - CLS in target label.\n",
        "        # To reach the required max_seq_len, addition PAD token will be added at the end.\n",
        "        target_label = torch.cat([torch.tensor(target_text_encoded, dtype=torch.int64),SEP_ID,decoder_padding], dim=0)\n",
        "\n",
        "        # Since we've added extra padding token with input encoding, we don't want this token to be trained by model.\n",
        "        # So, we'll use encoder mask to nullify the padding value prior to producing output of self attention in encoder block\n",
        "        encoder_mask = (encoder_input != PAD_ID).unsqueeze(0).unsqueeze(0).int()\n",
        "\n",
        "        # We don't want any token to get influence the future token during the decoding stage. Hence, Causal mask is being implemented during masked multihead attention to handle this.\n",
        "        decoder_mask = (decoder_input != PAD_ID).unsqueeze(0).unsqueeze(0).int() & causal_mask(decoder_input.size(0))\n",
        "\n",
        "        return {\n",
        "            'encoder_input': encoder_input,\n",
        "            'decoder_input': decoder_input,\n",
        "            'target_label': target_label,\n",
        "            'encoder_mask': encoder_mask,\n",
        "            'decoder_mask': decoder_mask,\n",
        "            'source_text': source_text,\n",
        "            'target_text': target_text\n",
        "        }\n",
        "\n",
        "# Causal mask will make sure any token that comes after the current token will be masked meaning the value will be replaced by -infinity that will be converted to zero or neearly zero after softmax operation. Hence the model will just ignore these value or willn't be able to learn anything.\n",
        "def causal_mask(size):\n",
        "        # Creating a square matrix of dimensions 'size x size' filled with ones\n",
        "        mask = torch.triu(torch.ones(1, size, size), diagonal = 1).type(torch.int)\n",
        "        return mask == 0\n",
        "\n",
        "# create a dataloader to use for model training and validation\n",
        "train_ds = EncodeDataset(raw_train_dataset, max_seq_len)\n",
        "val_ds = EncodeDataset(raw_validation_dataset, max_seq_len)\n",
        "\n",
        "train_dataloader = DataLoader(train_ds, batch_size = 5, shuffle = True)\n",
        "val_dataloader = DataLoader(val_ds, batch_size = 1, shuffle = True)"
      ],
      "metadata": {
        "id": "aj2sxENzXHtJ"
      },
      "execution_count": 15,
      "outputs": []
    },
    {
      "cell_type": "code",
      "source": [
        "import torch\n",
        "import torch.nn as nn\n",
        "import math\n",
        "\n",
        "#  Input embedding and positional encoding\n",
        "class EmbeddingLayer(nn.Module):\n",
        "    def __init__(self, d_model: int, vocab_size: int):\n",
        "        super().__init__()\n",
        "        self.d_model = d_model\n",
        "        # using pytorch models embedding layer to map token id to embedding vector which has the shape of (vocab_size, d_model)\n",
        "        # The vocab_size is the vocabulary size of the training data created by tokenizer in step 2\n",
        "        self.embedding = nn.Embedding(vocab_size, d_model)\n",
        "\n",
        "    def forward(self, input):\n",
        "        # In addition of giving input to the embedding, the extra multiplication by square root of d_model is to normalize the embedding layer output\n",
        "        embedding_output = self.embedding(input) * math.sqrt(self.d_model)\n",
        "        return embedding_output\n",
        "\n",
        "class PositionalEncoding(nn.Module):\n",
        "    def __init__(self, d_model: int, max_seq_len: int, dropout_rate: float):\n",
        "        super().__init__()\n",
        "        self.dropout = nn.Dropout(dropout_rate)\n",
        "        pe = torch.zeros(max_seq_len, d_model)\n",
        "\n",
        "        pos = torch.arange(0, max_seq_len, dtype=torch.float).unsqueeze(1)\n",
        "        div_term = torch.exp(torch.arange(0, d_model, 2).float() * (-math.log(10000.0) / d_model))\n",
        "\n",
        "        pe[:, 0::2] = torch.sin(pos * div_term)\n",
        "        pe[:, 1::2] = torch.cos(pos * div_term)\n",
        "\n",
        "        # since we're expecting the input sentences in batches so the extra dimension to cater batch number needs to be added in 0 postion\n",
        "        pe = pe.unsqueeze(0)\n",
        "        self.register_buffer('pe', pe)\n",
        "\n",
        "    def forward(self, input_embdding):\n",
        "        input_embdding = input_embdding + (self.pe[:, :input_embdding.shape[1], :]).requires_grad_(False)   # to prevent from calculating gradient\n",
        "        return self.dropout(input_embdding)\n",
        "\n",
        "#  Multihead Attention\n",
        "class MultiHeadAttention(nn.Module):\n",
        "    def __init__(self, d_model: int, num_heads: int, dropout_rate: float):\n",
        "        super().__init__()\n",
        "        # Defining dropout to prevent overfitting\n",
        "        self.dropout = nn.Dropout(dropout_rate)\n",
        "        self.num_heads = num_heads\n",
        "        assert d_model % num_heads == 0, \"d_model must be divisible by number of heads\"\n",
        "\n",
        "        # d_k is the new dimension of each self attention heads\n",
        "        self.d_k = d_model // num_heads\n",
        "\n",
        "        # Weight matrix are defined which are all learnable parameters\n",
        "        self.W_q = nn.Linear(d_model, d_model, bias=False)\n",
        "        self.W_k = nn.Linear(d_model, d_model, bias=False)\n",
        "        self.W_v = nn.Linear(d_model, d_model, bias=False)\n",
        "        self.W_o = nn.Linear(d_model, d_model, bias=False)\n",
        "\n",
        "    def forward(self, q, k, v, encoder_mask):\n",
        "\n",
        "        # Please note that we'll be training our model with not just a single sequence but rather batches of sequence, hence we'll include batch_size in the shape\n",
        "        # query, Key and value are calculated by matrix multiplication of corresponding weights with the input embeddings\n",
        "        # Change of shape: q(batch_size, seq_len, d_model) @ W_q(d_model, d_model) => query(batch_size, seq_len, d_model) [same goes to key and value]\n",
        "        query = self.W_q(q)\n",
        "        key = self.W_k(k)\n",
        "        value = self.W_v(v)\n",
        "\n",
        "        # Dividing query, key and value into number of heads, hence new dimenstion will be d_k.\n",
        "        # Change of shape: query(batch_size, seq_len, d_model) => query(batch_size, seq_len, num_heads, d_k) -> query(batch_size,num_heads, seq_len,d_k) [same goes to key and value]\n",
        "        query = query.view(query.shape[0], query.shape[1], self.num_heads ,self.d_k).transpose(1,2)\n",
        "        key = key.view(key.shape[0], key.shape[1], self.num_heads ,self.d_k).transpose(1,2)\n",
        "        value = value.view(value.shape[0], value.shape[1], self.num_heads ,self.d_k).transpose(1,2)\n",
        "\n",
        "        # :: SELF ATTENTION BLOCK STARTS ::\n",
        "\n",
        "        # Attention score is calculated to find the similarity or relation of query with key of itself and all other embedding in the sequence\n",
        "        #  Change of shape: query(batch_size,num_heads, seq_len,d_k) @ key(batch_size,num_heads, seq_len,d_k) => attention_score(batch_size,num_heads, seq_len,seq_len)\n",
        "        attention_score = (query @ key.transpose(-2,-1))/math.sqrt(self.d_k)\n",
        "\n",
        "        # If mask is provided the attention score needs to modify as per the mask value. Refer to the details in point no 4.\n",
        "        if encoder_mask is not None:\n",
        "          attention_score.masked_fill_(encoder_mask==0, -1e9)\n",
        "\n",
        "        # Softmax operation calculates the probability distribution among all the attention scores. This will determine which embedding is more similar to the given query embedding and assign the attention weight accordingly.\n",
        "        # Change of shape: same as attention_score\n",
        "        attention_score = attention_score.softmax(dim=-1)\n",
        "\n",
        "        if self.dropout is not None:\n",
        "          attention_score = self.dropout(attention_score)\n",
        "\n",
        "        # Final step of Self attention block is to matrix multiplication of attention_weight with value embedding.\n",
        "        # Change of shape: attention_score(batch_size,num_heads, seq_len,seq_len) @  value(batch_size,num_heads, seq_len,d_k) => attention_output(batch_size,num_heads, seq_len,d_k)\n",
        "        attention_output = attention_score @ value\n",
        "\n",
        "        # :: SELF ATTENTION BLOCK ENDS ::\n",
        "\n",
        "        # Now, all the heads will be concated back to for a single head\n",
        "        # Change of shape:attention_output(batch_size,num_heads, seq_len,d_k) => attention_output(batch_size,seq_len,num_heads,d_k) => attention_output(batch_size,seq_len,d_model)\n",
        "        attention_output = attention_output.transpose(1,2).contiguous().view(attention_output.shape[0], -1, self.num_heads * self.d_k)\n",
        "\n",
        "        # Finally attention_output is matrix multiplied with output weight matrix to give the final Multi-Head attention output.\n",
        "        # The shape of the multihead_output is same as the embedding input\n",
        "        # Change of shape: attention_output(batch_size,seq_len,d_model) @ W_o(d_model, d_model) => multihead_output(batch_size, seq_len, d_model)\n",
        "        multihead_output = self.W_o(attention_output)\n",
        "\n",
        "        return multihead_output\n",
        "\n",
        "#  Feedfoward Network, Layer Normalization and AddAndNorm\n",
        "\n",
        "class FeedForward(nn.Module):\n",
        "    def __init__(self, d_model: int, d_ff: int, dropout_rate: float):\n",
        "        super().__init__()\n",
        "\n",
        "        self.dropout = nn.Dropout(dropout_rate)\n",
        "        self.layer_1 = nn.Linear(d_model, d_ff)\n",
        "        self.layer_2 = nn.Linear(d_ff, d_model)\n",
        "\n",
        "    def forward(self, input):\n",
        "        return self.layer_2(self.dropout(torch.relu(self.layer_1(input))))\n",
        "\n",
        "class LayerNorm(nn.Module):\n",
        "    # def __init__(self, features:int=512, eps: float = 1e-5):\n",
        "    def __init__(self, eps: float = 1e-5):\n",
        "        super().__init__()\n",
        "        # epsilon is a very small value and is plays an important role to avoid division by zero problem\n",
        "        self.eps = eps\n",
        "        #Extra learning parameters gamma and beta are introduced to scale and shift the embedding value as the network needed.\n",
        "        self.gamma = nn.Parameter(torch.ones(512))  # 512 = advisable to initialize with same number as d_model\n",
        "        self.beta = nn.Parameter(torch.zeros(512))\n",
        "\n",
        "    def forward(self, input):\n",
        "        mean = input.mean(dim = -1, keepdim=True)\n",
        "        std = input.std(dim = -1, keepdim=True)\n",
        "        return self.gamma * (input - mean)/(std + self.eps) + self.beta\n",
        "\n",
        "class AddAndNorm(nn.Module):\n",
        "  def __init__(self, dropout_rate: float):\n",
        "        super().__init__()\n",
        "        self.dropout = nn.Dropout(dropout_rate)\n",
        "        self.layer_norm = LayerNorm()\n",
        "\n",
        "  def forward(self, input, sub_layer):\n",
        "        return input + self.dropout(sub_layer(self.layer_norm(input)))\n",
        "\n",
        "# Encoder block and Encoder\n",
        "\n",
        "class EncoderBlock(nn.Module):\n",
        "    # def __init__(self, features: int, self_attention_block: MultiHeadAttention, feed_forward_block: FeedForward, dropout_rate: float) -> None:\n",
        "    def __init__(self, multihead_attention: MultiHeadAttention, feed_forward: FeedForward, dropout_rate: float) -> None:\n",
        "        super().__init__()\n",
        "        self.multihead_attention = multihead_attention\n",
        "        self.feed_forward = feed_forward\n",
        "        self.addnorm_1 = AddAndNorm(dropout_rate)\n",
        "        self.addnorm_2 = AddAndNorm(dropout_rate)\n",
        "\n",
        "    def forward(self, encoder_input, encoder_mask):\n",
        "        # First AddAndNorm unit taking encoder input from skip connection and adding it with the output of MultiHead attention block\n",
        "        encoder_input = self.addnorm_1(encoder_input, lambda encoder_input: self.multihead_attention(encoder_input, encoder_input, encoder_input, encoder_mask))\n",
        "        # Second AddAndNorm unit taking output of MultiHead attention block from skip connection and adding it with the output of Feedforward layer\n",
        "        encoder_input = self.addnorm_2(encoder_input, self.feed_forward)\n",
        "        return encoder_input\n",
        "\n",
        "class Encoder(nn.Module):\n",
        "    def __init__(self, encoderblocklist: nn.ModuleList) -> None:\n",
        "        super().__init__()\n",
        "        # Encoder class initialized by taking encoderblock list\n",
        "        self.encoderblocklist = encoderblocklist\n",
        "        self.layer_norm = LayerNorm()\n",
        "\n",
        "    def forward(self, encoder_input, encoder_mask):\n",
        "        # Looping through all the encoder block - 6 times\n",
        "        for encoderblock in self.encoderblocklist:\n",
        "            encoder_input = encoderblock(encoder_input, encoder_mask)\n",
        "        # Normalize the final encoder block output and return. This encoder output will be used later on as key and value for the cross attention in decoder block\n",
        "        encoder_output = self.layer_norm(encoder_input)\n",
        "        return encoder_output\n",
        "\n",
        "# Decoder block and decoder and the projection\n",
        "\n",
        "class DecoderBlock(nn.Module):\n",
        "    # def __init__(self, features: int, self_attention_block: MultiHeadAttention, cross_attention_block: MultiHeadAttention, feed_forward_block: FeedForward, dropout_rate: float) -> None:\n",
        "    def __init__(self, masked_multihead_attention: MultiHeadAttention, cross_multihead_attention: MultiHeadAttention, feed_forward: FeedForward, dropout_rate: float) -> None:\n",
        "        super().__init__()\n",
        "        self.masked_multihead_attention = masked_multihead_attention\n",
        "        self.cross_multihead_attention = cross_multihead_attention\n",
        "        self.feed_forward = feed_forward\n",
        "        self.addnorm_1 = AddAndNorm(dropout_rate)\n",
        "        self.addnorm_2 = AddAndNorm(dropout_rate)\n",
        "        self.addnorm_3 = AddAndNorm(dropout_rate)\n",
        "\n",
        "    def forward(self, decoder_input, encoder_output, encoder_mask, decoder_mask):\n",
        "        # First AddAndNorm unit taking decoder input from skip connection and adding it with the output of Masked Multi-Head attention block\n",
        "        decoder_input = self.addnorm_1(decoder_input, lambda decoder_input: self.masked_multihead_attention(decoder_input, decoder_input, decoder_input, decoder_mask))\n",
        "        # Second AddAndNorm unit taking output of Masked Multi-Head attention block from skip connection and adding it with the output of MultiHead attention block\n",
        "        decoder_input = self.addnorm_2(decoder_input, lambda decoder_input: self.cross_multihead_attention(decoder_input, encoder_output, encoder_output, encoder_mask))\n",
        "        # Third AddAndNorm unit taking output of MultiHead attention block from skip connection and adding it with the output of Feedforward layer\n",
        "        decoder_input = self.addnorm_3(decoder_input, self.feed_forward)\n",
        "        return decoder_input\n",
        "\n",
        "class Decoder(nn.Module):\n",
        "    # def __init__(self, features: int, layers: nn.ModuleList) -> None:\n",
        "    def __init__(self, decoderblocklist: nn.ModuleList) -> None:\n",
        "        super().__init__()\n",
        "        self.decoderblocklist = decoderblocklist\n",
        "        self.layer_norm = LayerNorm()\n",
        "\n",
        "    def forward(self, decoder_input, encoder_output, encoder_mask, decoder_mask):\n",
        "        for decoderblock in self.decoderblocklist:\n",
        "            decoder_input = decoderblock(decoder_input, encoder_output, encoder_mask, decoder_mask)\n",
        "        decoder_output = self.layer_norm(decoder_input)\n",
        "        return decoder_output\n",
        "\n",
        "class ProjectionLayer(nn.Module):\n",
        "    def __init__(self, d_model, vocab_size) -> None:\n",
        "        super().__init__()\n",
        "        self.projection_layer = nn.Linear(d_model, vocab_size)\n",
        "\n",
        "    def forward(self, decoder_output) -> None:\n",
        "        # Projection layer first take in decoder output and feed into the linear layer of shape (d_model, vocab_size)\n",
        "        #Change in shape: decoder_output(batch_size, seq_len, d_model) @ linear_layer(d_model, vocab_size) => output(batch_size, seq_len, vocab_size)\n",
        "        output = self.projection_layer(decoder_output)\n",
        "        return output\n",
        "\n",
        "# Create and build Transfomer\n",
        "\n",
        "class Transformer(nn.Module):\n",
        "    def __init__(self, encoder: Encoder, decoder: Decoder, source_embed: EmbeddingLayer, target_embed: EmbeddingLayer, source_pos: PositionalEncoding, target_pos: PositionalEncoding, projection_layer: ProjectionLayer) -> None:\n",
        "        super().__init__()\n",
        "\n",
        "        self.source_embed = source_embed\n",
        "        self.source_pos = source_pos\n",
        "        self.encoder = encoder\n",
        "\n",
        "        self.target_embed = target_embed\n",
        "        self.target_pos = target_pos\n",
        "        self.decoder = decoder\n",
        "\n",
        "        self.projection_layer = projection_layer\n",
        "\n",
        "    def encode(self, encoder_input, encoder_mask):\n",
        "        encoder_input = self.source_embed(encoder_input)\n",
        "        encoder_input = self.source_pos(encoder_input)\n",
        "        encoder_output = self.encoder(encoder_input, encoder_mask)\n",
        "        return encoder_output\n",
        "\n",
        "    def decode(self, encoder_output, encoder_mask, decoder_input, decoder_mask):\n",
        "        decoder_input = self.target_embed(decoder_input)\n",
        "        decoder_input = self.target_pos(decoder_input)\n",
        "        decoder_output = self.decoder(decoder_input, encoder_output, encoder_mask, decoder_mask)\n",
        "        return decoder_output\n",
        "\n",
        "    def project(self, decoder_output):\n",
        "        return self.projection_layer(decoder_output)\n",
        "\n",
        "def build_model(source_vocab_size: int, target_vocab_size: int, source_seq_len: int, target_seq_len: int, d_model: int=512, num_blocks: int=6, num_heads: int=8, dropout_rate: float=0.1, d_ff: int=2048) -> Transformer:\n",
        "    # Create the embedding layers\n",
        "    source_embed = EmbeddingLayer(d_model, source_vocab_size)\n",
        "    target_embed = EmbeddingLayer(d_model, target_vocab_size)\n",
        "\n",
        "    # Create the positional encoding layers\n",
        "    source_pos = PositionalEncoding(d_model, source_seq_len, dropout_rate)\n",
        "    target_pos = PositionalEncoding(d_model, target_seq_len, dropout_rate)\n",
        "\n",
        "    # Create the encoder-block-list\n",
        "    encoderblocklist = []\n",
        "    for _ in range(num_blocks):\n",
        "        multihead_attention = MultiHeadAttention(d_model, num_heads, dropout_rate)\n",
        "        feed_forward = FeedForward(d_model, d_ff, dropout_rate)\n",
        "        encoder_block = EncoderBlock(multihead_attention, feed_forward, dropout_rate)\n",
        "        encoderblocklist.append(encoder_block)\n",
        "    # Create the encoder\n",
        "    encoder = Encoder(nn.ModuleList(encoderblocklist))\n",
        "\n",
        "    # Create the decoder-block-list\n",
        "    decoderblocklist = []\n",
        "    for _ in range(num_blocks):\n",
        "        masked_multihead_attention = MultiHeadAttention(d_model,num_heads, dropout_rate)\n",
        "        cross_multihead_attention = MultiHeadAttention(d_model, num_heads, dropout_rate)\n",
        "        feed_forward = FeedForward(d_model, d_ff, dropout_rate)\n",
        "        decoder_block = DecoderBlock(masked_multihead_attention, cross_multihead_attention, feed_forward, dropout_rate)\n",
        "        decoderblocklist.append(decoder_block)\n",
        "    # Create the decoder\n",
        "    decoder = Decoder(nn.ModuleList(decoderblocklist))\n",
        "\n",
        "    # Create the projection layer\n",
        "    projection_layer = ProjectionLayer(d_model, target_vocab_size)\n",
        "\n",
        "    # Now that we've initialized all the required blocks of transformer, we can now inititiate a model\n",
        "    model = Transformer(encoder, decoder, source_embed, target_embed, source_pos, target_pos, projection_layer)\n",
        "\n",
        "    # For the first time, we'll initialize the model parameters using xavier uniform method. Once training begings the parameters will be updated by the network\n",
        "    for p in model.parameters():\n",
        "        if p.dim() > 1:\n",
        "            nn.init.xavier_uniform_(p)\n",
        "\n",
        "    return model"
      ],
      "metadata": {
        "id": "BmsWyoWlXIAN"
      },
      "execution_count": 16,
      "outputs": []
    },
    {
      "cell_type": "code",
      "source": [
        "\n",
        "# Let's build the model.\n",
        "model = build_model(tokenizer_en.get_vocab_size(), tokenizer_my.get_vocab_size(),max_seq_len, max_seq_len, d_model=512).to(device)\n",
        "\n",
        "# Let's look at the architecture that we've just build ourself\n",
        "print(model)"
      ],
      "metadata": {
        "colab": {
          "base_uri": "https://localhost:8080/"
        },
        "id": "I511ToBzXIMP",
        "outputId": "6f5c8ea8-5547-4bf3-dda5-9a0db855f244"
      },
      "execution_count": 17,
      "outputs": [
        {
          "output_type": "stream",
          "name": "stdout",
          "text": [
            "Transformer(\n",
            "  (source_embed): EmbeddingLayer(\n",
            "    (embedding): Embedding(1885, 512)\n",
            "  )\n",
            "  (source_pos): PositionalEncoding(\n",
            "    (dropout): Dropout(p=0.1, inplace=False)\n",
            "  )\n",
            "  (encoder): Encoder(\n",
            "    (encoderblocklist): ModuleList(\n",
            "      (0-5): 6 x EncoderBlock(\n",
            "        (multihead_attention): MultiHeadAttention(\n",
            "          (dropout): Dropout(p=0.1, inplace=False)\n",
            "          (W_q): Linear(in_features=512, out_features=512, bias=False)\n",
            "          (W_k): Linear(in_features=512, out_features=512, bias=False)\n",
            "          (W_v): Linear(in_features=512, out_features=512, bias=False)\n",
            "          (W_o): Linear(in_features=512, out_features=512, bias=False)\n",
            "        )\n",
            "        (feed_forward): FeedForward(\n",
            "          (dropout): Dropout(p=0.1, inplace=False)\n",
            "          (layer_1): Linear(in_features=512, out_features=2048, bias=True)\n",
            "          (layer_2): Linear(in_features=2048, out_features=512, bias=True)\n",
            "        )\n",
            "        (addnorm_1): AddAndNorm(\n",
            "          (dropout): Dropout(p=0.1, inplace=False)\n",
            "          (layer_norm): LayerNorm()\n",
            "        )\n",
            "        (addnorm_2): AddAndNorm(\n",
            "          (dropout): Dropout(p=0.1, inplace=False)\n",
            "          (layer_norm): LayerNorm()\n",
            "        )\n",
            "      )\n",
            "    )\n",
            "    (layer_norm): LayerNorm()\n",
            "  )\n",
            "  (target_embed): EmbeddingLayer(\n",
            "    (embedding): Embedding(1960, 512)\n",
            "  )\n",
            "  (target_pos): PositionalEncoding(\n",
            "    (dropout): Dropout(p=0.1, inplace=False)\n",
            "  )\n",
            "  (decoder): Decoder(\n",
            "    (decoderblocklist): ModuleList(\n",
            "      (0-5): 6 x DecoderBlock(\n",
            "        (masked_multihead_attention): MultiHeadAttention(\n",
            "          (dropout): Dropout(p=0.1, inplace=False)\n",
            "          (W_q): Linear(in_features=512, out_features=512, bias=False)\n",
            "          (W_k): Linear(in_features=512, out_features=512, bias=False)\n",
            "          (W_v): Linear(in_features=512, out_features=512, bias=False)\n",
            "          (W_o): Linear(in_features=512, out_features=512, bias=False)\n",
            "        )\n",
            "        (cross_multihead_attention): MultiHeadAttention(\n",
            "          (dropout): Dropout(p=0.1, inplace=False)\n",
            "          (W_q): Linear(in_features=512, out_features=512, bias=False)\n",
            "          (W_k): Linear(in_features=512, out_features=512, bias=False)\n",
            "          (W_v): Linear(in_features=512, out_features=512, bias=False)\n",
            "          (W_o): Linear(in_features=512, out_features=512, bias=False)\n",
            "        )\n",
            "        (feed_forward): FeedForward(\n",
            "          (dropout): Dropout(p=0.1, inplace=False)\n",
            "          (layer_1): Linear(in_features=512, out_features=2048, bias=True)\n",
            "          (layer_2): Linear(in_features=2048, out_features=512, bias=True)\n",
            "        )\n",
            "        (addnorm_1): AddAndNorm(\n",
            "          (dropout): Dropout(p=0.1, inplace=False)\n",
            "          (layer_norm): LayerNorm()\n",
            "        )\n",
            "        (addnorm_2): AddAndNorm(\n",
            "          (dropout): Dropout(p=0.1, inplace=False)\n",
            "          (layer_norm): LayerNorm()\n",
            "        )\n",
            "        (addnorm_3): AddAndNorm(\n",
            "          (dropout): Dropout(p=0.1, inplace=False)\n",
            "          (layer_norm): LayerNorm()\n",
            "        )\n",
            "      )\n",
            "    )\n",
            "    (layer_norm): LayerNorm()\n",
            "  )\n",
            "  (projection_layer): ProjectionLayer(\n",
            "    (projection_layer): Linear(in_features=512, out_features=1960, bias=True)\n",
            "  )\n",
            ")\n"
          ]
        }
      ]
    },
    {
      "cell_type": "code",
      "source": [
        "os.mkdir(\"./Yorubagpt\")"
      ],
      "metadata": {
        "id": "MMC8_mT1WeuK"
      },
      "execution_count": 18,
      "outputs": []
    },
    {
      "cell_type": "code",
      "source": [
        "import nltk\n",
        "from nltk.translate.bleu_score import sentence_bleu"
      ],
      "metadata": {
        "id": "eLgW68cfYAmr"
      },
      "execution_count": 19,
      "outputs": []
    },
    {
      "cell_type": "code",
      "source": [
        "from nltk.translate.bleu_score import sentence_bleu, SmoothingFunction"
      ],
      "metadata": {
        "id": "6Re_6pJnL-wc"
      },
      "execution_count": 20,
      "outputs": []
    },
    {
      "cell_type": "code",
      "source": [],
      "metadata": {
        "id": "bP9ppPvn-okt"
      },
      "execution_count": 20,
      "outputs": []
    },
    {
      "cell_type": "code",
      "source": [
        "import torch\n",
        "import torch.nn as nn\n",
        "from tqdm import tqdm\n",
        "import matplotlib.pyplot as plt\n",
        "from nltk.translate.bleu_score import sentence_bleu, corpus_bleu\n",
        "\n",
        "# Define the validation function\n",
        "def run_validation(model, validation_ds, tokenizer_en, tokenizer_my, max_seq_len, device, print_msg, global_step):\n",
        "    model.eval()\n",
        "    count = 0\n",
        "    reference_texts = []\n",
        "    generated_texts = []\n",
        "\n",
        "    with torch.no_grad():\n",
        "        for batch in validation_ds:\n",
        "            count += 1\n",
        "            encoder_input = batch[\"encoder_input\"].to(device)\n",
        "            encoder_mask = batch[\"encoder_mask\"].to(device)\n",
        "\n",
        "            cls_id = tokenizer_my.token_to_id('[CLS]')\n",
        "            sep_id = tokenizer_my.token_to_id('[SEP]')\n",
        "\n",
        "            # Computing the output of the encoder for the source sequence\n",
        "            encoder_output = model.encode(encoder_input, encoder_mask)\n",
        "            # for prediction task, the first token that goes in decoder input is the [CLS] token\n",
        "            decoder_input = torch.empty(1, 1).fill_(cls_id).type_as(encoder_input).to(device)\n",
        "            # since we need to keep adding the output back to the input until the [SEP] - end token is received.\n",
        "            while True:\n",
        "                # check if the max length is received\n",
        "                if decoder_input.size(1) == max_seq_len:\n",
        "                    break\n",
        "\n",
        "                # recreate mask each time the new output is added the decoder input for next token prediction\n",
        "                decoder_mask = causal_mask(decoder_input.size(1)).type_as(encoder_mask).to(device)\n",
        "\n",
        "                # apply projection only to the next token\n",
        "                out = model.decode(encoder_output, encoder_mask, decoder_input, decoder_mask)\n",
        "\n",
        "                # apply projection only to the next token\n",
        "                prob = model.project(out[:, -1])\n",
        "\n",
        "                # select the token with highest probability which is a greedy search implementation\n",
        "                _, next_word = torch.max(prob, dim=1)\n",
        "                decoder_input = torch.cat(\n",
        "                    [decoder_input, torch.empty(1, 1).type_as(encoder_input).fill_(next_word.item()).to(device)], dim=1\n",
        "                )\n",
        "                # check if the new token is the end of token\n",
        "                if next_word == sep_id:\n",
        "                    break\n",
        "            # final output is the concatenated decoder input till the end token is reached\n",
        "            model_out = decoder_input.squeeze(0)\n",
        "\n",
        "            source_text = batch[\"source_text\"][0]\n",
        "            target_text = batch[\"target_text\"][0]\n",
        "            model_out_text = tokenizer_my.decode(model_out.detach().cpu().numpy())\n",
        "\n",
        "            reference_texts.append(target_text)\n",
        "            generated_texts.append(model_out_text)\n",
        "\n",
        "            # Print the source, target, and model output\n",
        "            print_msg('-'*55)\n",
        "            print_msg(f'Source Text: {source_text}')\n",
        "            print_msg(f'Target Text: {target_text}')\n",
        "            print_msg(f'Predicted by YorubaChatbot: {model_out_text}')\n",
        "\n",
        "            if count == 2:\n",
        "                break\n",
        "\n",
        "    # Compute BLEU score\n",
        "    bleu_score = compute_bleu_score(reference_texts, generated_texts)\n",
        "    print_msg(f'BLEU score: {bleu_score:.4f}')\n",
        "\n",
        "    corpus_bleu_score = corpus_bleu(reference_texts, generated_texts)\n",
        "    #print(f'Corpus BLEU score: {corpus_bleu_score:.4f}')\n",
        "\n",
        "\n",
        "    return bleu_score  # Ensure the function returns the BLEU score\n",
        "\n",
        "\n",
        "def compute_bleu_score(reference_texts, generated_texts):\n",
        "    \"\"\"\n",
        "    Compute the BLEU score for a list of reference texts and generated texts.\n",
        "\n",
        "    :param reference_texts: List of reference texts (ground truth)\n",
        "    :param generated_texts: List of generated texts by the model\n",
        "    :return: BLEU score\n",
        "    \"\"\"\n",
        "    scores = []\n",
        "    for ref, gen in zip(reference_texts, generated_texts):\n",
        "        ref_tokens = ref.split()  # Tokenize reference text\n",
        "        gen_tokens = gen.split()  # Tokenize generated text\n",
        "        scores.append(sentence_bleu([ref_tokens], gen_tokens))\n",
        "\n",
        "    return sum(scores) / len(scores) if scores else 0\n",
        "\n",
        "\n",
        "def train_model(preload_epoch=None):\n",
        "    # The entire training, validation cycle will run for 60 cycles or epochs.\n",
        "    EPOCHS = 60\n",
        "    initial_epoch = 0\n",
        "    global_step = 0\n",
        "\n",
        "    # Adam is one of the most commonly used optimization algorithms that hold the current state and will update the parameters based on the computed gradients.\n",
        "    optimizer = torch.optim.Adam(model.parameters(), lr=1e-4, eps=1e-9)\n",
        "\n",
        "    # If the preload_epoch is not none, that means the training will start with the weights, optimizer that has been last saved and start with preload epoch + 1\n",
        "    if preload_epoch is not None:\n",
        "        model_filename = f\"./Yorubagpt/model_{preload_epoch}.pt\"\n",
        "        state = torch.load(model_filename)\n",
        "        model.load_state_dict(state['model_state_dict'])\n",
        "        initial_epoch = state['epoch'] + 1\n",
        "        optimizer.load_state_dict(state['optimizer_state_dict'])\n",
        "        global_step = state['global_step']\n",
        "\n",
        "    # The CrossEntropyLoss loss function computes the difference between the projection output and target label.\n",
        "    loss_fn = nn.CrossEntropyLoss(ignore_index=tokenizer_en.token_to_id('[PAD]'), label_smoothing=0.1).to(device)\n",
        "\n",
        "    # Lists to store metrics\n",
        "    train_losses = []\n",
        "    val_bleu_scores = []\n",
        "\n",
        "    for epoch in range(initial_epoch, EPOCHS):\n",
        "        model.train()\n",
        "        epoch_loss = 0.0\n",
        "        batch_iterator = tqdm(train_dataloader, desc=f\"Processing Epoch {epoch:02d}\")\n",
        "        for batch in batch_iterator:\n",
        "            encoder_input = batch['encoder_input'].to(device)  # (B, seq_len)\n",
        "            decoder_input = batch['decoder_input'].to(device)  # (B, seq_len)\n",
        "            encoder_mask = batch['encoder_mask'].to(device)  # (B, 1, 1, seq_len)\n",
        "            decoder_mask = batch['decoder_mask'].to(device)  # (B, 1, seq_len, seq_len)\n",
        "            target_label = batch['target_label'].to(device)  # (B, seq_len)\n",
        "\n",
        "            # Run the tensors through the encoder, decoder, and the projection layer\n",
        "            encoder_output = model.encode(encoder_input, encoder_mask)  # (B, seq_len, d_model)\n",
        "            decoder_output = model.decode(encoder_output, encoder_mask, decoder_input, decoder_mask)  # (B, seq_len, d_model)\n",
        "            projection_output = model.project(decoder_output)  # (B, seq_len, vocab_size)\n",
        "\n",
        "            # Compute the loss using a simple cross-entropy\n",
        "            loss = loss_fn(projection_output.view(-1, tokenizer_my.get_vocab_size()), target_label.view(-1))\n",
        "            epoch_loss += loss.item()\n",
        "            batch_iterator.set_postfix({\"loss\": f\"{loss.item():6.3f}\"})\n",
        "\n",
        "            # Backpropagate the loss\n",
        "            loss.backward()\n",
        "\n",
        "            # Update the weights\n",
        "            optimizer.step()\n",
        "            optimizer.zero_grad(set_to_none=True)\n",
        "\n",
        "            global_step += 1\n",
        "\n",
        "        epoch_loss /= len(train_dataloader)\n",
        "        train_losses.append(epoch_loss)\n",
        "\n",
        "        print(f\"Validation for Epoch {epoch}\")\n",
        "        bleu_score = run_validation(model, val_dataloader, tokenizer_en, tokenizer_my, max_seq_len, device, print, global_step)\n",
        "        val_bleu_scores.append(bleu_score)\n",
        "        print(f\"BLEU score for Epoch {epoch}: {bleu_score:.4f}\")\n",
        "\n",
        "        # Save the model at the end of every epoch\n",
        "        model_filename = f\"./Yorubagpt/model_{epoch}.pt\"\n",
        "        torch.save({\n",
        "            'epoch': epoch,\n",
        "            'model_state_dict': model.state_dict(),\n",
        "            'optimizer_state_dict': optimizer.state_dict(),\n",
        "            'global_step': global_step\n",
        "        }, model_filename)\n",
        "\n",
        "    # Plotting the results\n",
        "    plt.figure(figsize=(12, 6))\n",
        "\n",
        "    plt.subplot(1, 2, 1)\n",
        "    plt.plot(range(1, EPOCHS + 1), train_losses, marker='o', label='Training Loss')\n",
        "    plt.xlabel('Epoch')\n",
        "    plt.ylabel('Loss')\n",
        "    plt.title('Training Loss over Epochs')\n",
        "    plt.legend()\n",
        "\n",
        "    plt.subplot(1, 2, 2)\n",
        "    plt.plot(range(1, EPOCHS + 1), val_bleu_scores, marker='o', label='Validation BLEU Score', color='orange')\n",
        "    plt.xlabel('Epoch')\n",
        "    plt.ylabel('BLEU Score')\n",
        "    plt.title('Validation BLEU Score over Epochs')\n",
        "    plt.legend()\n",
        "\n",
        "    plt.tight_layout()\n",
        "    plt.show()\n"
      ],
      "metadata": {
        "id": "exPIJAeIPqiF"
      },
      "execution_count": 21,
      "outputs": []
    },
    {
      "cell_type": "code",
      "source": [],
      "metadata": {
        "id": "nGk_g_SpLeM2"
      },
      "execution_count": 21,
      "outputs": []
    },
    {
      "cell_type": "code",
      "source": [
        "\n",
        "# Train our model\n",
        "train_model(preload_epoch=None)"
      ],
      "metadata": {
        "colab": {
          "base_uri": "https://localhost:8080/",
          "height": 1000
        },
        "id": "im5SwFdYYWs6",
        "outputId": "62f0a6e0-55fc-4b5e-b984-d0fb8380c3d6"
      },
      "execution_count": 22,
      "outputs": [
        {
          "output_type": "stream",
          "name": "stderr",
          "text": [
            "Processing Epoch 00: 100%|██████████| 580/580 [01:22<00:00,  7.06it/s, loss=4.144]\n"
          ]
        },
        {
          "output_type": "stream",
          "name": "stdout",
          "text": [
            "Validation for Epoch 0\n",
            "-------------------------------------------------------\n",
            "Source Text: Báwo ni mo ṣe le forukọsilẹ fún kọ́ọ̀sì iṣowo?\n",
            "Target Text: Lọ sí ojúewé wa, yan kọ́ọ̀sì náà, kí o sì ṣẹ̀dá ìfọwọ́sowọpọ̀ rẹ̀.\n",
            "Predicted by YorubaChatbot: Bẹẹni , ṣe o ni awọn aṣayan kan pato tabi ipo kan ti o fẹ ?\n",
            "-------------------------------------------------------\n",
            "Source Text: Mo ní ìṣòro pẹ̀lú ìwọlé àkọọlẹ mi. Kíni mo yẹ kí n ṣe?\n",
            "Target Text: Ṣayẹwo pé orúkọ àti ìkọ̀wé rẹ̀ jẹ́ tóótọ́, tàbí lo aṣayan ìtunṣe ìkọ̀wé. Ti ìṣòro bá tẹ̀síwájú, bá ẹgbẹ́ ìtọju àwọn oníbàárà sọrọ.\n",
            "Predicted by YorubaChatbot: A ni eto imulo ti o da lori ọjọ ipinnu , ati 10GB .\n",
            "BLEU score: 0.0000\n",
            "BLEU score for Epoch 0: 0.0000\n"
          ]
        },
        {
          "output_type": "stream",
          "name": "stderr",
          "text": [
            "/usr/local/lib/python3.10/dist-packages/nltk/translate/bleu_score.py:552: UserWarning: \n",
            "The hypothesis contains 0 counts of 2-gram overlaps.\n",
            "Therefore the BLEU score evaluates to 0, independently of\n",
            "how many N-gram overlaps of lower order it contains.\n",
            "Consider using lower n-gram order or use SmoothingFunction()\n",
            "  warnings.warn(_msg)\n",
            "/usr/local/lib/python3.10/dist-packages/nltk/translate/bleu_score.py:552: UserWarning: \n",
            "The hypothesis contains 0 counts of 3-gram overlaps.\n",
            "Therefore the BLEU score evaluates to 0, independently of\n",
            "how many N-gram overlaps of lower order it contains.\n",
            "Consider using lower n-gram order or use SmoothingFunction()\n",
            "  warnings.warn(_msg)\n",
            "/usr/local/lib/python3.10/dist-packages/nltk/translate/bleu_score.py:552: UserWarning: \n",
            "The hypothesis contains 0 counts of 4-gram overlaps.\n",
            "Therefore the BLEU score evaluates to 0, independently of\n",
            "how many N-gram overlaps of lower order it contains.\n",
            "Consider using lower n-gram order or use SmoothingFunction()\n",
            "  warnings.warn(_msg)\n",
            "Processing Epoch 01: 100%|██████████| 580/580 [01:21<00:00,  7.16it/s, loss=2.828]\n"
          ]
        },
        {
          "output_type": "stream",
          "name": "stdout",
          "text": [
            "Validation for Epoch 1\n",
            "-------------------------------------------------------\n",
            "Source Text: Báwo ni mo ṣe le forukọsilẹ fún kọ́ọ̀sì pẹ̀lú?\n",
            "Target Text: Lọ sí ojúewé wa, yan kọ́ọ̀sì náà, kí o sì tẹ̀ sí ìfọwọ́sowọpọ̀ rẹ̀.\n",
            "Predicted by YorubaChatbot: Bẹẹni , a ni awọn aṣayan kan pato tabi ipo kan ti o fẹ ?\n",
            "-------------------------------------------------------\n",
            "Source Text: Bawo ni mo ṣe le forukọsilẹ fun eto data?\n",
            "Target Text: O le forukọsilẹ nipa lilo fọọmu lori oju opo wẹẹbu wa tabi pe wa.\n",
            "Predicted by YorubaChatbot: O le forukọsilẹ lori oju opo wẹẹbu wa tabi pe wa fun iranlọwọ .\n",
            "BLEU score: 0.2658\n",
            "BLEU score for Epoch 1: 0.2658\n"
          ]
        },
        {
          "output_type": "stream",
          "name": "stderr",
          "text": [
            "Processing Epoch 02: 100%|██████████| 580/580 [01:21<00:00,  7.14it/s, loss=3.038]\n"
          ]
        },
        {
          "output_type": "stream",
          "name": "stdout",
          "text": [
            "Validation for Epoch 2\n",
            "-------------------------------------------------------\n",
            "Source Text: Kini ilana lati gba iwe-ẹri mi?\n",
            "Target Text: Lẹhin ipari eto, iwọ yoo gba iwe-ẹri rẹ nipasẹ imeeli tabi lori oju opo wẹẹbu wa.\n",
            "Predicted by YorubaChatbot: Jọwọ tunto ẹrọ Wi - Fi rẹ nipa tẹle awọn igbesẹ ti a fi han ninu itọnisọna .\n",
            "-------------------------------------------------------\n",
            "Source Text: Báwo ni mo ṣe le forukọsilẹ fún kọ́ọ̀sì pẹ̀lú?\n",
            "Target Text: Lọ sí ojúewé wa, yan kọ́ọ̀sì náà, kí o sì tẹ̀ sí ìfọwọ́sowọpọ̀ rẹ̀.\n",
            "Predicted by YorubaChatbot: O le ṣe igbesoke eto rẹ nipasẹ aaye ayelujara wa tabi pe wa .\n",
            "BLEU score: 0.0000\n",
            "BLEU score for Epoch 2: 0.0000\n"
          ]
        },
        {
          "output_type": "stream",
          "name": "stderr",
          "text": [
            "Processing Epoch 03: 100%|██████████| 580/580 [01:21<00:00,  7.15it/s, loss=1.797]\n"
          ]
        },
        {
          "output_type": "stream",
          "name": "stdout",
          "text": [
            "Validation for Epoch 3\n",
            "-------------------------------------------------------\n",
            "Source Text: Mo ko le wọle si awọn ohun elo kọ́ọ̀sì mi. Kini mo yẹ ki n ṣe?\n",
            "Target Text: Ṣayẹwo orukọ olumulo ati ọrọ igbaniwọle rẹ. Ti iṣoro ba tẹsiwaju, kan si atilẹyin imọ-ẹrọ.\n",
            "Predicted by YorubaChatbot: Ṣayẹwo orukọ olumulo ati ọrọ igbaniwọle rẹ . Ti iṣoro ba tẹsiwaju , kan si atilẹyin imọ - ẹrọ .\n",
            "-------------------------------------------------------\n",
            "Source Text: Báwo ni mo ṣe le forukọsilẹ fún kọ́ọ̀sì iṣowo?\n",
            "Target Text: Lọ sí ojúewé wa, yan kọ́ọ̀sì náà, kí o sì ṣẹ̀dá ìfọwọ́sowọpọ̀ rẹ̀.\n",
            "Predicted by YorubaChatbot: Bẹẹni , lo oju opo wẹẹbu wa tabi ohun elo mobile wa lati wo itan awọn iṣowo rẹ .\n",
            "BLEU score: 0.1798\n",
            "BLEU score for Epoch 3: 0.1798\n"
          ]
        },
        {
          "output_type": "stream",
          "name": "stderr",
          "text": [
            "Processing Epoch 04: 100%|██████████| 580/580 [01:21<00:00,  7.14it/s, loss=1.520]\n"
          ]
        },
        {
          "output_type": "stream",
          "name": "stdout",
          "text": [
            "Validation for Epoch 4\n",
            "-------------------------------------------------------\n",
            "Source Text: Ṣé o le ṣe ìtúpalẹ̀ ìṣòro èkọ́ ìmúlò mi fún mi?\n",
            "Target Text: Bẹẹni, fi ìṣòro náà hàn mi kí n lè ràn ẹ́ lọ́wọ́.\n",
            "Predicted by YorubaChatbot: Bẹẹni , a ni tabulẹti pẹlu awọn aṣayan kan pato tabi ipo kan ti o fẹ ?\n",
            "-------------------------------------------------------\n",
            "Source Text: Mo ko le wọle si awọn ohun elo kọ́ọ̀sì mi. Kini mo yẹ ki n ṣe?\n",
            "Target Text: Ṣayẹwo orukọ olumulo ati ọrọ igbaniwọle rẹ. Ti iṣoro ba tẹsiwaju, kan si atilẹyin imọ-ẹrọ.\n",
            "Predicted by YorubaChatbot: Ṣayẹwo orukọ olumulo ati ọrọ igbaniwọle rẹ . Ti iṣoro ba tẹsiwaju , kan si atilẹyin imọ - ẹrọ .\n",
            "BLEU score: 0.1798\n",
            "BLEU score for Epoch 4: 0.1798\n"
          ]
        },
        {
          "output_type": "stream",
          "name": "stderr",
          "text": [
            "Processing Epoch 05: 100%|██████████| 580/580 [01:21<00:00,  7.15it/s, loss=3.048]\n"
          ]
        },
        {
          "output_type": "stream",
          "name": "stdout",
          "text": [
            "Validation for Epoch 5\n",
            "-------------------------------------------------------\n",
            "Source Text: Báwo ni mo ṣe le forukọsilẹ fún kọ́ọ̀sì data science?\n",
            "Target Text: Lọ sí ojúewé wa, yan kọ́ọ̀sì náà, kí o sì ṣẹ̀dá ìfọwọ́sowọpọ̀ rẹ̀.\n",
            "Predicted by YorubaChatbot: O le forukọsilẹ lori oju opo wẹẹbu wa tabi pe wa fun iranlọwọ .\n",
            "-------------------------------------------------------\n",
            "Source Text: Mo fẹ́ kọ́ọ̀sì nípa ìmọ̀ ẹ̀rọ. Kíni wọ́n ní?\n",
            "Target Text: A ni kọ́ọ̀sì nípa ìmọ̀ ẹ̀rọ kọ̀mpútà, ìmúlò àwọn ẹrọ, àti ẹ̀kọ́ iṣẹ́ ọnà àtọkànwá.\n",
            "Predicted by YorubaChatbot: Kò sí wàhálà .\n",
            "BLEU score: 0.0000\n",
            "BLEU score for Epoch 5: 0.0000\n"
          ]
        },
        {
          "output_type": "stream",
          "name": "stderr",
          "text": [
            "Processing Epoch 06: 100%|██████████| 580/580 [01:21<00:00,  7.16it/s, loss=1.230]\n"
          ]
        },
        {
          "output_type": "stream",
          "name": "stdout",
          "text": [
            "Validation for Epoch 6\n",
            "-------------------------------------------------------\n",
            "Source Text: Ṣe o le ran mi lọwọ pẹlu iṣoro math yii?\n",
            "Target Text: Bẹẹni, jọwọ sọ iṣoro math naa ki n le ran ọ lọwọ.\n",
            "Predicted by YorubaChatbot: Bẹẹni , jọwọ sọ iṣoro math naa ki n le ran ọ lọwọ .\n",
            "-------------------------------------------------------\n",
            "Source Text: Ṣe o le ran mi lọwọ pẹlu iṣoro math yii?\n",
            "Target Text: Bẹẹni, jọwọ sọ iṣoro math naa ki n le ran ọ lọwọ.\n",
            "Predicted by YorubaChatbot: Bẹẹni , jọwọ sọ iṣoro math naa ki n le ran ọ lọwọ .\n",
            "BLEU score: 0.6768\n",
            "BLEU score for Epoch 6: 0.6768\n"
          ]
        },
        {
          "output_type": "stream",
          "name": "stderr",
          "text": [
            "Processing Epoch 07: 100%|██████████| 580/580 [01:21<00:00,  7.16it/s, loss=1.232]\n"
          ]
        },
        {
          "output_type": "stream",
          "name": "stdout",
          "text": [
            "Validation for Epoch 7\n",
            "-------------------------------------------------------\n",
            "Source Text: Mo ní ìṣòro pẹ̀lú ìfọwọ́sowọpọ̀ mi. Kíni mo yẹ kí n ṣe?\n",
            "Target Text: Ṣayẹwo gbogbo ìfọwọ́sowọpọ̀ rẹ̀, àti ìkọ̀wé rẹ̀, tàbí lo aṣayan ìtúnṣe.\n",
            "Predicted by YorubaChatbot: Ṣé kí n dì ?\n",
            "-------------------------------------------------------\n",
            "Source Text: Kini awọn kọ́ọ̀sì ti o wa ni apẹrẹ apẹrẹ?\n",
            "Target Text: A ni awọn kọ́ọ̀sì lori apẹrẹ aworan, apẹrẹ oju-iwe wẹẹbù, ati awọn irinṣẹ apẹrẹ.\n",
            "Predicted by YorubaChatbot: A ni awọn kọ́ọ̀sì lori apẹrẹ aworan , apẹrẹ oju - iwe wẹẹbù , ati apẹrẹ ibaraẹnisọrọ .\n",
            "BLEU score: 0.1422\n",
            "BLEU score for Epoch 7: 0.1422\n"
          ]
        },
        {
          "output_type": "stream",
          "name": "stderr",
          "text": [
            "Processing Epoch 08: 100%|██████████| 580/580 [01:21<00:00,  7.15it/s, loss=1.484]\n"
          ]
        },
        {
          "output_type": "stream",
          "name": "stdout",
          "text": [
            "Validation for Epoch 8\n",
            "-------------------------------------------------------\n",
            "Source Text: Ṣé ẹ ní kọ́ọ̀sì pẹ̀lú ìmúlò rẹ̀?\n",
            "Target Text: Bẹẹni, a ní kọ́ọ̀sì pẹ̀lú ìmúlò àìlera, ìṣàkóso àìlera, àti kọ́ọ̀sì iṣẹ́ ọnà.\n",
            "Predicted by YorubaChatbot: Bẹẹni , a ni ọpọlọpọ awọn aṣayan fun awọn ọmọde , pẹlu awọn ere ati awọn itẹwe .\n",
            "-------------------------------------------------------\n",
            "Source Text: Báwo ni mo ṣe le forukọsilẹ fún kọ́ọ̀sì pẹ̀lú?\n",
            "Target Text: Lọ sí ojúewé wa, yan kọ́ọ̀sì náà, kí o sì tẹ̀ sí ìfọwọ́sowọpọ̀ rẹ̀.\n",
            "Predicted by YorubaChatbot: Bẹẹni , jọwọ fi nọmba iwe - owo rẹ han ki n le ṣe iranlọwọ .\n",
            "BLEU score: 0.0000\n",
            "BLEU score for Epoch 8: 0.0000\n"
          ]
        },
        {
          "output_type": "stream",
          "name": "stderr",
          "text": [
            "Processing Epoch 09: 100%|██████████| 580/580 [01:21<00:00,  7.16it/s, loss=1.167]\n"
          ]
        },
        {
          "output_type": "stream",
          "name": "stdout",
          "text": [
            "Validation for Epoch 9\n",
            "-------------------------------------------------------\n",
            "Source Text: Mo ko le wọle si awọn ohun elo kọ́ọ̀sì mi. Kini mo yẹ ki n ṣe?\n",
            "Target Text: Ṣayẹwo orukọ olumulo ati ọrọ igbaniwọle rẹ. Ti iṣoro ba tẹsiwaju, kan si atilẹyin imọ-ẹrọ.\n",
            "Predicted by YorubaChatbot: Ṣayẹwo orukọ olumulo ati ọrọ igbaniwọle rẹ . Ti iṣoro ba tẹsiwaju , kan si atilẹyin imọ - ẹrọ .\n",
            "-------------------------------------------------------\n",
            "Source Text: Ṣé o le ràn mi lọ́wọ́ pẹ̀lú ìṣòro ìkọ̀wé?\n",
            "Target Text: Bẹẹni, fi ìṣòro rẹ̀ hàn mi, kí n lè ràn ẹ́ lọ́wọ́.\n",
            "Predicted by YorubaChatbot: Bẹẹni , a ni ọpọlọpọ awọn aṣayan kan .\n",
            "BLEU score: 0.1798\n",
            "BLEU score for Epoch 9: 0.1798\n"
          ]
        },
        {
          "output_type": "stream",
          "name": "stderr",
          "text": [
            "Processing Epoch 10: 100%|██████████| 580/580 [01:21<00:00,  7.15it/s, loss=1.448]\n"
          ]
        },
        {
          "output_type": "stream",
          "name": "stdout",
          "text": [
            "Validation for Epoch 10\n",
            "-------------------------------------------------------\n",
            "Source Text: Báwo ni mo ṣe le gba ìwé-ẹ̀rí lẹ́yìn ìparí kọ́ọ̀sì?\n",
            "Target Text: Ìwé-ẹ̀rí rẹ̀ yóò fi ránṣẹ́ sí i-meeli rẹ̀ tàbí o lè ṣe ìdáná látàrí ojúewé àkọọlẹ rẹ̀.\n",
            "Predicted by YorubaChatbot: Kí ló dé tí ẹ tún ń pín in sí méjì ?\n",
            "-------------------------------------------------------\n",
            "Source Text: Báwo ni mo ṣe le forukọsilẹ fún kọ́ọ̀sì iṣowo?\n",
            "Target Text: Lọ sí ojúewé wa, yan kọ́ọ̀sì náà, kí o sì ṣẹ̀dá ìfọwọ́sowọpọ̀ rẹ̀.\n",
            "Predicted by YorubaChatbot: O le forukọsilẹ lori oju opo wẹẹbu wa tabi pe wa fun iranlọwọ .\n",
            "BLEU score: 0.0000\n",
            "BLEU score for Epoch 10: 0.0000\n"
          ]
        },
        {
          "output_type": "stream",
          "name": "stderr",
          "text": [
            "Processing Epoch 11: 100%|██████████| 580/580 [01:21<00:00,  7.16it/s, loss=1.320]\n"
          ]
        },
        {
          "output_type": "stream",
          "name": "stdout",
          "text": [
            "Validation for Epoch 11\n",
            "-------------------------------------------------------\n",
            "Source Text: Kini ilana lati gba iwe-ẹri mi?\n",
            "Target Text: Lẹhin ipari eto, iwọ yoo gba iwe-ẹri rẹ nipasẹ imeeli tabi lori oju opo wẹẹbu wa.\n",
            "Predicted by YorubaChatbot: Lẹhin ipari awọn ẹkọ rẹ , iwe - ẹri rẹ yoo jẹ afọwọsi lori oju opo wẹẹbu wa tabi nipasẹ imeeli .\n",
            "-------------------------------------------------------\n",
            "Source Text: Ṣé ẹ ní kọ́ọ̀sì pẹ̀lú ìmúlò?\n",
            "Target Text: Bẹẹni, a ní kọ́ọ̀sì pẹ̀lú ìmúlò àìlera, ìṣàkóso àìlera, àti kọ́ọ̀sì iṣẹ́ ọnà.\n",
            "Predicted by YorubaChatbot: Bẹẹni , a ni ọpọlọpọ agbe ko aṣọ .\n",
            "BLEU score: 0.0791\n",
            "BLEU score for Epoch 11: 0.0791\n"
          ]
        },
        {
          "output_type": "stream",
          "name": "stderr",
          "text": [
            "Processing Epoch 12: 100%|██████████| 580/580 [01:20<00:00,  7.16it/s, loss=1.280]\n"
          ]
        },
        {
          "output_type": "stream",
          "name": "stdout",
          "text": [
            "Validation for Epoch 12\n",
            "-------------------------------------------------------\n",
            "Source Text: Ṣé ẹ ní kọ́ọ̀sì pẹ̀lú ìmúlò rẹ̀?\n",
            "Target Text: Bẹẹni, a ní kọ́ọ̀sì pẹ̀lú ìmúlò àìlera, ìṣàkóso àìlera, àti kọ́ọ̀sì iṣẹ́ ọnà.\n",
            "Predicted by YorubaChatbot: Bẹẹni , a ni irinṣẹ abẹ nla .\n",
            "-------------------------------------------------------\n",
            "Source Text: Mo ní ìṣòro láti wọlé sí àkọọlẹ mi. Kíni mo yẹ kí n ṣe?\n",
            "Target Text: Ṣayẹwo pé orúkọ àti ìkọ̀wé rẹ̀ jẹ́ tóótọ́, tàbí lo aṣayan ìtunṣe ìkọ̀wé. Ti ìṣòro bá tẹ̀síwájú, bá ẹgbẹ́ ìtọju àwọn oníbàárà sọrọ.\n",
            "Predicted by YorubaChatbot: Ṣé ti “ Me ch ani c J un c tion ” ?\n",
            "BLEU score: 0.0000\n",
            "BLEU score for Epoch 12: 0.0000\n"
          ]
        },
        {
          "output_type": "stream",
          "name": "stderr",
          "text": [
            "Processing Epoch 13: 100%|██████████| 580/580 [01:20<00:00,  7.17it/s, loss=1.329]\n"
          ]
        },
        {
          "output_type": "stream",
          "name": "stdout",
          "text": [
            "Validation for Epoch 13\n",
            "-------------------------------------------------------\n",
            "Source Text: Báwo ni mo ṣe le tọ́kasí àwọn olùkọ́?\n",
            "Target Text: Ṣayẹwo ní ojúewé àkọọlẹ rẹ̀, wọlé pẹ̀lú ìkànsí rẹ̀, kí o sì tọ́kasí àwọn olùkọ́ rẹ̀.\n",
            "Predicted by YorubaChatbot: Bẹẹni , jọwọ fi nọmba iwe - owo rẹ han fun mi ki n le ṣe ayẹwo rẹ .\n",
            "-------------------------------------------------------\n",
            "Source Text: Ṣe o le ran mi lọwọ pẹlu iṣoro math yii?\n",
            "Target Text: Bẹẹni, jọwọ sọ iṣoro math naa ki n le ran ọ lọwọ.\n",
            "Predicted by YorubaChatbot: Bẹẹni , jọwọ sọ iṣoro math naa ki n le ran ọ lọwọ .\n",
            "BLEU score: 0.3384\n",
            "BLEU score for Epoch 13: 0.3384\n"
          ]
        },
        {
          "output_type": "stream",
          "name": "stderr",
          "text": [
            "Processing Epoch 14: 100%|██████████| 580/580 [01:21<00:00,  7.15it/s, loss=1.424]\n"
          ]
        },
        {
          "output_type": "stream",
          "name": "stdout",
          "text": [
            "Validation for Epoch 14\n",
            "-------------------------------------------------------\n",
            "Source Text: Báwo ni mo ṣe le gba ìwé-ẹ̀rí lẹ́yìn ìparí kọ́ọ̀sì?\n",
            "Target Text: Ìwé-ẹ̀rí rẹ̀ yóò fi ránṣẹ́ sí i-meeli rẹ̀ tàbí o lè ṣe ìdáná látàrí ojúewé àkọọlẹ rẹ̀.\n",
            "Predicted by YorubaChatbot: O le ṣe iwifunni ọja rẹ ni a pa kan ' Awọn ibeere ati ipadabọ ' lori oju opo wẹẹbu wa .\n",
            "-------------------------------------------------------\n",
            "Source Text: Kíni àkójọpọ̀ àwọn ìmúlò fún kọ́ọ̀sì ìmọ̀?\n",
            "Target Text: A ni àkójọpọ̀ ìmúlò tí a ni fún kọ́ọ̀sì ìmọ̀ ẹ̀rọ, ìmúlò kọọ̀kan, àti ìtọ́jú.\n",
            "Predicted by YorubaChatbot: Ṣé agbègbè amóoru lẹ máa fẹ́ẹ lọ ni , tàbí olótùútù ?\n",
            "BLEU score: 0.0000\n",
            "BLEU score for Epoch 14: 0.0000\n"
          ]
        },
        {
          "output_type": "stream",
          "name": "stderr",
          "text": [
            "Processing Epoch 15: 100%|██████████| 580/580 [01:21<00:00,  7.15it/s, loss=1.268]\n"
          ]
        },
        {
          "output_type": "stream",
          "name": "stdout",
          "text": [
            "Validation for Epoch 15\n",
            "-------------------------------------------------------\n",
            "Source Text: Bawo ni mo ṣe le forukọsilẹ fun eto data?\n",
            "Target Text: O le forukọsilẹ nipa lilo fọọmu lori oju opo wẹẹbu wa tabi pe wa.\n",
            "Predicted by YorubaChatbot: O le forukọsilẹ nipa lilo fọọmu lori oju opo wẹẹbu wa tabi pe wa .\n",
            "-------------------------------------------------------\n",
            "Source Text: Kíni ìlànà rẹ̀ fún ìmúlò ìṣàkóso?\n",
            "Target Text: Ṣayẹwo ní ojúewé àkọọlẹ rẹ̀, wọlé pẹ̀lú ìkànsí rẹ̀, kí o sì tọ́kasí àwọn olùkọ́ rẹ̀.\n",
            "Predicted by YorubaChatbot: Ṣé kí n gé e sí wẹ́wẹ́ , kí ń dì í sí pépà ni tàbí kí n fi sílẹ̀ bẹ́ẹ̀ ?\n",
            "BLEU score: 0.4254\n",
            "BLEU score for Epoch 15: 0.4254\n"
          ]
        },
        {
          "output_type": "stream",
          "name": "stderr",
          "text": [
            "Processing Epoch 16: 100%|██████████| 580/580 [01:20<00:00,  7.17it/s, loss=1.231]\n"
          ]
        },
        {
          "output_type": "stream",
          "name": "stdout",
          "text": [
            "Validation for Epoch 16\n",
            "-------------------------------------------------------\n",
            "Source Text: Mo ní ìṣòro láti wọlé sí àkọọlẹ mi. Kíni mo yẹ kí n ṣe?\n",
            "Target Text: Ṣayẹwo pé orúkọ àti ìkọ̀wé rẹ̀ jẹ́ tóótọ́, tàbí lo aṣayan ìtunṣe ìkọ̀wé. Ti ìṣòro bá tẹ̀síwájú, bá ẹgbẹ́ ìtọju àwọn oníbàárà sọrọ.\n",
            "Predicted by YorubaChatbot: Ṣé kí n gé e sí wẹ́wẹ́ , kí ń dì í sí pépà ni tàbí kí n fi sílẹ̀ bẹ́ẹ̀ ?\n",
            "-------------------------------------------------------\n",
            "Source Text: Ṣé o le ṣe ìtúpalẹ̀ ìṣòro èkọ́ ìmúlò mi fún mi?\n",
            "Target Text: Bẹẹni, fi ìṣòro náà hàn mi kí n lè ràn ẹ́ lọ́wọ́.\n",
            "Predicted by YorubaChatbot: Bẹẹni , jọwọ sọ nọmba iwe - owo rẹ ki n le ṣe ayẹwo rẹ .\n",
            "BLEU score: 0.0000\n",
            "BLEU score for Epoch 16: 0.0000\n"
          ]
        },
        {
          "output_type": "stream",
          "name": "stderr",
          "text": [
            "Processing Epoch 17: 100%|██████████| 580/580 [01:20<00:00,  7.16it/s, loss=1.291]\n"
          ]
        },
        {
          "output_type": "stream",
          "name": "stdout",
          "text": [
            "Validation for Epoch 17\n",
            "-------------------------------------------------------\n",
            "Source Text: Mo fẹ́ gba ìrànlọ́wọ́ nípa àkọọlẹ mi. Kíni mo yẹ kí n ṣe?\n",
            "Target Text: Ṣayẹwo pé orúkọ àti ìkọ̀wé rẹ̀ jẹ́ tóótọ́, tàbí lo aṣayan ìtunṣe. Ti ìṣòro bá tẹ̀síwájú, bá ẹgbẹ́ ìtọju àwọn oníbàárà sọrọ.\n",
            "Predicted by YorubaChatbot: Ò ṣù kan gbáko ni .\n",
            "-------------------------------------------------------\n",
            "Source Text: Mo ní ìṣòro láti wọlé sí àkọọlẹ mi. Kíni mo yẹ kí n ṣe?\n",
            "Target Text: Ṣayẹwo pé orúkọ àti ìkọ̀wé rẹ̀ jẹ́ tóótọ́, tàbí lo aṣayan ìtunṣe ìkọ̀wé. Ti ìṣòro bá tẹ̀síwájú, bá ẹgbẹ́ ìtọju àwọn oníbàárà sọrọ.\n",
            "Predicted by YorubaChatbot: Ṣé agbègbè amóoru lẹ máa fẹ́ẹ lọ ni , tàbí olótùútù ?\n",
            "BLEU score: 0.0000\n",
            "BLEU score for Epoch 17: 0.0000\n"
          ]
        },
        {
          "output_type": "stream",
          "name": "stderr",
          "text": [
            "Processing Epoch 18: 100%|██████████| 580/580 [01:21<00:00,  7.16it/s, loss=1.349]\n"
          ]
        },
        {
          "output_type": "stream",
          "name": "stdout",
          "text": [
            "Validation for Epoch 18\n",
            "-------------------------------------------------------\n",
            "Source Text: Ṣé ẹ ní kọ́ọ̀sì nípa ìmúlò àìlera?\n",
            "Target Text: Bẹẹni, a ní kọ́ọ̀sì nípa ìmúlò àìlera, ìmúlò àwọn ẹ̀tọ́ àti ìṣàkóso àpọ́sítélè.\n",
            "Predicted by YorubaChatbot: Bẹẹni , a ni ọpọlọpọ awọn aṣayan fun awọn ọja ti o ra ni awọn ọ sẹ mẹta .\n",
            "-------------------------------------------------------\n",
            "Source Text: Bawo ni mo ṣe le forukọsilẹ fun eto data?\n",
            "Target Text: O le forukọsilẹ nipa lilo fọọmu lori oju opo wẹẹbu wa tabi pe wa.\n",
            "Predicted by YorubaChatbot: O le forukọsilẹ lori oju opo wẹẹbu wa tabi pe wa fun iranlọwọ .\n",
            "BLEU score: 0.2658\n",
            "BLEU score for Epoch 18: 0.2658\n"
          ]
        },
        {
          "output_type": "stream",
          "name": "stderr",
          "text": [
            "Processing Epoch 19: 100%|██████████| 580/580 [01:20<00:00,  7.17it/s, loss=1.292]\n"
          ]
        },
        {
          "output_type": "stream",
          "name": "stdout",
          "text": [
            "Validation for Epoch 19\n",
            "-------------------------------------------------------\n",
            "Source Text: Kini awọn kọ́ọ̀sì ti o wa ni apẹrẹ apẹrẹ?\n",
            "Target Text: A ni awọn kọ́ọ̀sì lori apẹrẹ aworan, apẹrẹ oju-iwe wẹẹbù, ati awọn irinṣẹ apẹrẹ.\n",
            "Predicted by YorubaChatbot: A ni awọn kọ́ọ̀sì lori apẹrẹ aworan , apẹrẹ oju - iwe wẹẹbù , ati awọn irinṣẹ apẹrẹ .\n",
            "-------------------------------------------------------\n",
            "Source Text: Mo ko le wọle si awọn ohun elo kọ́ọ̀sì mi. Kini mo yẹ ki n ṣe?\n",
            "Target Text: Ṣayẹwo orukọ olumulo ati ọrọ igbaniwọle rẹ. Ti iṣoro ba tẹsiwaju, kan si atilẹyin imọ-ẹrọ.\n",
            "Predicted by YorubaChatbot: Jọwọ ṣayẹwo orukọ olumulo ati ọrọ igbaniwọle rẹ . Ti iṣoro ba tẹsiwaju , kan si atilẹyin imọ - ẹrọ .\n",
            "BLEU score: 0.3029\n",
            "BLEU score for Epoch 19: 0.3029\n"
          ]
        },
        {
          "output_type": "stream",
          "name": "stderr",
          "text": [
            "Processing Epoch 20: 100%|██████████| 580/580 [01:20<00:00,  7.16it/s, loss=1.325]\n"
          ]
        },
        {
          "output_type": "stream",
          "name": "stdout",
          "text": [
            "Validation for Epoch 20\n",
            "-------------------------------------------------------\n",
            "Source Text: Kini awọn kọ́ọ̀sì ti o wa ni apẹrẹ apẹrẹ?\n",
            "Target Text: A ni awọn kọ́ọ̀sì lori apẹrẹ aworan, apẹrẹ oju-iwe wẹẹbù, ati awọn irinṣẹ apẹrẹ.\n",
            "Predicted by YorubaChatbot: A ni awọn kọ́ọ̀sì lori apẹrẹ aworan , apẹrẹ oju - iwe wẹẹbù , ati awọn irinṣẹ apẹrẹ .\n",
            "-------------------------------------------------------\n",
            "Source Text: Kini awọn kọ́ọ̀sì ti o wa ni apẹrẹ apẹrẹ?\n",
            "Target Text: A ni awọn kọ́ọ̀sì lori apẹrẹ aworan, apẹrẹ oju-iwe wẹẹbù, ati awọn irinṣẹ apẹrẹ.\n",
            "Predicted by YorubaChatbot: A ni awọn kọ́ọ̀sì lori apẹrẹ aworan , apẹrẹ oju - iwe wẹẹbù , ati awọn irinṣẹ apẹrẹ .\n",
            "BLEU score: 0.3259\n",
            "BLEU score for Epoch 20: 0.3259\n"
          ]
        },
        {
          "output_type": "stream",
          "name": "stderr",
          "text": [
            "Processing Epoch 21: 100%|██████████| 580/580 [01:21<00:00,  7.16it/s, loss=1.234]\n"
          ]
        },
        {
          "output_type": "stream",
          "name": "stdout",
          "text": [
            "Validation for Epoch 21\n",
            "-------------------------------------------------------\n",
            "Source Text: Mo ko le wọle si awọn ohun elo kọ́ọ̀sì mi. Kini mo yẹ ki n ṣe?\n",
            "Target Text: Ṣayẹwo orukọ olumulo ati ọrọ igbaniwọle rẹ. Ti iṣoro ba tẹsiwaju, kan si atilẹyin imọ-ẹrọ.\n",
            "Predicted by YorubaChatbot: Ṣayẹwo orukọ olumulo ati ọrọ igbaniwọle rẹ . Ti iṣoro ba tẹsiwaju , kan si atilẹyin imọ - ẹrọ .\n",
            "-------------------------------------------------------\n",
            "Source Text: Báwo ni mo ṣe le forukọsilẹ fún kọ́ọ̀sì pẹ̀lú?\n",
            "Target Text: Lọ sí ojúewé wa, yan kọ́ọ̀sì náà, kí o sì tẹ̀ sí ìfọwọ́sowọpọ̀ rẹ̀.\n",
            "Predicted by YorubaChatbot: O le forukọsilẹ lori aaye ayelujara wa tabi pe wa fun iranlọwọ .\n",
            "BLEU score: 0.1798\n",
            "BLEU score for Epoch 21: 0.1798\n"
          ]
        },
        {
          "output_type": "stream",
          "name": "stderr",
          "text": [
            "Processing Epoch 22: 100%|██████████| 580/580 [01:21<00:00,  7.16it/s, loss=1.334]\n"
          ]
        },
        {
          "output_type": "stream",
          "name": "stdout",
          "text": [
            "Validation for Epoch 22\n",
            "-------------------------------------------------------\n",
            "Source Text: Kini ilana lati gba iwe-ẹri mi?\n",
            "Target Text: Lẹhin ipari awọn ẹkọ rẹ, iwọ yoo gba iwe-ẹri rẹ nipasẹ imeeli tabi lori oju opo wẹẹbu wa.\n",
            "Predicted by YorubaChatbot: Lẹhin ipari eto , iwọ yoo gba iwe - ẹri rẹ nipasẹ imeeli tabi lori oju opo wẹẹbu wa .\n",
            "-------------------------------------------------------\n",
            "Source Text: Ṣé ẹ ní kọ́ọ̀sì nípa ìmúlò ìṣàkóso?\n",
            "Target Text: Bẹẹni, a ní kọ́ọ̀sì nípa ìmúlò ìṣàkóso àti ìmúlò àpẹẹrẹ.\n",
            "Predicted by YorubaChatbot: Kí ni mo lè ṣe fún yín ?\n",
            "BLEU score: 0.2224\n",
            "BLEU score for Epoch 22: 0.2224\n"
          ]
        },
        {
          "output_type": "stream",
          "name": "stderr",
          "text": [
            "Processing Epoch 23: 100%|██████████| 580/580 [01:20<00:00,  7.17it/s, loss=1.140]\n"
          ]
        },
        {
          "output_type": "stream",
          "name": "stdout",
          "text": [
            "Validation for Epoch 23\n",
            "-------------------------------------------------------\n",
            "Source Text: Báwo ni mo ṣe le gba ìwé-ẹ̀rí lẹ́yìn ìparí kọ́ọ̀sì?\n",
            "Target Text: Ìwé-ẹ̀rí rẹ̀ yóò fi ránṣẹ́ sí i-meeli rẹ̀ tàbí o lè ṣe ìdáná látàrí ojúewé àkọọlẹ rẹ̀.\n",
            "Predicted by YorubaChatbot: O le forukọsilẹ nipa lilo fọọmu lori oju opo wẹẹbu wa tabi pe wa .\n",
            "-------------------------------------------------------\n",
            "Source Text: Kini awọn kọ́ọ̀sì ti o wa ni apẹrẹ apẹrẹ?\n",
            "Target Text: A ni awọn kọ́ọ̀sì lori apẹrẹ aworan, apẹrẹ oju-iwe wẹẹbù, ati awọn irinṣẹ apẹrẹ.\n",
            "Predicted by YorubaChatbot: A ni awọn kọ́ọ̀sì lori apẹrẹ aworan , apẹrẹ oju - iwe wẹẹbù , ati awọn irinṣẹ apẹrẹ .\n",
            "BLEU score: 0.1630\n",
            "BLEU score for Epoch 23: 0.1630\n"
          ]
        },
        {
          "output_type": "stream",
          "name": "stderr",
          "text": [
            "Processing Epoch 24: 100%|██████████| 580/580 [01:20<00:00,  7.17it/s, loss=1.184]\n"
          ]
        },
        {
          "output_type": "stream",
          "name": "stdout",
          "text": [
            "Validation for Epoch 24\n",
            "-------------------------------------------------------\n",
            "Source Text: Báwo ni mo ṣe le forukọsilẹ fún kọ́ọ̀sì pẹ̀lú?\n",
            "Target Text: Lọ sí ojúewé wa, yan kọ́ọ̀sì náà, kí o sì ṣẹ̀dá ìfọwọ́sowọpọ̀ rẹ̀.\n",
            "Predicted by YorubaChatbot: E kaabo . O jẹ ẹgbẹrun mẹfa naira .\n",
            "-------------------------------------------------------\n",
            "Source Text: Ṣé ẹ ní kọ́ọ̀sì ìmọ̀ ẹ̀rọ aládàáṣiṣẹ́?\n",
            "Target Text: Bẹẹni, a ní kọ́ọ̀sì nípa ìmọ̀ ẹ̀rọ aládàáṣiṣẹ́ àti ìmúlò rẹ̀.\n",
            "Predicted by YorubaChatbot: Bẹẹni , a ni mo ti pa ọ .\n",
            "BLEU score: 0.0000\n",
            "BLEU score for Epoch 24: 0.0000\n"
          ]
        },
        {
          "output_type": "stream",
          "name": "stderr",
          "text": [
            "Processing Epoch 25: 100%|██████████| 580/580 [01:20<00:00,  7.18it/s, loss=1.247]\n"
          ]
        },
        {
          "output_type": "stream",
          "name": "stdout",
          "text": [
            "Validation for Epoch 25\n",
            "-------------------------------------------------------\n",
            "Source Text: Báwo ni mo ṣe le tọ́kasí àwọn olùkọ́?\n",
            "Target Text: Ṣayẹwo ní ojúewé àkọọlẹ rẹ̀, wọlé pẹ̀lú ìkànsí rẹ̀, kí o sì tọ́kasí àwọn olùkọ́ rẹ̀.\n",
            "Predicted by YorubaChatbot: Lo aṣayan ' Ṣe atunṣe ọrọ igbaniwọle ' lori oju opo wẹẹbu wa tabi ni ohun elo mobile wa .\n",
            "-------------------------------------------------------\n",
            "Source Text: Báwo ni mo ṣe le forukọsilẹ fún kọ́ọ̀sì data science?\n",
            "Target Text: Lọ sí ojúewé wa, yan kọ́ọ̀sì náà, kí o sì ṣẹ̀dá ìfọwọ́sowọpọ̀ rẹ̀.\n",
            "Predicted by YorubaChatbot: Fi ohun elo rẹ silẹ pẹlu awọn iwe aṣẹ iṣowo ati alaye .\n",
            "BLEU score: 0.0000\n",
            "BLEU score for Epoch 25: 0.0000\n"
          ]
        },
        {
          "output_type": "stream",
          "name": "stderr",
          "text": [
            "Processing Epoch 26: 100%|██████████| 580/580 [01:20<00:00,  7.16it/s, loss=1.205]\n"
          ]
        },
        {
          "output_type": "stream",
          "name": "stdout",
          "text": [
            "Validation for Epoch 26\n",
            "-------------------------------------------------------\n",
            "Source Text: Ṣé o le ràn mi lọ́wọ́ pẹ̀lú ìṣòro ìkọ̀wé?\n",
            "Target Text: Bẹẹni, fi ìṣòro rẹ̀ hàn mi, kí n lè ràn ẹ́ lọ́wọ́.\n",
            "Predicted by YorubaChatbot: Bẹẹni , di s pa t ch ri d ers wa yoo ri i daju pe aṣẹ naa de ni akoko .\n",
            "-------------------------------------------------------\n",
            "Source Text: Ṣé ẹ ní kọ́ọ̀sì nípa ìmúlò àìlera?\n",
            "Target Text: Bẹẹni, a ní kọ́ọ̀sì nípa ìmúlò àìlera, ìmúlò àwọn ẹ̀tọ́ àti ìṣàkóso àpọ́sítélè.\n",
            "Predicted by YorubaChatbot: Bẹẹni , a ni ọpọlọpọ awọn aṣayan fun awọn ọmọde , pẹlu awọn ere ati awọn kit kọmputa .\n",
            "BLEU score: 0.0000\n",
            "BLEU score for Epoch 26: 0.0000\n"
          ]
        },
        {
          "output_type": "stream",
          "name": "stderr",
          "text": [
            "Processing Epoch 27: 100%|██████████| 580/580 [01:20<00:00,  7.17it/s, loss=1.208]\n"
          ]
        },
        {
          "output_type": "stream",
          "name": "stdout",
          "text": [
            "Validation for Epoch 27\n",
            "-------------------------------------------------------\n",
            "Source Text: Mo ko le wọle si awọn ohun elo kọ́ọ̀sì mi. Kini mo yẹ ki n ṣe?\n",
            "Target Text: Ṣayẹwo orukọ olumulo ati ọrọ igbaniwọle rẹ. Ti iṣoro ba tẹsiwaju, kan si atilẹyin imọ-ẹrọ.\n",
            "Predicted by YorubaChatbot: Ṣayẹwo orukọ olumulo ati ọrọ igbaniwọle rẹ . Ti iṣoro ba tẹsiwaju , kan si atilẹyin imọ - ẹrọ .\n",
            "-------------------------------------------------------\n",
            "Source Text: Kini awọn kọ́ọ̀sì ti o wa ni apẹrẹ apẹrẹ?\n",
            "Target Text: A ni awọn kọ́ọ̀sì lori apẹrẹ aworan, apẹrẹ oju-iwe wẹẹbù, ati awọn irinṣẹ apẹrẹ.\n",
            "Predicted by YorubaChatbot: A ni awọn kọ́ọ̀sì lori apẹrẹ , apẹrẹ aworan , apẹrẹ oju - iwe wẹẹbù , ati apẹrẹ .\n",
            "BLEU score: 0.3138\n",
            "BLEU score for Epoch 27: 0.3138\n"
          ]
        },
        {
          "output_type": "stream",
          "name": "stderr",
          "text": [
            "Processing Epoch 28: 100%|██████████| 580/580 [01:20<00:00,  7.17it/s, loss=1.189]\n"
          ]
        },
        {
          "output_type": "stream",
          "name": "stdout",
          "text": [
            "Validation for Epoch 28\n",
            "-------------------------------------------------------\n",
            "Source Text: Báwo ni mo ṣe le forúkọsílẹ̀ fún ìmúlò ìṣàkóso?\n",
            "Target Text: Lọ sí ojúewé wa, yan ìmúlò ìṣàkóso, kí o sì tẹ̀ sí ìforúkọsílẹ̀ rẹ.\n",
            "Predicted by YorubaChatbot: Ṣé kí n gé e sí wẹ́wẹ́ , kí ń dì í sí pépà ni tàbí kí n fi sílẹ̀ bẹ́ẹ̀ ?\n",
            "-------------------------------------------------------\n",
            "Source Text: Mo ní ìṣòro láti wọlé sí àkọọlẹ mi. Kíni mo yẹ kí n ṣe?\n",
            "Target Text: Ṣayẹwo pé orúkọ àti ìkọ̀wé rẹ̀ jẹ́ tóótọ́, tàbí lo aṣayan ìtunṣe ìkọ̀wé. Ti ìṣòro bá tẹ̀síwájú, bá ẹgbẹ́ ìtọju àwọn oníbàárà sọrọ.\n",
            "Predicted by YorubaChatbot: Kí ló dé tí ẹ tún ń pín in sí méjì ? Mo fẹ́ kí ẹ parí rẹ̀ ní kíá , kí ẹ tún padà wá rà ,.\n",
            "BLEU score: 0.0000\n",
            "BLEU score for Epoch 28: 0.0000\n"
          ]
        },
        {
          "output_type": "stream",
          "name": "stderr",
          "text": [
            "Processing Epoch 29: 100%|██████████| 580/580 [01:21<00:00,  7.16it/s, loss=1.190]\n"
          ]
        },
        {
          "output_type": "stream",
          "name": "stdout",
          "text": [
            "Validation for Epoch 29\n",
            "-------------------------------------------------------\n",
            "Source Text: Mo ko le wọle si awọn ohun elo kọ́ọ̀sì mi. Kini mo yẹ ki n ṣe?\n",
            "Target Text: Ṣayẹwo orukọ olumulo ati ọrọ igbaniwọle rẹ. Ti iṣoro ba tẹsiwaju, kan si atilẹyin imọ-ẹrọ.\n",
            "Predicted by YorubaChatbot: Ṣayẹwo orukọ olumulo ati ọrọ igbaniwọle rẹ . Ti iṣoro ba tẹsiwaju , kan si atilẹyin imọ - ẹrọ .\n",
            "-------------------------------------------------------\n",
            "Source Text: Mo ní ìṣòro pẹ̀lú ìmúlò ìpinnu àkọọlẹ mi. Kíni mo yẹ kí n ṣe?\n",
            "Target Text: Ṣayẹwo gbogbo ìpinnu rẹ̀ àti ìkọ̀wé rẹ̀, tàbí lo aṣayan ìtúnṣe ìkọ̀wé.\n",
            "Predicted by YorubaChatbot: Kí lẹ fẹ́ ? Orí ṣìíríṣìí ni a ní .\n",
            "BLEU score: 0.1798\n",
            "BLEU score for Epoch 29: 0.1798\n"
          ]
        },
        {
          "output_type": "stream",
          "name": "stderr",
          "text": [
            "Processing Epoch 30: 100%|██████████| 580/580 [01:20<00:00,  7.16it/s, loss=1.242]\n"
          ]
        },
        {
          "output_type": "stream",
          "name": "stdout",
          "text": [
            "Validation for Epoch 30\n",
            "-------------------------------------------------------\n",
            "Source Text: Báwo ni mo ṣe le forukọsilẹ fún kọ́ọ̀sì pẹ̀lú?\n",
            "Target Text: Lọ sí ojúewé wa, yan kọ́ọ̀sì náà, kí o sì ṣẹ̀dá ìfọwọ́sowọpọ̀ rẹ̀.\n",
            "Predicted by YorubaChatbot: O le forukọsilẹ lori oju opo wẹẹbu wa tabi pe wa fun iranlọwọ .\n",
            "-------------------------------------------------------\n",
            "Source Text: Ṣe o le ran mi lọwọ pẹlu iṣoro math yii?\n",
            "Target Text: Bẹẹni, jọwọ sọ iṣoro math naa ki n le ran ọ lọwọ.\n",
            "Predicted by YorubaChatbot: Bẹẹni , jọwọ sọ iṣoro math naa ki n le ran ọ lọwọ .\n",
            "BLEU score: 0.3384\n",
            "BLEU score for Epoch 30: 0.3384\n"
          ]
        },
        {
          "output_type": "stream",
          "name": "stderr",
          "text": [
            "Processing Epoch 31: 100%|██████████| 580/580 [01:20<00:00,  7.17it/s, loss=1.194]\n"
          ]
        },
        {
          "output_type": "stream",
          "name": "stdout",
          "text": [
            "Validation for Epoch 31\n",
            "-------------------------------------------------------\n",
            "Source Text: Ṣé o le ṣe ìtúpalẹ̀ ìṣòro èkọ́ ìmúlò mi fún mi?\n",
            "Target Text: Bẹẹni, fi ìṣòro náà hàn mi kí n lè ràn ẹ́ lọ́wọ́.\n",
            "Predicted by YorubaChatbot: Bẹẹni , jọwọ fi nọmba iwe - owo rẹ han ki n le ṣe iranlọwọ .\n",
            "-------------------------------------------------------\n",
            "Source Text: Báwo ni mo ṣe le forúkọsílẹ̀ fún ìmúlò ìṣàkóso?\n",
            "Target Text: Lọ sí ojúewé wa, yan ìmúlò ìṣàkóso, kí o sì tẹ̀ sí ìforúkọsílẹ̀ rẹ.\n",
            "Predicted by YorubaChatbot: Ṣé láti ibí ?\n",
            "BLEU score: 0.0000\n",
            "BLEU score for Epoch 31: 0.0000\n"
          ]
        },
        {
          "output_type": "stream",
          "name": "stderr",
          "text": [
            "Processing Epoch 32: 100%|██████████| 580/580 [01:20<00:00,  7.17it/s, loss=1.189]\n"
          ]
        },
        {
          "output_type": "stream",
          "name": "stdout",
          "text": [
            "Validation for Epoch 32\n",
            "-------------------------------------------------------\n",
            "Source Text: Ṣé o le ṣe ìtúpalẹ̀ ìṣòro èkọ́ ìmúlò mi fún mi?\n",
            "Target Text: Bẹẹni, fi ìṣòro náà hàn mi kí n lè ràn ẹ́ lọ́wọ́.\n",
            "Predicted by YorubaChatbot: Bẹẹni , jọwọ fi nọmba iwe - owo rẹ han ki n le ṣe iranlọwọ .\n",
            "-------------------------------------------------------\n",
            "Source Text: Báwo ni mo ṣe le forúkọsílẹ̀ fún ìmúlò àpẹẹrẹ?\n",
            "Target Text: Lọ sí ojúewé wa, yan ìmúlò àpẹẹrẹ, kí o sì tẹ̀ sí ìforúkọsílẹ̀ rẹ.\n",
            "Predicted by YorubaChatbot: Ẹ lè fi káà dì tabí ṣ ọ̀ wé d owó sanwó ; ẹ sì lè k ’ owó lé wa lọ́wọ́ .\n",
            "BLEU score: 0.0000\n",
            "BLEU score for Epoch 32: 0.0000\n"
          ]
        },
        {
          "output_type": "stream",
          "name": "stderr",
          "text": [
            "Processing Epoch 33: 100%|██████████| 580/580 [01:20<00:00,  7.17it/s, loss=1.139]\n"
          ]
        },
        {
          "output_type": "stream",
          "name": "stdout",
          "text": [
            "Validation for Epoch 33\n",
            "-------------------------------------------------------\n",
            "Source Text: Ṣé ẹ ní kọ́ọ̀sì nípa ìmúlò àìlera?\n",
            "Target Text: Bẹẹni, a ní kọ́ọ̀sì nípa ìmúlò àìlera, ìmúlò àwọn ẹ̀tọ́ àti ìṣàkóso àpọ́sítélè.\n",
            "Predicted by YorubaChatbot: Bẹẹni , a ni ọpọlọpọ awọn aṣayan fun awọn ọmọde , pẹlu awọn ere ati awọn itẹwe .\n",
            "-------------------------------------------------------\n",
            "Source Text: Ṣé o le ràn mi lọ́wọ́ pẹ̀lú ìṣòro ìkọ̀wé?\n",
            "Target Text: Bẹẹni, fi ìṣòro rẹ̀ hàn mi, kí n lè ràn ẹ́ lọ́wọ́.\n",
            "Predicted by YorubaChatbot: Bẹẹni , di s pa t ch ri d ers wa yoo ri i daju pe aṣẹ naa de ni akoko .\n",
            "BLEU score: 0.0000\n",
            "BLEU score for Epoch 33: 0.0000\n"
          ]
        },
        {
          "output_type": "stream",
          "name": "stderr",
          "text": [
            "Processing Epoch 34: 100%|██████████| 580/580 [01:20<00:00,  7.16it/s, loss=1.267]\n"
          ]
        },
        {
          "output_type": "stream",
          "name": "stdout",
          "text": [
            "Validation for Epoch 34\n",
            "-------------------------------------------------------\n",
            "Source Text: Kini awọn kọ́ọ̀sì ti o wa ni apẹrẹ apẹrẹ?\n",
            "Target Text: A ni awọn kọ́ọ̀sì lori apẹrẹ aworan, apẹrẹ oju-iwe wẹẹbù, ati awọn irinṣẹ apẹrẹ.\n",
            "Predicted by YorubaChatbot: A ni awọn kọ́ọ̀sì lori apẹrẹ , apẹrẹ oju - iwe wẹẹbù , ati apẹrẹ ibaraẹnisọrọ .\n",
            "-------------------------------------------------------\n",
            "Source Text: Ṣe o le ran mi lọwọ pẹlu iṣoro math yii?\n",
            "Target Text: Bẹẹni, jọwọ sọ iṣoro math naa ki n le ran ọ lọwọ.\n",
            "Predicted by YorubaChatbot: Bẹẹni , jọwọ sọ iṣoro math naa ki n le ran ọ lọwọ .\n",
            "BLEU score: 0.4898\n",
            "BLEU score for Epoch 34: 0.4898\n"
          ]
        },
        {
          "output_type": "stream",
          "name": "stderr",
          "text": [
            "Processing Epoch 35: 100%|██████████| 580/580 [01:21<00:00,  7.15it/s, loss=1.201]\n"
          ]
        },
        {
          "output_type": "stream",
          "name": "stdout",
          "text": [
            "Validation for Epoch 35\n",
            "-------------------------------------------------------\n",
            "Source Text: Kíni àwọn akọ́lé tí wọ́n wà ní kọ́ọ̀sì ìmúlò àwọn ìṣàkóso?\n",
            "Target Text: A ni kọ́ọ̀sì nípa ìṣàkóso àwọn ìmúlò, ìṣàkóso àìlera, àti Ìṣàkóso àpọ́sítélè.\n",
            "Predicted by YorubaChatbot: Ṣé kí n gé e sí wẹ́wẹ́ , kí ń dì í sí pépà ni tàbí kí n fi sílẹ̀ bẹ́ẹ̀ ?\n",
            "-------------------------------------------------------\n",
            "Source Text: Báwo ni mo ṣe le forúkọsílẹ̀ fún ìmúlò àpẹẹrẹ?\n",
            "Target Text: Lọ sí ojúewé wa, yan ìmúlò àpẹẹrẹ, kí o sì tẹ̀ sí ìforúkọsílẹ̀ rẹ.\n",
            "Predicted by YorubaChatbot: Ẹ lè fi káà dì tabí ṣ ọ̀ wé d owó sanwó ; ẹ sì lè k ’ owó lé wa lọ́wọ́ .\n",
            "BLEU score: 0.0000\n",
            "BLEU score for Epoch 35: 0.0000\n"
          ]
        },
        {
          "output_type": "stream",
          "name": "stderr",
          "text": [
            "Processing Epoch 36: 100%|██████████| 580/580 [01:20<00:00,  7.16it/s, loss=1.184]\n"
          ]
        },
        {
          "output_type": "stream",
          "name": "stdout",
          "text": [
            "Validation for Epoch 36\n",
            "-------------------------------------------------------\n",
            "Source Text: Kíni àwọn kọ́ọ̀sì tí ẹ ní fún ìmúlò òfin?\n",
            "Target Text: A ní kọ́ọ̀sì nípa ìmúlò òfin, ìmúlò àjọṣepọ̀ àti ìṣàkóso òfin.\n",
            "Predicted by YorubaChatbot: Wọ́n ní àkànṣe - ètò fún ìrìnàjò ẹlẹ yọ ẹnìkan : ẹgbẹ̀rún méjì dínl ọgọ́rùn - ún , ó lé ọ̀ rìn dín lẹ́gbẹ̀ rin náírà fún ọjọ́ mẹ́wàá ni C ala bar .\n",
            "-------------------------------------------------------\n",
            "Source Text: Kini awọn kọ́ọ̀sì ti o wa ni apẹrẹ apẹrẹ?\n",
            "Target Text: A ni awọn kọ́ọ̀sì lori apẹrẹ aworan, apẹrẹ oju-iwe wẹẹbù, ati awọn irinṣẹ apẹrẹ.\n",
            "Predicted by YorubaChatbot: A ni awọn kọ́ọ̀sì lori apẹrẹ aworan , apẹrẹ oju - iwe wẹẹbù , ati awọn irinṣẹ apẹrẹ .\n",
            "BLEU score: 0.1630\n",
            "BLEU score for Epoch 36: 0.1630\n"
          ]
        },
        {
          "output_type": "stream",
          "name": "stderr",
          "text": [
            "Processing Epoch 37: 100%|██████████| 580/580 [01:21<00:00,  7.15it/s, loss=1.161]\n"
          ]
        },
        {
          "output_type": "stream",
          "name": "stdout",
          "text": [
            "Validation for Epoch 37\n",
            "-------------------------------------------------------\n",
            "Source Text: Kini awọn kọ́ọ̀sì ti o wa ni apẹrẹ apẹrẹ?\n",
            "Target Text: A ni awọn kọ́ọ̀sì lori apẹrẹ aworan, apẹrẹ oju-iwe wẹẹbù, ati awọn irinṣẹ apẹrẹ.\n",
            "Predicted by YorubaChatbot: A ni awọn kọ́ọ̀sì lori apẹrẹ aworan , apẹrẹ oju - iwe wẹẹbù , ati awọn irinṣẹ apẹrẹ .\n",
            "-------------------------------------------------------\n",
            "Source Text: Ṣé ẹ ní kọ́ọ̀sì nípa ìmúlò àìlera?\n",
            "Target Text: Bẹẹni, a ní kọ́ọ̀sì nípa ìmúlò àìlera, ìmúlò àwọn ẹ̀tọ́ àti ìṣàkóso àpọ́sítélè.\n",
            "Predicted by YorubaChatbot: Bẹẹni , di s pa t ch ri d ers wa yoo ri i daju pe aṣẹ naa de ni akoko .\n",
            "BLEU score: 0.1630\n",
            "BLEU score for Epoch 37: 0.1630\n"
          ]
        },
        {
          "output_type": "stream",
          "name": "stderr",
          "text": [
            "Processing Epoch 38: 100%|██████████| 580/580 [01:21<00:00,  7.16it/s, loss=1.205]\n"
          ]
        },
        {
          "output_type": "stream",
          "name": "stdout",
          "text": [
            "Validation for Epoch 38\n",
            "-------------------------------------------------------\n",
            "Source Text: Bawo ni mo ṣe le forukọsilẹ fun eto data?\n",
            "Target Text: O le forukọsilẹ nipa lilo fọọmu lori oju opo wẹẹbu wa tabi pe wa.\n",
            "Predicted by YorubaChatbot: O le forukọsilẹ lori oju opo wẹẹbu wa tabi pe wa fun iranlọwọ .\n",
            "-------------------------------------------------------\n",
            "Source Text: Mo ko le wọle si awọn ohun elo kọ́ọ̀sì mi. Kini mo yẹ ki n ṣe?\n",
            "Target Text: Ṣayẹwo orukọ olumulo ati ọrọ igbaniwọle rẹ. Ti iṣoro ba tẹsiwaju, kan si atilẹyin imọ-ẹrọ.\n",
            "Predicted by YorubaChatbot: Jọwọ ṣayẹwo orukọ olumulo ati ọrọ igbaniwọle rẹ . Ti iṣoro ba tẹsiwaju , kan si atilẹyin imọ - ẹrọ .\n",
            "BLEU score: 0.4057\n",
            "BLEU score for Epoch 38: 0.4057\n"
          ]
        },
        {
          "output_type": "stream",
          "name": "stderr",
          "text": [
            "Processing Epoch 39: 100%|██████████| 580/580 [01:20<00:00,  7.17it/s, loss=1.203]\n"
          ]
        },
        {
          "output_type": "stream",
          "name": "stdout",
          "text": [
            "Validation for Epoch 39\n",
            "-------------------------------------------------------\n",
            "Source Text: Kini ilana lati gba iwe-ẹri mi?\n",
            "Target Text: Lẹhin ipari eto, iwọ yoo gba iwe-ẹri rẹ nipasẹ imeeli tabi lori oju opo wẹẹbu wa.\n",
            "Predicted by YorubaChatbot: Lẹhin ipari awọn ẹkọ rẹ , iwe - ẹri rẹ yoo jẹ afọwọsi lori oju opo wẹẹbu wa tabi nipasẹ imeeli .\n",
            "-------------------------------------------------------\n",
            "Source Text: Mo ko le wọle si awọn ohun elo kọ́ọ̀sì mi. Kini mo yẹ ki n ṣe?\n",
            "Target Text: Ṣayẹwo orukọ olumulo ati ọrọ igbaniwọle rẹ. Ti iṣoro ba tẹsiwaju, kan si atilẹyin imọ-ẹrọ.\n",
            "Predicted by YorubaChatbot: Ṣayẹwo orukọ olumulo ati ọrọ igbaniwọle rẹ . Ti iṣoro ba tẹsiwaju , kan si atilẹyin imọ - ẹrọ .\n",
            "BLEU score: 0.2589\n",
            "BLEU score for Epoch 39: 0.2589\n"
          ]
        },
        {
          "output_type": "stream",
          "name": "stderr",
          "text": [
            "Processing Epoch 40: 100%|██████████| 580/580 [01:20<00:00,  7.18it/s, loss=1.233]\n"
          ]
        },
        {
          "output_type": "stream",
          "name": "stdout",
          "text": [
            "Validation for Epoch 40\n",
            "-------------------------------------------------------\n",
            "Source Text: Kini ilana lati gba iwe-ẹri mi?\n",
            "Target Text: Lẹhin ipari eto, iwọ yoo gba iwe-ẹri rẹ nipasẹ imeeli tabi lori oju opo wẹẹbu wa.\n",
            "Predicted by YorubaChatbot: Lẹhin ipari awọn ẹkọ rẹ , iwọ yoo gba iwe - ẹri rẹ nipasẹ imeeli tabi lori oju opo wẹẹbu wa .\n",
            "-------------------------------------------------------\n",
            "Source Text: Mo ko le wọle si awọn ohun elo kọ́ọ̀sì mi. Kini mo yẹ ki n ṣe?\n",
            "Target Text: Ṣayẹwo orukọ olumulo ati ọrọ igbaniwọle rẹ. Ti iṣoro ba tẹsiwaju, kan si atilẹyin imọ-ẹrọ.\n",
            "Predicted by YorubaChatbot: Ṣayẹwo orukọ olumulo ati ọrọ igbaniwọle rẹ . Ti iṣoro ba tẹsiwaju , kan si atilẹyin imọ - ẹrọ .\n",
            "BLEU score: 0.3804\n",
            "BLEU score for Epoch 40: 0.3804\n"
          ]
        },
        {
          "output_type": "stream",
          "name": "stderr",
          "text": [
            "Processing Epoch 41: 100%|██████████| 580/580 [01:20<00:00,  7.17it/s, loss=1.234]\n"
          ]
        },
        {
          "output_type": "stream",
          "name": "stdout",
          "text": [
            "Validation for Epoch 41\n",
            "-------------------------------------------------------\n",
            "Source Text: Mo ní ìṣòro láti wọlé sí àkọọlẹ mi. Kíni mo yẹ kí n ṣe?\n",
            "Target Text: Ṣayẹwo pé orúkọ àti ìkọ̀wé rẹ̀ jẹ́ tóótọ́, tàbí lo aṣayan ìtunṣe ìkọ̀wé. Ti ìṣòro bá tẹ̀síwájú, bá ẹgbẹ́ ìtọju àwọn oníbàárà sọrọ.\n",
            "Predicted by YorubaChatbot: Ṣé kí n gé e sí wẹ́wẹ́ , kí ń dì í sí pépà ni tàbí kí n fi sílẹ̀ bẹ́ẹ̀ ?\n",
            "-------------------------------------------------------\n",
            "Source Text: Kini ilana lati gba iwe-ẹri mi?\n",
            "Target Text: Lẹhin ipari eto, iwọ yoo gba iwe-ẹri rẹ nipasẹ imeeli tabi lori oju opo wẹẹbu wa.\n",
            "Predicted by YorubaChatbot: Lẹhin ipari awọn ẹkọ rẹ , iwọ yoo gba iwe - ẹri rẹ nipasẹ imeeli tabi lori oju opo wẹẹbu wa .\n",
            "BLEU score: 0.2006\n",
            "BLEU score for Epoch 41: 0.2006\n"
          ]
        },
        {
          "output_type": "stream",
          "name": "stderr",
          "text": [
            "Processing Epoch 42: 100%|██████████| 580/580 [01:20<00:00,  7.16it/s, loss=1.196]\n"
          ]
        },
        {
          "output_type": "stream",
          "name": "stdout",
          "text": [
            "Validation for Epoch 42\n",
            "-------------------------------------------------------\n",
            "Source Text: Kíni àkójọpọ̀ àwọn ìmúlò tí a ni fún kọ́ọ̀sì ìmúlò òfin?\n",
            "Target Text: A ni àkójọpọ̀ ìmúlò tí a ni fún kọ́ọ̀sì ìmúlò òfin, ìṣàkóso òfin, àti ìmúlò ìṣàkóso.\n",
            "Predicted by YorubaChatbot: Ṣé agbègbè amóoru lẹ máa fẹ́ẹ lọ ni , tàbí olótùútù ?\n",
            "-------------------------------------------------------\n",
            "Source Text: Ṣé o le ṣàlàyé báwo ni mo ṣe le ṣe ìmúlò kọ́ọ̀sì?\n",
            "Target Text: Bẹẹni, fi ìṣòro rẹ̀ hàn mi, kí n lè ràn ẹ́ lọ́wọ́.\n",
            "Predicted by YorubaChatbot: Bẹẹni , a ni laptop pẹlu 16GB RAM ati 1 T B SSD fun iṣẹ - ṣiṣe pupọ .\n",
            "BLEU score: 0.0000\n",
            "BLEU score for Epoch 42: 0.0000\n"
          ]
        },
        {
          "output_type": "stream",
          "name": "stderr",
          "text": [
            "Processing Epoch 43: 100%|██████████| 580/580 [01:20<00:00,  7.18it/s, loss=1.207]\n"
          ]
        },
        {
          "output_type": "stream",
          "name": "stdout",
          "text": [
            "Validation for Epoch 43\n",
            "-------------------------------------------------------\n",
            "Source Text: Ṣé o le ṣe ìtúpalẹ̀ ìṣòro èkọ́ ìmúlò mi fún mi?\n",
            "Target Text: Bẹẹni, fi ìṣòro náà hàn mi kí n lè ràn ẹ́ lọ́wọ́.\n",
            "Predicted by YorubaChatbot: Bẹẹni , lo oju opo wẹẹbu wa tabi ohun elo mobile wa lati ṣe atunṣe ọrọ igbaniwọle .\n",
            "-------------------------------------------------------\n",
            "Source Text: Báwo ni mo ṣe le forukọsilẹ fún kọ́ọ̀sì iṣowo?\n",
            "Target Text: Lọ sí ojúewé wa, yan kọ́ọ̀sì náà, kí o sì ṣẹ̀dá ìfọwọ́sowọpọ̀ rẹ̀.\n",
            "Predicted by YorubaChatbot: O le forukọsilẹ lori oju opo wẹẹbu wa tabi pe wa fun iranlọwọ .\n",
            "BLEU score: 0.0000\n",
            "BLEU score for Epoch 43: 0.0000\n"
          ]
        },
        {
          "output_type": "stream",
          "name": "stderr",
          "text": [
            "Processing Epoch 44: 100%|██████████| 580/580 [01:20<00:00,  7.18it/s, loss=1.215]\n"
          ]
        },
        {
          "output_type": "stream",
          "name": "stdout",
          "text": [
            "Validation for Epoch 44\n",
            "-------------------------------------------------------\n",
            "Source Text: Kini awọn kọ́ọ̀sì ti o wa ni apẹrẹ apẹrẹ?\n",
            "Target Text: A ni awọn kọ́ọ̀sì lori apẹrẹ aworan, apẹrẹ oju-iwe wẹẹbù, ati awọn irinṣẹ apẹrẹ.\n",
            "Predicted by YorubaChatbot: A ni awọn kọ́ọ̀sì lori apẹrẹ aworan , apẹrẹ oju - iwe wẹẹbù , ati awọn irinṣẹ apẹrẹ .\n",
            "-------------------------------------------------------\n",
            "Source Text: Báwo ni mo ṣe le gba ìwé-ẹ̀rí lẹ́yìn ìparí kọ́ọ̀sì?\n",
            "Target Text: Ìwé-ẹ̀rí rẹ̀ yóò fi ránṣẹ́ sí i-meeli rẹ̀ tàbí o lè ṣe ìdáná látàrí ojúewé àkọọlẹ rẹ̀.\n",
            "Predicted by YorubaChatbot: Jọwọ sọ fun wa nipa i firanṣẹ aṣ iṣe naa , ki a le ṣe iranlọwọ ni pataki .\n",
            "BLEU score: 0.1630\n",
            "BLEU score for Epoch 44: 0.1630\n"
          ]
        },
        {
          "output_type": "stream",
          "name": "stderr",
          "text": [
            "Processing Epoch 45: 100%|██████████| 580/580 [01:20<00:00,  7.17it/s, loss=1.163]\n"
          ]
        },
        {
          "output_type": "stream",
          "name": "stdout",
          "text": [
            "Validation for Epoch 45\n",
            "-------------------------------------------------------\n",
            "Source Text: Bawo ni mo ṣe le forukọsilẹ fun eto data?\n",
            "Target Text: O le forukọsilẹ nipa lilo fọọmu lori oju opo wẹẹbu wa tabi pe wa.\n",
            "Predicted by YorubaChatbot: O le forukọsilẹ nipa lilo fọọmu lori oju opo wẹẹbu wa tabi pe wa .\n",
            "-------------------------------------------------------\n",
            "Source Text: Kíni àwọn akọ́lé tí wọ́n wà ní kọ́ọ̀sì ìmúlò àwọn ìṣàkóso?\n",
            "Target Text: A ni kọ́ọ̀sì nípa ìṣàkóso àwọn ìmúlò, ìṣàkóso àìlera, àti Ìṣàkóso àpọ́sítélè.\n",
            "Predicted by YorubaChatbot: Èwo ni ẹ fẹ́ ?\n",
            "BLEU score: 0.4254\n",
            "BLEU score for Epoch 45: 0.4254\n"
          ]
        },
        {
          "output_type": "stream",
          "name": "stderr",
          "text": [
            "Processing Epoch 46: 100%|██████████| 580/580 [01:20<00:00,  7.17it/s, loss=1.251]\n"
          ]
        },
        {
          "output_type": "stream",
          "name": "stdout",
          "text": [
            "Validation for Epoch 46\n",
            "-------------------------------------------------------\n",
            "Source Text: Ṣé ẹ ní kọ́ọ̀sì nípa ìmúlò àìlera?\n",
            "Target Text: Bẹẹni, a ní kọ́ọ̀sì nípa ìmúlò àìlera, ìmúlò àwọn ẹ̀tọ́ àti ìṣàkóso àpọ́sítélè.\n",
            "Predicted by YorubaChatbot: Bẹẹni , a ni awọn aṣayan kan pato tabi ipo kan ti o fẹ ?\n",
            "-------------------------------------------------------\n",
            "Source Text: Mo ní ìṣòro pẹ̀lú ìmúlò ìpinnu àkọọlẹ mi. Kíni mo yẹ kí n ṣe?\n",
            "Target Text: Ṣayẹwo gbogbo ìpinnu rẹ̀ àti ìkọ̀wé rẹ̀, tàbí lo aṣayan ìtúnṣe ìkọ̀wé.\n",
            "Predicted by YorubaChatbot: Jọwọ lọ si oju opo wẹẹbu wa , tẹ ' Ṣe atunṣe ọrọ igbaniwọle ', ki o tẹle awọn ilana .\n",
            "BLEU score: 0.0000\n",
            "BLEU score for Epoch 46: 0.0000\n"
          ]
        },
        {
          "output_type": "stream",
          "name": "stderr",
          "text": [
            "Processing Epoch 47: 100%|██████████| 580/580 [01:20<00:00,  7.18it/s, loss=1.159]\n"
          ]
        },
        {
          "output_type": "stream",
          "name": "stdout",
          "text": [
            "Validation for Epoch 47\n",
            "-------------------------------------------------------\n",
            "Source Text: Bawo ni mo ṣe le forukọsilẹ fun eto data?\n",
            "Target Text: O le forukọsilẹ nipa lilo fọọmu lori oju opo wẹẹbu wa tabi pe wa.\n",
            "Predicted by YorubaChatbot: O le forukọsilẹ lori aaye ayelujara wa tabi pe wa fun iranlọwọ .\n",
            "-------------------------------------------------------\n",
            "Source Text: Ṣé ẹ ní àwọn kọ́ọ̀sì àkọ́kọ́?\n",
            "Target Text: Bẹẹni, a ní kọ́ọ̀sì àkọ́kọ́ nípa ìmọ̀ ẹ̀rọ, ìmúlò iṣẹ́ ọnà àti ìsọ̀kan.\n",
            "Predicted by YorubaChatbot: Bẹ́ẹ̀ni , ọgọ́fà náírà ni . Ṣé kí n dì í ?\n",
            "BLEU score: 0.0000\n",
            "BLEU score for Epoch 47: 0.0000\n"
          ]
        },
        {
          "output_type": "stream",
          "name": "stderr",
          "text": [
            "Processing Epoch 48: 100%|██████████| 580/580 [01:20<00:00,  7.17it/s, loss=1.137]\n"
          ]
        },
        {
          "output_type": "stream",
          "name": "stdout",
          "text": [
            "Validation for Epoch 48\n",
            "-------------------------------------------------------\n",
            "Source Text: Mo ní ìṣòro láti wọlé sí àkọọlẹ mi. Kíni mo yẹ kí n ṣe?\n",
            "Target Text: Ṣayẹwo pé orúkọ àti ìkọ̀wé rẹ̀ jẹ́ tóótọ́, tàbí lo aṣayan ìtunṣe ìkọ̀wé. Ti ìṣòro bá tẹ̀síwájú, bá ẹgbẹ́ ìtọju àwọn oníbàárà sọrọ.\n",
            "Predicted by YorubaChatbot: Ṣé agbègbè amóoru lẹ máa fẹ́ẹ lọ ni , tàbí olótùútù ?\n",
            "-------------------------------------------------------\n",
            "Source Text: Ṣé ẹ ní kọ́ọ̀sì pẹ̀lú ìmúlò rẹ̀?\n",
            "Target Text: Bẹẹni, a ní kọ́ọ̀sì pẹ̀lú ìmúlò àìlera, ìṣàkóso àìlera, àti kọ́ọ̀sì iṣẹ́ ọnà.\n",
            "Predicted by YorubaChatbot: Bẹ́ẹ̀ni , ọgọ́fà náírà ni . Ṣé kí n dì í ?\n",
            "BLEU score: 0.0000\n",
            "BLEU score for Epoch 48: 0.0000\n"
          ]
        },
        {
          "output_type": "stream",
          "name": "stderr",
          "text": [
            "Processing Epoch 49: 100%|██████████| 580/580 [01:20<00:00,  7.18it/s, loss=1.129]\n"
          ]
        },
        {
          "output_type": "stream",
          "name": "stdout",
          "text": [
            "Validation for Epoch 49\n",
            "-------------------------------------------------------\n",
            "Source Text: Mo ní ìṣòro pẹ̀lú ìmúlò ìpinnu àkọọlẹ mi. Kíni mo yẹ kí n ṣe?\n",
            "Target Text: Ṣayẹwo gbogbo ìpinnu rẹ̀ àti ìkọ̀wé rẹ̀, tàbí lo aṣayan ìtúnṣe ìkọ̀wé.\n",
            "Predicted by YorubaChatbot: Alàgbà , kí a lè fí orúkọ yín sílẹ̀ fun àkànṣe - ètò - àjò , ẹ máa san ẹgbẹ̀rún mẹ́wàá naira ; ẹ ó sí fún wa ní ẹ̀dà ìwé - ìdánimọ̀ yín .\n",
            "-------------------------------------------------------\n",
            "Source Text: Ṣé ẹ ní kọ́ọ̀sì nípa ìmúlò àìlera?\n",
            "Target Text: Bẹẹni, a ní kọ́ọ̀sì nípa ìmúlò àìlera, ìmúlò àwọn ẹ̀tọ́ àti ìṣàkóso àpọ́sítélè.\n",
            "Predicted by YorubaChatbot: Bẹ́ẹ̀ni , ọgọ́fà náírà ni . Ṣé kí n dì í ?\n",
            "BLEU score: 0.0000\n",
            "BLEU score for Epoch 49: 0.0000\n"
          ]
        },
        {
          "output_type": "stream",
          "name": "stderr",
          "text": [
            "Processing Epoch 50: 100%|██████████| 580/580 [01:20<00:00,  7.17it/s, loss=1.156]\n"
          ]
        },
        {
          "output_type": "stream",
          "name": "stdout",
          "text": [
            "Validation for Epoch 50\n",
            "-------------------------------------------------------\n",
            "Source Text: Kini awọn kọ́ọ̀sì ti o wa ni apẹrẹ apẹrẹ?\n",
            "Target Text: A ni awọn kọ́ọ̀sì lori apẹrẹ aworan, apẹrẹ oju-iwe wẹẹbù, ati awọn irinṣẹ apẹrẹ.\n",
            "Predicted by YorubaChatbot: A ni awọn kọ́ọ̀sì lori apẹrẹ aworan , apẹrẹ oju - iwe wẹẹbù , ati awọn irinṣẹ apẹrẹ .\n",
            "-------------------------------------------------------\n",
            "Source Text: Ṣé o le ràn mi lọ́wọ́ pẹ̀lú ìmúlò kọ́ọ̀sì?\n",
            "Target Text: Bẹẹni, fi ìṣòro rẹ̀ hàn mi, kí n lè ràn ẹ́ lọ́wọ́.\n",
            "Predicted by YorubaChatbot: Bẹẹni , a ni Iṣẹ́ mi nì yẹn .\n",
            "BLEU score: 0.1630\n",
            "BLEU score for Epoch 50: 0.1630\n"
          ]
        },
        {
          "output_type": "stream",
          "name": "stderr",
          "text": [
            "Processing Epoch 51: 100%|██████████| 580/580 [01:20<00:00,  7.18it/s, loss=1.285]\n"
          ]
        },
        {
          "output_type": "stream",
          "name": "stdout",
          "text": [
            "Validation for Epoch 51\n",
            "-------------------------------------------------------\n",
            "Source Text: Kini awọn kọ́ọ̀sì ti o wa ni apẹrẹ apẹrẹ?\n",
            "Target Text: A ni awọn kọ́ọ̀sì lori apẹrẹ aworan, apẹrẹ oju-iwe wẹẹbù, ati awọn irinṣẹ apẹrẹ.\n",
            "Predicted by YorubaChatbot: A ni awọn kọ́ọ̀sì lori apẹrẹ aworan , apẹrẹ oju - iwe wẹẹbù , ati awọn irinṣẹ apẹrẹ .\n",
            "-------------------------------------------------------\n",
            "Source Text: Kíni àwọn kọ́ọ̀sì tí ẹ ní fún ìmúlò òfin?\n",
            "Target Text: A ní kọ́ọ̀sì nípa ìmúlò òfin, ìmúlò àjọṣepọ̀ àti ìṣàkóso òfin.\n",
            "Predicted by YorubaChatbot: Ṣé kí n gé e sí wẹ́wẹ́ , kí ń dì í sí pépà ni tàbí kí n fi sílẹ̀ bẹ́ẹ̀ ?\n",
            "BLEU score: 0.1630\n",
            "BLEU score for Epoch 51: 0.1630\n"
          ]
        },
        {
          "output_type": "stream",
          "name": "stderr",
          "text": [
            "Processing Epoch 52: 100%|██████████| 580/580 [01:20<00:00,  7.17it/s, loss=1.149]\n"
          ]
        },
        {
          "output_type": "stream",
          "name": "stdout",
          "text": [
            "Validation for Epoch 52\n",
            "-------------------------------------------------------\n",
            "Source Text: Ṣé o le ṣe ìtúpalẹ̀ ìṣòro èkọ́ ìmúlò mi fún mi?\n",
            "Target Text: Bẹẹni, fi ìṣòro náà hàn mi kí n lè ràn ẹ́ lọ́wọ́.\n",
            "Predicted by YorubaChatbot: Bẹẹni , lo oju opo wẹẹbu wa tabi ohun elo mobile wa lati wo itan awọn iṣowo rẹ .\n",
            "-------------------------------------------------------\n",
            "Source Text: Mo ní ìṣòro pẹ̀lú ìfọwọ́sowọpọ̀ mi. Kíni mo yẹ kí n ṣe?\n",
            "Target Text: Ṣayẹwo gbogbo ìfọwọ́sowọpọ̀ rẹ̀, àti ìkọ̀wé rẹ̀, tàbí lo aṣayan ìtúnṣe.\n",
            "Predicted by YorubaChatbot: Ká ní pé o lọ ṣ áà jì fóònù ní ṣọ́ọ̀bù kan , ó wá ṣẹlẹ̀ pé wọ́n ba fóònú ọ̀hún jẹ́ , tàbí wọ́n sọ ọ́ nù , ta ni o ó gbá mú ?\n",
            "BLEU score: 0.0000\n",
            "BLEU score for Epoch 52: 0.0000\n"
          ]
        },
        {
          "output_type": "stream",
          "name": "stderr",
          "text": [
            "Processing Epoch 53: 100%|██████████| 580/580 [01:20<00:00,  7.17it/s, loss=1.173]\n"
          ]
        },
        {
          "output_type": "stream",
          "name": "stdout",
          "text": [
            "Validation for Epoch 53\n",
            "-------------------------------------------------------\n",
            "Source Text: Ṣé o le ṣe ìtúpalẹ̀ ìṣòro èkọ́ ìmúlò mi fún mi?\n",
            "Target Text: Bẹẹni, fi ìṣòro náà hàn mi kí n lè ràn ẹ́ lọ́wọ́.\n",
            "Predicted by YorubaChatbot: Bẹẹni , jọwọ fi nọmba iwe - owo rẹ han fun mi ki n le ṣe ayẹwo rẹ .\n",
            "-------------------------------------------------------\n",
            "Source Text: Ṣé ẹ ní kọ́ọ̀sì àìlera?\n",
            "Target Text: Bẹẹni, a ní kọ́ọ̀sì nípa àìlera, ìmúlò rẹ̀, àti ìtọ́jú.\n",
            "Predicted by YorubaChatbot: Bẹ́ẹ̀ni , mo le din die . Ṣe ẹgbẹrun mẹrin ba ọ ?\n",
            "BLEU score: 0.0000\n",
            "BLEU score for Epoch 53: 0.0000\n"
          ]
        },
        {
          "output_type": "stream",
          "name": "stderr",
          "text": [
            "Processing Epoch 54: 100%|██████████| 580/580 [01:20<00:00,  7.18it/s, loss=1.248]\n"
          ]
        },
        {
          "output_type": "stream",
          "name": "stdout",
          "text": [
            "Validation for Epoch 54\n",
            "-------------------------------------------------------\n",
            "Source Text: Kíni àkójọpọ̀ àwọn ìmúlò tí a ni fún kọ́ọ̀sì ìmọ̀?\n",
            "Target Text: A ni àkójọpọ̀ ìmúlò tí a ni fún kọ́ọ̀sì ìmọ̀ ẹ̀rọ, ìmúlò kọọ̀kan, àti ìtọ́jú.\n",
            "Predicted by YorubaChatbot: Ṣé kí n dì ?\n",
            "-------------------------------------------------------\n",
            "Source Text: Ṣé ẹ ní kọ́ọ̀sì pẹ̀lú ìmúlò?\n",
            "Target Text: Bẹẹni, a ní kọ́ọ̀sì pẹ̀lú ìmúlò àìlera, ìṣàkóso àìlera, àti kọ́ọ̀sì iṣẹ́ ọnà.\n",
            "Predicted by YorubaChatbot: Bẹ́ẹ̀ni , ó wà .\n",
            "BLEU score: 0.0000\n",
            "BLEU score for Epoch 54: 0.0000\n"
          ]
        },
        {
          "output_type": "stream",
          "name": "stderr",
          "text": [
            "Processing Epoch 55: 100%|██████████| 580/580 [01:20<00:00,  7.18it/s, loss=1.191]\n"
          ]
        },
        {
          "output_type": "stream",
          "name": "stdout",
          "text": [
            "Validation for Epoch 55\n",
            "-------------------------------------------------------\n",
            "Source Text: Bawo ni mo ṣe le forukọsilẹ fun eto data?\n",
            "Target Text: O le forukọsilẹ nipa lilo fọọmu lori oju opo wẹẹbu wa tabi pe wa.\n",
            "Predicted by YorubaChatbot: O le forukọsilẹ lori aaye ayelujara wa tabi pe wa fun iranlọwọ .\n",
            "-------------------------------------------------------\n",
            "Source Text: Mo ní ìṣòro láti wọlé sí àkọọlẹ mi. Kíni mo yẹ kí n ṣe?\n",
            "Target Text: Ṣayẹwo pé orúkọ àti ìkọ̀wé rẹ̀ jẹ́ tóótọ́, tàbí lo aṣayan ìtunṣe ìkọ̀wé. Ti ìṣòro bá tẹ̀síwájú, bá ẹgbẹ́ ìtọju àwọn oníbàárà sọrọ.\n",
            "Predicted by YorubaChatbot: Ṣé àwọn tó ń ta àlò kù irin ?\n",
            "BLEU score: 0.0000\n",
            "BLEU score for Epoch 55: 0.0000\n"
          ]
        },
        {
          "output_type": "stream",
          "name": "stderr",
          "text": [
            "Processing Epoch 56: 100%|██████████| 580/580 [01:20<00:00,  7.16it/s, loss=1.149]\n"
          ]
        },
        {
          "output_type": "stream",
          "name": "stdout",
          "text": [
            "Validation for Epoch 56\n",
            "-------------------------------------------------------\n",
            "Source Text: Bawo ni mo ṣe le forukọsilẹ fun eto data?\n",
            "Target Text: O le forukọsilẹ nipa lilo fọọmu lori oju opo wẹẹbu wa tabi pe wa.\n",
            "Predicted by YorubaChatbot: O le forukọsilẹ nipa lilo fọọmu lori oju opo wẹẹbu wa tabi pe wa .\n",
            "-------------------------------------------------------\n",
            "Source Text: Báwo ni mo ṣe le gba ìwé-ẹ̀rí lẹ́yìn ìparí kọ́ọ̀sì?\n",
            "Target Text: Ìwé-ẹ̀rí rẹ̀ yóò fi ránṣẹ́ sí i-meeli rẹ̀ tàbí o lè ṣe ìdáná látàrí ojúewé àkọọlẹ rẹ̀.\n",
            "Predicted by YorubaChatbot: Jọwọ ṣayẹwo orukọ olumulo ati ọrọ igbaniwọle rẹ . Ti iṣoro ba tẹsiwaju , kan si atilẹyin imọ - ẹrọ .\n",
            "BLEU score: 0.4254\n",
            "BLEU score for Epoch 56: 0.4254\n"
          ]
        },
        {
          "output_type": "stream",
          "name": "stderr",
          "text": [
            "Processing Epoch 57: 100%|██████████| 580/580 [01:20<00:00,  7.19it/s, loss=1.149]\n"
          ]
        },
        {
          "output_type": "stream",
          "name": "stdout",
          "text": [
            "Validation for Epoch 57\n",
            "-------------------------------------------------------\n",
            "Source Text: Mo ko le wọle si awọn ohun elo kọ́ọ̀sì mi. Kini mo yẹ ki n ṣe?\n",
            "Target Text: Ṣayẹwo orukọ olumulo ati ọrọ igbaniwọle rẹ. Ti iṣoro ba tẹsiwaju, kan si atilẹyin imọ-ẹrọ.\n",
            "Predicted by YorubaChatbot: Ṣayẹwo orukọ olumulo ati ọrọ igbaniwọle rẹ . Ti iṣoro ba tẹsiwaju , kan si atilẹyin imọ - ẹrọ .\n",
            "-------------------------------------------------------\n",
            "Source Text: Ṣé ẹ ní àwọn kọ́ọ̀sì àkọ́kọ́?\n",
            "Target Text: Bẹẹni, a ní kọ́ọ̀sì àkọ́kọ́ nípa ìmọ̀ ẹ̀rọ, ìmúlò iṣẹ́ ọnà àti ìsọ̀kan.\n",
            "Predicted by YorubaChatbot: Bẹ́ẹ̀ni , ó wà .\n",
            "BLEU score: 0.1798\n",
            "BLEU score for Epoch 57: 0.1798\n"
          ]
        },
        {
          "output_type": "stream",
          "name": "stderr",
          "text": [
            "Processing Epoch 58: 100%|██████████| 580/580 [01:20<00:00,  7.18it/s, loss=1.171]\n"
          ]
        },
        {
          "output_type": "stream",
          "name": "stdout",
          "text": [
            "Validation for Epoch 58\n",
            "-------------------------------------------------------\n",
            "Source Text: Bawo ni mo ṣe le forukọsilẹ fun eto data?\n",
            "Target Text: O le forukọsilẹ nipa lilo fọọmu lori oju opo wẹẹbu wa tabi pe wa.\n",
            "Predicted by YorubaChatbot: O le forukọsilẹ nipa lilo fọọmu lori oju opo wẹẹbu wa tabi pe wa .\n",
            "-------------------------------------------------------\n",
            "Source Text: Báwo ni mo ṣe le gba ìwé-ẹ̀rí lẹ́yìn ìparí kọ́ọ̀sì?\n",
            "Target Text: Ìwé-ẹ̀rí rẹ̀ yóò fi ránṣẹ́ sí i-meeli rẹ̀ tàbí o lè ṣe ìdáná látàrí ojúewé àkọọlẹ rẹ̀.\n",
            "Predicted by YorubaChatbot: Jọwọ ṣayẹwo pe kaadi rẹ jẹ titun ati pe o ni owo to , tabi gbiyanju ọna isanwo miiran .\n",
            "BLEU score: 0.4254\n",
            "BLEU score for Epoch 58: 0.4254\n"
          ]
        },
        {
          "output_type": "stream",
          "name": "stderr",
          "text": [
            "Processing Epoch 59: 100%|██████████| 580/580 [01:20<00:00,  7.17it/s, loss=1.204]\n"
          ]
        },
        {
          "output_type": "stream",
          "name": "stdout",
          "text": [
            "Validation for Epoch 59\n",
            "-------------------------------------------------------\n",
            "Source Text: Kini awọn kọ́ọ̀sì ti o wa ni apẹrẹ apẹrẹ?\n",
            "Target Text: A ni awọn kọ́ọ̀sì lori apẹrẹ aworan, apẹrẹ oju-iwe wẹẹbù, ati awọn irinṣẹ apẹrẹ.\n",
            "Predicted by YorubaChatbot: A ni awọn kọ́ọ̀sì lori apẹrẹ aworan , apẹrẹ oju - iwe wẹẹbù , ati apẹrẹ ibaraẹnisọrọ .\n",
            "-------------------------------------------------------\n",
            "Source Text: Báwo ni mo ṣe le gba ìwé-ẹ̀rí lẹ́yìn ìparí kọ́ọ̀sì?\n",
            "Target Text: Ìwé-ẹ̀rí rẹ̀ yóò fi ránṣẹ́ sí i-meeli rẹ̀ tàbí o lè ṣe ìdáná látàrí ojúewé àkọọlẹ rẹ̀.\n",
            "Predicted by YorubaChatbot: Ẹ káàbọ̀ , sà . Kí ni mo lè ṣe fún yín ?\n",
            "BLEU score: 0.1422\n",
            "BLEU score for Epoch 59: 0.1422\n"
          ]
        },
        {
          "output_type": "display_data",
          "data": {
            "text/plain": [
              "<Figure size 1200x600 with 2 Axes>"
            ],
            "image/png": "[encoded data removed]"
          },
          "metadata": {}
        }
      ]
    },
    {
      "cell_type": "code",
      "source": [
        "def count_parameters(model):\n",
        "    total_params = sum(p.numel() for p in model.parameters())\n",
        "    trainable_params = sum(p.numel() for p in model.parameters() if p.requires_grad)\n",
        "    print(f\"Total parameters: {total_params}\")\n",
        "    print(f\"Trainable parameters: {trainable_params}\")\n",
        "\n",
        "count_parameters(model)"
      ],
      "metadata": {
        "id": "NDqivXbV4pjO",
        "colab": {
          "base_uri": "https://localhost:8080/"
        },
        "outputId": "b7156d0d-2e0e-4675-c89c-8343646a6836"
      },
      "execution_count": null,
      "outputs": [
        {
          "output_type": "stream",
          "name": "stdout",
          "text": [
            "Total parameters: 47072157\n",
            "Trainable parameters: 47072157\n"
          ]
        }
      ]
    },
    {
      "cell_type": "code",
      "source": [
        "##### Lower parameter"
      ],
      "metadata": {
        "id": "4G993CS8YZWx"
      },
      "execution_count": null,
      "outputs": []
    },
    {
      "cell_type": "code",
      "source": [
        "# Example configuration\n",
        "source_vocab_size = tokenizer_en.get_vocab_size()\n",
        "target_vocab_size = tokenizer_my.get_vocab_size()\n",
        "source_seq_len = max_seq_len\n",
        "target_seq_len = max_seq_len\n",
        "d_model = 256\n",
        "num_blocks = 4\n",
        "num_heads = 4\n",
        "d_ff = 1024\n",
        "dropout_rate = 0.1"
      ],
      "metadata": {
        "id": "scuvpxOrSzWL"
      },
      "execution_count": null,
      "outputs": []
    },
    {
      "cell_type": "code",
      "source": [
        "# Build the model with the corrected function call\n",
        "model2 = build_model(\n",
        "    source_vocab_size=source_vocab_size,\n",
        "    target_vocab_size=target_vocab_size,\n",
        "    source_seq_len=source_seq_len,\n",
        "    target_seq_len=target_seq_len,\n",
        "    d_model=d_model,\n",
        "    num_blocks=num_blocks,\n",
        "    num_heads=num_heads,\n",
        "    dropout_rate=dropout_rate,\n",
        "    d_ff=d_ff\n",
        ").to(device)"
      ],
      "metadata": {
        "id": "HT2kj-kAS095"
      },
      "execution_count": null,
      "outputs": []
    },
    {
      "cell_type": "code",
      "source": [
        "def count_parameters(model):\n",
        "    total_params = sum(p.numel() for p in model.parameters())\n",
        "    trainable_params = sum(p.numel() for p in model.parameters() if p.requires_grad)\n",
        "    print(f\"Total parameters: {total_params}\")\n",
        "    print(f\"Trainable parameters: {trainable_params}\")\n",
        "\n",
        "count_parameters(model2)"
      ],
      "metadata": {
        "colab": {
          "base_uri": "https://localhost:8080/"
        },
        "id": "Z4e2qT_ES8t8",
        "outputId": "f87e777f-dc8c-4e8b-c382-33eb76eac1a7"
      },
      "execution_count": null,
      "outputs": [
        {
          "output_type": "stream",
          "name": "stdout",
          "text": [
            "Total parameters: 8858013\n",
            "Trainable parameters: 8858013\n"
          ]
        }
      ]
    },
    {
      "cell_type": "code",
      "source": [
        "import torch\n",
        "import torch.nn as nn\n",
        "\n",
        "class AddAndNorm(nn.Module):\n",
        "    def __init__(self, size, dropout):\n",
        "        super(AddAndNorm, self).__init__()\n",
        "        self.layer_norm = nn.LayerNorm(size)\n",
        "        self.dropout = nn.Dropout(dropout)\n",
        "\n",
        "    def forward(self, input, sub_layer):\n",
        "        output = input + self.dropout(sub_layer(self.layer_norm(input)))\n",
        "        return output\n",
        "\n",
        "class FeedForward(nn.Module):\n",
        "    def __init__(self, size, d_ff, dropout):\n",
        "        super(FeedForward, self).__init__()\n",
        "        self.linear1 = nn.Linear(size, d_ff)\n",
        "        self.linear2 = nn.Linear(d_ff, size)\n",
        "        self.dropout = nn.Dropout(dropout)\n",
        "\n",
        "    def forward(self, x):\n",
        "        return self.linear2(self.dropout(torch.relu(self.linear1(x))))\n",
        "\n",
        "class MultiHeadAttention(nn.Module):\n",
        "    def __init__(self, size, num_heads, dropout):\n",
        "        super(MultiHeadAttention, self).__init__()\n",
        "        assert size % num_heads == 0\n",
        "\n",
        "        self.size = size\n",
        "        self.num_heads = num_heads\n",
        "        self.head_dim = size // num_heads\n",
        "\n",
        "        self.query = nn.Linear(size, size)\n",
        "        self.key = nn.Linear(size, size)\n",
        "        self.value = nn.Linear(size, size)\n",
        "        self.dropout = nn.Dropout(dropout)\n",
        "        self.out = nn.Linear(size, size)\n",
        "\n",
        "    def forward(self, query, key, value, mask):\n",
        "        batch_size = query.size(0)\n",
        "        def transform(x, module):\n",
        "            return module(x).view(batch_size, -1, self.num_heads, self.head_dim).transpose(1, 2)\n",
        "\n",
        "        query = transform(query, self.query)\n",
        "        key = transform(key, self.key)\n",
        "        value = transform(value, self.value)\n",
        "        scores = torch.matmul(query, key.transpose(-2, -1)) / torch.sqrt(torch.tensor(self.head_dim, dtype=torch.float32))\n",
        "        if mask is not None:\n",
        "            scores = scores.masked_fill(mask == 0, -1e9)\n",
        "\n",
        "        attention = torch.softmax(scores, dim=-1)\n",
        "        attention = self.dropout(attention)\n",
        "        x = torch.matmul(attention, value).transpose(1, 2).contiguous().view(batch_size, -1, self.size)\n",
        "        return self.out(x)\n",
        "\n",
        "class EncoderBlock(nn.Module):\n",
        "    def __init__(self, size, num_heads, d_ff, dropout):\n",
        "        super(EncoderBlock, self).__init__()\n",
        "        self.multihead_attention = MultiHeadAttention(size, num_heads, dropout)\n",
        "        self.addnorm_1 = AddAndNorm(size, dropout)\n",
        "        self.feed_forward = FeedForward(size, d_ff, dropout)\n",
        "        self.addnorm_2 = AddAndNorm(size, dropout)\n",
        "\n",
        "    def forward(self, encoder_input, encoder_mask):\n",
        "        encoder_input = self.addnorm_1(encoder_input, lambda x: self.multihead_attention(x, x, x, encoder_mask))\n",
        "        encoder_input = self.addnorm_2(encoder_input, self.feed_forward)\n",
        "        return encoder_input\n",
        "\n",
        "class Encoder(nn.Module):\n",
        "    def __init__(self, size, num_blocks, num_heads, d_ff, dropout):\n",
        "        super(Encoder, self).__init__()\n",
        "        self.encoderblocklist = nn.ModuleList([EncoderBlock(size, num_heads, d_ff, dropout) for _ in range(num_blocks)])\n",
        "        self.layer_norm = nn.LayerNorm(size)\n",
        "\n",
        "    def forward(self, encoder_input, encoder_mask):\n",
        "        for encoderblock in self.encoderblocklist:\n",
        "            encoder_input = encoderblock(encoder_input, encoder_mask)\n",
        "        return self.layer_norm(encoder_input)\n",
        "\n",
        "class TransformerModel(nn.Module):\n",
        "    def __init__(self, source_vocab_size, target_vocab_size, source_seq_len, target_seq_len, d_model, num_blocks, num_heads, d_ff, dropout):\n",
        "        super(TransformerModel, self).__init__()\n",
        "        self.source_embed = nn.Embedding(source_vocab_size, d_model)\n",
        "        self.target_embed = nn.Embedding(target_vocab_size, d_model)\n",
        "        self.source_pos = nn.Embedding(source_seq_len, d_model)\n",
        "        self.target_pos = nn.Embedding(target_seq_len, d_model)\n",
        "        self.encoder = Encoder(d_model, num_blocks, num_heads, d_ff, dropout)\n",
        "        self.decoder = Encoder(d_model, num_blocks, num_heads, d_ff, dropout)  # Using the same Encoder block for simplicity\n",
        "        self.project = nn.Linear(d_model, target_vocab_size)\n",
        "\n",
        "    def encode(self, encoder_input, encoder_mask):\n",
        "        encoder_input = self.source_embed(encoder_input) + self.source_pos(torch.arange(encoder_input.size(1), device=encoder_input.device)).unsqueeze(0)\n",
        "        return self.encoder(encoder_input, encoder_mask)\n",
        "\n",
        "    def decode(self, encoder_output, encoder_mask, decoder_input, decoder_mask):\n",
        "        decoder_input = self.target_embed(decoder_input) + self.target_pos(torch.arange(decoder_input.size(1), device=decoder_input.device)).unsqueeze(0)\n",
        "        return self.decoder(decoder_input, decoder_mask)\n",
        "\n",
        "    def forward(self, encoder_input, encoder_mask, decoder_input, decoder_mask):\n",
        "        encoder_output = self.encode(encoder_input, encoder_mask)\n",
        "        return self.decode(encoder_output, encoder_mask, decoder_input, decoder_mask)\n"
      ],
      "metadata": {
        "id": "gXkYZf8mVb5X"
      },
      "execution_count": null,
      "outputs": []
    },
    {
      "cell_type": "code",
      "source": [
        "def build_model(source_vocab_size, target_vocab_size, source_seq_len, target_seq_len, d_model=512, num_blocks=6, num_heads=8, d_ff=2048, dropout=0.1):\n",
        "    return TransformerModel(source_vocab_size, target_vocab_size, source_seq_len, target_seq_len, d_model, num_blocks, num_heads, d_ff, dropout) # Use the TransformerModel class to create a new model instance"
      ],
      "metadata": {
        "id": "upio3aXNTCrX"
      },
      "execution_count": null,
      "outputs": []
    },
    {
      "cell_type": "code",
      "source": [
        "\n",
        "\n",
        "def causal_mask(size):\n",
        "    mask = torch.triu(torch.ones(size, size), diagonal=1).bool()\n",
        "    return mask\n",
        "\n",
        "def run_evaluation(model2, validation_ds, tokenizer_en, tokenizer_my, max_seq_len, device):\n",
        "    model2.eval()\n",
        "    reference_texts = []\n",
        "    generated_texts = []\n",
        "\n",
        "    with torch.no_grad():\n",
        "        for batch in validation_ds:\n",
        "            encoder_input = batch[\"encoder_input\"].to(device)\n",
        "            encoder_mask = batch[\"encoder_mask\"].to(device)\n",
        "\n",
        "            cls_id = tokenizer_my.token_to_id('[CLS]')\n",
        "            sep_id = tokenizer_my.token_to_id('[SEP]')\n",
        "\n",
        "            encoder_output =model2.encode(encoder_input, encoder_mask)\n",
        "            decoder_input = torch.empty(1, 1).fill_(cls_id).type_as(encoder_input).to(device)\n",
        "\n",
        "            while True:\n",
        "                if decoder_input.size(1) == max_seq_len:\n",
        "                    break\n",
        "\n",
        "                decoder_mask = causal_mask(decoder_input.size(1)).type_as(encoder_mask).to(device)\n",
        "                out = model2.decode(encoder_output, encoder_mask, decoder_input, decoder_mask)\n",
        "                prob = model2.project(out[:, -1])\n",
        "                _, next_word = torch.max(prob, dim=1)\n",
        "                decoder_input = torch.cat(\n",
        "                    [decoder_input, torch.empty(1, 1).type_as(encoder_input).fill_(next_word.item()).to(device)], dim=1\n",
        "                )\n",
        "                if next_word == sep_id:\n",
        "                    break\n",
        "            model_out = decoder_input.squeeze(0)\n",
        "            model_out_text = tokenizer_my.decode(model_out.detach().cpu().numpy())\n",
        "\n",
        "            target_text = batch[\"target_text\"][0]\n",
        "\n",
        "            reference_texts.append([target_text.split()])\n",
        "            generated_texts.append(model_out_text.split())\n",
        "\n",
        "    bleu_score = corpus_bleu(reference_texts, generated_texts)\n",
        "    print(f'BLEU score: {bleu_score:.4f}')\n",
        "    return bleu_score\n",
        "\n",
        "def train_model(model2, train_dataloader, val_dataloader, tokenizer_en, tokenizer_my, max_seq_len, device, preload_epoch=None):\n",
        "    EPOCHS = 30\n",
        "    initial_epoch = 0\n",
        "    global_step = 0\n",
        "\n",
        "    optimizer = torch.optim.Adam(model2.parameters(), lr=3e-4, eps=1e-9)\n",
        "    batch_size = 32  # Adjust the batch size here\n",
        "\n",
        "    if preload_epoch is not None:\n",
        "        model_filename = f\"./Yorubagpt/model_{preload_epoch}.pt\"\n",
        "        state = torch.load(model_filename)\n",
        "        model2.load_state_dict(state['model_state_dict'])\n",
        "        initial_epoch = state['epoch'] + 1\n",
        "        optimizer.load_state_dict(state['optimizer_state_dict'])\n",
        "        global_step = state['global_step']\n",
        "\n",
        "    loss_fn = nn.CrossEntropyLoss(ignore_index=tokenizer_en.token_to_id('[PAD]'), label_smoothing=0.1).to(device)\n",
        "\n",
        "    # Lists to store metrics\n",
        "    train_losses = []\n",
        "    val_bleu_scores = []\n",
        "\n",
        "    for epoch in range(initial_epoch, EPOCHS):\n",
        "        model2.train()\n",
        "        epoch_loss = 0.0\n",
        "        batch_iterator = tqdm(train_dataloader, desc=f\"Processing Epoch {epoch:02d}\")\n",
        "        for batch in batch_iterator:\n",
        "            encoder_input = batch['encoder_input'].to(device)\n",
        "            decoder_input = batch['decoder_input'].to(device)\n",
        "            encoder_mask = batch['encoder_mask'].to(device)\n",
        "            decoder_mask = batch['decoder_mask'].to(device)\n",
        "            target_label = batch['target_label'].to(device)\n",
        "\n",
        "            encoder_output = model2.encode(encoder_input, encoder_mask)\n",
        "            decoder_output = model2.decode(encoder_output, encoder_mask, decoder_input, decoder_mask)\n",
        "            projection_output = model2.project(decoder_output)\n",
        "\n",
        "            loss = loss_fn(projection_output.view(-1, tokenizer_my.get_vocab_size()), target_label.view(-1))\n",
        "            batch_iterator.set_postfix({\"loss\": f\"{loss.item():6.3f}\"})\n",
        "\n",
        "            loss.backward()\n",
        "            optimizer.step()\n",
        "            optimizer.zero_grad(set_to_none=True)\n",
        "\n",
        "            global_step += 1\n",
        "            epoch_loss += loss.item()\n",
        "\n",
        "        epoch_loss /= len(train_dataloader)\n",
        "        train_losses.append(epoch_loss)\n",
        "\n",
        "        # Validation Block\n",
        "        print(f\"Validation for Epoch {epoch}\")\n",
        "        bleu_score = run_evaluation(model2, val_dataloader, tokenizer_en, tokenizer_my, max_seq_len, device)\n",
        "        val_bleu_scores.append(bleu_score)\n",
        "        print(f\"BLEU score for Epoch {epoch}: {bleu_score:.4f}\")\n",
        "\n",
        "        model_filename = f\"./Yorubagpt/model_{epoch}.pt\"\n",
        "        torch.save({\n",
        "            'epoch': epoch,\n",
        "            'model_state_dict': model2.state_dict(),\n",
        "            'optimizer_state_dict': optimizer.state_dict(),\n",
        "            'global_step': global_step\n",
        "        }, model_filename)\n",
        "\n",
        "    # Plotting the results\n",
        "    plt.figure(figsize=(12, 6))\n",
        "\n",
        "    plt.subplot(1, 2, 1)\n",
        "    plt.plot(range(1, EPOCHS + 1), train_losses, marker='o', label='Training Loss')\n",
        "    plt.xlabel('Epoch')\n",
        "    plt.ylabel('Loss')\n",
        "    plt.title('Training Loss over Epochs')\n",
        "    plt.legend()\n",
        "\n",
        "    plt.subplot(1, 2, 2)\n",
        "    plt.plot(range(1, EPOCHS + 1), val_bleu_scores, marker='o', label='Validation BLEU Score', color='orange')\n",
        "    plt.xlabel('Epoch')\n",
        "    plt.ylabel('BLEU Score')\n",
        "    plt.title('Validation BLEU Score over Epochs')\n",
        "    plt.legend()\n",
        "\n",
        "    plt.tight_layout()\n",
        "    plt.show()\n",
        "\n",
        "# Example configuration\n",
        "source_vocab_size = tokenizer_en.get_vocab_size()\n",
        "target_vocab_size = tokenizer_my.get_vocab_size()\n",
        "source_seq_len = max_seq_len\n",
        "target_seq_len = max_seq_len\n",
        "d_model = 256\n",
        "num_blocks = 4\n",
        "num_heads = 4\n",
        "d_ff = 1024\n",
        "#dropout_rate = 0.1\n",
        "\n",
        "# Build the model with the corrected function call\n",
        "model2 = build_model(\n",
        "    source_vocab_size=source_vocab_size,\n",
        "    target_vocab_size=target_vocab_size,\n",
        "    source_seq_len=source_seq_len,\n",
        "    target_seq_len=target_seq_len,\n",
        "    d_model=d_model,\n",
        "    num_blocks=num_blocks,\n",
        "    num_heads=num_heads,\n",
        "    d_ff=d_ff\n",
        ").to(device)\n",
        "\n",
        "# Assuming `train_dataloader`, `val_dataloader`, `tokenizer_en`, `tokenizer_my`, and `device` are defined elsewhere\n",
        "train_model(model2, train_dataloader, val_dataloader, tokenizer_en, tokenizer_my, source_seq_len, device)\n"
      ],
      "metadata": {
        "colab": {
          "base_uri": "https://localhost:8080/"
        },
        "id": "jsq_6qalXbVI",
        "outputId": "f11a4969-70b7-4f4b-d539-086d3470feec"
      },
      "execution_count": null,
      "outputs": [
        {
          "metadata": {
            "tags": null
          },
          "name": "stderr",
          "output_type": "stream",
          "text": [
            "Processing Epoch 00: 100%|██████████| 581/581 [00:17<00:00, 32.42it/s, loss=1.129]\n"
          ]
        },
        {
          "metadata": {
            "tags": null
          },
          "name": "stdout",
          "output_type": "stream",
          "text": [
            "Validation for Epoch 0\n",
            "BLEU score: 0.0000\n",
            "BLEU score for Epoch 0: 0.0000\n"
          ]
        },
        {
          "metadata": {
            "tags": null
          },
          "name": "stderr",
          "output_type": "stream",
          "text": [
            "Processing Epoch 01: 100%|██████████| 581/581 [00:17<00:00, 32.40it/s, loss=1.285]\n"
          ]
        },
        {
          "metadata": {
            "tags": null
          },
          "name": "stdout",
          "output_type": "stream",
          "text": [
            "Validation for Epoch 1\n",
            "BLEU score: 0.0000\n",
            "BLEU score for Epoch 1: 0.0000\n"
          ]
        },
        {
          "metadata": {
            "tags": null
          },
          "name": "stderr",
          "output_type": "stream",
          "text": [
            "Processing Epoch 02: 100%|██████████| 581/581 [00:16<00:00, 34.35it/s, loss=1.421]\n"
          ]
        },
        {
          "metadata": {
            "tags": null
          },
          "name": "stdout",
          "output_type": "stream",
          "text": [
            "Validation for Epoch 2\n",
            "BLEU score: 0.0000\n",
            "BLEU score for Epoch 2: 0.0000\n"
          ]
        },
        {
          "metadata": {
            "tags": null
          },
          "name": "stderr",
          "output_type": "stream",
          "text": [
            "Processing Epoch 03: 100%|██████████| 581/581 [00:17<00:00, 33.77it/s, loss=1.749]\n"
          ]
        },
        {
          "metadata": {
            "tags": null
          },
          "name": "stdout",
          "output_type": "stream",
          "text": [
            "Validation for Epoch 3\n",
            "BLEU score: 0.0000\n",
            "BLEU score for Epoch 3: 0.0000\n"
          ]
        },
        {
          "metadata": {
            "tags": null
          },
          "name": "stderr",
          "output_type": "stream",
          "text": [
            "Processing Epoch 04: 100%|██████████| 581/581 [00:17<00:00, 34.13it/s, loss=1.130]\n"
          ]
        },
        {
          "metadata": {
            "tags": null
          },
          "name": "stdout",
          "output_type": "stream",
          "text": [
            "Validation for Epoch 4\n",
            "BLEU score: 0.0000\n",
            "BLEU score for Epoch 4: 0.0000\n"
          ]
        },
        {
          "metadata": {
            "tags": null
          },
          "name": "stderr",
          "output_type": "stream",
          "text": [
            "Processing Epoch 05: 100%|██████████| 581/581 [00:16<00:00, 34.97it/s, loss=1.112]\n"
          ]
        },
        {
          "metadata": {
            "tags": null
          },
          "name": "stdout",
          "output_type": "stream",
          "text": [
            "Validation for Epoch 5\n",
            "BLEU score: 0.0000\n",
            "BLEU score for Epoch 5: 0.0000\n"
          ]
        },
        {
          "metadata": {
            "tags": null
          },
          "name": "stderr",
          "output_type": "stream",
          "text": [
            "Processing Epoch 06: 100%|██████████| 581/581 [00:16<00:00, 35.12it/s, loss=1.131]\n"
          ]
        },
        {
          "metadata": {
            "tags": null
          },
          "name": "stdout",
          "output_type": "stream",
          "text": [
            "Validation for Epoch 6\n",
            "BLEU score: 0.0000\n",
            "BLEU score for Epoch 6: 0.0000\n"
          ]
        },
        {
          "metadata": {
            "tags": null
          },
          "name": "stderr",
          "output_type": "stream",
          "text": [
            "Processing Epoch 07: 100%|██████████| 581/581 [00:17<00:00, 34.07it/s, loss=1.114]\n"
          ]
        },
        {
          "metadata": {
            "tags": null
          },
          "name": "stdout",
          "output_type": "stream",
          "text": [
            "Validation for Epoch 7\n",
            "BLEU score: 0.0000\n",
            "BLEU score for Epoch 7: 0.0000\n"
          ]
        },
        {
          "metadata": {
            "tags": null
          },
          "name": "stderr",
          "output_type": "stream",
          "text": [
            "Processing Epoch 08: 100%|██████████| 581/581 [00:17<00:00, 32.82it/s, loss=1.127]\n"
          ]
        },
        {
          "metadata": {
            "tags": null
          },
          "name": "stdout",
          "output_type": "stream",
          "text": [
            "Validation for Epoch 8\n",
            "BLEU score: 0.0000\n",
            "BLEU score for Epoch 8: 0.0000\n"
          ]
        },
        {
          "metadata": {
            "tags": null
          },
          "name": "stderr",
          "output_type": "stream",
          "text": [
            "Processing Epoch 09: 100%|██████████| 581/581 [00:16<00:00, 35.02it/s, loss=1.107]\n"
          ]
        },
        {
          "metadata": {
            "tags": null
          },
          "name": "stdout",
          "output_type": "stream",
          "text": [
            "Validation for Epoch 9\n",
            "BLEU score: 0.0000\n",
            "BLEU score for Epoch 9: 0.0000\n"
          ]
        },
        {
          "metadata": {
            "tags": null
          },
          "name": "stderr",
          "output_type": "stream",
          "text": [
            "Processing Epoch 10: 100%|██████████| 581/581 [00:16<00:00, 34.62it/s, loss=1.113]\n"
          ]
        },
        {
          "metadata": {
            "tags": null
          },
          "name": "stdout",
          "output_type": "stream",
          "text": [
            "Validation for Epoch 10\n",
            "BLEU score: 0.0000\n",
            "BLEU score for Epoch 10: 0.0000\n"
          ]
        },
        {
          "metadata": {
            "tags": null
          },
          "name": "stderr",
          "output_type": "stream",
          "text": [
            "Processing Epoch 11: 100%|██████████| 581/581 [00:17<00:00, 33.79it/s, loss=1.107]\n"
          ]
        },
        {
          "metadata": {
            "tags": null
          },
          "name": "stdout",
          "output_type": "stream",
          "text": [
            "Validation for Epoch 11\n",
            "BLEU score: 0.0000\n",
            "BLEU score for Epoch 11: 0.0000\n"
          ]
        },
        {
          "metadata": {
            "tags": null
          },
          "name": "stderr",
          "output_type": "stream",
          "text": [
            "Processing Epoch 12: 100%|██████████| 581/581 [00:18<00:00, 32.16it/s, loss=1.108]\n"
          ]
        },
        {
          "metadata": {
            "tags": null
          },
          "name": "stdout",
          "output_type": "stream",
          "text": [
            "Validation for Epoch 12\n",
            "BLEU score: 0.0000\n",
            "BLEU score for Epoch 12: 0.0000\n"
          ]
        },
        {
          "metadata": {
            "tags": null
          },
          "name": "stderr",
          "output_type": "stream",
          "text": [
            "Processing Epoch 13: 100%|██████████| 581/581 [00:18<00:00, 31.87it/s, loss=1.088]\n"
          ]
        },
        {
          "metadata": {
            "tags": null
          },
          "name": "stdout",
          "output_type": "stream",
          "text": [
            "Validation for Epoch 13\n",
            "BLEU score: 0.0000\n",
            "BLEU score for Epoch 13: 0.0000\n"
          ]
        },
        {
          "metadata": {
            "tags": null
          },
          "name": "stderr",
          "output_type": "stream",
          "text": [
            "Processing Epoch 14: 100%|██████████| 581/581 [00:17<00:00, 32.66it/s, loss=1.092]\n"
          ]
        },
        {
          "metadata": {
            "tags": null
          },
          "name": "stdout",
          "output_type": "stream",
          "text": [
            "Validation for Epoch 14\n",
            "BLEU score: 0.0000\n",
            "BLEU score for Epoch 14: 0.0000\n"
          ]
        },
        {
          "metadata": {
            "tags": null
          },
          "name": "stderr",
          "output_type": "stream",
          "text": [
            "Processing Epoch 15: 100%|██████████| 581/581 [00:17<00:00, 32.86it/s, loss=1.095]\n"
          ]
        },
        {
          "metadata": {
            "tags": null
          },
          "name": "stdout",
          "output_type": "stream",
          "text": [
            "Validation for Epoch 15\n",
            "BLEU score: 0.0000\n",
            "BLEU score for Epoch 15: 0.0000\n"
          ]
        },
        {
          "metadata": {
            "tags": null
          },
          "name": "stderr",
          "output_type": "stream",
          "text": [
            "Processing Epoch 16: 100%|██████████| 581/581 [00:18<00:00, 32.17it/s, loss=1.114]\n"
          ]
        },
        {
          "metadata": {
            "tags": null
          },
          "name": "stdout",
          "output_type": "stream",
          "text": [
            "Validation for Epoch 16\n",
            "BLEU score: 0.0000\n",
            "BLEU score for Epoch 16: 0.0000\n"
          ]
        },
        {
          "metadata": {
            "tags": null
          },
          "name": "stderr",
          "output_type": "stream",
          "text": [
            "Processing Epoch 17: 100%|██████████| 581/581 [00:17<00:00, 33.24it/s, loss=1.107]\n"
          ]
        },
        {
          "metadata": {
            "tags": null
          },
          "name": "stdout",
          "output_type": "stream",
          "text": [
            "Validation for Epoch 17\n",
            "BLEU score: 0.0000\n",
            "BLEU score for Epoch 17: 0.0000\n"
          ]
        },
        {
          "metadata": {
            "tags": null
          },
          "name": "stderr",
          "output_type": "stream",
          "text": [
            "Processing Epoch 18: 100%|██████████| 581/581 [00:17<00:00, 32.93it/s, loss=1.100]\n"
          ]
        },
        {
          "metadata": {
            "tags": null
          },
          "name": "stdout",
          "output_type": "stream",
          "text": [
            "Validation for Epoch 18\n",
            "BLEU score: 0.0000\n",
            "BLEU score for Epoch 18: 0.0000\n"
          ]
        },
        {
          "metadata": {
            "tags": null
          },
          "name": "stderr",
          "output_type": "stream",
          "text": [
            "Processing Epoch 19: 100%|██████████| 581/581 [00:18<00:00, 31.81it/s, loss=1.120]\n"
          ]
        },
        {
          "metadata": {
            "tags": null
          },
          "name": "stdout",
          "output_type": "stream",
          "text": [
            "Validation for Epoch 19\n",
            "BLEU score: 0.0000\n",
            "BLEU score for Epoch 19: 0.0000\n"
          ]
        },
        {
          "metadata": {
            "tags": null
          },
          "name": "stderr",
          "output_type": "stream",
          "text": [
            "Processing Epoch 20: 100%|██████████| 581/581 [00:17<00:00, 33.24it/s, loss=1.100]\n"
          ]
        },
        {
          "metadata": {
            "tags": null
          },
          "name": "stdout",
          "output_type": "stream",
          "text": [
            "Validation for Epoch 20\n",
            "BLEU score: 0.0000\n",
            "BLEU score for Epoch 20: 0.0000\n"
          ]
        },
        {
          "metadata": {
            "tags": null
          },
          "name": "stderr",
          "output_type": "stream",
          "text": [
            "Processing Epoch 21: 100%|██████████| 581/581 [00:17<00:00, 33.86it/s, loss=1.094]\n"
          ]
        },
        {
          "metadata": {
            "tags": null
          },
          "name": "stdout",
          "output_type": "stream",
          "text": [
            "Validation for Epoch 21\n",
            "BLEU score: 0.0000\n",
            "BLEU score for Epoch 21: 0.0000\n"
          ]
        },
        {
          "metadata": {
            "tags": null
          },
          "name": "stderr",
          "output_type": "stream",
          "text": [
            "Processing Epoch 22: 100%|██████████| 581/581 [00:17<00:00, 33.19it/s, loss=1.095]\n"
          ]
        },
        {
          "metadata": {
            "tags": null
          },
          "name": "stdout",
          "output_type": "stream",
          "text": [
            "Validation for Epoch 22\n",
            "BLEU score: 0.0000\n",
            "BLEU score for Epoch 22: 0.0000\n"
          ]
        },
        {
          "metadata": {
            "tags": null
          },
          "name": "stderr",
          "output_type": "stream",
          "text": [
            "Processing Epoch 23: 100%|██████████| 581/581 [00:18<00:00, 31.86it/s, loss=1.095]\n"
          ]
        },
        {
          "output_type": "stream",
          "name": "stdout",
          "text": [
            "Validation for Epoch 23\n",
            "BLEU score: 0.0000\n",
            "BLEU score for Epoch 23: 0.0000\n"
          ]
        },
        {
          "output_type": "stream",
          "name": "stderr",
          "text": [
            "Processing Epoch 24: 100%|██████████| 581/581 [00:19<00:00, 30.17it/s, loss=1.100]\n"
          ]
        },
        {
          "output_type": "stream",
          "name": "stdout",
          "text": [
            "Validation for Epoch 24\n"
          ]
        }
      ]
    },
    {
      "cell_type": "code",
      "source": [
        "##3\n",
        "\n",
        "def causal_mask(size):\n",
        "    mask = torch.triu(torch.ones(size, size), diagonal=1).bool()\n",
        "    return mask\n",
        "\n",
        "def run_evaluation(transformer_model, validation_ds, tokenizer_en, tokenizer_my, max_seq_len, device):\n",
        "    transformer_model.eval()\n",
        "    reference_texts = []\n",
        "    generated_texts = []\n",
        "\n",
        "    with torch.no_grad():\n",
        "        for batch in validation_ds:\n",
        "            encoder_input = batch[\"encoder_input\"].to(device)\n",
        "            encoder_mask = batch[\"encoder_mask\"].to(device)\n",
        "\n",
        "            cls_id = tokenizer_my.token_to_id('[CLS]')\n",
        "            sep_id = tokenizer_my.token_to_id('[SEP]')\n",
        "\n",
        "            encoder_output = transformer_model.encode(encoder_input, encoder_mask)\n",
        "            decoder_input = torch.empty(1, 1).fill_(cls_id).type_as(encoder_input).to(device)\n",
        "\n",
        "            while True:\n",
        "                if decoder_input.size(1) == max_seq_len:\n",
        "                    break\n",
        "\n",
        "                decoder_mask = causal_mask(decoder_input.size(1)).type_as(encoder_mask).to(device)\n",
        "                out = transformer_model.decode(encoder_output, encoder_mask, decoder_input, decoder_mask)\n",
        "                prob = transformer_model.project(out[:, -1])\n",
        "                _, next_word = torch.max(prob, dim=1)\n",
        "                decoder_input = torch.cat(\n",
        "                    [decoder_input, torch.empty(1, 1).type_as(encoder_input).fill_(next_word.item()).to(device)], dim=1\n",
        "                )\n",
        "                if next_word == sep_id:\n",
        "                    break\n",
        "            model_out = decoder_input.squeeze(0)\n",
        "            model_out_text = tokenizer_my.decode(model_out.detach().cpu().numpy())\n",
        "\n",
        "            target_text = batch[\"target_text\"][0]\n",
        "\n",
        "            reference_texts.append([target_text.split()])\n",
        "            generated_texts.append(model_out_text.split())\n",
        "\n",
        "    bleu_score = corpus_bleu(reference_texts, generated_texts)\n",
        "    print(f'BLEU score: {bleu_score:.4f}')\n",
        "    return bleu_score\n",
        "\n",
        "def train_model(transformer_model, train_dataloader, val_dataloader, tokenizer_en, tokenizer_my, max_seq_len, device, preload_epoch=None):\n",
        "    EPOCHS = 30\n",
        "    initial_epoch = 0\n",
        "    global_step = 0\n",
        "\n",
        "    optimizer = torch.optim.Adam(transformer_model.parameters(), lr=3e-4, eps=1e-9)\n",
        "    batch_size = 32  # Adjust the batch size here\n",
        "\n",
        "    if preload_epoch is not None:\n",
        "        model_filename = f\"./Yorubagpt/model_{preload_epoch}.pt\"\n",
        "        state = torch.load(model_filename)\n",
        "        transformer_model.load_state_dict(state['model_state_dict'])\n",
        "        initial_epoch = state['epoch'] + 1\n",
        "        optimizer.load_state_dict(state['optimizer_state_dict'])\n",
        "        global_step = state['global_step']\n",
        "\n",
        "    loss_fn = nn.CrossEntropyLoss(ignore_index=tokenizer_en.token_to_id('[PAD]'), label_smoothing=0.1).to(device)\n",
        "\n",
        "    # Lists to store metrics\n",
        "    train_losses = []\n",
        "    val_bleu_scores = []\n",
        "\n",
        "    for epoch in range(initial_epoch, EPOCHS):\n",
        "        transformer_model.train()\n",
        "        epoch_loss = 0.0\n",
        "        batch_iterator = tqdm(train_dataloader, desc=f\"Processing Epoch {epoch:02d}\")\n",
        "        for batch in batch_iterator:\n",
        "            encoder_input = batch['encoder_input'].to(device)\n",
        "            decoder_input = batch['decoder_input'].to(device)\n",
        "            encoder_mask = batch['encoder_mask'].to(device)\n",
        "            decoder_mask = batch['decoder_mask'].to(device)\n",
        "            target_label = batch['target_label'].to(device)\n",
        "\n",
        "            encoder_output = transformer_model.encode(encoder_input, encoder_mask)\n",
        "            decoder_output = transformer_model.decode(encoder_output, encoder_mask, decoder_input, decoder_mask)\n",
        "            projection_output = transformer_model.project(decoder_output)\n",
        "\n",
        "            loss = loss_fn(projection_output.view(-1, tokenizer_my.get_vocab_size()), target_label.view(-1))\n",
        "            batch_iterator.set_postfix({\"loss\": f\"{loss.item():6.3f}\"})\n",
        "\n",
        "            loss.backward()\n",
        "            optimizer.step()\n",
        "            optimizer.zero_grad(set_to_none=True)\n",
        "\n",
        "            global_step += 1\n",
        "            epoch_loss += loss.item()\n",
        "\n",
        "        epoch_loss /= len(train_dataloader)\n",
        "        train_losses.append(epoch_loss)\n",
        "\n",
        "        # Validation Block\n",
        "        print(f\"Validation for Epoch {epoch}\")\n",
        "        bleu_score = run_evaluation(transformer_model, val_dataloader, tokenizer_en, tokenizer_my, max_seq_len, device)\n",
        "        val_bleu_scores.append(bleu_score)\n",
        "        print(f\"BLEU score for Epoch {epoch}: {bleu_score:.4f}\")\n",
        "\n",
        "        model_filename = f\"./Yorubagpt/model_{epoch}.pt\"\n",
        "        torch.save({\n",
        "            'epoch': epoch,\n",
        "            'model_state_dict': transformer_model.state_dict(),\n",
        "            'optimizer_state_dict': optimizer.state_dict(),\n",
        "            'global_step': global_step\n",
        "        }, model_filename)\n",
        "\n",
        "    # Plotting the results\n",
        "    plt.figure(figsize=(12, 6))\n",
        "\n",
        "    plt.subplot(1, 2, 1)\n",
        "    plt.plot(range(1, EPOCHS + 1), train_losses, marker='o', label='Training Loss')\n",
        "    plt.xlabel('Epoch')\n",
        "    plt.ylabel('Loss')\n",
        "    plt.title('Training Loss over Epochs')\n",
        "    plt.legend()\n",
        "\n",
        "    plt.subplot(1, 2, 2)\n",
        "    plt.plot(range(1, EPOCHS + 1), val_bleu_scores, marker='o', label='Validation BLEU Score', color='orange')\n",
        "    plt.xlabel('Epoch')\n",
        "    plt.ylabel('BLEU Score')\n",
        "    plt.title('Validation BLEU Score over Epochs')\n",
        "    plt.legend()\n",
        "\n",
        "    plt.tight_layout()\n",
        "    plt.show()\n",
        "\n",
        "\n",
        "# Example configuration\n",
        "source_vocab_size = tokenizer_en.get_vocab_size()\n",
        "target_vocab_size = tokenizer_my.get_vocab_size()\n",
        "source_seq_len = max_seq_len\n",
        "target_seq_len = max_seq_len\n",
        "d_model = 512\n",
        "num_blocks = 6\n",
        "num_heads = 8\n",
        "d_ff = 2038\n",
        "#dropout_rate = 0.1\n",
        "\n",
        "# Build the model with the corrected function call\n",
        "transformer_model2 = build_model(\n",
        "    source_vocab_size=source_vocab_size,\n",
        "    target_vocab_size=target_vocab_size,\n",
        "    source_seq_len=source_seq_len,\n",
        "    target_seq_len=target_seq_len,\n",
        "    d_model=d_model,\n",
        "    num_blocks=num_blocks,\n",
        "    num_heads=num_heads,\n",
        "    d_ff=d_ff\n",
        ").to(device)\n"
      ],
      "metadata": {
        "id": "lJIkrSMyWy6s"
      },
      "execution_count": null,
      "outputs": []
    },
    {
      "cell_type": "code",
      "source": [
        "# Assuming `train_dataloader`, `val_dataloader`, `tokenizer_en`, `tokenizer_my`, and `device` are defined elsewhere\n",
        "train_model(transformer_model2, train_dataloader, val_dataloader, tokenizer_en, tokenizer_my, source_seq_len, device)"
      ],
      "metadata": {
        "colab": {
          "base_uri": "https://localhost:8080/",
          "height": 844
        },
        "id": "8fm6WjMGlbF0",
        "outputId": "ff1cf3f1-8a33-4156-9d46-a6f2f1b68704"
      },
      "execution_count": null,
      "outputs": [
        {
          "output_type": "stream",
          "name": "stderr",
          "text": [
            "Processing Epoch 00: 100%|██████████| 222/222 [00:17<00:00, 12.96it/s, loss=3.599]\n"
          ]
        },
        {
          "output_type": "stream",
          "name": "stdout",
          "text": [
            "Validation for Epoch 0\n",
            "BLEU score: 0.0000\n",
            "BLEU score for Epoch 0: 0.0000\n"
          ]
        },
        {
          "output_type": "stream",
          "name": "stderr",
          "text": [
            "Processing Epoch 01: 100%|██████████| 222/222 [00:17<00:00, 12.39it/s, loss=1.087]\n"
          ]
        },
        {
          "output_type": "stream",
          "name": "stdout",
          "text": [
            "Validation for Epoch 1\n",
            "BLEU score: 0.0000\n",
            "BLEU score for Epoch 1: 0.0000\n"
          ]
        },
        {
          "output_type": "stream",
          "name": "stderr",
          "text": [
            "Processing Epoch 02: 100%|██████████| 222/222 [00:18<00:00, 12.28it/s, loss=1.115]\n"
          ]
        },
        {
          "output_type": "stream",
          "name": "stdout",
          "text": [
            "Validation for Epoch 2\n",
            "BLEU score: 0.0000\n",
            "BLEU score for Epoch 2: 0.0000\n"
          ]
        },
        {
          "output_type": "stream",
          "name": "stderr",
          "text": [
            "Processing Epoch 03: 100%|██████████| 222/222 [00:18<00:00, 12.32it/s, loss=1.087]\n"
          ]
        },
        {
          "output_type": "stream",
          "name": "stdout",
          "text": [
            "Validation for Epoch 3\n",
            "BLEU score: 0.0000\n",
            "BLEU score for Epoch 3: 0.0000\n"
          ]
        },
        {
          "output_type": "stream",
          "name": "stderr",
          "text": [
            "Processing Epoch 04: 100%|██████████| 222/222 [00:18<00:00, 12.23it/s, loss=1.079]\n"
          ]
        },
        {
          "output_type": "stream",
          "name": "stdout",
          "text": [
            "Validation for Epoch 4\n",
            "BLEU score: 0.0000\n",
            "BLEU score for Epoch 4: 0.0000\n"
          ]
        },
        {
          "output_type": "display_data",
          "data": {
            "text/plain": [
              "<Figure size 1200x600 with 2 Axes>"
            ],
            "image/png": "[encoded data removed]"
          },
          "metadata": {}
        }
      ]
    }
  ]
}