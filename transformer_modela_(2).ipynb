{
  "cells": [
    {
      "cell_type": "markdown",
      "id": "fa032160",
      "metadata": {
        "id": "fa032160"
      },
      "source": [
        "# In this notebook, I'll try to apply TRANSFORMER model for a CHATBOT from scratch"
      ]
    },
    {
      "cell_type": "markdown",
      "id": "698a1320",
      "metadata": {
        "id": "698a1320"
      },
      "source": [
        "## Overview\n",
        "***\n",
        "*A chatbot or chatterbot is a software application used to conduct an on-line chat conversation via text or text-to-speech, in lieu of providing direct contact with a live human agent chatbot is a type of software that can help human by automating conversations and interact with them through messaging platforms. here are different approaches and tools that you can use when building chatbots. Depending on the use case you want to address, some technologies are more appropriate than others. Combining artificial intelligence forms such as natural language processing, machine learning, and semantic understanding may be the best option to achieve the desired results.*\n",
        "***\n"
      ]
    },
    {
      "cell_type": "markdown",
      "id": "b94feefe",
      "metadata": {
        "id": "b94feefe"
      },
      "source": [
        "## How to build a Chatbot for our task?\n",
        "***\n",
        "ChatBots are usually Task specific means if there a chatbot which serves only food delivery app have trained on a dataset which\n",
        "completely different from the dataset on which chatbot which serves online healthcare app. Similary, for this kaggle problem\n",
        "we have provided with movie dataset which may feel that its not specific to any task, but actually it is specific to how people\n",
        "will interect generally as these movie dialogues are nothing but daily life conversation between people however, that chatbot\n",
        "may reply things which sounds too much dramatic and filmy like some dialogue of Tom cruise, shah rukh khan etc.\n",
        "\n",
        "We can approch this problem by applying Neural network models like encoder-decoder architecture with some attention mechanism.\n",
        "***"
      ]
    },
    {
      "cell_type": "code",
      "execution_count": null,
      "id": "425a8749",
      "metadata": {
        "id": "425a8749"
      },
      "outputs": [],
      "source": [
        "import transformers\n",
        "import numpy as np\n",
        "import codecs\n",
        "import tensorflow as tf\n",
        "import pandas as pd\n",
        "import ast\n",
        "import tqdm\n",
        "import matplotlib.pyplot as plt\n",
        "%matplotlib inline\n",
        "# import seaborn as sns\n",
        "import pandas as pd\n",
        "import re\n",
        "import tensorflow as tf\n",
        "from tensorflow.keras.layers import Embedding, LSTM, Dense\n",
        "from tensorflow.keras.models import Model\n",
        "from tensorflow.keras.preprocessing.text import Tokenizer\n",
        "from tensorflow.keras.preprocessing.sequence import pad_sequences\n",
        "import numpy as np\n",
        "import re\n",
        "import warnings\n",
        "import tensorflow_datasets as tfds\n",
        "import tensorflow as tf\n",
        "import joblib\n",
        "import time\n",
        "import numpy as np\n",
        "import matplotlib.pyplot as plt\n",
        "from tensorflow.keras.utils import Progbar\n",
        "warnings.filterwarnings('ignore')"
      ]
    },
    {
      "cell_type": "markdown",
      "id": "ea97982f",
      "metadata": {
        "id": "ea97982f"
      },
      "source": [
        "## Loading cleaned data that I have preprared while EDA and preprocessing"
      ]
    },
    {
      "cell_type": "code",
      "execution_count": null,
      "id": "c0645f4e",
      "metadata": {
        "colab": {
          "base_uri": "https://localhost:8080/",
          "height": 206
        },
        "id": "c0645f4e",
        "outputId": "1767ead9-3f5f-42d8-e581-c822baecabe4"
      },
      "outputs": [
        {
          "output_type": "execute_result",
          "data": {
            "text/plain": [
              "                                            Question  \\\n",
              "0              Ẹ káàbọ̀, sà. Kí ni mo lè ṣe fún yín?   \n",
              "1                    Ó dáa. Onírú èròja lẹ fẹ́ẹ́ rà?   \n",
              "2                 Ṣé àkàrà-òyìnbó aláìlẹ́yin lẹ fẹ́?   \n",
              "3  Ó dáa. Ṣùgbọn, ẹni tó bá béèrè ní a máa ń ṣe a...   \n",
              "4               Báwo ni kí àkàrà-òyìnbó náà tóbi tó?   \n",
              "\n",
              "                                              Answer  \n",
              "0           Mo fẹ́ẹ́ ra àkàrà-òyìnbó fún ọjọ́-ìbí ni  \n",
              "1         Onípele méjì ti ó ní èròjà ‘strawberry’ ni  \n",
              "2                     Bẹ́ẹ̀ni, aláìlẹ́yin ni mo fẹ́.  \n",
              "3  Kò burú. Màá padà wá títí aago méjì, ṣùgbọ́n è...  \n",
              "4                                    Oní-kílò mẹ́ta.  "
            ],
            "text/html": [
              "\n",
              "  <div id=\"df-2aacc072-77c1-4dec-840b-1b64fed3e20f\" class=\"colab-df-container\">\n",
              "    <div>\n",
              "<style scoped>\n",
              "    .dataframe tbody tr th:only-of-type {\n",
              "        vertical-align: middle;\n",
              "    }\n",
              "\n",
              "    .dataframe tbody tr th {\n",
              "        vertical-align: top;\n",
              "    }\n",
              "\n",
              "    .dataframe thead th {\n",
              "        text-align: right;\n",
              "    }\n",
              "</style>\n",
              "<table border=\"1\" class=\"dataframe\">\n",
              "  <thead>\n",
              "    <tr style=\"text-align: right;\">\n",
              "      <th></th>\n",
              "      <th>Question</th>\n",
              "      <th>Answer</th>\n",
              "    </tr>\n",
              "  </thead>\n",
              "  <tbody>\n",
              "    <tr>\n",
              "      <th>0</th>\n",
              "      <td>Ẹ káàbọ̀, sà. Kí ni mo lè ṣe fún yín?</td>\n",
              "      <td>Mo fẹ́ẹ́ ra àkàrà-òyìnbó fún ọjọ́-ìbí ni</td>\n",
              "    </tr>\n",
              "    <tr>\n",
              "      <th>1</th>\n",
              "      <td>Ó dáa. Onírú èròja lẹ fẹ́ẹ́ rà?</td>\n",
              "      <td>Onípele méjì ti ó ní èròjà ‘strawberry’ ni</td>\n",
              "    </tr>\n",
              "    <tr>\n",
              "      <th>2</th>\n",
              "      <td>Ṣé àkàrà-òyìnbó aláìlẹ́yin lẹ fẹ́?</td>\n",
              "      <td>Bẹ́ẹ̀ni, aláìlẹ́yin ni mo fẹ́.</td>\n",
              "    </tr>\n",
              "    <tr>\n",
              "      <th>3</th>\n",
              "      <td>Ó dáa. Ṣùgbọn, ẹni tó bá béèrè ní a máa ń ṣe a...</td>\n",
              "      <td>Kò burú. Màá padà wá títí aago méjì, ṣùgbọ́n è...</td>\n",
              "    </tr>\n",
              "    <tr>\n",
              "      <th>4</th>\n",
              "      <td>Báwo ni kí àkàrà-òyìnbó náà tóbi tó?</td>\n",
              "      <td>Oní-kílò mẹ́ta.</td>\n",
              "    </tr>\n",
              "  </tbody>\n",
              "</table>\n",
              "</div>\n",
              "    <div class=\"colab-df-buttons\">\n",
              "\n",
              "  <div class=\"colab-df-container\">\n",
              "    <button class=\"colab-df-convert\" onclick=\"convertToInteractive('df-2aacc072-77c1-4dec-840b-1b64fed3e20f')\"\n",
              "            title=\"Convert this dataframe to an interactive table.\"\n",
              "            style=\"display:none;\">\n",
              "\n",
              "  <svg xmlns=\"http://www.w3.org/2000/svg\" height=\"24px\" viewBox=\"0 -960 960 960\">\n",
              "    <path d=\"M120-120v-720h720v720H120Zm60-500h600v-160H180v160Zm220 220h160v-160H400v160Zm0 220h160v-160H400v160ZM180-400h160v-160H180v160Zm440 0h160v-160H620v160ZM180-180h160v-160H180v160Zm440 0h160v-160H620v160Z\"/>\n",
              "  </svg>\n",
              "    </button>\n",
              "\n",
              "  <style>\n",
              "    .colab-df-container {\n",
              "      display:flex;\n",
              "      gap: 12px;\n",
              "    }\n",
              "\n",
              "    .colab-df-convert {\n",
              "      background-color: #E8F0FE;\n",
              "      border: none;\n",
              "      border-radius: 50%;\n",
              "      cursor: pointer;\n",
              "      display: none;\n",
              "      fill: #1967D2;\n",
              "      height: 32px;\n",
              "      padding: 0 0 0 0;\n",
              "      width: 32px;\n",
              "    }\n",
              "\n",
              "    .colab-df-convert:hover {\n",
              "      background-color: #E2EBFA;\n",
              "      box-shadow: 0px 1px 2px rgba(60, 64, 67, 0.3), 0px 1px 3px 1px rgba(60, 64, 67, 0.15);\n",
              "      fill: #174EA6;\n",
              "    }\n",
              "\n",
              "    .colab-df-buttons div {\n",
              "      margin-bottom: 4px;\n",
              "    }\n",
              "\n",
              "    [theme=dark] .colab-df-convert {\n",
              "      background-color: #3B4455;\n",
              "      fill: #D2E3FC;\n",
              "    }\n",
              "\n",
              "    [theme=dark] .colab-df-convert:hover {\n",
              "      background-color: #434B5C;\n",
              "      box-shadow: 0px 1px 3px 1px rgba(0, 0, 0, 0.15);\n",
              "      filter: drop-shadow(0px 1px 2px rgba(0, 0, 0, 0.3));\n",
              "      fill: #FFFFFF;\n",
              "    }\n",
              "  </style>\n",
              "\n",
              "    <script>\n",
              "      const buttonEl =\n",
              "        document.querySelector('#df-2aacc072-77c1-4dec-840b-1b64fed3e20f button.colab-df-convert');\n",
              "      buttonEl.style.display =\n",
              "        google.colab.kernel.accessAllowed ? 'block' : 'none';\n",
              "\n",
              "      async function convertToInteractive(key) {\n",
              "        const element = document.querySelector('#df-2aacc072-77c1-4dec-840b-1b64fed3e20f');\n",
              "        const dataTable =\n",
              "          await google.colab.kernel.invokeFunction('convertToInteractive',\n",
              "                                                    [key], {});\n",
              "        if (!dataTable) return;\n",
              "\n",
              "        const docLinkHtml = 'Like what you see? Visit the ' +\n",
              "          '<a target=\"_blank\" href=https://colab.research.google.com/notebooks/data_table.ipynb>data table notebook</a>'\n",
              "          + ' to learn more about interactive tables.';\n",
              "        element.innerHTML = '';\n",
              "        dataTable['output_type'] = 'display_data';\n",
              "        await google.colab.output.renderOutput(dataTable, element);\n",
              "        const docLink = document.createElement('div');\n",
              "        docLink.innerHTML = docLinkHtml;\n",
              "        element.appendChild(docLink);\n",
              "      }\n",
              "    </script>\n",
              "  </div>\n",
              "\n",
              "\n",
              "<div id=\"df-03d8e999-9a4b-41d0-b0bb-47920762cc23\">\n",
              "  <button class=\"colab-df-quickchart\" onclick=\"quickchart('df-03d8e999-9a4b-41d0-b0bb-47920762cc23')\"\n",
              "            title=\"Suggest charts\"\n",
              "            style=\"display:none;\">\n",
              "\n",
              "<svg xmlns=\"http://www.w3.org/2000/svg\" height=\"24px\"viewBox=\"0 0 24 24\"\n",
              "     width=\"24px\">\n",
              "    <g>\n",
              "        <path d=\"M19 3H5c-1.1 0-2 .9-2 2v14c0 1.1.9 2 2 2h14c1.1 0 2-.9 2-2V5c0-1.1-.9-2-2-2zM9 17H7v-7h2v7zm4 0h-2V7h2v10zm4 0h-2v-4h2v4z\"/>\n",
              "    </g>\n",
              "</svg>\n",
              "  </button>\n",
              "\n",
              "<style>\n",
              "  .colab-df-quickchart {\n",
              "      --bg-color: #E8F0FE;\n",
              "      --fill-color: #1967D2;\n",
              "      --hover-bg-color: #E2EBFA;\n",
              "      --hover-fill-color: #174EA6;\n",
              "      --disabled-fill-color: #AAA;\n",
              "      --disabled-bg-color: #DDD;\n",
              "  }\n",
              "\n",
              "  [theme=dark] .colab-df-quickchart {\n",
              "      --bg-color: #3B4455;\n",
              "      --fill-color: #D2E3FC;\n",
              "      --hover-bg-color: #434B5C;\n",
              "      --hover-fill-color: #FFFFFF;\n",
              "      --disabled-bg-color: #3B4455;\n",
              "      --disabled-fill-color: #666;\n",
              "  }\n",
              "\n",
              "  .colab-df-quickchart {\n",
              "    background-color: var(--bg-color);\n",
              "    border: none;\n",
              "    border-radius: 50%;\n",
              "    cursor: pointer;\n",
              "    display: none;\n",
              "    fill: var(--fill-color);\n",
              "    height: 32px;\n",
              "    padding: 0;\n",
              "    width: 32px;\n",
              "  }\n",
              "\n",
              "  .colab-df-quickchart:hover {\n",
              "    background-color: var(--hover-bg-color);\n",
              "    box-shadow: 0 1px 2px rgba(60, 64, 67, 0.3), 0 1px 3px 1px rgba(60, 64, 67, 0.15);\n",
              "    fill: var(--button-hover-fill-color);\n",
              "  }\n",
              "\n",
              "  .colab-df-quickchart-complete:disabled,\n",
              "  .colab-df-quickchart-complete:disabled:hover {\n",
              "    background-color: var(--disabled-bg-color);\n",
              "    fill: var(--disabled-fill-color);\n",
              "    box-shadow: none;\n",
              "  }\n",
              "\n",
              "  .colab-df-spinner {\n",
              "    border: 2px solid var(--fill-color);\n",
              "    border-color: transparent;\n",
              "    border-bottom-color: var(--fill-color);\n",
              "    animation:\n",
              "      spin 1s steps(1) infinite;\n",
              "  }\n",
              "\n",
              "  @keyframes spin {\n",
              "    0% {\n",
              "      border-color: transparent;\n",
              "      border-bottom-color: var(--fill-color);\n",
              "      border-left-color: var(--fill-color);\n",
              "    }\n",
              "    20% {\n",
              "      border-color: transparent;\n",
              "      border-left-color: var(--fill-color);\n",
              "      border-top-color: var(--fill-color);\n",
              "    }\n",
              "    30% {\n",
              "      border-color: transparent;\n",
              "      border-left-color: var(--fill-color);\n",
              "      border-top-color: var(--fill-color);\n",
              "      border-right-color: var(--fill-color);\n",
              "    }\n",
              "    40% {\n",
              "      border-color: transparent;\n",
              "      border-right-color: var(--fill-color);\n",
              "      border-top-color: var(--fill-color);\n",
              "    }\n",
              "    60% {\n",
              "      border-color: transparent;\n",
              "      border-right-color: var(--fill-color);\n",
              "    }\n",
              "    80% {\n",
              "      border-color: transparent;\n",
              "      border-right-color: var(--fill-color);\n",
              "      border-bottom-color: var(--fill-color);\n",
              "    }\n",
              "    90% {\n",
              "      border-color: transparent;\n",
              "      border-bottom-color: var(--fill-color);\n",
              "    }\n",
              "  }\n",
              "</style>\n",
              "\n",
              "  <script>\n",
              "    async function quickchart(key) {\n",
              "      const quickchartButtonEl =\n",
              "        document.querySelector('#' + key + ' button');\n",
              "      quickchartButtonEl.disabled = true;  // To prevent multiple clicks.\n",
              "      quickchartButtonEl.classList.add('colab-df-spinner');\n",
              "      try {\n",
              "        const charts = await google.colab.kernel.invokeFunction(\n",
              "            'suggestCharts', [key], {});\n",
              "      } catch (error) {\n",
              "        console.error('Error during call to suggestCharts:', error);\n",
              "      }\n",
              "      quickchartButtonEl.classList.remove('colab-df-spinner');\n",
              "      quickchartButtonEl.classList.add('colab-df-quickchart-complete');\n",
              "    }\n",
              "    (() => {\n",
              "      let quickchartButtonEl =\n",
              "        document.querySelector('#df-03d8e999-9a4b-41d0-b0bb-47920762cc23 button');\n",
              "      quickchartButtonEl.style.display =\n",
              "        google.colab.kernel.accessAllowed ? 'block' : 'none';\n",
              "    })();\n",
              "  </script>\n",
              "</div>\n",
              "\n",
              "    </div>\n",
              "  </div>\n"
            ],
            "application/vnd.google.colaboratory.intrinsic+json": {
              "type": "dataframe",
              "variable_name": "df",
              "summary": "{\n  \"name\": \"df\",\n  \"rows\": 1355,\n  \"fields\": [\n    {\n      \"column\": \"Question\",\n      \"properties\": {\n        \"dtype\": \"string\",\n        \"num_unique_values\": 909,\n        \"samples\": [\n          \"O k\\u00fak\\u00fa f\\u00e9r\\u00e0n ir\\u00fa i\\u015f\\u00e9 b\\u00e9\\u0119. O gb\\u00e1d\\u00f9n l\\u00e1ti m\\u00e1\\u00e0 s\\u00f2r\\u00f2 l\\u00f3r\\u00ed f\\u00f3\\u00f2n\\u00f9.\",\n          \"\\u1eb8 \\u1e63\\u00e9 o. \\u1e62\\u00f9gb\\u1ecd\\u0301n mo r\\u00ed i p\\u00e9 \\u1eb9 t\\u00fan n\\u0301 ta \\u00e0l\\u00f2m\\u1ecd\\u0301-f\\u00f3\\u00f2n\\u00f9 n\\u00e1\\u00e0. \\u00d3 y\\u1eb9 k\\u00ed \\u1eb9 t\\u00fab\\u1ecd\\u0300 k\\u00f3 \\u00e0l\\u00f2m\\u1ecd\\u0301-f\\u00f3\\u00f2n\\u00f9 s\\u00f3r\\u00ed igba\\u0301 j\\u00fa \\u00e8y\\u00ed t\\u00ed \\u1eb9\\u0300 n\\u0301 t\\u00e0 b\\u00e1y\\u00ec\\u00ed l\\u1ecd.\",\n          \"\\u00c0\\u00e1d\\u1ecd\\u0301rin naira k\\u1eb9\\u0300? Mi \\u00f2 l\\u00e8 san ju \\u00e0\\u00e1d\\u1ecd\\u0301ta naira.\"\n        ],\n        \"semantic_type\": \"\",\n        \"description\": \"\"\n      }\n    },\n    {\n      \"column\": \"Answer\",\n      \"properties\": {\n        \"dtype\": \"string\",\n        \"num_unique_values\": 857,\n        \"samples\": [\n          \" B\\u1eb9\\u1eb9ni, a ni am\\u00f3hunmaworan nla.\",\n          \"N\\u00e1\\u00edr\\u00e0 m\\u00e9\\u0323w\\u00e0\\u00e1 le\\u0323yo\\u0323 kan\",\n          \"\\u1eb8 \\u00f2 \\u1e63e f\\u00fan mi l\\u00e1ra \\u00e8y\\u00ed t\\u00ed \\u1eb9 l\\u00e9 y\\u00ec\\u00ed?\"\n        ],\n        \"semantic_type\": \"\",\n        \"description\": \"\"\n      }\n    }\n  ]\n}"
            }
          },
          "metadata": {},
          "execution_count": 2
        }
      ],
      "source": [
        "import pandas as pd\n",
        "\n",
        "# Load the Excel file\n",
        "file_path = 'https://docs.google.com/spreadsheets/d/12oPDLqEbwcCN1bhzfFIAkOFRU0Vqf7xY/export?format=xlsx'  # Update this path to the location of your uploaded file\n",
        "sheet_name = 'First Data'\n",
        "\n",
        "# Read the specific sheet into a DataFrame\n",
        "df = pd.read_excel(file_path, sheet_name=sheet_name)\n",
        "\n",
        "# Display the DataFrame\n",
        "df.head()\n"
      ]
    },
    {
      "cell_type": "code",
      "source": [
        "#Case conversion\n",
        "def lower(text):\n",
        "    #convert all the text into lower letters\n",
        "    #remove all special characters: except space ''\n",
        "    text =text.lower()\n",
        "    #text = re.sub('[^A-Za-z]+','',text)\n",
        "    return text\n",
        "\n",
        "\n",
        "df['Question'] = df['Question'].apply(lower)\n",
        "df['Answer'] = df['Answer'].astype(str).apply(lower)\n",
        "\n",
        "\n",
        "#Removal of special characters\n",
        "def remove_special_characters (df, column, characters):\n",
        "    for char in characters:\n",
        "        df[column]= df[column].str.replace(char,'',regex=False)\n",
        "    return df\n",
        "#special characters to remove\n",
        "special_characters = ['?','#','(',')',',','₦','!','-','N','']\n",
        "#Remove special characters from columns\n",
        "df = remove_special_characters(df, 'Question',special_characters)\n",
        "df = remove_special_characters(df, 'Answer',special_characters)\n",
        "\n"
      ],
      "metadata": {
        "id": "ygX08-jdfM0n"
      },
      "id": "ygX08-jdfM0n",
      "execution_count": null,
      "outputs": []
    },
    {
      "cell_type": "code",
      "source": [
        "df=df.dropna()"
      ],
      "metadata": {
        "id": "kJoectNnfYQL"
      },
      "id": "kJoectNnfYQL",
      "execution_count": null,
      "outputs": []
    },
    {
      "cell_type": "code",
      "source": [
        "data=df.copy()"
      ],
      "metadata": {
        "id": "Tu2kc_knfe13"
      },
      "id": "Tu2kc_knfe13",
      "execution_count": null,
      "outputs": []
    },
    {
      "cell_type": "code",
      "source": [
        "data.head(3)"
      ],
      "metadata": {
        "colab": {
          "base_uri": "https://localhost:8080/",
          "height": 144
        },
        "id": "Up5pe16aflOb",
        "outputId": "75e1102d-d5c5-4a3e-f048-c05c8e75e0e5"
      },
      "id": "Up5pe16aflOb",
      "execution_count": null,
      "outputs": [
        {
          "output_type": "execute_result",
          "data": {
            "text/plain": [
              "                              Question  \\\n",
              "0  ẹ káàbọ̀ sà. kí ni mo lè ṣe fún yín   \n",
              "1       ó dáa. onírú èròja lẹ fẹ́ẹ́ rà   \n",
              "2     ṣé àkàràòyìnbó aláìlẹ́yin lẹ fẹ́   \n",
              "\n",
              "                                       Answer  \n",
              "0      mo fẹ́ẹ́ ra àkàràòyìnbó fún ọjọ́ìbí ni  \n",
              "1  onípele méjì ti ó ní èròjà ‘strawberry’ ni  \n",
              "2               bẹ́ẹ̀ni aláìlẹ́yin ni mo fẹ́.  "
            ],
            "text/html": [
              "\n",
              "  <div id=\"df-bc50c525-987e-495f-9265-2a1483e10286\" class=\"colab-df-container\">\n",
              "    <div>\n",
              "<style scoped>\n",
              "    .dataframe tbody tr th:only-of-type {\n",
              "        vertical-align: middle;\n",
              "    }\n",
              "\n",
              "    .dataframe tbody tr th {\n",
              "        vertical-align: top;\n",
              "    }\n",
              "\n",
              "    .dataframe thead th {\n",
              "        text-align: right;\n",
              "    }\n",
              "</style>\n",
              "<table border=\"1\" class=\"dataframe\">\n",
              "  <thead>\n",
              "    <tr style=\"text-align: right;\">\n",
              "      <th></th>\n",
              "      <th>Question</th>\n",
              "      <th>Answer</th>\n",
              "    </tr>\n",
              "  </thead>\n",
              "  <tbody>\n",
              "    <tr>\n",
              "      <th>0</th>\n",
              "      <td>ẹ káàbọ̀ sà. kí ni mo lè ṣe fún yín</td>\n",
              "      <td>mo fẹ́ẹ́ ra àkàràòyìnbó fún ọjọ́ìbí ni</td>\n",
              "    </tr>\n",
              "    <tr>\n",
              "      <th>1</th>\n",
              "      <td>ó dáa. onírú èròja lẹ fẹ́ẹ́ rà</td>\n",
              "      <td>onípele méjì ti ó ní èròjà ‘strawberry’ ni</td>\n",
              "    </tr>\n",
              "    <tr>\n",
              "      <th>2</th>\n",
              "      <td>ṣé àkàràòyìnbó aláìlẹ́yin lẹ fẹ́</td>\n",
              "      <td>bẹ́ẹ̀ni aláìlẹ́yin ni mo fẹ́.</td>\n",
              "    </tr>\n",
              "  </tbody>\n",
              "</table>\n",
              "</div>\n",
              "    <div class=\"colab-df-buttons\">\n",
              "\n",
              "  <div class=\"colab-df-container\">\n",
              "    <button class=\"colab-df-convert\" onclick=\"convertToInteractive('df-bc50c525-987e-495f-9265-2a1483e10286')\"\n",
              "            title=\"Convert this dataframe to an interactive table.\"\n",
              "            style=\"display:none;\">\n",
              "\n",
              "  <svg xmlns=\"http://www.w3.org/2000/svg\" height=\"24px\" viewBox=\"0 -960 960 960\">\n",
              "    <path d=\"M120-120v-720h720v720H120Zm60-500h600v-160H180v160Zm220 220h160v-160H400v160Zm0 220h160v-160H400v160ZM180-400h160v-160H180v160Zm440 0h160v-160H620v160ZM180-180h160v-160H180v160Zm440 0h160v-160H620v160Z\"/>\n",
              "  </svg>\n",
              "    </button>\n",
              "\n",
              "  <style>\n",
              "    .colab-df-container {\n",
              "      display:flex;\n",
              "      gap: 12px;\n",
              "    }\n",
              "\n",
              "    .colab-df-convert {\n",
              "      background-color: #E8F0FE;\n",
              "      border: none;\n",
              "      border-radius: 50%;\n",
              "      cursor: pointer;\n",
              "      display: none;\n",
              "      fill: #1967D2;\n",
              "      height: 32px;\n",
              "      padding: 0 0 0 0;\n",
              "      width: 32px;\n",
              "    }\n",
              "\n",
              "    .colab-df-convert:hover {\n",
              "      background-color: #E2EBFA;\n",
              "      box-shadow: 0px 1px 2px rgba(60, 64, 67, 0.3), 0px 1px 3px 1px rgba(60, 64, 67, 0.15);\n",
              "      fill: #174EA6;\n",
              "    }\n",
              "\n",
              "    .colab-df-buttons div {\n",
              "      margin-bottom: 4px;\n",
              "    }\n",
              "\n",
              "    [theme=dark] .colab-df-convert {\n",
              "      background-color: #3B4455;\n",
              "      fill: #D2E3FC;\n",
              "    }\n",
              "\n",
              "    [theme=dark] .colab-df-convert:hover {\n",
              "      background-color: #434B5C;\n",
              "      box-shadow: 0px 1px 3px 1px rgba(0, 0, 0, 0.15);\n",
              "      filter: drop-shadow(0px 1px 2px rgba(0, 0, 0, 0.3));\n",
              "      fill: #FFFFFF;\n",
              "    }\n",
              "  </style>\n",
              "\n",
              "    <script>\n",
              "      const buttonEl =\n",
              "        document.querySelector('#df-bc50c525-987e-495f-9265-2a1483e10286 button.colab-df-convert');\n",
              "      buttonEl.style.display =\n",
              "        google.colab.kernel.accessAllowed ? 'block' : 'none';\n",
              "\n",
              "      async function convertToInteractive(key) {\n",
              "        const element = document.querySelector('#df-bc50c525-987e-495f-9265-2a1483e10286');\n",
              "        const dataTable =\n",
              "          await google.colab.kernel.invokeFunction('convertToInteractive',\n",
              "                                                    [key], {});\n",
              "        if (!dataTable) return;\n",
              "\n",
              "        const docLinkHtml = 'Like what you see? Visit the ' +\n",
              "          '<a target=\"_blank\" href=https://colab.research.google.com/notebooks/data_table.ipynb>data table notebook</a>'\n",
              "          + ' to learn more about interactive tables.';\n",
              "        element.innerHTML = '';\n",
              "        dataTable['output_type'] = 'display_data';\n",
              "        await google.colab.output.renderOutput(dataTable, element);\n",
              "        const docLink = document.createElement('div');\n",
              "        docLink.innerHTML = docLinkHtml;\n",
              "        element.appendChild(docLink);\n",
              "      }\n",
              "    </script>\n",
              "  </div>\n",
              "\n",
              "\n",
              "<div id=\"df-a8b6387a-3d03-477f-9e92-86ba447688f1\">\n",
              "  <button class=\"colab-df-quickchart\" onclick=\"quickchart('df-a8b6387a-3d03-477f-9e92-86ba447688f1')\"\n",
              "            title=\"Suggest charts\"\n",
              "            style=\"display:none;\">\n",
              "\n",
              "<svg xmlns=\"http://www.w3.org/2000/svg\" height=\"24px\"viewBox=\"0 0 24 24\"\n",
              "     width=\"24px\">\n",
              "    <g>\n",
              "        <path d=\"M19 3H5c-1.1 0-2 .9-2 2v14c0 1.1.9 2 2 2h14c1.1 0 2-.9 2-2V5c0-1.1-.9-2-2-2zM9 17H7v-7h2v7zm4 0h-2V7h2v10zm4 0h-2v-4h2v4z\"/>\n",
              "    </g>\n",
              "</svg>\n",
              "  </button>\n",
              "\n",
              "<style>\n",
              "  .colab-df-quickchart {\n",
              "      --bg-color: #E8F0FE;\n",
              "      --fill-color: #1967D2;\n",
              "      --hover-bg-color: #E2EBFA;\n",
              "      --hover-fill-color: #174EA6;\n",
              "      --disabled-fill-color: #AAA;\n",
              "      --disabled-bg-color: #DDD;\n",
              "  }\n",
              "\n",
              "  [theme=dark] .colab-df-quickchart {\n",
              "      --bg-color: #3B4455;\n",
              "      --fill-color: #D2E3FC;\n",
              "      --hover-bg-color: #434B5C;\n",
              "      --hover-fill-color: #FFFFFF;\n",
              "      --disabled-bg-color: #3B4455;\n",
              "      --disabled-fill-color: #666;\n",
              "  }\n",
              "\n",
              "  .colab-df-quickchart {\n",
              "    background-color: var(--bg-color);\n",
              "    border: none;\n",
              "    border-radius: 50%;\n",
              "    cursor: pointer;\n",
              "    display: none;\n",
              "    fill: var(--fill-color);\n",
              "    height: 32px;\n",
              "    padding: 0;\n",
              "    width: 32px;\n",
              "  }\n",
              "\n",
              "  .colab-df-quickchart:hover {\n",
              "    background-color: var(--hover-bg-color);\n",
              "    box-shadow: 0 1px 2px rgba(60, 64, 67, 0.3), 0 1px 3px 1px rgba(60, 64, 67, 0.15);\n",
              "    fill: var(--button-hover-fill-color);\n",
              "  }\n",
              "\n",
              "  .colab-df-quickchart-complete:disabled,\n",
              "  .colab-df-quickchart-complete:disabled:hover {\n",
              "    background-color: var(--disabled-bg-color);\n",
              "    fill: var(--disabled-fill-color);\n",
              "    box-shadow: none;\n",
              "  }\n",
              "\n",
              "  .colab-df-spinner {\n",
              "    border: 2px solid var(--fill-color);\n",
              "    border-color: transparent;\n",
              "    border-bottom-color: var(--fill-color);\n",
              "    animation:\n",
              "      spin 1s steps(1) infinite;\n",
              "  }\n",
              "\n",
              "  @keyframes spin {\n",
              "    0% {\n",
              "      border-color: transparent;\n",
              "      border-bottom-color: var(--fill-color);\n",
              "      border-left-color: var(--fill-color);\n",
              "    }\n",
              "    20% {\n",
              "      border-color: transparent;\n",
              "      border-left-color: var(--fill-color);\n",
              "      border-top-color: var(--fill-color);\n",
              "    }\n",
              "    30% {\n",
              "      border-color: transparent;\n",
              "      border-left-color: var(--fill-color);\n",
              "      border-top-color: var(--fill-color);\n",
              "      border-right-color: var(--fill-color);\n",
              "    }\n",
              "    40% {\n",
              "      border-color: transparent;\n",
              "      border-right-color: var(--fill-color);\n",
              "      border-top-color: var(--fill-color);\n",
              "    }\n",
              "    60% {\n",
              "      border-color: transparent;\n",
              "      border-right-color: var(--fill-color);\n",
              "    }\n",
              "    80% {\n",
              "      border-color: transparent;\n",
              "      border-right-color: var(--fill-color);\n",
              "      border-bottom-color: var(--fill-color);\n",
              "    }\n",
              "    90% {\n",
              "      border-color: transparent;\n",
              "      border-bottom-color: var(--fill-color);\n",
              "    }\n",
              "  }\n",
              "</style>\n",
              "\n",
              "  <script>\n",
              "    async function quickchart(key) {\n",
              "      const quickchartButtonEl =\n",
              "        document.querySelector('#' + key + ' button');\n",
              "      quickchartButtonEl.disabled = true;  // To prevent multiple clicks.\n",
              "      quickchartButtonEl.classList.add('colab-df-spinner');\n",
              "      try {\n",
              "        const charts = await google.colab.kernel.invokeFunction(\n",
              "            'suggestCharts', [key], {});\n",
              "      } catch (error) {\n",
              "        console.error('Error during call to suggestCharts:', error);\n",
              "      }\n",
              "      quickchartButtonEl.classList.remove('colab-df-spinner');\n",
              "      quickchartButtonEl.classList.add('colab-df-quickchart-complete');\n",
              "    }\n",
              "    (() => {\n",
              "      let quickchartButtonEl =\n",
              "        document.querySelector('#df-a8b6387a-3d03-477f-9e92-86ba447688f1 button');\n",
              "      quickchartButtonEl.style.display =\n",
              "        google.colab.kernel.accessAllowed ? 'block' : 'none';\n",
              "    })();\n",
              "  </script>\n",
              "</div>\n",
              "\n",
              "    </div>\n",
              "  </div>\n"
            ],
            "application/vnd.google.colaboratory.intrinsic+json": {
              "type": "dataframe",
              "variable_name": "data",
              "summary": "{\n  \"name\": \"data\",\n  \"rows\": 1355,\n  \"fields\": [\n    {\n      \"column\": \"Question\",\n      \"properties\": {\n        \"dtype\": \"string\",\n        \"num_unique_values\": 906,\n        \"samples\": [\n          \"b\\u00e9\\u00e8 n\\u00e1a l\\u00e0wa. \\u00f3 d\\u00e0b\\u1ed9.\",\n          \"\\u1eb9 \\u1e63eun j\\u00e0re \\u00ecy\\u00e1 wa. a j\\u1ecd w\\u00e1 ni. b\\u00e1 wo ni \\u1eb9 \\u1e63e n\\u0301 ta \\u00e0w\\u1ecdn \\u1ecdj\\u00e0 y\\u00edn\",\n          \"m\\u00e1a b\\u00e1 t\\u00ec\\u1eb9 l\\u1ecd\"\n        ],\n        \"semantic_type\": \"\",\n        \"description\": \"\"\n      }\n    },\n    {\n      \"column\": \"Answer\",\n      \"properties\": {\n        \"dtype\": \"string\",\n        \"num_unique_values\": 857,\n        \"samples\": [\n          \" b\\u1eb9\\u1eb9ni mo le din die. \\u1e63e \\u1eb9gb\\u1eb9run m\\u1eb9ta ati \\u1ecdg\\u1ecdrun ba \\u1ecd\",\n          \"\\u00f3 d\\u00e1a s\\u00e0.\",\n          \"\\u1eb9 \\u00f2 \\u1e63e f\\u00fan mi l\\u00e1ra \\u00e8y\\u00ed t\\u00ed \\u1eb9 l\\u00e9 y\\u00ec\\u00ed\"\n        ],\n        \"semantic_type\": \"\",\n        \"description\": \"\"\n      }\n    }\n  ]\n}"
            }
          },
          "metadata": {},
          "execution_count": 6
        }
      ]
    },
    {
      "cell_type": "markdown",
      "id": "81af0edc",
      "metadata": {
        "id": "81af0edc"
      },
      "source": [
        "## Dividing into TWO, train/validation"
      ]
    },
    {
      "cell_type": "code",
      "execution_count": null,
      "id": "5d494f32",
      "metadata": {
        "id": "5d494f32"
      },
      "outputs": [],
      "source": [
        "from sklearn.model_selection import train_test_split\n",
        "train, validation = train_test_split(data, test_size=0.2, random_state=4)"
      ]
    },
    {
      "cell_type": "code",
      "execution_count": null,
      "id": "ebf65780",
      "metadata": {
        "colab": {
          "base_uri": "https://localhost:8080/"
        },
        "id": "ebf65780",
        "outputId": "3f290737-a083-469f-9aa0-0bee68ab42fa"
      },
      "outputs": [
        {
          "output_type": "stream",
          "name": "stdout",
          "text": [
            "vocab_size_ans, vocab_size_ques:1562,1473\n"
          ]
        }
      ],
      "source": [
        "vocab_ans = list(set(\" \".join(train['Answer'].values).split()))\n",
        "vocab_ques = list(set(\" \".join(train['Question'].values).split()))\n",
        "vocab_size_ans, vocab_size_ques = len(vocab_ans), len(vocab_ques)\n",
        "print(f\"vocab_size_ans, vocab_size_ques:{vocab_size_ans},{ vocab_size_ques}\")"
      ]
    },
    {
      "cell_type": "markdown",
      "id": "289182c9",
      "metadata": {
        "id": "289182c9"
      },
      "source": [
        "## Using tfds SubwordTextEncoder, it will create tokens\n",
        "#### example Multiplication -> Multi, pli, cat, i, on\n",
        "#### Advantages:\n",
        "    1. Reduces vocab size => faster learning\n",
        "    2. Reduces chances of missing word in test data"
      ]
    },
    {
      "cell_type": "code",
      "execution_count": null,
      "id": "f322ecb3",
      "metadata": {
        "id": "f322ecb3"
      },
      "outputs": [],
      "source": [
        "tokenizer_a = tfds.deprecated.text.SubwordTextEncoder.build_from_corpus(\n",
        "    train['Answer'], target_vocab_size=2**15)\n",
        "\n",
        "tokenizer_q = tfds.deprecated.text.SubwordTextEncoder.build_from_corpus(\n",
        "    train['Question'], target_vocab_size=2**15)"
      ]
    },
    {
      "cell_type": "code",
      "execution_count": null,
      "id": "609b2718",
      "metadata": {
        "colab": {
          "base_uri": "https://localhost:8080/"
        },
        "id": "609b2718",
        "outputId": "151bd4ef-8cf7-4616-fcc8-2445217ac399"
      },
      "outputs": [
        {
          "output_type": "stream",
          "name": "stdout",
          "text": [
            "tokenizer_q:1707\n",
            "tokenizer_a:1769\n"
          ]
        }
      ],
      "source": [
        "print(f\"tokenizer_q:{tokenizer_q.vocab_size}\")\n",
        "print(f\"tokenizer_a:{tokenizer_a.vocab_size}\")"
      ]
    },
    {
      "cell_type": "markdown",
      "id": "02392cc3",
      "metadata": {
        "id": "02392cc3"
      },
      "source": [
        "#### Examples of subword tokenization in action!"
      ]
    },
    {
      "cell_type": "code",
      "execution_count": null,
      "id": "cf67e110",
      "metadata": {
        "colab": {
          "base_uri": "https://localhost:8080/"
        },
        "id": "cf67e110",
        "outputId": "4f233f62-ebe6-4105-aa4a-996c94b9b453"
      },
      "outputs": [
        {
          "output_type": "stream",
          "name": "stdout",
          "text": [
            "Tokenized string is [1582, 1623, 1612, 1624, 1613, 1614, 1627, 1545, 1613, 1614, 1612, 1624, 1613, 1614, 1627]\n",
            "The original string: Encoder decoder\n",
            "1582---->E\n",
            "1623---->n\n",
            "1612---->c\n",
            "1624---->o\n",
            "1613---->d\n",
            "1614---->e\n",
            "1627---->r\n",
            "1545----> \n",
            "1613---->d\n",
            "1614---->e\n",
            "1612---->c\n",
            "1624---->o\n",
            "1613---->d\n",
            "1614---->e\n",
            "1627---->r\n",
            "================================================================================\n",
            "Tokenized string is [1520, 1561, 1550, 1562, 1551, 1552, 1565, 1483, 1551, 1552, 1550, 1562, 1551, 1552, 1565]\n",
            "The original string: Encoder decoder\n",
            "1520---->E\n",
            "1561---->n\n",
            "1550---->c\n",
            "1562---->o\n",
            "1551---->d\n",
            "1552---->e\n",
            "1565---->r\n",
            "1483----> \n",
            "1551---->d\n",
            "1552---->e\n",
            "1550---->c\n",
            "1562---->o\n",
            "1551---->d\n",
            "1552---->e\n",
            "1565---->r\n"
          ]
        }
      ],
      "source": [
        "sample_string = 'Encoder decoder'\n",
        "\n",
        "tokenized_string = tokenizer_a.encode(sample_string)\n",
        "print ('Tokenized string is {}'.format(tokenized_string))\n",
        "\n",
        "original_string = tokenizer_a.decode(tokenized_string)\n",
        "print ('The original string: {}'.format(original_string))\n",
        "\n",
        "for token in tokenized_string:\n",
        "    print(str(token) + \"---->\" + tokenizer_a.decode([token]))\n",
        "\n",
        "print(\"=\"*80)\n",
        "tokenized_string = tokenizer_q.encode(sample_string)\n",
        "print ('Tokenized string is {}'.format(tokenized_string))\n",
        "\n",
        "original_string = tokenizer_q.decode(tokenized_string)\n",
        "print ('The original string: {}'.format(original_string))\n",
        "\n",
        "for token in tokenized_string:\n",
        "    print(str(token) + \"---->\" + tokenizer_q.decode([token]))"
      ]
    },
    {
      "cell_type": "markdown",
      "id": "ff9e30ce",
      "metadata": {
        "id": "ff9e30ce"
      },
      "source": [
        "###### 0-27512 for questions\n",
        "\n",
        "###### 0-27357 for answers"
      ]
    },
    {
      "cell_type": "markdown",
      "id": "3d9469ee",
      "metadata": {
        "id": "3d9469ee"
      },
      "source": [
        "* **Attaching token number '27513' representing \\<start> and '27514' representing \\<end> QUESTIONS**\n",
        "* **Attaching token number '27358' representing \\<start> and '27359' representing \\<end> ANSWERS**"
      ]
    },
    {
      "cell_type": "code",
      "execution_count": null,
      "id": "aeb6d990",
      "metadata": {
        "id": "aeb6d990"
      },
      "outputs": [],
      "source": [
        "def encode(ques, ans):\n",
        "    ques = [tokenizer_q.vocab_size] + tokenizer_q.encode(ques.numpy()) + [tokenizer_q.vocab_size+1]\n",
        "    ans = [tokenizer_a.vocab_size] + tokenizer_a.encode(ans.numpy()) + [tokenizer_a.vocab_size+1]\n",
        "    return ques, ans\n",
        "\n",
        "def tf_encode(ques, ans):\n",
        "    result_ques, result_ans = tf.py_function(encode, [ques, ans], [tf.int64, tf.int64])\n",
        "    result_ques.set_shape([None])\n",
        "    result_ans.set_shape([None])\n",
        "    return result_ques, result_ans"
      ]
    },
    {
      "cell_type": "code",
      "execution_count": null,
      "id": "bc78baed",
      "metadata": {
        "colab": {
          "base_uri": "https://localhost:8080/"
        },
        "id": "bc78baed",
        "outputId": "da5604f6-7d56-43ca-a268-b792c8ec7a2a"
      },
      "outputs": [
        {
          "output_type": "stream",
          "name": "stdout",
          "text": [
            "ó dára. fún mi ní ìdì ọ̀gẹ̀dẹ̀ wẹẹrẹ kan àti ìgò ẹ̀pà kan. eélòó ni gbogbo rẹ̀ lápapọ̀ \n",
            " gbogbo rẹ̀ jẹ́ ọgọ́rùnún mẹ́jọ náírà lápapọ̀\n",
            "tf.Tensor(\n",
            "[1707   10  454    5   16   13   11  380  130    7  672    7  697   12\n",
            "  535    7 1552    7  230   12   73   41  829  158    7  572   58    5\n",
            "   17    1  107  566   12 1198    7 1708], shape=(36,), dtype=int64)\n",
            "tf.Tensor(\n",
            "[1769   77  334   11  135   11   19    1   21   49    1  177   16  646\n",
            "    4 1770], shape=(16,), dtype=int64)\n"
          ]
        }
      ],
      "source": [
        "print(train['Question'].values[0],\"\\n\",train['Answer'].values[0])\n",
        "question, answer = tf_encode(train['Question'].values[0],train['Answer'].values[0])\n",
        "print(question)\n",
        "print(answer)"
      ]
    },
    {
      "cell_type": "markdown",
      "id": "d1413123",
      "metadata": {
        "id": "d1413123"
      },
      "source": [
        "### Creating train_dataset/test_dataset object from Dataframe + padding\n",
        "\n",
        "###### prefetch: If I'm at epoch-20 then prefetch prepares the Batch for epoch-21, so when epoch-21 start, it will make available the batch in no time, basically enhancing speed"
      ]
    },
    {
      "cell_type": "code",
      "execution_count": null,
      "id": "54bb56c4",
      "metadata": {
        "id": "54bb56c4"
      },
      "outputs": [],
      "source": [
        "train_dataset = tf.data.Dataset.from_tensor_slices(dict(train))\n",
        "train_dataset = train_dataset.map(lambda x:tf_encode(x['Question'], x['Answer']))\n",
        "train_dataset = train_dataset.cache()\n",
        "train_dataset = train_dataset.shuffle(20000).padded_batch(64, padded_shapes=([None],[None]))\n",
        "train_dataset = train_dataset.prefetch(tf.data.experimental.AUTOTUNE)"
      ]
    },
    {
      "cell_type": "code",
      "execution_count": null,
      "id": "436c73c8",
      "metadata": {
        "id": "436c73c8"
      },
      "outputs": [],
      "source": [
        "val_dataset = tf.data.Dataset.from_tensor_slices(dict(validation))\n",
        "val_dataset = val_dataset.map(lambda x:tf_encode(x['Question'], x['Answer']))\n",
        "val_dataset = val_dataset.padded_batch(64, padded_shapes=([None],[None]))"
      ]
    },
    {
      "cell_type": "code",
      "execution_count": null,
      "id": "85844a50",
      "metadata": {
        "colab": {
          "base_uri": "https://localhost:8080/"
        },
        "id": "85844a50",
        "outputId": "d5790253-ad6c-48c2-893f-148e2654ec29"
      },
      "outputs": [
        {
          "output_type": "execute_result",
          "data": {
            "text/plain": [
              "<tf.Tensor: shape=(64, 49), dtype=int64, numpy=\n",
              "array([[1707,  154,    1, ...,    0,    0,    0],\n",
              "       [1707,    8,   27, ...,    0,    0,    0],\n",
              "       [1707,   10,   64, ...,    0,    0,    0],\n",
              "       ...,\n",
              "       [1707,   17,    1, ...,    0,    0,    0],\n",
              "       [1707,   10,  452, ...,    0,    0,    0],\n",
              "       [1707,   26,   49, ...,    0,    0,    0]])>"
            ]
          },
          "metadata": {},
          "execution_count": 16
        }
      ],
      "source": [
        "question, answer = next(iter(train_dataset))\n",
        "question"
      ]
    },
    {
      "cell_type": "markdown",
      "id": "80bf8241",
      "metadata": {
        "id": "80bf8241"
      },
      "source": [
        "### Positional encoding function where 'i' -> embedding dimn index, 'pos' -> word index in a sentence"
      ]
    },
    {
      "cell_type": "markdown",
      "id": "9500b25e",
      "metadata": {
        "id": "9500b25e"
      },
      "source": [
        "$$\\Large{PE_{(pos, 2i)} = sin(pos / 10000^{2i / d_{model}})} $$\n",
        "$$\\Large{PE_{(pos, 2i+1)} = cos(pos / 10000^{2i / d_{model}})} $$"
      ]
    },
    {
      "cell_type": "code",
      "execution_count": null,
      "id": "2ae35c9d",
      "metadata": {
        "colab": {
          "base_uri": "https://localhost:8080/",
          "height": 472
        },
        "id": "2ae35c9d",
        "outputId": "eeeee7a0-2485-4d95-ae47-fe0798bd3f5d"
      },
      "outputs": [
        {
          "output_type": "stream",
          "name": "stdout",
          "text": [
            "(1, 50, 512)\n"
          ]
        },
        {
          "output_type": "display_data",
          "data": {
            "text/plain": [
              "<Figure size 640x480 with 2 Axes>"
            ],
            "image/png": "[encoded data removed]"
          },
          "metadata": {}
        }
      ],
      "source": [
        "# Positional encoding\n",
        "\n",
        "\n",
        "def get_angles(pos, i, d_model):\n",
        "    angle_rates = 1 / np.power(10000, (2 * (i//2)) / np.float32(d_model))\n",
        "    return pos * angle_rates\n",
        "\n",
        "\n",
        "\n",
        "def positional_encoding(position, d_model):\n",
        "    angle_rads = get_angles(np.arange(position)[:, np.newaxis],\n",
        "                          np.arange(d_model)[np.newaxis, :],\n",
        "                          d_model)\n",
        "\n",
        "    # apply sin to even indices in the array; 2i\n",
        "    angle_rads[:, 0::2] = np.sin(angle_rads[:, 0::2])\n",
        "\n",
        "    # apply cos to odd indices in the array; 2i+1\n",
        "    angle_rads[:, 1::2] = np.cos(angle_rads[:, 1::2])\n",
        "\n",
        "    pos_encoding = angle_rads[np.newaxis,:]\n",
        "\n",
        "    return tf.cast(pos_encoding, dtype=tf.float32)\n",
        "\n",
        "\n",
        "\n",
        "pos_encoding = positional_encoding(50, 512)\n",
        "print (pos_encoding.shape)\n",
        "\n",
        "plt.pcolormesh(pos_encoding[0], cmap='RdBu')\n",
        "plt.xlabel('Depth')\n",
        "plt.xlim((0, 512))\n",
        "plt.ylabel('Position')\n",
        "plt.colorbar()\n",
        "plt.show()"
      ]
    },
    {
      "cell_type": "markdown",
      "id": "5d393354",
      "metadata": {
        "id": "5d393354"
      },
      "source": [
        "## 1. Pad Masking\n",
        "#### Making all the padded tokens, self attention/attention calculation of a word with those paddings will be ignored"
      ]
    },
    {
      "cell_type": "markdown",
      "id": "9ecbd402",
      "metadata": {
        "id": "9ecbd402"
      },
      "source": [
        "\n",
        "* Here output dimn -> (batch_size, 1, 1, seq_len)\n",
        "          \n",
        "*  for each 8 attention heads, for each query word it will be multiplied, thats why creating 1, 1 in the middle\n",
        "\n",
        "##### (batch_size, 8, query_word_len, seq_len) * (batch_size, 1, 1, seq_len)"
      ]
    },
    {
      "cell_type": "code",
      "execution_count": null,
      "id": "628afe59",
      "metadata": {
        "id": "628afe59"
      },
      "outputs": [],
      "source": [
        "# Masking\n",
        "\n",
        "'''Mask all the pad tokens in the batch of sequence.\n",
        "It ensures that the model does not treat padding as the input.\n",
        "The mask indicates where pad value 0 is present: it outputs a 1 at those locations, and a 0 otherwise.\n",
        "'''\n",
        "def create_padding_mask(seq):\n",
        "    \"\"\"\n",
        "    seq: padded sentence length (5)\n",
        "    \"\"\"\n",
        "    seq = tf.cast(tf.math.equal(seq, 0), tf.float32)\n",
        "    # Adding 2, 3 dimn using tf.newaxis, 2-> As this mask will be multiplied with each attention head and 3-> for each word in a sentance\n",
        "    return seq[:, tf.newaxis, tf.newaxis, :]  # (batch_size, 1, 1, seq_len)\n",
        "# create_padding_mask(np.array([[1,2,3,0,0,0],[1,2,3,0,0,1]]))"
      ]
    },
    {
      "cell_type": "markdown",
      "id": "2d9aceca",
      "metadata": {
        "id": "2d9aceca"
      },
      "source": [
        "## 2. Looakahead mask\n",
        "\n",
        "for the first word, its self attention calculation with be ignored with proceeding words i.e. second, third word and so on"
      ]
    },
    {
      "cell_type": "code",
      "execution_count": null,
      "id": "d26dea25",
      "metadata": {
        "colab": {
          "base_uri": "https://localhost:8080/"
        },
        "id": "d26dea25",
        "outputId": "66899be3-1b9b-4490-e653-1ddb0e03def9"
      },
      "outputs": [
        {
          "output_type": "execute_result",
          "data": {
            "text/plain": [
              "<tf.Tensor: shape=(3, 3), dtype=float32, numpy=\n",
              "array([[0., 1., 1.],\n",
              "       [0., 0., 1.],\n",
              "       [0., 0., 0.]], dtype=float32)>"
            ]
          },
          "metadata": {},
          "execution_count": 19
        }
      ],
      "source": [
        "# Looakahead mask\n",
        "\n",
        "\"\"\"The look-ahead mask is used to mask the future tokens in a sequence.\n",
        "In other words, the mask indicates which entries should not be used.\n",
        "\"\"\"\n",
        "def create_look_ahead_mask(size):\n",
        "    \"\"\"\n",
        "    The look-ahead mask is used to mask the future tokens in a sequence\n",
        "    \"\"\"\n",
        "    #band_part with this setting creates lower triangular matrix that's why subtracting from 1\n",
        "    # [[0., 1., 1.],\n",
        "    #  [0., 0., 1.],\n",
        "    #  [0., 0., 0.]] output with size:3\n",
        "    mask = 1 - tf.linalg.band_part(tf.ones((size, size)), -1, 0)\n",
        "    return mask  # (seq_len, seq_len)\n",
        "\n",
        "#example\n",
        "x = tf.random.uniform((1, 3))\n",
        "temp = create_look_ahead_mask(x.shape[1])\n",
        "temp"
      ]
    },
    {
      "cell_type": "markdown",
      "id": "2896ca7e",
      "metadata": {
        "id": "2896ca7e"
      },
      "source": [
        "## 3. SELF-ATTENTION calculation"
      ]
    },
    {
      "cell_type": "markdown",
      "id": "04daf49a",
      "metadata": {
        "id": "04daf49a"
      },
      "source": [
        "![image](images/attenion_formula.png)"
      ]
    },
    {
      "cell_type": "code",
      "execution_count": null,
      "id": "f55e44a8",
      "metadata": {
        "id": "f55e44a8"
      },
      "outputs": [],
      "source": [
        "def scaled_dot_product_attention(q, k, v, mask=None):\n",
        "    \"\"\"\n",
        "    Args:\n",
        "    q: query shape == (..., seq_len_q, depth) # NOTE: depth=dk\n",
        "    k: key shape == (..., seq_len_k, depth)\n",
        "    v: value shape == (..., seq_len_v, depth_v)\n",
        "    mask: Float tensor with shape broadcastable to (..., seq_len_q, seq_len_k). Defaults to None.\n",
        "\n",
        "    Returns:\n",
        "    output, attention_weights\n",
        "    \"\"\"\n",
        "    matmul_qk = tf.matmul(q, k, transpose_b=True)  # (..., seq_len_q, seq_len_k)\n",
        "    # scale matmul_qk. underroot d_model i.e. underroot(100)\n",
        "    dk = tf.cast(tf.shape(k)[-1], tf.float32)\n",
        "    scaled_attention_logits = matmul_qk / tf.math.sqrt(dk)\n",
        "    # add the mask to the scaled tensor.\n",
        "    if mask is not None:\n",
        "        scaled_attention_logits += (mask * -1e9)  # -1e9 ~ (-INFINITY) => where ever mask is set, make its logit value close to -INF\n",
        "    # softmax is normalized on the last axis (seq_len_k) so that the scores add up to 1.\n",
        "    attention_weights = tf.nn.softmax(scaled_attention_logits, axis=-1)  # (..., seq_len_q, seq_len_k)\n",
        "    output = tf.matmul(attention_weights, v)  # (..., seq_len_q, depth_v)\n",
        "\n",
        "    return output, attention_weights"
      ]
    },
    {
      "cell_type": "markdown",
      "id": "798eca41",
      "metadata": {
        "id": "798eca41"
      },
      "source": [
        "## 4. MultiHeadAttention Calculation\n",
        "#### Its nothing but a RESHAPING !! :)\n",
        "example :\n",
        "1. if we have (64, 10, 512)->(BATCH, #words, embeddding) as input, after passiing it though dense layer of size 512 we will get (64, 10, 512)\n",
        "2. We have three such dense layers representing/for Q, K, V encodings.\n",
        "3. (64, 10, 512) -> reshape -> (64, 8, 10 ,64) -> (BATCH, attention head, #words, encode)\n",
        "    '64' is representing encoding of 512 -> 64 dimension\n",
        "4. (64, 8, 10 ,64)->self-attention-code->(64, 8, 10 ,10) called attention weights, (64, 8, 10 ,64)\n",
        "5. Concatenate such that 8*64 will be new dimension -> (64, 10, 512)\n",
        "    \n",
        "    **Beware embedding dimn must be divisible by no. of heads and always embedding_dimn/heads => encodin_dimn(here 64)**\n",
        "    \n",
        "    **NICE HACK** (-_-)"
      ]
    },
    {
      "cell_type": "markdown",
      "id": "0f41cf3c",
      "metadata": {
        "id": "0f41cf3c"
      },
      "source": [
        "![image](images/multi_head.png)"
      ]
    },
    {
      "cell_type": "code",
      "execution_count": null,
      "id": "ab0b6ec3",
      "metadata": {
        "id": "ab0b6ec3"
      },
      "outputs": [],
      "source": [
        "class MultiHeadAttention(tf.keras.layers.Layer):\n",
        "    def __init__(self, d_model, num_heads):\n",
        "        super(MultiHeadAttention, self).__init__()\n",
        "        self.num_heads = num_heads\n",
        "        self.d_model = d_model  # typically 512\n",
        "\n",
        "        assert d_model % self.num_heads == 0\n",
        "\n",
        "        self.depth = d_model // self.num_heads\n",
        "\n",
        "        self.wq = tf.keras.layers.Dense(d_model)\n",
        "        self.wk = tf.keras.layers.Dense(d_model)\n",
        "        self.wv = tf.keras.layers.Dense(d_model)\n",
        "\n",
        "        self.dense = tf.keras.layers.Dense(d_model)\n",
        "\n",
        "    def split_heads(self, x, batch_size):\n",
        "        \"\"\"Split the last dimension into (num_heads, depth).\n",
        "        Transpose the result such that the shape is (batch_size, num_heads, seq_len, depth)\n",
        "        \"\"\"\n",
        "        x = tf.reshape(x, (batch_size, -1, self.num_heads, self.depth))\n",
        "        return tf.transpose(x, perm=[0, 2, 1, 3])\n",
        "\n",
        "    def call(self, v, k, q, mask):\n",
        "        batch_size = tf.shape(q)[0]\n",
        "\n",
        "        q = self.wq(q)  # (batch_size, seq_len, d_model)\n",
        "        k = self.wk(k)  # (batch_size, seq_len, d_model)\n",
        "        v = self.wv(v)  # (batch_size, seq_len, d_model)\n",
        "\n",
        "        q = self.split_heads(q, batch_size)  # (batch_size, num_heads, seq_len_q, depth)\n",
        "        k = self.split_heads(k, batch_size)  # (batch_size, num_heads, seq_len_k, depth)\n",
        "        v = self.split_heads(v, batch_size)  # (batch_size, num_heads, seq_len_v, depth)\n",
        "\n",
        "        # scaled_attention.shape == (batch_size, num_heads, seq_len_q, depth)\n",
        "        # attention_weights.shape == (batch_size, num_heads, seq_len_q, seq_len_k)\n",
        "        scaled_attention, attention_weights = scaled_dot_product_attention(\n",
        "            q, k, v, mask)\n",
        "\n",
        "        scaled_attention = tf.transpose(scaled_attention, perm=[0, 2, 1, 3])  # (batch_size, seq_len_q, num_heads, depth)\n",
        "\n",
        "        concat_attention = tf.reshape(scaled_attention,\n",
        "                                      (batch_size, -1, self.d_model))  # (batch_size, seq_len_q, d_model)\n",
        "\n",
        "        output = self.dense(concat_attention)  # (batch_size, seq_len_q, d_model)\n",
        "\n",
        "        return output, attention_weights\n"
      ]
    },
    {
      "cell_type": "markdown",
      "id": "809f3721",
      "metadata": {
        "id": "809f3721"
      },
      "source": [
        "## 5. ENCODER layer\n",
        "\n",
        "#### -> self Multihead attention -> Residual+Norm -> Feed forward neural network -> Residual+Norm\n",
        "\n",
        "![image](images/encoder_layer.png)\n"
      ]
    },
    {
      "cell_type": "code",
      "execution_count": null,
      "id": "2c9b69f5",
      "metadata": {
        "id": "2c9b69f5"
      },
      "outputs": [],
      "source": [
        "def point_wise_feed_forward_network(d_model, dff): #dff = 512\n",
        "    return tf.keras.Sequential([\n",
        "      tf.keras.layers.Dense(dff, activation='relu'),  # (batch_size, seq_len, dff)\n",
        "      tf.keras.layers.Dense(d_model)  # (batch_size, seq_len, d_model)\n",
        "    ])\n",
        "\n",
        "\n",
        "class EncoderLayer(tf.keras.layers.Layer):\n",
        "    def __init__(self, d_model, num_heads, dff, rate=0.1):\n",
        "        super(EncoderLayer, self).__init__()\n",
        "\n",
        "        self.mha = MultiHeadAttention(d_model, num_heads)\n",
        "        self.ffn = point_wise_feed_forward_network(d_model, dff)\n",
        "\n",
        "        self.layernorm1 = tf.keras.layers.LayerNormalization(epsilon=1e-6)\n",
        "        self.layernorm2 = tf.keras.layers.LayerNormalization(epsilon=1e-6)\n",
        "\n",
        "        self.dropout1 = tf.keras.layers.Dropout(rate)\n",
        "        self.dropout2 = tf.keras.layers.Dropout(rate)\n",
        "\n",
        "    def call(self, x, training, mask):\n",
        "        attn_output, _ = self.mha(x, x, x, mask)  # (batch_size, input_seq_len, d_model)\n",
        "        attn_output = self.dropout1(attn_output, training=training)\n",
        "        out1 = self.layernorm1(x + attn_output)  # (batch_size, input_seq_len, d_model) # with Attention\n",
        "\n",
        "        ffn_output = self.ffn(out1)  # (batch_size, input_seq_len, d_model)\n",
        "        ffn_output = self.dropout2(ffn_output, training=training)\n",
        "        out2 = self.layernorm2(out1 + ffn_output)  # (batch_size, input_seq_len, d_model) #with Attention\n",
        "\n",
        "        return out2"
      ]
    },
    {
      "cell_type": "code",
      "execution_count": null,
      "id": "d18de1ef",
      "metadata": {
        "colab": {
          "base_uri": "https://localhost:8080/"
        },
        "id": "d18de1ef",
        "outputId": "9fd8043c-c6cf-4267-b692-3b1be734e0f9"
      },
      "outputs": [
        {
          "output_type": "execute_result",
          "data": {
            "text/plain": [
              "TensorShape([64, 43, 512])"
            ]
          },
          "metadata": {},
          "execution_count": 23
        }
      ],
      "source": [
        "sample_encoder_layer = EncoderLayer(512, 8, 2048)\n",
        "\n",
        "sample_encoder_layer_output = sample_encoder_layer(\n",
        "    tf.random.uniform((64, 43, 512)), False, None)\n",
        "\n",
        "sample_encoder_layer_output.shape  # (batch_size, input_seq_len, d_model)"
      ]
    },
    {
      "cell_type": "markdown",
      "id": "0d49552e",
      "metadata": {
        "id": "0d49552e"
      },
      "source": [
        "## 6. DECODER LAYER\n",
        "#### -> self multihead attention -> residual+norm -> multihead attention(between E & D) -> residual+norm -> feed forward NN -> residual+norm\n",
        "\n",
        "![image](images/decoder_layer.png)"
      ]
    },
    {
      "cell_type": "code",
      "execution_count": null,
      "id": "f3061bff",
      "metadata": {
        "id": "f3061bff"
      },
      "outputs": [],
      "source": [
        "class DecoderLayer(tf.keras.layers.Layer):\n",
        "    def __init__(self, d_model, num_heads, dff, rate=0.1):\n",
        "        super(DecoderLayer, self).__init__()\n",
        "\n",
        "        self.mha1 = MultiHeadAttention(d_model, num_heads)\n",
        "        self.mha2 = MultiHeadAttention(d_model, num_heads)\n",
        "\n",
        "        self.ffn = point_wise_feed_forward_network(d_model, dff)\n",
        "\n",
        "        self.layernorm1 = tf.keras.layers.LayerNormalization(epsilon=1e-6)\n",
        "        self.layernorm2 = tf.keras.layers.LayerNormalization(epsilon=1e-6)\n",
        "        self.layernorm3 = tf.keras.layers.LayerNormalization(epsilon=1e-6)\n",
        "\n",
        "        self.dropout1 = tf.keras.layers.Dropout(rate)\n",
        "        self.dropout2 = tf.keras.layers.Dropout(rate)\n",
        "        self.dropout3 = tf.keras.layers.Dropout(rate)\n",
        "\n",
        "\n",
        "    def call(self, x, enc_output, training, look_ahead_mask, padding_mask):\n",
        "\n",
        "        attn1, attn_weights_block1 = self.mha1(x, x, x, look_ahead_mask)  # (batch_size, target_seq_len, d_model)\n",
        "        attn1 = self.dropout1(attn1, training=training)\n",
        "        out1 = self.layernorm1(attn1 + x)\n",
        "        attn2, attn_weights_block2 = self.mha2(\n",
        "            enc_output, enc_output, out1, padding_mask)  # (batch_size, target_seq_len, d_model)\n",
        "        attn2 = self.dropout2(attn2, training=training)\n",
        "        out2 = self.layernorm2(attn2 + out1)  # (batch_size, target_seq_len, d_model)\n",
        "\n",
        "        ffn_output = self.ffn(out2)  # (batch_size, target_seq_len, d_model)\n",
        "        ffn_output = self.dropout3(ffn_output, training=training)\n",
        "        out3 = self.layernorm3(ffn_output + out2)  # (batch_size, target_seq_len, d_model)\n",
        "\n",
        "        return out3, attn_weights_block1, attn_weights_block2"
      ]
    },
    {
      "cell_type": "markdown",
      "id": "7a2123ca",
      "metadata": {
        "id": "7a2123ca"
      },
      "source": [
        "## 7. ENCODER\n",
        "#### Nothing but repetation of Encoder layer :-) + Input embedding vector + positional encoding\n",
        "\n",
        "![image](images/encoder.png)"
      ]
    },
    {
      "cell_type": "code",
      "execution_count": null,
      "id": "98960a2d",
      "metadata": {
        "id": "98960a2d"
      },
      "outputs": [],
      "source": [
        "class Encoder(tf.keras.layers.Layer):\n",
        "    def __init__(self, num_layers, d_model, num_heads, dff, input_vocab_size,\n",
        "               maximum_position_encoding, rate=0.1):\n",
        "        super(Encoder, self).__init__()\n",
        "\n",
        "        self.d_model = d_model\n",
        "        self.num_layers = num_layers\n",
        "\n",
        "        self.embedding = tf.keras.layers.Embedding(input_vocab_size, d_model)\n",
        "        self.pos_encoding = positional_encoding(maximum_position_encoding,\n",
        "                                                self.d_model)\n",
        "\n",
        "\n",
        "        self.enc_layers = [EncoderLayer(d_model, num_heads, dff, rate)\n",
        "                           for _ in range(num_layers)]\n",
        "\n",
        "        self.dropout = tf.keras.layers.Dropout(rate)\n",
        "\n",
        "    def call(self, x, training, mask):\n",
        "\n",
        "        seq_len = tf.shape(x)[1]   #x:(batch, seq_len)\n",
        "        # adding embedding and position encoding.\n",
        "        x = self.embedding(x)  # (batch_size, input_seq_len, d_model)\n",
        "        x *= tf.math.sqrt(tf.cast(self.d_model, tf.float32))\n",
        "        x += self.pos_encoding[:, :seq_len, :]\n",
        "\n",
        "        x = self.dropout(x, training=training)\n",
        "\n",
        "        for i in range(self.num_layers):\n",
        "            x = self.enc_layers[i](x, training, mask)\n",
        "\n",
        "        return x  # (batch_size, input_seq_len, d_model)"
      ]
    },
    {
      "cell_type": "markdown",
      "id": "5fd0dcc2",
      "metadata": {
        "id": "5fd0dcc2"
      },
      "source": [
        "## 8. DECODER\n",
        "#### Nothing but Repetation of decoder layers + posisional encoder + embedding layer\n",
        "\n",
        "![image](images/decoder.png)"
      ]
    },
    {
      "cell_type": "code",
      "execution_count": null,
      "id": "b4232ef9",
      "metadata": {
        "id": "b4232ef9"
      },
      "outputs": [],
      "source": [
        "class Decoder(tf.keras.layers.Layer):\n",
        "    def __init__(self, num_layers, d_model, num_heads, dff, target_vocab_size,\n",
        "               maximum_position_encoding, rate=0.1):\n",
        "        super(Decoder, self).__init__()\n",
        "\n",
        "        self.d_model = d_model\n",
        "        self.num_layers = num_layers\n",
        "\n",
        "        self.embedding = tf.keras.layers.Embedding(target_vocab_size, d_model)\n",
        "        self.pos_encoding = positional_encoding(maximum_position_encoding, d_model)\n",
        "\n",
        "        self.dec_layers = [DecoderLayer(d_model, num_heads, dff, rate)\n",
        "                           for _ in range(num_layers)]\n",
        "        self.dropout = tf.keras.layers.Dropout(rate)\n",
        "\n",
        "    def call(self, x, enc_output, training, look_ahead_mask, padding_mask):\n",
        "\n",
        "        seq_len = tf.shape(x)[1]\n",
        "        attention_weights = {}\n",
        "\n",
        "        x = self.embedding(x)  # (batch_size, target_seq_len, d_model)\n",
        "        x *= tf.math.sqrt(tf.cast(self.d_model, tf.float32))\n",
        "        x += self.pos_encoding[:, :seq_len, :]\n",
        "\n",
        "        x = self.dropout(x, training=training)\n",
        "\n",
        "        for i in range(self.num_layers):\n",
        "            x, block1, block2 = self.dec_layers[i](x, enc_output, training,\n",
        "                                                 look_ahead_mask, padding_mask)\n",
        "\n",
        "            attention_weights['decoder_layer{}_block1'.format(i+1)] = block1\n",
        "            attention_weights['decoder_layer{}_block2'.format(i+1)] = block2\n",
        "\n",
        "        # x.shape == (batch_size, target_seq_len, d_model)\n",
        "        return x, attention_weights"
      ]
    },
    {
      "cell_type": "markdown",
      "id": "50318f4f",
      "metadata": {
        "id": "50318f4f"
      },
      "source": [
        "## 9. TRANSFORMER\n",
        "\n",
        "#### Nothing but encoder+decoder+dense layer\n",
        "##### (64,10,512) -> dense_layer -> (64,10,vocab_size)\n",
        "\n",
        "![image](images/transformer.png)\n"
      ]
    },
    {
      "cell_type": "code",
      "execution_count": null,
      "id": "6ba6c5e1",
      "metadata": {
        "id": "6ba6c5e1"
      },
      "outputs": [],
      "source": [
        "\n",
        "class Transformer(tf.keras.Model):\n",
        "    def __init__(self, num_layers, d_model, num_heads, dff, input_vocab_size,\n",
        "               target_vocab_size, pe_input, pe_target, rate=0.1):\n",
        "        super(Transformer, self).__init__()\n",
        "\n",
        "        self.encoder = Encoder(num_layers, d_model, num_heads, dff,\n",
        "                               input_vocab_size, pe_input, rate)\n",
        "\n",
        "        self.decoder = Decoder(num_layers, d_model, num_heads, dff,\n",
        "                               target_vocab_size, pe_target, rate)\n",
        "\n",
        "        self.final_layer = tf.keras.layers.Dense(target_vocab_size)\n",
        "\n",
        "    def call(self, inp, tar, training, enc_padding_mask,\n",
        "           look_ahead_mask, dec_padding_mask):\n",
        "\n",
        "        enc_output = self.encoder(inp, training, enc_padding_mask)  # (batch_size, inp_seq_len, d_model)\n",
        "\n",
        "        # dec_output.shape == (batch_size, tar_seq_len, d_model)\n",
        "        dec_output, attention_weights = self.decoder(\n",
        "            tar, enc_output, training, look_ahead_mask, dec_padding_mask)\n",
        "\n",
        "        final_output = self.final_layer(dec_output)  # (batch_size, tar_seq_len, target_vocab_size)\n",
        "\n",
        "        return final_output, attention_weights"
      ]
    },
    {
      "cell_type": "markdown",
      "id": "db99e050",
      "metadata": {
        "id": "db99e050"
      },
      "source": [
        "#### So to create a transformer architecture which is now everywhere in NLP models, we require only 9 STEPs :-O"
      ]
    },
    {
      "cell_type": "code",
      "execution_count": null,
      "id": "0ad95ab6",
      "metadata": {
        "id": "0ad95ab6"
      },
      "outputs": [],
      "source": [
        "# tokenizer_a = joblib.load(\"tokenizer_a\")\n",
        "# tokenizer_q = joblib.load(\"tokenizer_q\")"
      ]
    },
    {
      "cell_type": "code",
      "execution_count": null,
      "id": "ca0583e3",
      "metadata": {
        "id": "ca0583e3"
      },
      "outputs": [],
      "source": []
    },
    {
      "cell_type": "code",
      "execution_count": null,
      "id": "fb699bbb",
      "metadata": {
        "id": "fb699bbb"
      },
      "outputs": [],
      "source": [
        "num_layers = 4\n",
        "d_model = 128\n",
        "dff = 512\n",
        "num_heads = 8\n",
        "\n",
        "input_vocab_size = tokenizer_q.vocab_size + 2\n",
        "target_vocab_size = tokenizer_a.vocab_size + 2\n",
        "dropout_rate = 0.1"
      ]
    },
    {
      "cell_type": "markdown",
      "id": "a6dd6833",
      "metadata": {
        "id": "a6dd6833"
      },
      "source": [
        "## Custom learning rate, proposed in the paper\n",
        "#### First learning rate will be high and then after some epochs it will be decreasing ONLY\n",
        "\n",
        "![image](images/lr.png)\n"
      ]
    },
    {
      "cell_type": "code",
      "execution_count": null,
      "id": "af0bd674",
      "metadata": {
        "id": "af0bd674"
      },
      "outputs": [],
      "source": [
        "class CustomSchedule(tf.keras.optimizers.schedules.LearningRateSchedule):\n",
        "    def __init__(self, d_model, warmup_steps=4000):\n",
        "        super(CustomSchedule, self).__init__()\n",
        "\n",
        "        self.d_model = d_model\n",
        "        self.d_model = tf.cast(self.d_model, tf.float32)\n",
        "\n",
        "        self.warmup_steps = warmup_steps\n",
        "\n",
        "    def __call__(self, step):\n",
        "        # Cast step to float32 for compatibility with tf.math.rsqrt\n",
        "        step = tf.cast(step, tf.float32)\n",
        "        arg1 = tf.math.rsqrt(step)\n",
        "        arg2 = step * (self.warmup_steps ** -1.5)\n",
        "\n",
        "        return tf.math.rsqrt(self.d_model) * tf.math.minimum(arg1, arg2)"
      ]
    },
    {
      "cell_type": "code",
      "execution_count": null,
      "id": "95ed1f98",
      "metadata": {
        "id": "95ed1f98"
      },
      "outputs": [],
      "source": [
        "learning_rate = CustomSchedule(d_model)\n",
        "\n",
        "optimizer = tf.keras.optimizers.Adam(learning_rate, beta_1=0.9, beta_2=0.98,\n",
        "                                     epsilon=1e-9)"
      ]
    },
    {
      "cell_type": "markdown",
      "id": "a8e3f318",
      "metadata": {
        "id": "a8e3f318"
      },
      "source": [
        "### See, increasing and then decreasing"
      ]
    },
    {
      "cell_type": "code",
      "execution_count": null,
      "id": "a02400de",
      "metadata": {
        "colab": {
          "base_uri": "https://localhost:8080/",
          "height": 466
        },
        "id": "a02400de",
        "outputId": "be883183-2a3d-412d-d65c-0c7f6bbfb9ea"
      },
      "outputs": [
        {
          "output_type": "execute_result",
          "data": {
            "text/plain": [
              "Text(0.5, 0, 'Train Step')"
            ]
          },
          "metadata": {},
          "execution_count": 32
        },
        {
          "output_type": "display_data",
          "data": {
            "text/plain": [
              "<Figure size 640x480 with 1 Axes>"
            ],
            "image/png": "[encoded data removed]"
          },
          "metadata": {}
        }
      ],
      "source": [
        "temp_learning_rate_schedule = CustomSchedule(d_model)\n",
        "\n",
        "plt.plot(temp_learning_rate_schedule(tf.range(40000, dtype=tf.float32)))\n",
        "plt.ylabel(\"Learning Rate\")\n",
        "plt.xlabel(\"Train Step\")"
      ]
    },
    {
      "cell_type": "markdown",
      "id": "05c461fb",
      "metadata": {
        "id": "05c461fb"
      },
      "source": [
        "##### Custom losss function, same as sparse categorical cross entropy but considers only no padded values"
      ]
    },
    {
      "cell_type": "code",
      "execution_count": null,
      "id": "ba02438a",
      "metadata": {
        "id": "ba02438a"
      },
      "outputs": [],
      "source": [
        "loss_object = tf.keras.losses.SparseCategoricalCrossentropy(\n",
        "    from_logits=True, reduction='none')\n",
        "def loss_function(real, pred):\n",
        "    mask = tf.math.logical_not(tf.math.equal(real, 0))\n",
        "    loss_ = loss_object(real, pred)\n",
        "\n",
        "    mask = tf.cast(mask, dtype=loss_.dtype)\n",
        "    loss_ *= mask\n",
        "\n",
        "    return tf.reduce_sum(loss_)/tf.reduce_sum(mask)\n",
        "\n",
        "train_loss = tf.keras.metrics.Mean(name='train_loss')\n",
        "train_accuracy = tf.keras.metrics.SparseCategoricalAccuracy(\n",
        "    name='train_accuracy')"
      ]
    },
    {
      "cell_type": "markdown",
      "id": "01b9a90f",
      "metadata": {
        "id": "01b9a90f"
      },
      "source": [
        "### Creating pad mask(encoder), pad mask(decoder), lookahead mask(decoder)"
      ]
    },
    {
      "cell_type": "code",
      "execution_count": null,
      "id": "b61f4e3f",
      "metadata": {
        "id": "b61f4e3f"
      },
      "outputs": [],
      "source": [
        "def create_masks(inp, tar):\n",
        "    # Encoder padding mask\n",
        "    enc_padding_mask = create_padding_mask(inp)\n",
        "\n",
        "    # Used in the 2nd attention block in the decoder.\n",
        "    # This padding mask is used to mask the encoder outputs.\n",
        "    dec_padding_mask = create_padding_mask(inp)\n",
        "\n",
        "    # Used in the 1st attention block in the decoder.\n",
        "    # It is used to pad and mask future tokens in the input received by\n",
        "    # the decoder.\n",
        "    look_ahead_mask = create_look_ahead_mask(tf.shape(tar)[1])\n",
        "    dec_target_padding_mask = create_padding_mask(tar)\n",
        "    combined_mask = tf.maximum(dec_target_padding_mask, look_ahead_mask)\n",
        "\n",
        "    return enc_padding_mask, combined_mask, dec_padding_mask"
      ]
    },
    {
      "cell_type": "markdown",
      "id": "644505ce",
      "metadata": {
        "id": "644505ce"
      },
      "source": [
        "## Saving model checkpoint"
      ]
    },
    {
      "cell_type": "code",
      "source": [
        "import transformers"
      ],
      "metadata": {
        "id": "LLPWqiJ8h3Ms"
      },
      "id": "LLPWqiJ8h3Ms",
      "execution_count": null,
      "outputs": []
    },
    {
      "cell_type": "code",
      "execution_count": null,
      "id": "7a9ba0f8",
      "metadata": {
        "id": "7a9ba0f8"
      },
      "outputs": [],
      "source": [
        "checkpoint_path = \"./checkpoints_test/train\"\n",
        "\n"
      ]
    },
    {
      "cell_type": "code",
      "source": [
        "import tensorflow as tf\n",
        "\n",
        "# Assuming you are using a Hugging Face transformer model\n",
        "from transformers import AutoTokenizer, TFAutoModelForSeq2SeqLM\n",
        "\n",
        "# Define the model\n",
        "model_name = \"t5-small\"  # Replace with your desired model\n",
        "transformer = TFAutoModelForSeq2SeqLM.from_pretrained(model_name)\n",
        "\n",
        "# Define the optimizer\n",
        "optimizer = tf.keras.optimizers.Adam(learning_rate=2e-5)\n",
        "\n",
        "checkpoint_path = \"./checkpoints_test/train\"\n",
        "\n",
        "ckpt = tf.train.Checkpoint(transformer=transformer,\n",
        "                           optimizer=optimizer)\n",
        "\n",
        "ckpt_manager = tf.train.CheckpointManager(ckpt, checkpoint_path, max_to_keep=5)\n",
        "\n",
        "# if a checkpoint exists, restore the latest checkpoint.\n",
        "if ckpt_manager.latest_checkpoint:\n",
        "    ckpt.restore(ckpt_manager.latest_checkpoint)\n",
        "    print ('Latest checkpoint restored!!')"
      ],
      "metadata": {
        "colab": {
          "base_uri": "https://localhost:8080/"
        },
        "id": "yOEIxMF4jHH6",
        "outputId": "31114058-0a30-4524-a15d-6c97808f3a17"
      },
      "id": "yOEIxMF4jHH6",
      "execution_count": null,
      "outputs": [
        {
          "output_type": "stream",
          "name": "stderr",
          "text": [
            "All PyTorch model weights were used when initializing TFT5ForConditionalGeneration.\n",
            "\n",
            "All the weights of TFT5ForConditionalGeneration were initialized from the PyTorch model.\n",
            "If your task is similar to the task the model of the checkpoint was trained on, you can already use TFT5ForConditionalGeneration for predictions without further training.\n"
          ]
        },
        {
          "output_type": "stream",
          "name": "stdout",
          "text": [
            "Latest checkpoint restored!!\n"
          ]
        }
      ]
    },
    {
      "cell_type": "markdown",
      "id": "f4c3cdf4",
      "metadata": {
        "id": "f4c3cdf4"
      },
      "source": [
        "## Using gradient tape for getting derivatives of loss functions w.r.t. weights then applyiing to optimizer => BACKPROPAGATION"
      ]
    },
    {
      "cell_type": "code",
      "execution_count": null,
      "id": "5e0dc634",
      "metadata": {
        "id": "5e0dc634"
      },
      "outputs": [],
      "source": [
        "# The @tf.function trace-compiles train_step into a TF graph for faster\n",
        "# execution. The function specializes to the precise shape of the argument\n",
        "# tensors. To avoid re-tracing due to the variable sequence lengths or variable\n",
        "# batch sizes (the last batch is smaller), use input_signature to specify\n",
        "# more generic shapes.\n",
        "\n",
        "train_step_signature = [\n",
        "    tf.TensorSpec(shape=(None, None), dtype=tf.int64),\n",
        "    tf.TensorSpec(shape=(None, None), dtype=tf.int64),\n",
        "]\n",
        "\n",
        "@tf.function(input_signature=train_step_signature)\n",
        "def train_step(inp, tar):\n",
        "    tar_inp = tar[:, :-1]\n",
        "    tar_real = tar[:, 1:]\n",
        "\n",
        "    enc_padding_mask, combined_mask, dec_padding_mask = create_masks(inp, tar_inp)\n",
        "    with tf.GradientTape() as tape:\n",
        "        predictions, _ = transformer(inp, tar_inp,\n",
        "                                     True,\n",
        "                                     enc_padding_mask,\n",
        "                                     combined_mask,\n",
        "                                     dec_padding_mask)\n",
        "        loss = loss_function(tar_real, predictions)\n",
        "\n",
        "    gradients = tape.gradient(loss, transformer.trainable_variables)\n",
        "    optimizer.apply_gradients(zip(gradients, transformer.trainable_variables))\n",
        "\n",
        "    train_loss(loss)\n",
        "    train_accuracy(tar_real, predictions)"
      ]
    },
    {
      "cell_type": "markdown",
      "id": "bf410f58",
      "metadata": {
        "id": "bf410f58"
      },
      "source": [
        "## Creating sample transformer to know the no. of trainable parameters"
      ]
    },
    {
      "cell_type": "code",
      "execution_count": null,
      "id": "d0d0ea48",
      "metadata": {
        "colab": {
          "base_uri": "https://localhost:8080/"
        },
        "id": "d0d0ea48",
        "outputId": "2d59616b-4e07-4c7c-aa85-965237caa088"
      },
      "outputs": [
        {
          "output_type": "stream",
          "name": "stdout",
          "text": [
            "Model: \"transformer_2\"\n",
            "_________________________________________________________________\n",
            " Layer (type)                Output Shape              Param #   \n",
            "=================================================================\n",
            " encoder_2 (Encoder)         multiple                  1011840   \n",
            "                                                                 \n",
            " decoder_2 (Decoder)         multiple                  1284992   \n",
            "                                                                 \n",
            " dense_200 (Dense)           multiple                  228459    \n",
            "                                                                 \n",
            "=================================================================\n",
            "Total params: 2525291 (9.63 MB)\n",
            "Trainable params: 2525291 (9.63 MB)\n",
            "Non-trainable params: 0 (0.00 Byte)\n",
            "_________________________________________________________________\n"
          ]
        }
      ],
      "source": [
        "num_layers = 4\n",
        "d_model = 128\n",
        "dff = 512\n",
        "num_heads = 8\n",
        "input_vocab_size = tokenizer_q.vocab_size + 2\n",
        "target_vocab_size = tokenizer_a.vocab_size + 2\n",
        "dropout_rate = 0.1\n",
        "\n",
        "sample_transformer = Transformer(num_layers, d_model, num_heads, dff,\n",
        "                          input_vocab_size, target_vocab_size,\n",
        "                          pe_input=input_vocab_size,\n",
        "                          pe_target=target_vocab_size,\n",
        "                          rate=dropout_rate)\n",
        "\n",
        "temp_input = tf.random.uniform((64, 27), dtype=tf.int64, minval=0, maxval=200)\n",
        "temp_target = tf.random.uniform((64, 27), dtype=tf.int64, minval=0, maxval=200)\n",
        "\n",
        "fn_out, _ = sample_transformer(temp_input, temp_target, training=False,\n",
        "                               enc_padding_mask=None,\n",
        "                               look_ahead_mask=None,\n",
        "                               dec_padding_mask=None)\n",
        "\n",
        "fn_out.shape  # (batch_size, tar_seq_len, target_vocab_size)\n",
        "sample_transformer.summary()"
      ]
    },
    {
      "cell_type": "code",
      "execution_count": null,
      "id": "8d653136",
      "metadata": {
        "id": "8d653136"
      },
      "outputs": [],
      "source": [
        "num_layers = 4\n",
        "d_model = 128\n",
        "dff = 512\n",
        "num_heads = 8\n",
        "input_vocab_size = tokenizer_q.vocab_size + 2\n",
        "target_vocab_size = tokenizer_a.vocab_size + 2\n",
        "dropout_rate = 0.1\n",
        "\n",
        "\n",
        "transformer = Transformer(num_layers, d_model, num_heads, dff,\n",
        "                          input_vocab_size, target_vocab_size,\n",
        "                          pe_input=input_vocab_size,\n",
        "                          pe_target=target_vocab_size,\n",
        "                          rate=dropout_rate)"
      ]
    },
    {
      "cell_type": "code",
      "execution_count": null,
      "id": "a47d4b94",
      "metadata": {
        "colab": {
          "base_uri": "https://localhost:8080/"
        },
        "id": "a47d4b94",
        "outputId": "6fe2dc1a-0a8b-4961-e4be-144627c029cf"
      },
      "outputs": [
        {
          "output_type": "stream",
          "name": "stdout",
          "text": [
            "\n",
            "epoch 1/20\n",
            "1088/1084 [==============================] - 39s 36ms/step - loss: 6.4938 - acc: 0.0171\n",
            "\n",
            "epoch 2/20\n",
            "1088/1084 [==============================] - 3s 3ms/step - loss: 6.0385 - acc: 0.0171\n",
            "\n",
            "epoch 3/20\n",
            "1088/1084 [==============================] - 3s 3ms/step - loss: 5.8582 - acc: 0.0173\n",
            "\n",
            "epoch 4/20\n",
            "1088/1084 [==============================] - 3s 3ms/step - loss: 5.7388 - acc: 0.0176\n",
            "\n",
            "epoch 5/20\n",
            "1088/1084 [==============================] - 2s 2ms/step - loss: 5.6398 - acc: 0.0184\n",
            "Saving checkpoint for epoch 5 at ./checkpoints_test/train/ckpt-36\n",
            "\n",
            "epoch 6/20\n",
            "1088/1084 [==============================] - 3s 2ms/step - loss: 5.5424 - acc: 0.0197\n",
            "\n",
            "epoch 7/20\n",
            "1088/1084 [==============================] - 2s 2ms/step - loss: 5.4431 - acc: 0.0218\n",
            "\n",
            "epoch 8/20\n",
            "1088/1084 [==============================] - 2s 2ms/step - loss: 5.3289 - acc: 0.0244\n",
            "\n",
            "epoch 9/20\n",
            "1088/1084 [==============================] - 3s 2ms/step - loss: 5.1984 - acc: 0.0279\n",
            "\n",
            "epoch 10/20\n",
            "1088/1084 [==============================] - 2s 2ms/step - loss: 5.0586 - acc: 0.0320\n",
            "Saving checkpoint for epoch 10 at ./checkpoints_test/train/ckpt-37\n",
            "\n",
            "epoch 11/20\n",
            "1088/1084 [==============================] - 2s 2ms/step - loss: 4.9229 - acc: 0.0360\n",
            "\n",
            "epoch 12/20\n",
            "1088/1084 [==============================] - 1s 1ms/step - loss: 4.7915 - acc: 0.0399\n",
            "\n",
            "epoch 13/20\n",
            "1088/1084 [==============================] - 2s 2ms/step - loss: 4.6628 - acc: 0.0436\n",
            "\n",
            "epoch 14/20\n",
            "1088/1084 [==============================] - 2s 2ms/step - loss: 4.5402 - acc: 0.0470\n",
            "\n",
            "epoch 15/20\n",
            "1088/1084 [==============================] - 2s 2ms/step - loss: 4.4244 - acc: 0.0504\n",
            "Saving checkpoint for epoch 15 at ./checkpoints_test/train/ckpt-38\n",
            "\n",
            "epoch 16/20\n",
            "1088/1084 [==============================] - 2s 1ms/step - loss: 4.3128 - acc: 0.0534\n",
            "\n",
            "epoch 17/20\n",
            "1088/1084 [==============================] - 1s 1ms/step - loss: 4.2070 - acc: 0.0562\n",
            "\n",
            "epoch 18/20\n",
            "1088/1084 [==============================] - 1s 1ms/step - loss: 4.1057 - acc: 0.0591\n",
            "\n",
            "epoch 19/20\n",
            "1088/1084 [==============================] - 2s 1ms/step - loss: 4.0074 - acc: 0.0618\n",
            "\n",
            "epoch 20/20\n",
            "1088/1084 [==============================] - 2s 1ms/step - loss: 3.9130 - acc: 0.0645\n",
            "Saving checkpoint for epoch 20 at ./checkpoints_test/train/ckpt-39\n"
          ]
        }
      ],
      "source": [
        "EPOCHS = 20\n",
        "batch_size = 64\n",
        "metrics_names = ['loss', 'acc']\n",
        "train_loss.reset_states()\n",
        "train_accuracy.reset_states()\n",
        "for epoch in range(EPOCHS):\n",
        "    print(\"\\nepoch {}/{}\".format(epoch+1,EPOCHS))\n",
        "    pb_i = Progbar(train.shape[0], stateful_metrics=metrics_names)\n",
        "\n",
        "    # inp -> question, tar -> answer\n",
        "    for (batch, (inp, tar)) in enumerate(train_dataset):\n",
        "        train_step(inp, tar)\n",
        "\n",
        "        values=[('loss',train_loss.result()), ('acc',train_accuracy.result())]\n",
        "\n",
        "        pb_i.add(batch_size, values=values)\n",
        "    if (epoch + 1) % 5 == 0:\n",
        "        ckpt_save_path = ckpt_manager.save()\n",
        "        print ('Saving checkpoint for epoch {} at {}'.format(epoch+1,ckpt_save_path))"
      ]
    },
    {
      "cell_type": "code",
      "execution_count": null,
      "id": "addc165f",
      "metadata": {
        "colab": {
          "base_uri": "https://localhost:8080/"
        },
        "id": "addc165f",
        "outputId": "2d4240fe-246e-4f83-b7a9-b6278e4a8c24"
      },
      "outputs": [
        {
          "output_type": "stream",
          "name": "stdout",
          "text": [
            "\n",
            "epoch 1/5\n",
            "1088/1084 [==============================] - 2s 1ms/step - loss: 3.8218 - acc: 0.0671\n",
            "\n",
            "epoch 2/5\n",
            "1088/1084 [==============================] - 2s 2ms/step - loss: 3.7343 - acc: 0.0697\n",
            "\n",
            "epoch 3/5\n",
            "1088/1084 [==============================] - 1s 1ms/step - loss: 3.6501 - acc: 0.0722\n",
            "\n",
            "epoch 4/5\n",
            "1088/1084 [==============================] - 1s 1ms/step - loss: 3.5691 - acc: 0.0747\n",
            "\n",
            "epoch 5/5\n",
            "1088/1084 [==============================] - 1s 1ms/step - loss: 3.4911 - acc: 0.0772\n",
            "Saving checkpoint for epoch 5 at ./checkpoints_test/train/ckpt-40\n"
          ]
        }
      ],
      "source": [
        "EPOCHS = 5\n",
        "batch_size = 64\n",
        "metrics_names = ['loss', 'acc']\n",
        "# train_loss.reset_states()\n",
        "# train_accuracy.reset_states()\n",
        "for epoch in range(EPOCHS):\n",
        "    print(\"\\nepoch {}/{}\".format(epoch+1,EPOCHS))\n",
        "    pb_i = Progbar(train.shape[0], stateful_metrics=metrics_names)\n",
        "\n",
        "    # inp -> question, tar -> answer\n",
        "    for (batch, (inp, tar)) in enumerate(train_dataset):\n",
        "        train_step(inp, tar)\n",
        "\n",
        "        values=[('loss',train_loss.result()), ('acc',train_accuracy.result())]\n",
        "\n",
        "        pb_i.add(batch_size, values=values)\n",
        "    if (epoch + 1) % 5 == 0:\n",
        "        ckpt_save_path = ckpt_manager.save()\n",
        "        print ('Saving checkpoint for epoch {} at {}'.format(epoch+1,ckpt_save_path))"
      ]
    },
    {
      "cell_type": "markdown",
      "id": "eca700ca",
      "metadata": {
        "id": "eca700ca"
      },
      "source": [
        "# With those hyperparameters it seems model is not learning at all, as there is no progress in 25 EPOCHS"
      ]
    },
    {
      "cell_type": "code",
      "execution_count": null,
      "id": "3c6542bc",
      "metadata": {
        "id": "3c6542bc"
      },
      "outputs": [],
      "source": [
        "MAX_LENGTH = 200\n",
        "def evaluate(inp_sentence):\n",
        "    start_token = [tokenizer_q.vocab_size]\n",
        "    end_token = [tokenizer_q.vocab_size + 1]\n",
        "\n",
        "    # inp sentence is portuguese, hence adding the start and end token\n",
        "    inp_sentence = start_token + tokenizer_q.encode(inp_sentence) + end_token\n",
        "    encoder_input = tf.expand_dims(inp_sentence, 0)\n",
        "\n",
        "    # as the target is english, the first word to the transformer should be the\n",
        "    # english start token.\n",
        "    decoder_input = [tokenizer_a.vocab_size]\n",
        "    output = tf.expand_dims(decoder_input, 0)\n",
        "\n",
        "    for i in range(MAX_LENGTH):\n",
        "        enc_padding_mask, combined_mask, dec_padding_mask = create_masks(\n",
        "            encoder_input, output)\n",
        "\n",
        "        # predictions.shape == (batch_size, seq_len, vocab_size)\n",
        "        predictions, attention_weights = transformer(encoder_input,\n",
        "                                                     output,\n",
        "                                                     False,\n",
        "                                                     enc_padding_mask,\n",
        "                                                     combined_mask,\n",
        "                                                     dec_padding_mask)\n",
        "\n",
        "        # select the last word from the seq_len dimension\n",
        "#         print(predictions.shape,\"aa\",predictions[: ,-1:, :].shape)\n",
        "        predictions = predictions[: ,-1:, :]  # (batch_size, 1, vocab_size)\n",
        "\n",
        "        predicted_id = tf.cast(tf.argmax(predictions, axis=-1), tf.int32)\n",
        "#         print(predicted_id, output)\n",
        "    # return the result if the predicted_id is equal to the end token\n",
        "        if predicted_id == tokenizer_a.vocab_size+1:\n",
        "            return tf.squeeze(output, axis=0), attention_weights\n",
        "\n",
        "    # concatentate the predicted_id to the output which is given to the decoder\n",
        "    # as its input.\n",
        "        output = tf.concat([output, predicted_id], axis=-1)\n",
        "\n",
        "    return tf.squeeze(output, axis=0), attention_weights"
      ]
    },
    {
      "cell_type": "code",
      "execution_count": null,
      "id": "dcfbf0c7",
      "metadata": {
        "id": "dcfbf0c7"
      },
      "outputs": [],
      "source": [
        "inp_sentence = \"Ṣé àkàrà-òyìnbó aláìlẹ́yin lẹ fẹ́\"\n",
        "a, b = evaluate(inp_sentence)"
      ]
    },
    {
      "cell_type": "markdown",
      "id": "30d36412",
      "metadata": {
        "id": "30d36412"
      },
      "source": [
        "# RESULTS are ABSURD"
      ]
    },
    {
      "cell_type": "code",
      "execution_count": null,
      "id": "7ee9871b",
      "metadata": {
        "colab": {
          "base_uri": "https://localhost:8080/"
        },
        "id": "7ee9871b",
        "outputId": "461fcbc4-aa56-4177-cb45-4c02f017832c"
      },
      "outputs": [
        {
          "output_type": "stream",
          "name": "stdout",
          "text": [
            "ó \n",
            "dáa\n",
            ". \n",
            "ẹ \n",
            "seun\n",
            ". \n",
            "ẹ \n",
            "ṣe \n",
            "sùúrù \n",
            "díẹ\n",
            "̀ \n",
            "pé \n",
            "wọ\n",
            "́\n",
            "n \n",
            "fi \n",
            "sílẹ\n",
            "̀ \n",
            "pé \n",
            "ti \n",
            "sì \n",
            "padà \n",
            "wá \n",
            "sí \n",
            "àkànṣeètòàjò \n",
            "tí \n",
            "a \n",
            "sí \n",
            "àkànṣeètòàjò \n",
            "tó \n",
            "bá \n",
            "padà \n",
            "wá \n",
            "ní \n",
            "aago \n",
            "mẹ\n",
            "́\n",
            "ta \n",
            "naira \n",
            "wà \n",
            "ní \n",
            "aago \n",
            "mẹ\n",
            "́\n",
            "ta \n",
            "naira \n",
            "sí \n",
            "ni\n",
            ".\n"
          ]
        }
      ],
      "source": [
        "for i in a[1:]:\n",
        "    print(tokenizer_a.decode([i]))"
      ]
    },
    {
      "cell_type": "markdown",
      "id": "c45aebc4",
      "metadata": {
        "id": "c45aebc4"
      },
      "source": [
        " ## Lets try with different hyperparameters"
      ]
    },
    {
      "cell_type": "code",
      "execution_count": null,
      "id": "a79abb08",
      "metadata": {
        "colab": {
          "base_uri": "https://localhost:8080/"
        },
        "id": "a79abb08",
        "outputId": "3fe2e47d-f269-484c-bcd0-5e228a816e23"
      },
      "outputs": [
        {
          "output_type": "stream",
          "name": "stdout",
          "text": [
            "Model: \"transformer_2\"\n",
            "_________________________________________________________________\n",
            " Layer (type)                Output Shape              Param #   \n",
            "=================================================================\n",
            " encoder_2 (Encoder)         multiple                  1011840   \n",
            "                                                                 \n",
            " decoder_2 (Decoder)         multiple                  1284992   \n",
            "                                                                 \n",
            " dense_200 (Dense)           multiple                  228459    \n",
            "                                                                 \n",
            "=================================================================\n",
            "Total params: 2525291 (9.63 MB)\n",
            "Trainable params: 2525291 (9.63 MB)\n",
            "Non-trainable params: 0 (0.00 Byte)\n",
            "_________________________________________________________________\n"
          ]
        }
      ],
      "source": [
        "num_layers = 4\n",
        "d_model = 128\n",
        "dff = 512\n",
        "num_heads = 8\n",
        "\n",
        "input_vocab_size = tokenizer_q.vocab_size + 2\n",
        "target_vocab_size = tokenizer_a.vocab_size + 2\n",
        "dropout_rate = 0.1\n",
        "temp_input = tf.random.uniform((64, 27), dtype=tf.int64, minval=0, maxval=200)\n",
        "temp_target = tf.random.uniform((64, 27), dtype=tf.int64, minval=0, maxval=200)\n",
        "\n",
        "fn_out, _ = sample_transformer(temp_input, temp_target, training=False,\n",
        "                               enc_padding_mask=None,\n",
        "                               look_ahead_mask=None,\n",
        "                               dec_padding_mask=None)\n",
        "\n",
        "fn_out.shape  # (batch_size, tar_seq_len, target_vocab_size)\n",
        "sample_transformer.summary()"
      ]
    },
    {
      "cell_type": "code",
      "execution_count": null,
      "id": "5709905a",
      "metadata": {
        "colab": {
          "base_uri": "https://localhost:8080/"
        },
        "id": "5709905a",
        "outputId": "31501b0e-a14e-4ceb-d3ff-8fbbd3d21d48"
      },
      "outputs": [
        {
          "output_type": "stream",
          "name": "stdout",
          "text": [
            "Model: \"transformer_4\"\n",
            "_________________________________________________________________\n",
            " Layer (type)                Output Shape              Param #   \n",
            "=================================================================\n",
            " encoder_4 (Encoder)         multiple                  1491712   \n",
            "                                                                 \n",
            " decoder_4 (Decoder)         multiple                  2034944   \n",
            "                                                                 \n",
            " dense_298 (Dense)           multiple                  455147    \n",
            "                                                                 \n",
            "=================================================================\n",
            "Total params: 3981803 (15.19 MB)\n",
            "Trainable params: 3981803 (15.19 MB)\n",
            "Non-trainable params: 0 (0.00 Byte)\n",
            "_________________________________________________________________\n"
          ]
        }
      ],
      "source": [
        "num_layers = 2\n",
        "d_model = 256\n",
        "dff = 512\n",
        "num_heads = 8\n",
        "input_vocab_size = tokenizer_q.vocab_size + 2\n",
        "target_vocab_size = tokenizer_a.vocab_size + 2\n",
        "dropout_rate = 0.1\n",
        "\n",
        "sample_transformer = Transformer(num_layers, d_model, num_heads, dff,\n",
        "                          input_vocab_size, target_vocab_size,\n",
        "                          pe_input=input_vocab_size,\n",
        "                          pe_target=target_vocab_size,\n",
        "                          rate=dropout_rate)\n",
        "\n",
        "temp_input = tf.random.uniform((64, 27), dtype=tf.int64, minval=0, maxval=200)\n",
        "temp_target = tf.random.uniform((64, 27), dtype=tf.int64, minval=0, maxval=200)\n",
        "\n",
        "fn_out, _ = sample_transformer(temp_input, temp_target, training=False,\n",
        "                               enc_padding_mask=None,\n",
        "                               look_ahead_mask=None,\n",
        "                               dec_padding_mask=None)\n",
        "sample_transformer.summary()"
      ]
    },
    {
      "cell_type": "markdown",
      "id": "17f5656e",
      "metadata": {
        "id": "17f5656e"
      },
      "source": [
        "### Now the trainable parameters has increased from 12M to 24M, Lets test this!!"
      ]
    },
    {
      "cell_type": "code",
      "execution_count": null,
      "id": "27d76c6e",
      "metadata": {
        "colab": {
          "base_uri": "https://localhost:8080/"
        },
        "id": "27d76c6e",
        "outputId": "b2c41d72-92ce-423f-a63f-c760d2795667"
      },
      "outputs": [
        {
          "output_type": "stream",
          "name": "stdout",
          "text": [
            "\n",
            "epoch 1/20\n",
            "1088/1084 [==============================] - 2s 1ms/step - loss: 1.5055 - acc: 0.1393\n",
            "\n",
            "epoch 2/20\n",
            "1088/1084 [==============================] - 1s 1ms/step - loss: 1.4565 - acc: 0.1404\n",
            "\n",
            "epoch 3/20\n",
            "1088/1084 [==============================] - 1s 1ms/step - loss: 1.4091 - acc: 0.1409\n",
            "\n",
            "epoch 4/20\n",
            "1088/1084 [==============================] - 1s 1ms/step - loss: 1.3693 - acc: 0.1448\n",
            "\n",
            "epoch 5/20\n",
            "1088/1084 [==============================] - 2s 2ms/step - loss: 1.3315 - acc: 0.1457\n",
            "Saving checkpoint for epoch 5 at ./checkpoints_test/train/ckpt-41\n",
            "\n",
            "epoch 6/20\n",
            "1088/1084 [==============================] - 1s 1ms/step - loss: 1.2937 - acc: 0.1468\n",
            "\n",
            "epoch 7/20\n",
            "1088/1084 [==============================] - 2s 2ms/step - loss: 1.2570 - acc: 0.1493\n",
            "\n",
            "epoch 8/20\n",
            "1088/1084 [==============================] - 1s 1ms/step - loss: 1.2213 - acc: 0.1512\n",
            "\n",
            "epoch 9/20\n",
            "1088/1084 [==============================] - 1s 1ms/step - loss: 1.1885 - acc: 0.1524\n",
            "\n",
            "epoch 10/20\n",
            "1088/1084 [==============================] - 2s 2ms/step - loss: 1.1579 - acc: 0.1539\n",
            "Saving checkpoint for epoch 10 at ./checkpoints_test/train/ckpt-42\n",
            "\n",
            "epoch 11/20\n",
            "1088/1084 [==============================] - 1s 1ms/step - loss: 1.1295 - acc: 0.1551\n",
            "\n",
            "epoch 12/20\n",
            "1088/1084 [==============================] - 1s 1ms/step - loss: 1.1023 - acc: 0.1564\n",
            "\n",
            "epoch 13/20\n",
            "1088/1084 [==============================] - 1s 1ms/step - loss: 1.0765 - acc: 0.1571\n",
            "\n",
            "epoch 14/20\n",
            "1088/1084 [==============================] - 1s 1ms/step - loss: 1.0525 - acc: 0.1581\n",
            "\n",
            "epoch 15/20\n",
            "1088/1084 [==============================] - 1s 1ms/step - loss: 1.0304 - acc: 0.1587\n",
            "Saving checkpoint for epoch 15 at ./checkpoints_test/train/ckpt-43\n",
            "\n",
            "epoch 16/20\n",
            "1088/1084 [==============================] - 2s 2ms/step - loss: 1.0095 - acc: 0.1598\n",
            "\n",
            "epoch 17/20\n",
            "1088/1084 [==============================] - 2s 1ms/step - loss: 0.9898 - acc: 0.1611\n",
            "\n",
            "epoch 18/20\n",
            "1088/1084 [==============================] - 1s 1ms/step - loss: 0.9707 - acc: 0.1621\n",
            "\n",
            "epoch 19/20\n",
            "1088/1084 [==============================] - 1s 1ms/step - loss: 0.9533 - acc: 0.1626\n",
            "\n",
            "epoch 20/20\n",
            "1088/1084 [==============================] - 1s 1ms/step - loss: 0.9369 - acc: 0.1632\n",
            "Saving checkpoint for epoch 20 at ./checkpoints_test/train/ckpt-44\n"
          ]
        }
      ],
      "source": [
        "EPOCHS = 20\n",
        "batch_size = 64\n",
        "metrics_names = ['loss', 'acc']\n",
        "train_loss.reset_states()\n",
        "train_accuracy.reset_states()\n",
        "for epoch in range(EPOCHS):\n",
        "    print(\"\\nepoch {}/{}\".format(epoch+1,EPOCHS))\n",
        "    pb_i = Progbar(train.shape[0], stateful_metrics=metrics_names)\n",
        "\n",
        "    # inp -> question, tar -> answer\n",
        "    for (batch, (inp, tar)) in enumerate(train_dataset):\n",
        "        train_step(inp, tar)\n",
        "\n",
        "        values=[('loss',train_loss.result()), ('acc',train_accuracy.result())]\n",
        "\n",
        "        pb_i.add(batch_size, values=values)\n",
        "    if (epoch + 1) % 5 == 0:\n",
        "        ckpt_save_path = ckpt_manager.save()\n",
        "        print ('Saving checkpoint for epoch {} at {}'.format(epoch+1,ckpt_save_path))"
      ]
    },
    {
      "cell_type": "code",
      "execution_count": null,
      "id": "8990f5ec",
      "metadata": {
        "colab": {
          "base_uri": "https://localhost:8080/"
        },
        "id": "8990f5ec",
        "outputId": "d6d154cf-792d-4a5a-f88f-9f33398c6d85"
      },
      "outputs": [
        {
          "output_type": "stream",
          "name": "stdout",
          "text": [
            "\n",
            "epoch 1/30\n",
            "1088/1084 [==============================] - 3s 3ms/step - loss: 0.9214 - acc: 0.1639\n",
            "\n",
            "epoch 2/30\n",
            "1088/1084 [==============================] - 1s 1ms/step - loss: 0.9066 - acc: 0.1646\n",
            "\n",
            "epoch 3/30\n",
            "1088/1084 [==============================] - 1s 1ms/step - loss: 0.8927 - acc: 0.1654\n",
            "\n",
            "epoch 4/30\n",
            "1088/1084 [==============================] - 1s 1ms/step - loss: 0.8797 - acc: 0.1660\n",
            "\n",
            "epoch 5/30\n",
            "1088/1084 [==============================] - 1s 1ms/step - loss: 0.8674 - acc: 0.1666\n",
            "Saving checkpoint for epoch 5 at ./checkpoints_test/train/ckpt-45\n",
            "\n",
            "epoch 6/30\n",
            "1088/1084 [==============================] - 2s 2ms/step - loss: 0.8554 - acc: 0.1672\n",
            "\n",
            "epoch 7/30\n",
            "1088/1084 [==============================] - 1s 1ms/step - loss: 0.8443 - acc: 0.1684\n",
            "\n",
            "epoch 8/30\n",
            "1088/1084 [==============================] - 1s 1ms/step - loss: 0.8354 - acc: 0.1690\n",
            "\n",
            "epoch 9/30\n",
            "1088/1084 [==============================] - 1s 1ms/step - loss: 0.8258 - acc: 0.1694\n",
            "\n",
            "epoch 10/30\n",
            "1088/1084 [==============================] - 1s 1ms/step - loss: 0.8163 - acc: 0.1697\n",
            "Saving checkpoint for epoch 10 at ./checkpoints_test/train/ckpt-46\n",
            "\n",
            "epoch 11/30\n",
            "1088/1084 [==============================] - 1s 1ms/step - loss: 0.8073 - acc: 0.1699\n",
            "\n",
            "epoch 12/30\n",
            "1088/1084 [==============================] - 1s 1ms/step - loss: 0.7994 - acc: 0.1702\n",
            "\n",
            "epoch 13/30\n",
            "1088/1084 [==============================] - 1s 1ms/step - loss: 0.7915 - acc: 0.1705\n",
            "\n",
            "epoch 14/30\n",
            "1088/1084 [==============================] - 1s 1ms/step - loss: 0.7836 - acc: 0.1709\n",
            "\n",
            "epoch 15/30\n",
            "1088/1084 [==============================] - 1s 1ms/step - loss: 0.7754 - acc: 0.1711\n",
            "Saving checkpoint for epoch 15 at ./checkpoints_test/train/ckpt-47\n",
            "\n",
            "epoch 16/30\n",
            "1088/1084 [==============================] - 1s 1ms/step - loss: 0.7679 - acc: 0.1714\n",
            "\n",
            "epoch 17/30\n",
            "1088/1084 [==============================] - 1s 1ms/step - loss: 0.7605 - acc: 0.1716\n",
            "\n",
            "epoch 18/30\n",
            "1088/1084 [==============================] - 1s 1ms/step - loss: 0.7534 - acc: 0.1721\n",
            "\n",
            "epoch 19/30\n",
            "1088/1084 [==============================] - 1s 1ms/step - loss: 0.7467 - acc: 0.1726\n",
            "\n",
            "epoch 20/30\n",
            "1088/1084 [==============================] - 1s 1ms/step - loss: 0.7401 - acc: 0.1730\n",
            "Saving checkpoint for epoch 20 at ./checkpoints_test/train/ckpt-48\n",
            "\n",
            "epoch 21/30\n",
            "1088/1084 [==============================] - 1s 1ms/step - loss: 0.7340 - acc: 0.1732\n",
            "\n",
            "epoch 22/30\n",
            "1088/1084 [==============================] - 1s 1ms/step - loss: 0.7280 - acc: 0.1733\n",
            "\n",
            "epoch 23/30\n",
            "1088/1084 [==============================] - 1s 1ms/step - loss: 0.7218 - acc: 0.1736\n",
            "\n",
            "epoch 24/30\n",
            "1088/1084 [==============================] - 1s 1ms/step - loss: 0.7159 - acc: 0.1738\n",
            "\n",
            "epoch 25/30\n",
            "1088/1084 [==============================] - 1s 1ms/step - loss: 0.7102 - acc: 0.1741\n",
            "Saving checkpoint for epoch 25 at ./checkpoints_test/train/ckpt-49\n",
            "\n",
            "epoch 26/30\n",
            "1088/1084 [==============================] - 1s 1ms/step - loss: 0.7048 - acc: 0.1745\n",
            "\n",
            "epoch 27/30\n",
            "1088/1084 [==============================] - 1s 1ms/step - loss: 0.6995 - acc: 0.1749\n",
            "\n",
            "epoch 28/30\n",
            "1088/1084 [==============================] - 1s 1ms/step - loss: 0.6943 - acc: 0.1750\n",
            "\n",
            "epoch 29/30\n",
            "1088/1084 [==============================] - 1s 1ms/step - loss: 0.6893 - acc: 0.1752\n",
            "\n",
            "epoch 30/30\n",
            "1088/1084 [==============================] - 1s 1ms/step - loss: 0.6844 - acc: 0.1754\n",
            "Saving checkpoint for epoch 30 at ./checkpoints_test/train/ckpt-50\n"
          ]
        }
      ],
      "source": [
        "EPOCHS = 30\n",
        "batch_size = 64\n",
        "metrics_names = ['loss', 'acc']\n",
        "# train_loss.reset_states()\n",
        "# train_accuracy.reset_states()\n",
        "for epoch in range(EPOCHS):\n",
        "    print(\"\\nepoch {}/{}\".format(epoch+1,EPOCHS))\n",
        "    pb_i = Progbar(train.shape[0], stateful_metrics=metrics_names)\n",
        "\n",
        "    # inp -> question, tar -> answer\n",
        "    for (batch, (inp, tar)) in enumerate(train_dataset):\n",
        "        train_step(inp, tar)\n",
        "\n",
        "        values=[('loss',train_loss.result()), ('acc',train_accuracy.result())]\n",
        "\n",
        "        pb_i.add(batch_size, values=values)\n",
        "    if (epoch + 1) % 5 == 0:\n",
        "        ckpt_save_path = ckpt_manager.save()\n",
        "        print ('Saving checkpoint for epoch {} at {}'.format(epoch+1,ckpt_save_path))"
      ]
    },
    {
      "cell_type": "markdown",
      "id": "e364afa5",
      "metadata": {
        "id": "e364afa5"
      },
      "source": [
        "## Learning is slow, but not stagnant (-__-)"
      ]
    },
    {
      "cell_type": "code",
      "execution_count": null,
      "id": "47943fa8",
      "metadata": {
        "colab": {
          "base_uri": "https://localhost:8080/"
        },
        "id": "47943fa8",
        "outputId": "ca9a0380-9cea-4dfe-c5b4-628b8c0d8fc6"
      },
      "outputs": [
        {
          "output_type": "stream",
          "name": "stdout",
          "text": [
            "\n",
            "epoch 51/100\n",
            "1088/1084 [==============================] - 1s 1ms/step - loss: 0.6797 - acc: 0.1756\n",
            "\n",
            "epoch 52/100\n",
            "1088/1084 [==============================] - 1s 1ms/step - loss: 0.6752 - acc: 0.1758\n",
            "\n",
            "epoch 53/100\n",
            "1088/1084 [==============================] - 1s 1ms/step - loss: 0.6710 - acc: 0.1762\n",
            "\n",
            "epoch 54/100\n",
            "1088/1084 [==============================] - 1s 1ms/step - loss: 0.6669 - acc: 0.1764\n",
            "\n",
            "epoch 55/100\n",
            "1088/1084 [==============================] - 1s 1ms/step - loss: 0.6630 - acc: 0.1767\n",
            "Saving checkpoint for epoch 55 at ./checkpoints_test/train/ckpt-51\n",
            "\n",
            "epoch 56/100\n",
            "1088/1084 [==============================] - 1s 1ms/step - loss: 0.6590 - acc: 0.1769\n",
            "\n",
            "epoch 57/100\n",
            "1088/1084 [==============================] - 1s 1ms/step - loss: 0.6550 - acc: 0.1772\n",
            "\n",
            "epoch 58/100\n",
            "1088/1084 [==============================] - 1s 1ms/step - loss: 0.6512 - acc: 0.1773\n",
            "\n",
            "epoch 59/100\n",
            "1088/1084 [==============================] - 1s 1ms/step - loss: 0.6473 - acc: 0.1773\n",
            "\n",
            "epoch 60/100\n",
            "1088/1084 [==============================] - 1s 1ms/step - loss: 0.6437 - acc: 0.1775\n",
            "Saving checkpoint for epoch 60 at ./checkpoints_test/train/ckpt-52\n",
            "\n",
            "epoch 61/100\n",
            "1088/1084 [==============================] - 1s 1ms/step - loss: 0.6400 - acc: 0.1777\n",
            "\n",
            "epoch 62/100\n",
            "1088/1084 [==============================] - 1s 1ms/step - loss: 0.6365 - acc: 0.1779\n",
            "\n",
            "epoch 63/100\n",
            "1088/1084 [==============================] - 1s 1ms/step - loss: 0.6329 - acc: 0.1781\n",
            "\n",
            "epoch 64/100\n",
            "1088/1084 [==============================] - 1s 1ms/step - loss: 0.6295 - acc: 0.1783\n",
            "\n",
            "epoch 65/100\n",
            "1088/1084 [==============================] - 1s 1ms/step - loss: 0.6260 - acc: 0.1784\n",
            "Saving checkpoint for epoch 65 at ./checkpoints_test/train/ckpt-53\n",
            "\n",
            "epoch 66/100\n",
            "1088/1084 [==============================] - 2s 2ms/step - loss: 0.6227 - acc: 0.1786\n",
            "\n",
            "epoch 67/100\n",
            "1088/1084 [==============================] - 1s 1ms/step - loss: 0.6194 - acc: 0.1787\n",
            "\n",
            "epoch 68/100\n",
            "1088/1084 [==============================] - 1s 1ms/step - loss: 0.6163 - acc: 0.1789\n",
            "\n",
            "epoch 69/100\n",
            "1088/1084 [==============================] - 1s 1ms/step - loss: 0.6132 - acc: 0.1791\n",
            "\n",
            "epoch 70/100\n",
            "1088/1084 [==============================] - 1s 1ms/step - loss: 0.6102 - acc: 0.1793\n",
            "Saving checkpoint for epoch 70 at ./checkpoints_test/train/ckpt-54\n",
            "\n",
            "epoch 71/100\n",
            "1088/1084 [==============================] - 1s 1ms/step - loss: 0.6072 - acc: 0.1794\n",
            "\n",
            "epoch 72/100\n",
            "1088/1084 [==============================] - 1s 1ms/step - loss: 0.6044 - acc: 0.1795\n",
            "\n",
            "epoch 73/100\n",
            "1088/1084 [==============================] - 1s 1ms/step - loss: 0.6017 - acc: 0.1796\n",
            "\n",
            "epoch 74/100\n",
            "1088/1084 [==============================] - 2s 1ms/step - loss: 0.5989 - acc: 0.1796\n",
            "\n",
            "epoch 75/100\n",
            "1088/1084 [==============================] - 1s 1ms/step - loss: 0.5962 - acc: 0.1798\n",
            "Saving checkpoint for epoch 75 at ./checkpoints_test/train/ckpt-55\n",
            "\n",
            "epoch 76/100\n",
            "1088/1084 [==============================] - 1s 1ms/step - loss: 0.5935 - acc: 0.1799\n",
            "\n",
            "epoch 77/100\n",
            "1088/1084 [==============================] - 1s 1ms/step - loss: 0.5909 - acc: 0.1800\n",
            "\n",
            "epoch 78/100\n",
            "1088/1084 [==============================] - 1s 1ms/step - loss: 0.5883 - acc: 0.1803\n",
            "\n",
            "epoch 79/100\n",
            "1088/1084 [==============================] - 1s 1ms/step - loss: 0.5857 - acc: 0.1804\n",
            "\n",
            "epoch 80/100\n",
            "1088/1084 [==============================] - 1s 1ms/step - loss: 0.5833 - acc: 0.1806\n",
            "Saving checkpoint for epoch 80 at ./checkpoints_test/train/ckpt-56\n",
            "\n",
            "epoch 81/100\n",
            "1088/1084 [==============================] - 1s 1ms/step - loss: 0.5809 - acc: 0.1807\n",
            "\n",
            "epoch 82/100\n",
            "1088/1084 [==============================] - 1s 1ms/step - loss: 0.5785 - acc: 0.1807\n",
            "\n",
            "epoch 83/100\n",
            "1088/1084 [==============================] - 1s 1ms/step - loss: 0.5762 - acc: 0.1809\n",
            "\n",
            "epoch 84/100\n",
            "1088/1084 [==============================] - 1s 1ms/step - loss: 0.5741 - acc: 0.1810\n",
            "\n",
            "epoch 85/100\n",
            "1088/1084 [==============================] - 2s 1ms/step - loss: 0.5720 - acc: 0.1811\n",
            "Saving checkpoint for epoch 85 at ./checkpoints_test/train/ckpt-57\n",
            "\n",
            "epoch 86/100\n",
            "1088/1084 [==============================] - 1s 1ms/step - loss: 0.5697 - acc: 0.1811\n",
            "\n",
            "epoch 87/100\n",
            "1088/1084 [==============================] - 1s 1ms/step - loss: 0.5675 - acc: 0.1812\n",
            "\n",
            "epoch 88/100\n",
            "1088/1084 [==============================] - 1s 1ms/step - loss: 0.5653 - acc: 0.1812\n",
            "\n",
            "epoch 89/100\n",
            "1088/1084 [==============================] - 1s 1ms/step - loss: 0.5632 - acc: 0.1813\n",
            "\n",
            "epoch 90/100\n",
            "1088/1084 [==============================] - 1s 1ms/step - loss: 0.5612 - acc: 0.1814\n",
            "Saving checkpoint for epoch 90 at ./checkpoints_test/train/ckpt-58\n",
            "\n",
            "epoch 91/100\n",
            "1088/1084 [==============================] - 1s 1ms/step - loss: 0.5593 - acc: 0.1815\n",
            "\n",
            "epoch 92/100\n",
            "1088/1084 [==============================] - 1s 1ms/step - loss: 0.5575 - acc: 0.1815\n",
            "\n",
            "epoch 93/100\n",
            "1088/1084 [==============================] - 1s 1ms/step - loss: 0.5556 - acc: 0.1816\n",
            "\n",
            "epoch 94/100\n",
            "1088/1084 [==============================] - 1s 1ms/step - loss: 0.5536 - acc: 0.1817\n",
            "\n",
            "epoch 95/100\n",
            "1088/1084 [==============================] - 2s 1ms/step - loss: 0.5516 - acc: 0.1818\n",
            "Saving checkpoint for epoch 95 at ./checkpoints_test/train/ckpt-59\n",
            "\n",
            "epoch 96/100\n",
            "1088/1084 [==============================] - 1s 1ms/step - loss: 0.5498 - acc: 0.1819\n",
            "\n",
            "epoch 97/100\n",
            "1088/1084 [==============================] - 1s 1ms/step - loss: 0.5481 - acc: 0.1822\n",
            "\n",
            "epoch 98/100\n",
            "1088/1084 [==============================] - 1s 1ms/step - loss: 0.5463 - acc: 0.1823\n",
            "\n",
            "epoch 99/100\n",
            "1088/1084 [==============================] - 1s 1ms/step - loss: 0.5445 - acc: 0.1824\n",
            "\n",
            "epoch 100/100\n",
            "1088/1084 [==============================] - 1s 1ms/step - loss: 0.5427 - acc: 0.1825\n",
            "Saving checkpoint for epoch 100 at ./checkpoints_test/train/ckpt-60\n"
          ]
        }
      ],
      "source": [
        "EPOCHS = 100\n",
        "batch_size = 64\n",
        "metrics_names = ['loss', 'acc']\n",
        "# train_loss.reset_states()\n",
        "# train_accuracy.reset_states()\n",
        "for epoch in range(50, EPOCHS):\n",
        "    print(\"\\nepoch {}/{}\".format(epoch+1,EPOCHS))\n",
        "    pb_i = Progbar(train.shape[0], stateful_metrics=metrics_names)\n",
        "\n",
        "    # inp -> question, tar -> answer\n",
        "    for (batch, (inp, tar)) in enumerate(train_dataset):\n",
        "        train_step(inp, tar)\n",
        "\n",
        "        values=[('loss',train_loss.result()), ('acc',train_accuracy.result())]\n",
        "\n",
        "        pb_i.add(batch_size, values=values)\n",
        "    if (epoch + 1) % 5 == 0:\n",
        "        ckpt_save_path = ckpt_manager.save()\n",
        "        print ('Saving checkpoint for epoch {} at {}'.format(epoch+1,ckpt_save_path))"
      ]
    },
    {
      "cell_type": "code",
      "execution_count": null,
      "id": "c533244c",
      "metadata": {
        "colab": {
          "base_uri": "https://localhost:8080/"
        },
        "id": "c533244c",
        "outputId": "c57e87a4-9691-48c9-ae5b-e0fd3efd1c23"
      },
      "outputs": [
        {
          "output_type": "stream",
          "name": "stdout",
          "text": [
            "\n",
            "epoch 101/150\n",
            "1088/1084 [==============================] - 1s 1ms/step - loss: 0.5409 - acc: 0.1826\n",
            "\n",
            "epoch 102/150\n",
            "1088/1084 [==============================] - 1s 1ms/step - loss: 0.5392 - acc: 0.1827\n",
            "\n",
            "epoch 103/150\n",
            "1088/1084 [==============================] - 1s 1ms/step - loss: 0.5375 - acc: 0.1828\n",
            "\n",
            "epoch 104/150\n",
            "1088/1084 [==============================] - 1s 1ms/step - loss: 0.5360 - acc: 0.1828\n",
            "\n",
            "epoch 105/150\n",
            "1088/1084 [==============================] - 1s 1ms/step - loss: 0.5344 - acc: 0.1828\n",
            "Saving checkpoint for epoch 105 at ./checkpoints_test/train/ckpt-61\n",
            "\n",
            "epoch 106/150\n",
            "1088/1084 [==============================] - 1s 1ms/step - loss: 0.5329 - acc: 0.1829\n",
            "\n",
            "epoch 107/150\n",
            "1088/1084 [==============================] - 1s 1ms/step - loss: 0.5314 - acc: 0.1829\n",
            "\n",
            "epoch 108/150\n",
            "1088/1084 [==============================] - 1s 1ms/step - loss: 0.5299 - acc: 0.1830\n",
            "\n",
            "epoch 109/150\n",
            "1088/1084 [==============================] - 1s 1ms/step - loss: 0.5284 - acc: 0.1830\n",
            "\n",
            "epoch 110/150\n",
            "1088/1084 [==============================] - 1s 1ms/step - loss: 0.5269 - acc: 0.1831\n",
            "Saving checkpoint for epoch 110 at ./checkpoints_test/train/ckpt-62\n",
            "\n",
            "epoch 111/150\n",
            "1088/1084 [==============================] - 1s 1ms/step - loss: 0.5253 - acc: 0.1831\n",
            "\n",
            "epoch 112/150\n",
            "1088/1084 [==============================] - 1s 1ms/step - loss: 0.5240 - acc: 0.1832\n",
            "\n",
            "epoch 113/150\n",
            "1088/1084 [==============================] - 1s 1ms/step - loss: 0.5227 - acc: 0.1833\n",
            "\n",
            "epoch 114/150\n",
            "1088/1084 [==============================] - 1s 1ms/step - loss: 0.5213 - acc: 0.1834\n",
            "\n",
            "epoch 115/150\n",
            "1088/1084 [==============================] - 1s 1ms/step - loss: 0.5199 - acc: 0.1836\n",
            "Saving checkpoint for epoch 115 at ./checkpoints_test/train/ckpt-63\n",
            "\n",
            "epoch 116/150\n",
            "1088/1084 [==============================] - 1s 1ms/step - loss: 0.5185 - acc: 0.1837\n",
            "\n",
            "epoch 117/150\n",
            "1088/1084 [==============================] - 1s 1ms/step - loss: 0.5170 - acc: 0.1837\n",
            "\n",
            "epoch 118/150\n",
            "1088/1084 [==============================] - 1s 1000us/step - loss: 0.5156 - acc: 0.1837\n",
            "\n",
            "epoch 119/150\n",
            "1088/1084 [==============================] - 1s 1ms/step - loss: 0.5142 - acc: 0.1837\n",
            "\n",
            "epoch 120/150\n",
            "1088/1084 [==============================] - 1s 1ms/step - loss: 0.5129 - acc: 0.1838\n",
            "Saving checkpoint for epoch 120 at ./checkpoints_test/train/ckpt-64\n",
            "\n",
            "epoch 121/150\n",
            "1088/1084 [==============================] - 1s 1ms/step - loss: 0.5115 - acc: 0.1839\n",
            "\n",
            "epoch 122/150\n",
            "1088/1084 [==============================] - 1s 1ms/step - loss: 0.5103 - acc: 0.1840\n",
            "\n",
            "epoch 123/150\n",
            "1088/1084 [==============================] - 1s 1ms/step - loss: 0.5089 - acc: 0.1840\n",
            "\n",
            "epoch 124/150\n",
            "1088/1084 [==============================] - 1s 1ms/step - loss: 0.5076 - acc: 0.1840\n",
            "\n",
            "epoch 125/150\n",
            "1088/1084 [==============================] - 1s 1ms/step - loss: 0.5063 - acc: 0.1841\n",
            "Saving checkpoint for epoch 125 at ./checkpoints_test/train/ckpt-65\n",
            "\n",
            "epoch 126/150\n",
            "1088/1084 [==============================] - 2s 1ms/step - loss: 0.5050 - acc: 0.1841\n",
            "\n",
            "epoch 127/150\n",
            "1088/1084 [==============================] - 2s 2ms/step - loss: 0.5038 - acc: 0.1842\n",
            "\n",
            "epoch 128/150\n",
            "1088/1084 [==============================] - 1s 1ms/step - loss: 0.5027 - acc: 0.1842\n",
            "\n",
            "epoch 129/150\n",
            "1088/1084 [==============================] - 1s 1ms/step - loss: 0.5015 - acc: 0.1842\n",
            "\n",
            "epoch 130/150\n",
            "1088/1084 [==============================] - 1s 1ms/step - loss: 0.5004 - acc: 0.1843\n",
            "Saving checkpoint for epoch 130 at ./checkpoints_test/train/ckpt-66\n",
            "\n",
            "epoch 131/150\n",
            "1088/1084 [==============================] - 1s 1ms/step - loss: 0.4992 - acc: 0.1844\n",
            "\n",
            "epoch 132/150\n",
            "1088/1084 [==============================] - 1s 1ms/step - loss: 0.4981 - acc: 0.1844\n",
            "\n",
            "epoch 133/150\n",
            "1088/1084 [==============================] - 1s 1ms/step - loss: 0.4970 - acc: 0.1845\n",
            "\n",
            "epoch 134/150\n",
            "1088/1084 [==============================] - 1s 1ms/step - loss: 0.4959 - acc: 0.1847\n",
            "\n",
            "epoch 135/150\n",
            "1088/1084 [==============================] - 1s 1ms/step - loss: 0.4948 - acc: 0.1847\n",
            "Saving checkpoint for epoch 135 at ./checkpoints_test/train/ckpt-67\n",
            "\n",
            "epoch 136/150\n",
            "1088/1084 [==============================] - 1s 1ms/step - loss: 0.4937 - acc: 0.1848\n",
            "\n",
            "epoch 137/150\n",
            "1088/1084 [==============================] - 1s 1ms/step - loss: 0.4927 - acc: 0.1849\n",
            "\n",
            "epoch 138/150\n",
            "1088/1084 [==============================] - 1s 1ms/step - loss: 0.4917 - acc: 0.1850\n",
            "\n",
            "epoch 139/150\n",
            "1088/1084 [==============================] - 1s 1ms/step - loss: 0.4906 - acc: 0.1851\n",
            "\n",
            "epoch 140/150\n",
            "1088/1084 [==============================] - 1s 1ms/step - loss: 0.4895 - acc: 0.1851\n",
            "Saving checkpoint for epoch 140 at ./checkpoints_test/train/ckpt-68\n",
            "\n",
            "epoch 141/150\n",
            "1088/1084 [==============================] - 1s 1ms/step - loss: 0.4885 - acc: 0.1851\n",
            "\n",
            "epoch 142/150\n",
            "1088/1084 [==============================] - 1s 1ms/step - loss: 0.4874 - acc: 0.1851\n",
            "\n",
            "epoch 143/150\n",
            "1088/1084 [==============================] - 1s 1ms/step - loss: 0.4865 - acc: 0.1851\n",
            "\n",
            "epoch 144/150\n",
            "1088/1084 [==============================] - 1s 1ms/step - loss: 0.4856 - acc: 0.1852\n",
            "\n",
            "epoch 145/150\n",
            "1088/1084 [==============================] - 2s 2ms/step - loss: 0.4846 - acc: 0.1852\n",
            "Saving checkpoint for epoch 145 at ./checkpoints_test/train/ckpt-69\n",
            "\n",
            "epoch 146/150\n",
            "1088/1084 [==============================] - 1s 1ms/step - loss: 0.4836 - acc: 0.1852\n",
            "\n",
            "epoch 147/150\n",
            "1088/1084 [==============================] - 1s 1ms/step - loss: 0.4826 - acc: 0.1853\n",
            "\n",
            "epoch 148/150\n",
            "1088/1084 [==============================] - 1s 997us/step - loss: 0.4817 - acc: 0.1854\n",
            "\n",
            "epoch 149/150\n",
            "1088/1084 [==============================] - 1s 1ms/step - loss: 0.4808 - acc: 0.1855\n",
            "\n",
            "epoch 150/150\n",
            "1088/1084 [==============================] - 1s 1ms/step - loss: 0.4799 - acc: 0.1855\n",
            "Saving checkpoint for epoch 150 at ./checkpoints_test/train/ckpt-70\n"
          ]
        }
      ],
      "source": [
        "EPOCHS = 150\n",
        "batch_size = 64\n",
        "metrics_names = ['loss', 'acc']\n",
        "# train_loss.reset_states()\n",
        "# train_accuracy.reset_states()\n",
        "for epoch in range(100, EPOCHS):\n",
        "    print(\"\\nepoch {}/{}\".format(epoch+1,EPOCHS))\n",
        "    pb_i = Progbar(train.shape[0], stateful_metrics=metrics_names)\n",
        "\n",
        "    # inp -> question, tar -> answer\n",
        "    for (batch, (inp, tar)) in enumerate(train_dataset):\n",
        "        train_step(inp, tar)\n",
        "\n",
        "        values=[('loss',train_loss.result()), ('acc',train_accuracy.result())]\n",
        "\n",
        "        pb_i.add(batch_size, values=values)\n",
        "    if (epoch + 1) % 5 == 0:\n",
        "        ckpt_save_path = ckpt_manager.save()\n",
        "        print ('Saving checkpoint for epoch {} at {}'.format(epoch+1,ckpt_save_path))"
      ]
    },
    {
      "cell_type": "code",
      "execution_count": null,
      "id": "7ebb9b2d",
      "metadata": {
        "colab": {
          "base_uri": "https://localhost:8080/"
        },
        "id": "7ebb9b2d",
        "outputId": "98cb5992-7692-43fb-8b9a-78e9d7522ae1"
      },
      "outputs": [
        {
          "output_type": "stream",
          "name": "stdout",
          "text": [
            "\n",
            "epoch 151/200\n",
            "1088/1084 [==============================] - 2s 1ms/step - loss: 0.4790 - acc: 0.1856\n",
            "\n",
            "epoch 152/200\n",
            "1088/1084 [==============================] - 1s 1ms/step - loss: 0.4781 - acc: 0.1856\n",
            "\n",
            "epoch 153/200\n",
            "1088/1084 [==============================] - 1s 1ms/step - loss: 0.4771 - acc: 0.1856\n",
            "\n",
            "epoch 154/200\n",
            "1088/1084 [==============================] - 1s 1ms/step - loss: 0.4762 - acc: 0.1856\n",
            "\n",
            "epoch 155/200\n",
            "1088/1084 [==============================] - 1s 1ms/step - loss: 0.4754 - acc: 0.1857\n",
            "Saving checkpoint for epoch 155 at ./checkpoints_test/train/ckpt-71\n",
            "\n",
            "epoch 156/200\n",
            "1088/1084 [==============================] - 1s 1ms/step - loss: 0.4745 - acc: 0.1857\n",
            "\n",
            "epoch 157/200\n",
            "1088/1084 [==============================] - 1s 1ms/step - loss: 0.4736 - acc: 0.1857\n",
            "\n",
            "epoch 158/200\n",
            "1088/1084 [==============================] - 1s 1ms/step - loss: 0.4728 - acc: 0.1858\n",
            "\n",
            "epoch 159/200\n",
            "1088/1084 [==============================] - 2s 2ms/step - loss: 0.4719 - acc: 0.1859\n",
            "\n",
            "epoch 160/200\n",
            "1088/1084 [==============================] - 1s 1ms/step - loss: 0.4711 - acc: 0.1859\n",
            "Saving checkpoint for epoch 160 at ./checkpoints_test/train/ckpt-72\n",
            "\n",
            "epoch 161/200\n",
            "1088/1084 [==============================] - 1s 1ms/step - loss: 0.4703 - acc: 0.1859\n",
            "\n",
            "epoch 162/200\n",
            "1088/1084 [==============================] - 1s 1ms/step - loss: 0.4694 - acc: 0.1860\n",
            "\n",
            "epoch 163/200\n",
            "1088/1084 [==============================] - 1s 1ms/step - loss: 0.4685 - acc: 0.1860\n",
            "\n",
            "epoch 164/200\n",
            "1088/1084 [==============================] - 1s 1ms/step - loss: 0.4676 - acc: 0.1861\n",
            "\n",
            "epoch 165/200\n",
            "1088/1084 [==============================] - 1s 1ms/step - loss: 0.4668 - acc: 0.1861\n",
            "Saving checkpoint for epoch 165 at ./checkpoints_test/train/ckpt-73\n",
            "\n",
            "epoch 166/200\n",
            "1088/1084 [==============================] - 1s 1ms/step - loss: 0.4661 - acc: 0.1861\n",
            "\n",
            "epoch 167/200\n",
            "1088/1084 [==============================] - 1s 1ms/step - loss: 0.4653 - acc: 0.1861\n",
            "\n",
            "epoch 168/200\n",
            "1088/1084 [==============================] - 1s 1ms/step - loss: 0.4646 - acc: 0.1861\n",
            "\n",
            "epoch 169/200\n",
            "1088/1084 [==============================] - 1s 1ms/step - loss: 0.4638 - acc: 0.1862\n",
            "\n",
            "epoch 170/200\n",
            "1088/1084 [==============================] - 1s 1ms/step - loss: 0.4630 - acc: 0.1862\n",
            "Saving checkpoint for epoch 170 at ./checkpoints_test/train/ckpt-74\n",
            "\n",
            "epoch 171/200\n",
            "1088/1084 [==============================] - 2s 2ms/step - loss: 0.4622 - acc: 0.1862\n",
            "\n",
            "epoch 172/200\n",
            "1088/1084 [==============================] - 1s 1ms/step - loss: 0.4614 - acc: 0.1862\n",
            "\n",
            "epoch 173/200\n",
            "1088/1084 [==============================] - 1s 1ms/step - loss: 0.4606 - acc: 0.1862\n",
            "\n",
            "epoch 174/200\n",
            "1088/1084 [==============================] - 1s 1ms/step - loss: 0.4598 - acc: 0.1862\n",
            "\n",
            "epoch 175/200\n",
            "1088/1084 [==============================] - 1s 1ms/step - loss: 0.4591 - acc: 0.1863\n",
            "Saving checkpoint for epoch 175 at ./checkpoints_test/train/ckpt-75\n",
            "\n",
            "epoch 176/200\n",
            "1088/1084 [==============================] - 1s 1ms/step - loss: 0.4583 - acc: 0.1863\n",
            "\n",
            "epoch 177/200\n",
            "1088/1084 [==============================] - 1s 1ms/step - loss: 0.4576 - acc: 0.1864\n",
            "\n",
            "epoch 178/200\n",
            "1088/1084 [==============================] - 2s 1ms/step - loss: 0.4568 - acc: 0.1864\n",
            "\n",
            "epoch 179/200\n",
            "1088/1084 [==============================] - 1s 1ms/step - loss: 0.4561 - acc: 0.1864\n",
            "\n",
            "epoch 180/200\n",
            "1088/1084 [==============================] - 1s 1ms/step - loss: 0.4553 - acc: 0.1864\n",
            "Saving checkpoint for epoch 180 at ./checkpoints_test/train/ckpt-76\n",
            "\n",
            "epoch 181/200\n",
            "1088/1084 [==============================] - 1s 1ms/step - loss: 0.4546 - acc: 0.1864\n",
            "\n",
            "epoch 182/200\n",
            "1088/1084 [==============================] - 1s 1ms/step - loss: 0.4539 - acc: 0.1866\n",
            "\n",
            "epoch 183/200\n",
            "1088/1084 [==============================] - 1s 1ms/step - loss: 0.4531 - acc: 0.1866\n",
            "\n",
            "epoch 184/200\n",
            "1088/1084 [==============================] - 1s 1ms/step - loss: 0.4524 - acc: 0.1866\n",
            "\n",
            "epoch 185/200\n",
            "1088/1084 [==============================] - 1s 1ms/step - loss: 0.4518 - acc: 0.1866\n",
            "Saving checkpoint for epoch 185 at ./checkpoints_test/train/ckpt-77\n",
            "\n",
            "epoch 186/200\n",
            "1088/1084 [==============================] - 1s 1ms/step - loss: 0.4511 - acc: 0.1866\n",
            "\n",
            "epoch 187/200\n",
            "1088/1084 [==============================] - 1s 1ms/step - loss: 0.4504 - acc: 0.1867\n",
            "\n",
            "epoch 188/200\n",
            "1088/1084 [==============================] - 1s 1ms/step - loss: 0.4497 - acc: 0.1868\n",
            "\n",
            "epoch 189/200\n",
            "1088/1084 [==============================] - 1s 1ms/step - loss: 0.4491 - acc: 0.1869\n",
            "\n",
            "epoch 190/200\n",
            "1088/1084 [==============================] - 1s 1ms/step - loss: 0.4484 - acc: 0.1869\n",
            "Saving checkpoint for epoch 190 at ./checkpoints_test/train/ckpt-78\n",
            "\n",
            "epoch 191/200\n",
            "1088/1084 [==============================] - 2s 2ms/step - loss: 0.4478 - acc: 0.1870\n",
            "\n",
            "epoch 192/200\n",
            "1088/1084 [==============================] - 1s 1ms/step - loss: 0.4471 - acc: 0.1870\n",
            "\n",
            "epoch 193/200\n",
            "1088/1084 [==============================] - 1s 1ms/step - loss: 0.4464 - acc: 0.1870\n",
            "\n",
            "epoch 194/200\n",
            "1088/1084 [==============================] - 1s 1ms/step - loss: 0.4458 - acc: 0.1870\n",
            "\n",
            "epoch 195/200\n",
            "1088/1084 [==============================] - 1s 1ms/step - loss: 0.4451 - acc: 0.1870\n",
            "Saving checkpoint for epoch 195 at ./checkpoints_test/train/ckpt-79\n",
            "\n",
            "epoch 196/200\n",
            "1088/1084 [==============================] - 1s 1ms/step - loss: 0.4445 - acc: 0.1870\n",
            "\n",
            "epoch 197/200\n",
            "1088/1084 [==============================] - 1s 1ms/step - loss: 0.4438 - acc: 0.1871\n",
            "\n",
            "epoch 198/200\n",
            "1088/1084 [==============================] - 1s 1ms/step - loss: 0.4433 - acc: 0.1871\n",
            "\n",
            "epoch 199/200\n",
            "1088/1084 [==============================] - 1s 1ms/step - loss: 0.4428 - acc: 0.1871\n",
            "\n",
            "epoch 200/200\n",
            "1088/1084 [==============================] - 1s 1ms/step - loss: 0.4422 - acc: 0.1871\n",
            "Saving checkpoint for epoch 200 at ./checkpoints_test/train/ckpt-80\n"
          ]
        }
      ],
      "source": [
        "EPOCHS = 200\n",
        "batch_size = 64\n",
        "metrics_names = ['loss', 'acc']\n",
        "# train_loss.reset_states()\n",
        "# train_accuracy.reset_states()\n",
        "for epoch in range(150, EPOCHS):\n",
        "    print(\"\\nepoch {}/{}\".format(epoch+1,EPOCHS))\n",
        "    pb_i = Progbar(train.shape[0], stateful_metrics=metrics_names)\n",
        "\n",
        "    # inp -> question, tar -> answer\n",
        "    for (batch, (inp, tar)) in enumerate(train_dataset):\n",
        "        train_step(inp, tar)\n",
        "\n",
        "        values=[('loss',train_loss.result()), ('acc',train_accuracy.result())]\n",
        "\n",
        "        pb_i.add(batch_size, values=values)\n",
        "    if (epoch + 1) % 5 == 0:\n",
        "        ckpt_save_path = ckpt_manager.save()\n",
        "        print ('Saving checkpoint for epoch {} at {}'.format(epoch+1,ckpt_save_path))"
      ]
    },
    {
      "cell_type": "code",
      "execution_count": null,
      "id": "fa114565",
      "metadata": {
        "colab": {
          "base_uri": "https://localhost:8080/"
        },
        "id": "fa114565",
        "outputId": "79aee668-0312-47cd-a2ae-fd95801e53d8"
      },
      "outputs": [
        {
          "output_type": "stream",
          "name": "stdout",
          "text": [
            "\n",
            "epoch 201/300\n",
            "1088/1084 [==============================] - 1s 1ms/step - loss: 0.4416 - acc: 0.1871\n",
            "\n",
            "epoch 202/300\n",
            "1088/1084 [==============================] - 1s 1ms/step - loss: 0.4410 - acc: 0.1872\n",
            "\n",
            "epoch 203/300\n",
            "1088/1084 [==============================] - 1s 1ms/step - loss: 0.4405 - acc: 0.1872\n",
            "\n",
            "epoch 204/300\n",
            "1088/1084 [==============================] - 1s 1ms/step - loss: 0.4399 - acc: 0.1872\n",
            "\n",
            "epoch 205/300\n",
            "1088/1084 [==============================] - 1s 1ms/step - loss: 0.4393 - acc: 0.1873\n",
            "Saving checkpoint for epoch 205 at ./checkpoints_test/train/ckpt-81\n",
            "\n",
            "epoch 206/300\n",
            "1088/1084 [==============================] - 1s 1ms/step - loss: 0.4387 - acc: 0.1873\n",
            "\n",
            "epoch 207/300\n",
            "1088/1084 [==============================] - 2s 1ms/step - loss: 0.4382 - acc: 0.1874\n",
            "\n",
            "epoch 208/300\n",
            "1088/1084 [==============================] - 1s 1ms/step - loss: 0.4377 - acc: 0.1874\n",
            "\n",
            "epoch 209/300\n",
            "1088/1084 [==============================] - 1s 1ms/step - loss: 0.4371 - acc: 0.1874\n",
            "\n",
            "epoch 210/300\n",
            "1088/1084 [==============================] - 1s 1ms/step - loss: 0.4365 - acc: 0.1874\n",
            "Saving checkpoint for epoch 210 at ./checkpoints_test/train/ckpt-82\n",
            "\n",
            "epoch 211/300\n",
            "1088/1084 [==============================] - 1s 1ms/step - loss: 0.4360 - acc: 0.1875\n",
            "\n",
            "epoch 212/300\n",
            "1088/1084 [==============================] - 1s 1ms/step - loss: 0.4354 - acc: 0.1875\n",
            "\n",
            "epoch 213/300\n",
            "1088/1084 [==============================] - 1s 1ms/step - loss: 0.4348 - acc: 0.1875\n",
            "\n",
            "epoch 214/300\n",
            "1088/1084 [==============================] - 1s 1ms/step - loss: 0.4342 - acc: 0.1875\n",
            "\n",
            "epoch 215/300\n",
            "1088/1084 [==============================] - 2s 1ms/step - loss: 0.4336 - acc: 0.1875\n",
            "Saving checkpoint for epoch 215 at ./checkpoints_test/train/ckpt-83\n",
            "\n",
            "epoch 216/300\n",
            "1088/1084 [==============================] - 1s 1ms/step - loss: 0.4331 - acc: 0.1876\n",
            "\n",
            "epoch 217/300\n",
            "1088/1084 [==============================] - 1s 1ms/step - loss: 0.4325 - acc: 0.1876\n",
            "\n",
            "epoch 218/300\n",
            "1088/1084 [==============================] - 1s 1ms/step - loss: 0.4320 - acc: 0.1877\n",
            "\n",
            "epoch 219/300\n",
            "1088/1084 [==============================] - 1s 1ms/step - loss: 0.4314 - acc: 0.1877\n",
            "\n",
            "epoch 220/300\n",
            "1088/1084 [==============================] - 1s 1ms/step - loss: 0.4309 - acc: 0.1877\n",
            "Saving checkpoint for epoch 220 at ./checkpoints_test/train/ckpt-84\n",
            "\n",
            "epoch 221/300\n",
            "1088/1084 [==============================] - 1s 1ms/step - loss: 0.4303 - acc: 0.1877\n",
            "\n",
            "epoch 222/300\n",
            "1088/1084 [==============================] - 1s 1ms/step - loss: 0.4298 - acc: 0.1877\n",
            "\n",
            "epoch 223/300\n",
            "1088/1084 [==============================] - 2s 1ms/step - loss: 0.4292 - acc: 0.1877\n",
            "\n",
            "epoch 224/300\n",
            "1088/1084 [==============================] - 1s 1ms/step - loss: 0.4287 - acc: 0.1878\n",
            "\n",
            "epoch 225/300\n",
            "1088/1084 [==============================] - 1s 1ms/step - loss: 0.4281 - acc: 0.1878\n",
            "Saving checkpoint for epoch 225 at ./checkpoints_test/train/ckpt-85\n",
            "\n",
            "epoch 226/300\n",
            "1088/1084 [==============================] - 1s 1ms/step - loss: 0.4276 - acc: 0.1878\n",
            "\n",
            "epoch 227/300\n",
            "1088/1084 [==============================] - 1s 1ms/step - loss: 0.4271 - acc: 0.1878\n",
            "\n",
            "epoch 228/300\n",
            "1088/1084 [==============================] - 1s 1ms/step - loss: 0.4266 - acc: 0.1878\n",
            "\n",
            "epoch 229/300\n",
            "1088/1084 [==============================] - 1s 1ms/step - loss: 0.4261 - acc: 0.1878\n",
            "\n",
            "epoch 230/300\n",
            "1088/1084 [==============================] - 1s 1ms/step - loss: 0.4255 - acc: 0.1879\n",
            "Saving checkpoint for epoch 230 at ./checkpoints_test/train/ckpt-86\n",
            "\n",
            "epoch 231/300\n",
            "1088/1084 [==============================] - 2s 1ms/step - loss: 0.4250 - acc: 0.1879\n",
            "\n",
            "epoch 232/300\n",
            "1088/1084 [==============================] - 1s 1ms/step - loss: 0.4245 - acc: 0.1880\n",
            "\n",
            "epoch 233/300\n",
            "1088/1084 [==============================] - 1s 1ms/step - loss: 0.4240 - acc: 0.1879\n",
            "\n",
            "epoch 234/300\n",
            "1088/1084 [==============================] - 1s 1ms/step - loss: 0.4235 - acc: 0.1880\n",
            "\n",
            "epoch 235/300\n",
            "1088/1084 [==============================] - 1s 1ms/step - loss: 0.4230 - acc: 0.1880\n",
            "Saving checkpoint for epoch 235 at ./checkpoints_test/train/ckpt-87\n",
            "\n",
            "epoch 236/300\n",
            "1088/1084 [==============================] - 2s 2ms/step - loss: 0.4225 - acc: 0.1880\n",
            "\n",
            "epoch 237/300\n",
            "1088/1084 [==============================] - 1s 1ms/step - loss: 0.4220 - acc: 0.1880\n",
            "\n",
            "epoch 238/300\n",
            "1088/1084 [==============================] - 1s 1ms/step - loss: 0.4215 - acc: 0.1881\n",
            "\n",
            "epoch 239/300\n",
            "1088/1084 [==============================] - 1s 1ms/step - loss: 0.4210 - acc: 0.1881\n",
            "\n",
            "epoch 240/300\n",
            "1088/1084 [==============================] - 1s 1ms/step - loss: 0.4206 - acc: 0.1881\n",
            "Saving checkpoint for epoch 240 at ./checkpoints_test/train/ckpt-88\n",
            "\n",
            "epoch 241/300\n",
            "1088/1084 [==============================] - 1s 1ms/step - loss: 0.4202 - acc: 0.1882\n",
            "\n",
            "epoch 242/300\n",
            "1088/1084 [==============================] - 1s 1ms/step - loss: 0.4198 - acc: 0.1882\n",
            "\n",
            "epoch 243/300\n",
            "1088/1084 [==============================] - 1s 1ms/step - loss: 0.4194 - acc: 0.1882\n",
            "\n",
            "epoch 244/300\n",
            "1088/1084 [==============================] - 1s 1ms/step - loss: 0.4190 - acc: 0.1882\n",
            "\n",
            "epoch 245/300\n",
            "1088/1084 [==============================] - 2s 1ms/step - loss: 0.4186 - acc: 0.1881\n",
            "Saving checkpoint for epoch 245 at ./checkpoints_test/train/ckpt-89\n",
            "\n",
            "epoch 246/300\n",
            "1088/1084 [==============================] - 1s 1ms/step - loss: 0.4182 - acc: 0.1882\n",
            "\n",
            "epoch 247/300\n",
            "1088/1084 [==============================] - 1s 1ms/step - loss: 0.4177 - acc: 0.1882\n",
            "\n",
            "epoch 248/300\n",
            "1088/1084 [==============================] - 1s 1ms/step - loss: 0.4173 - acc: 0.1882\n",
            "\n",
            "epoch 249/300\n",
            "1088/1084 [==============================] - 1s 1ms/step - loss: 0.4168 - acc: 0.1882\n",
            "\n",
            "epoch 250/300\n",
            "1088/1084 [==============================] - 1s 1ms/step - loss: 0.4163 - acc: 0.1882\n",
            "Saving checkpoint for epoch 250 at ./checkpoints_test/train/ckpt-90\n",
            "\n",
            "epoch 251/300\n",
            "1088/1084 [==============================] - 1s 1ms/step - loss: 0.4158 - acc: 0.1882\n",
            "\n",
            "epoch 252/300\n",
            "1088/1084 [==============================] - 1s 1ms/step - loss: 0.4154 - acc: 0.1882\n",
            "\n",
            "epoch 253/300\n",
            "1088/1084 [==============================] - 1s 1ms/step - loss: 0.4150 - acc: 0.1883\n",
            "\n",
            "epoch 254/300\n",
            "1088/1084 [==============================] - 1s 1ms/step - loss: 0.4145 - acc: 0.1883\n",
            "\n",
            "epoch 255/300\n",
            "1088/1084 [==============================] - 1s 1ms/step - loss: 0.4141 - acc: 0.1883\n",
            "Saving checkpoint for epoch 255 at ./checkpoints_test/train/ckpt-91\n",
            "\n",
            "epoch 256/300\n",
            "1088/1084 [==============================] - 1s 1ms/step - loss: 0.4137 - acc: 0.1883\n",
            "\n",
            "epoch 257/300\n",
            "1088/1084 [==============================] - 1s 1ms/step - loss: 0.4133 - acc: 0.1883\n",
            "\n",
            "epoch 258/300\n",
            "1088/1084 [==============================] - 1s 1ms/step - loss: 0.4128 - acc: 0.1883\n",
            "\n",
            "epoch 259/300\n",
            "1088/1084 [==============================] - 1s 1ms/step - loss: 0.4124 - acc: 0.1884\n",
            "\n",
            "epoch 260/300\n",
            "1088/1084 [==============================] - 3s 3ms/step - loss: 0.4120 - acc: 0.1884\n",
            "Saving checkpoint for epoch 260 at ./checkpoints_test/train/ckpt-92\n",
            "\n",
            "epoch 261/300\n",
            "1088/1084 [==============================] - 1s 1ms/step - loss: 0.4115 - acc: 0.1885\n",
            "\n",
            "epoch 262/300\n",
            "1088/1084 [==============================] - 1s 1ms/step - loss: 0.4111 - acc: 0.1885\n",
            "\n",
            "epoch 263/300\n",
            "1088/1084 [==============================] - 1s 1ms/step - loss: 0.4107 - acc: 0.1885\n",
            "\n",
            "epoch 264/300\n",
            "1088/1084 [==============================] - 1s 1ms/step - loss: 0.4102 - acc: 0.1885\n",
            "\n",
            "epoch 265/300\n",
            "1088/1084 [==============================] - 1s 1ms/step - loss: 0.4098 - acc: 0.1885\n",
            "Saving checkpoint for epoch 265 at ./checkpoints_test/train/ckpt-93\n",
            "\n",
            "epoch 266/300\n",
            "1088/1084 [==============================] - 1s 1ms/step - loss: 0.4094 - acc: 0.1885\n",
            "\n",
            "epoch 267/300\n",
            "1088/1084 [==============================] - 1s 1ms/step - loss: 0.4090 - acc: 0.1886\n",
            "\n",
            "epoch 268/300\n",
            "1088/1084 [==============================] - 2s 1ms/step - loss: 0.4085 - acc: 0.1886\n",
            "\n",
            "epoch 269/300\n",
            "1088/1084 [==============================] - 1s 1ms/step - loss: 0.4081 - acc: 0.1886\n",
            "\n",
            "epoch 270/300\n",
            "1088/1084 [==============================] - 1s 1ms/step - loss: 0.4077 - acc: 0.1886\n",
            "Saving checkpoint for epoch 270 at ./checkpoints_test/train/ckpt-94\n",
            "\n",
            "epoch 271/300\n",
            "1088/1084 [==============================] - 1s 1ms/step - loss: 0.4073 - acc: 0.1886\n",
            "\n",
            "epoch 272/300\n",
            "1088/1084 [==============================] - 1s 1ms/step - loss: 0.4069 - acc: 0.1886\n",
            "\n",
            "epoch 273/300\n",
            "1088/1084 [==============================] - 1s 1ms/step - loss: 0.4065 - acc: 0.1886\n",
            "\n",
            "epoch 274/300\n",
            "1088/1084 [==============================] - 1s 1ms/step - loss: 0.4061 - acc: 0.1886\n",
            "\n",
            "epoch 275/300\n",
            "1088/1084 [==============================] - 1s 1ms/step - loss: 0.4057 - acc: 0.1886\n",
            "Saving checkpoint for epoch 275 at ./checkpoints_test/train/ckpt-95\n",
            "\n",
            "epoch 276/300\n",
            "1088/1084 [==============================] - 2s 2ms/step - loss: 0.4053 - acc: 0.1886\n",
            "\n",
            "epoch 277/300\n",
            "1088/1084 [==============================] - 1s 1ms/step - loss: 0.4049 - acc: 0.1886\n",
            "\n",
            "epoch 278/300\n",
            "1088/1084 [==============================] - 1s 1ms/step - loss: 0.4045 - acc: 0.1887\n",
            "\n",
            "epoch 279/300\n",
            "1088/1084 [==============================] - 1s 1ms/step - loss: 0.4040 - acc: 0.1887\n",
            "\n",
            "epoch 280/300\n",
            "1088/1084 [==============================] - 1s 1ms/step - loss: 0.4036 - acc: 0.1888\n",
            "Saving checkpoint for epoch 280 at ./checkpoints_test/train/ckpt-96\n",
            "\n",
            "epoch 281/300\n",
            "1088/1084 [==============================] - 1s 1ms/step - loss: 0.4032 - acc: 0.1888\n",
            "\n",
            "epoch 282/300\n",
            "1088/1084 [==============================] - 1s 1ms/step - loss: 0.4028 - acc: 0.1888\n",
            "\n",
            "epoch 283/300\n",
            "1088/1084 [==============================] - 1s 1ms/step - loss: 0.4024 - acc: 0.1889\n",
            "\n",
            "epoch 284/300\n",
            "1088/1084 [==============================] - 2s 1ms/step - loss: 0.4020 - acc: 0.1889\n",
            "\n",
            "epoch 285/300\n",
            "1088/1084 [==============================] - 1s 1ms/step - loss: 0.4016 - acc: 0.1889\n",
            "Saving checkpoint for epoch 285 at ./checkpoints_test/train/ckpt-97\n",
            "\n",
            "epoch 286/300\n",
            "1088/1084 [==============================] - 1s 1ms/step - loss: 0.4012 - acc: 0.1889\n",
            "\n",
            "epoch 287/300\n",
            "1088/1084 [==============================] - 1s 1ms/step - loss: 0.4008 - acc: 0.1889\n",
            "\n",
            "epoch 288/300\n",
            "1088/1084 [==============================] - 2s 2ms/step - loss: 0.4005 - acc: 0.1889\n",
            "\n",
            "epoch 289/300\n",
            "1088/1084 [==============================] - 1s 1ms/step - loss: 0.4001 - acc: 0.1890\n",
            "\n",
            "epoch 290/300\n",
            "1088/1084 [==============================] - 1s 1ms/step - loss: 0.3997 - acc: 0.1890\n",
            "Saving checkpoint for epoch 290 at ./checkpoints_test/train/ckpt-98\n",
            "\n",
            "epoch 291/300\n",
            "1088/1084 [==============================] - 1s 1ms/step - loss: 0.3993 - acc: 0.1890\n",
            "\n",
            "epoch 292/300\n",
            "1088/1084 [==============================] - 1s 1ms/step - loss: 0.3990 - acc: 0.1890\n",
            "\n",
            "epoch 293/300\n",
            "1088/1084 [==============================] - 1s 1ms/step - loss: 0.3986 - acc: 0.1890\n",
            "\n",
            "epoch 294/300\n",
            "1088/1084 [==============================] - 1s 1ms/step - loss: 0.3983 - acc: 0.1891\n",
            "\n",
            "epoch 295/300\n",
            "1088/1084 [==============================] - 1s 1ms/step - loss: 0.3979 - acc: 0.1891\n",
            "Saving checkpoint for epoch 295 at ./checkpoints_test/train/ckpt-99\n",
            "\n",
            "epoch 296/300\n",
            "1088/1084 [==============================] - 1s 1ms/step - loss: 0.3977 - acc: 0.1891\n",
            "\n",
            "epoch 297/300\n",
            "1088/1084 [==============================] - 1s 1ms/step - loss: 0.3973 - acc: 0.1891\n",
            "\n",
            "epoch 298/300\n",
            "1088/1084 [==============================] - 1s 1ms/step - loss: 0.3970 - acc: 0.1891\n",
            "\n",
            "epoch 299/300\n",
            "1088/1084 [==============================] - 1s 1ms/step - loss: 0.3967 - acc: 0.1891\n",
            "\n",
            "epoch 300/300\n",
            "1088/1084 [==============================] - 1s 1ms/step - loss: 0.3963 - acc: 0.1892\n",
            "Saving checkpoint for epoch 300 at ./checkpoints_test/train/ckpt-100\n"
          ]
        }
      ],
      "source": [
        "EPOCHS = 300\n",
        "batch_size = 64\n",
        "metrics_names = ['loss', 'acc']\n",
        "# train_loss.reset_states()\n",
        "# train_accuracy.reset_states()\n",
        "for epoch in range(200, EPOCHS):\n",
        "    print(\"\\nepoch {}/{}\".format(epoch+1,EPOCHS))\n",
        "    pb_i = Progbar(train.shape[0], stateful_metrics=metrics_names)\n",
        "\n",
        "    # inp -> question, tar -> answer\n",
        "    for (batch, (inp, tar)) in enumerate(train_dataset):\n",
        "        train_step(inp, tar)\n",
        "\n",
        "        values=[('loss',train_loss.result()), ('acc',train_accuracy.result())]\n",
        "\n",
        "        pb_i.add(batch_size, values=values)\n",
        "    if (epoch + 1) % 5 == 0:\n",
        "        ckpt_save_path = ckpt_manager.save()\n",
        "        print ('Saving checkpoint for epoch {} at {}'.format(epoch+1,ckpt_save_path))"
      ]
    },
    {
      "cell_type": "code",
      "execution_count": null,
      "id": "88154466",
      "metadata": {
        "colab": {
          "base_uri": "https://localhost:8080/"
        },
        "id": "88154466",
        "outputId": "63141a24-4726-4eab-cde3-55cf2da85805"
      },
      "outputs": [
        {
          "output_type": "stream",
          "name": "stdout",
          "text": [
            "\n",
            "epoch 301/350\n",
            "1088/1084 [==============================] - 1s 1ms/step - loss: 0.3960 - acc: 0.1892\n",
            "\n",
            "epoch 302/350\n",
            "1088/1084 [==============================] - 1s 1ms/step - loss: 0.3956 - acc: 0.1892\n",
            "\n",
            "epoch 303/350\n",
            "1088/1084 [==============================] - 1s 1ms/step - loss: 0.3953 - acc: 0.1892\n",
            "\n",
            "epoch 304/350\n",
            "1088/1084 [==============================] - 1s 1ms/step - loss: 0.3949 - acc: 0.1893\n",
            "\n",
            "epoch 305/350\n",
            "1088/1084 [==============================] - 1s 1ms/step - loss: 0.3946 - acc: 0.1893\n",
            "Saving checkpoint for epoch 305 at ./checkpoints_test/train/ckpt-101\n",
            "\n",
            "epoch 306/350\n",
            "1088/1084 [==============================] - 1s 1ms/step - loss: 0.3943 - acc: 0.1893\n",
            "\n",
            "epoch 307/350\n",
            "1088/1084 [==============================] - 1s 1ms/step - loss: 0.3939 - acc: 0.1893\n",
            "\n",
            "epoch 308/350\n",
            "1088/1084 [==============================] - 1s 1ms/step - loss: 0.3936 - acc: 0.1893\n",
            "\n",
            "epoch 309/350\n",
            "1088/1084 [==============================] - 1s 1ms/step - loss: 0.3933 - acc: 0.1894\n",
            "\n",
            "epoch 310/350\n",
            "1088/1084 [==============================] - 1s 1ms/step - loss: 0.3929 - acc: 0.1893\n",
            "Saving checkpoint for epoch 310 at ./checkpoints_test/train/ckpt-102\n",
            "\n",
            "epoch 311/350\n",
            "1088/1084 [==============================] - 2s 2ms/step - loss: 0.3926 - acc: 0.1893\n",
            "\n",
            "epoch 312/350\n",
            "1088/1084 [==============================] - 1s 1ms/step - loss: 0.3923 - acc: 0.1894\n",
            "\n",
            "epoch 313/350\n",
            "1088/1084 [==============================] - 1s 1ms/step - loss: 0.3919 - acc: 0.1894\n",
            "\n",
            "epoch 314/350\n",
            "1088/1084 [==============================] - 1s 1ms/step - loss: 0.3916 - acc: 0.1894\n",
            "\n",
            "epoch 315/350\n",
            "1088/1084 [==============================] - 1s 1ms/step - loss: 0.3914 - acc: 0.1894\n",
            "Saving checkpoint for epoch 315 at ./checkpoints_test/train/ckpt-103\n",
            "\n",
            "epoch 316/350\n",
            "1088/1084 [==============================] - 1s 1ms/step - loss: 0.3912 - acc: 0.1894\n",
            "\n",
            "epoch 317/350\n",
            "1088/1084 [==============================] - 1s 1ms/step - loss: 0.3909 - acc: 0.1894\n",
            "\n",
            "epoch 318/350\n",
            "1088/1084 [==============================] - 1s 1ms/step - loss: 0.3906 - acc: 0.1895\n",
            "\n",
            "epoch 319/350\n",
            "1088/1084 [==============================] - 2s 1ms/step - loss: 0.3903 - acc: 0.1895\n",
            "\n",
            "epoch 320/350\n",
            "1088/1084 [==============================] - 1s 1ms/step - loss: 0.3900 - acc: 0.1895\n",
            "Saving checkpoint for epoch 320 at ./checkpoints_test/train/ckpt-104\n",
            "\n",
            "epoch 321/350\n",
            "1088/1084 [==============================] - 1s 1ms/step - loss: 0.3896 - acc: 0.1895\n",
            "\n",
            "epoch 322/350\n",
            "1088/1084 [==============================] - 1s 1ms/step - loss: 0.3893 - acc: 0.1895\n",
            "\n",
            "epoch 323/350\n",
            "1088/1084 [==============================] - 1s 1ms/step - loss: 0.3890 - acc: 0.1895\n",
            "\n",
            "epoch 324/350\n",
            "1088/1084 [==============================] - 1s 1ms/step - loss: 0.3887 - acc: 0.1896\n",
            "\n",
            "epoch 325/350\n",
            "1088/1084 [==============================] - 1s 1ms/step - loss: 0.3883 - acc: 0.1896\n",
            "Saving checkpoint for epoch 325 at ./checkpoints_test/train/ckpt-105\n",
            "\n",
            "epoch 326/350\n",
            "1088/1084 [==============================] - 1s 1ms/step - loss: 0.3880 - acc: 0.1896\n",
            "\n",
            "epoch 327/350\n",
            "1088/1084 [==============================] - 2s 1ms/step - loss: 0.3876 - acc: 0.1896\n",
            "\n",
            "epoch 328/350\n",
            "1088/1084 [==============================] - 1s 1ms/step - loss: 0.3873 - acc: 0.1897\n",
            "\n",
            "epoch 329/350\n",
            "1088/1084 [==============================] - 1s 1ms/step - loss: 0.3871 - acc: 0.1897\n",
            "\n",
            "epoch 330/350\n",
            "1088/1084 [==============================] - 1s 1ms/step - loss: 0.3868 - acc: 0.1897\n",
            "Saving checkpoint for epoch 330 at ./checkpoints_test/train/ckpt-106\n",
            "\n",
            "epoch 331/350\n",
            "1088/1084 [==============================] - 1s 1ms/step - loss: 0.3865 - acc: 0.1897\n",
            "\n",
            "epoch 332/350\n",
            "1088/1084 [==============================] - 1s 1ms/step - loss: 0.3862 - acc: 0.1897\n",
            "\n",
            "epoch 333/350\n",
            "1088/1084 [==============================] - 1s 1ms/step - loss: 0.3859 - acc: 0.1897\n",
            "\n",
            "epoch 334/350\n",
            "1088/1084 [==============================] - 1s 1ms/step - loss: 0.3856 - acc: 0.1897\n",
            "\n",
            "epoch 335/350\n",
            "1088/1084 [==============================] - 1s 1ms/step - loss: 0.3853 - acc: 0.1897\n",
            "Saving checkpoint for epoch 335 at ./checkpoints_test/train/ckpt-107\n",
            "\n",
            "epoch 336/350\n",
            "1088/1084 [==============================] - 1s 1ms/step - loss: 0.3849 - acc: 0.1897\n",
            "\n",
            "epoch 337/350\n",
            "1088/1084 [==============================] - 1s 1ms/step - loss: 0.3846 - acc: 0.1898\n",
            "\n",
            "epoch 338/350\n",
            "1088/1084 [==============================] - 1s 1ms/step - loss: 0.3843 - acc: 0.1898\n",
            "\n",
            "epoch 339/350\n",
            "1088/1084 [==============================] - 1s 1ms/step - loss: 0.3840 - acc: 0.1898\n",
            "\n",
            "epoch 340/350\n",
            "1088/1084 [==============================] - 1s 1ms/step - loss: 0.3837 - acc: 0.1898\n",
            "Saving checkpoint for epoch 340 at ./checkpoints_test/train/ckpt-108\n",
            "\n",
            "epoch 341/350\n",
            "1088/1084 [==============================] - 1s 1ms/step - loss: 0.3834 - acc: 0.1898\n",
            "\n",
            "epoch 342/350\n",
            "1088/1084 [==============================] - 1s 1ms/step - loss: 0.3831 - acc: 0.1898\n",
            "\n",
            "epoch 343/350\n",
            "1088/1084 [==============================] - 1s 1ms/step - loss: 0.3828 - acc: 0.1899\n",
            "\n",
            "epoch 344/350\n",
            "1088/1084 [==============================] - 1s 1ms/step - loss: 0.3825 - acc: 0.1899\n",
            "\n",
            "epoch 345/350\n",
            "1088/1084 [==============================] - 1s 1ms/step - loss: 0.3822 - acc: 0.1899\n",
            "Saving checkpoint for epoch 345 at ./checkpoints_test/train/ckpt-109\n",
            "\n",
            "epoch 346/350\n",
            "1088/1084 [==============================] - 1s 1ms/step - loss: 0.3820 - acc: 0.1899\n",
            "\n",
            "epoch 347/350\n",
            "1088/1084 [==============================] - 1s 1ms/step - loss: 0.3816 - acc: 0.1899\n",
            "\n",
            "epoch 348/350\n",
            "1088/1084 [==============================] - 1s 1ms/step - loss: 0.3813 - acc: 0.1899\n",
            "\n",
            "epoch 349/350\n",
            "1088/1084 [==============================] - 2s 1ms/step - loss: 0.3810 - acc: 0.1900\n",
            "\n",
            "epoch 350/350\n",
            "1088/1084 [==============================] - 1s 1ms/step - loss: 0.3807 - acc: 0.1900\n",
            "Saving checkpoint for epoch 350 at ./checkpoints_test/train/ckpt-110\n"
          ]
        }
      ],
      "source": [
        "EPOCHS = 350\n",
        "batch_size = 64\n",
        "metrics_names = ['loss', 'acc']\n",
        "# train_loss.reset_states()\n",
        "# train_accuracy.reset_states()\n",
        "for epoch in range(300, EPOCHS):\n",
        "    print(\"\\nepoch {}/{}\".format(epoch+1,EPOCHS))\n",
        "    pb_i = Progbar(train.shape[0], stateful_metrics=metrics_names)\n",
        "\n",
        "    # inp -> question, tar -> answer\n",
        "    for (batch, (inp, tar)) in enumerate(train_dataset):\n",
        "        train_step(inp, tar)\n",
        "\n",
        "        values=[('loss',train_loss.result()), ('acc',train_accuracy.result())]\n",
        "\n",
        "        pb_i.add(batch_size, values=values)\n",
        "    if (epoch + 1) % 5 == 0:\n",
        "        ckpt_save_path = ckpt_manager.save()\n",
        "        print ('Saving checkpoint for epoch {} at {}'.format(epoch+1,ckpt_save_path))"
      ]
    },
    {
      "cell_type": "markdown",
      "id": "58fe7b10",
      "metadata": {
        "id": "58fe7b10"
      },
      "source": [
        "# EPOCH:350, I think its enough, let's check what type of REPLIES that CHATBOT is generating"
      ]
    },
    {
      "cell_type": "code",
      "execution_count": null,
      "id": "578270c4",
      "metadata": {
        "id": "578270c4"
      },
      "outputs": [],
      "source": [
        "# joblib.dump(tokenizer_q, \"tokenizer_q\")\n",
        "# joblib.dump(tokenizer_a, \"tokenizer_a\")\n",
        "# transformer.save_weights('transformer_model/weights')"
      ]
    },
    {
      "cell_type": "code",
      "execution_count": null,
      "id": "5c93b48c",
      "metadata": {
        "id": "5c93b48c"
      },
      "outputs": [],
      "source": [
        "import matplotlib.pyplot as plt\n",
        "import matplotlib.ticker as ticker\n",
        "def plot_attention(attention, sentence, predicted_sentence):\n",
        "    fig = plt.figure(figsize=(10,10))\n",
        "    ax = fig.add_subplot(1, 1, 1)\n",
        "    ax.matshow(attention, cmap='viridis')\n",
        "\n",
        "    fontdict = {'fontsize': 14}\n",
        "    sentence = sentence.split(\" \")\n",
        "    predicted_sentence = predicted_sentence.split(\" \")\n",
        "    ax.xaxis.set_major_locator(ticker.MultipleLocator(1))\n",
        "    ax.yaxis.set_major_locator(ticker.MultipleLocator(1))\n",
        "    ax.set_xticklabels([''] + sentence, fontdict=fontdict, rotation=90)\n",
        "    ax.set_yticklabels([''] + predicted_sentence, fontdict=fontdict)\n",
        "\n",
        "\n",
        "\n",
        "def plot_attention_weights(attention,tokenizer_q, tokenizer_a, sentence, result, layer):\n",
        "\n",
        "    fig = plt.figure(figsize=(16, 8))\n",
        "\n",
        "    sentence = tokenizer_q.encode(sentence)\n",
        "\n",
        "    attention = tf.squeeze(attention[layer], axis=0)\n",
        "    #(1, 8, 5, 4) --> (8, 5, 4)\n",
        "    for head in range(attention.shape[0]):\n",
        "        ax = fig.add_subplot(2, 4, head+1)\n",
        "\n",
        "        # plot the attention weights [:-1, :]\n",
        "        ax.matshow(attention[head][:-1, :], cmap='viridis')\n",
        "        fontdict = {'fontsize': 10}\n",
        "\n",
        "        ax.set_xticks(range(len(sentence)+2))\n",
        "        ax.set_yticks(range(len(result)-1))\n",
        "\n",
        "        ax.set_ylim(len(result)-1.5, -0.5)\n",
        "        ax.xaxis.set_major_locator(ticker.MultipleLocator(1))\n",
        "        ax.yaxis.set_major_locator(ticker.MultipleLocator(1))\n",
        "        x = ['<start>']+[tokenizer_q.decode([i]) for i in sentence]+['<end>']\n",
        "        y = [tokenizer_a.decode([i]) for i in result if i < tokenizer_a.vocab_size]\n",
        "        ax.set_xticklabels([''] + x, fontdict=fontdict, rotation=90)\n",
        "        ax.set_yticklabels([''] + y, fontdict=fontdict)\n",
        "\n",
        "\n",
        "        ax.set_xlabel('Head {}'.format(head+1))\n",
        "\n",
        "    plt.tight_layout()\n",
        "    plt.show()\n",
        "\n",
        "\n",
        "MAX_LENGTH = 27\n",
        "\n",
        "def evaluate(inp_sentence, model,  tokenizer_q, tokenizer_a):\n",
        "    start_token = [tokenizer_q.vocab_size]\n",
        "    end_token = [tokenizer_q.vocab_size + 1]\n",
        "\n",
        "    # All questions has the start and end token\n",
        "    inp_sentence = start_token + tokenizer_q.encode(inp_sentence) + end_token\n",
        "    encoder_input = tf.expand_dims(inp_sentence, 0)\n",
        "\n",
        "    # 'answers' start token : 27358\n",
        "    decoder_input = [tokenizer_a.vocab_size]\n",
        "    decoder_input = tf.expand_dims(decoder_input, 0)\n",
        "\n",
        "    for i in range(MAX_LENGTH):\n",
        "        enc_padding_mask, combined_mask, dec_padding_mask = create_masks(encoder_input, decoder_input)\n",
        "\n",
        "        # predictions.shape == (batch_size, seq_len, vocab_size)\n",
        "        predictions, attention_weights = model(encoder_input,\n",
        "                                                     decoder_input,\n",
        "                                                     False,\n",
        "                                                     enc_padding_mask,\n",
        "                                                     combined_mask,\n",
        "                                                     dec_padding_mask)\n",
        "\n",
        "        # select the last word from the seq_len dimension\n",
        "        predictions = predictions[: ,-1:, :]  # (batch_size, 1, vocab_size)\n",
        "\n",
        "        predicted_id = tf.cast(tf.argmax(predictions, axis=-1), tf.int32)\n",
        "\n",
        "        # return the result if the predicted_id is equal to the end token\n",
        "        if predicted_id == tokenizer_a.vocab_size+1:\n",
        "            print(f\"=============\\nGot end token\\n=============\")\n",
        "            return tf.squeeze(decoder_input, axis=0), attention_weights\n",
        "\n",
        "        # concatentate the predicted_id to the output which is given to the decoder\n",
        "        # as its input.\n",
        "        decoder_input = tf.concat([decoder_input, predicted_id], axis=-1)\n",
        "\n",
        "    return tf.squeeze(decoder_input, axis=0), attention_weights"
      ]
    },
    {
      "cell_type": "code",
      "execution_count": null,
      "id": "4f3aad84",
      "metadata": {
        "id": "4f3aad84"
      },
      "outputs": [],
      "source": [
        "def reply(sentence, transformer,  tokenizer_q, tokenizer_a, plot=''):\n",
        "    result, attention_weights = evaluate(sentence, transformer,  tokenizer_q, tokenizer_a)\n",
        "#     print(\"Attention_Blocks:\", list(attention_weights.keys()))\n",
        "    predicted_sentence = tokenizer_a.decode([i for i in result\n",
        "                                            if i < tokenizer_a.vocab_size])\n",
        "\n",
        "    print('Input: {}'.format(sentence))\n",
        "    print('Predicted translation: {}'.format(predicted_sentence))\n",
        "    if plot:\n",
        "        plot_attention_weights(attention_weights,tokenizer_q, tokenizer_a, sentence, result, plot)\n",
        "    return sentence, predicted_sentence"
      ]
    },
    {
      "cell_type": "code",
      "execution_count": null,
      "id": "1b5f1253",
      "metadata": {
        "colab": {
          "base_uri": "https://localhost:8080/",
          "height": 330
        },
        "id": "1b5f1253",
        "outputId": "5b1fc82d-a667-4f9d-fd7a-ec9c4c18deb3"
      },
      "outputs": [
        {
          "output_type": "stream",
          "name": "stdout",
          "text": [
            "=============\n",
            "Got end token\n",
            "=============\n",
            "Input: iṢé àkàrà-òyìnbó aláìlẹ́yin lẹ fẹ́\n",
            "Predicted translation: nan\n"
          ]
        },
        {
          "output_type": "display_data",
          "data": {
            "text/plain": [
              "<Figure size 1600x800 with 8 Axes>"
            ],
            "image/png": "[encoded data removed]"
          },
          "metadata": {}
        },
        {
          "output_type": "execute_result",
          "data": {
            "text/plain": [
              "('iṢé àkàrà-òyìnbó aláìlẹ́yin lẹ fẹ́', 'nan')"
            ]
          },
          "metadata": {},
          "execution_count": 65
        }
      ],
      "source": [
        "inp_sentence = \"iṢé àkàrà-òyìnbó aláìlẹ́yin lẹ fẹ́\"\n",
        "reply(inp_sentence, transformer,  tokenizer_q, tokenizer_a, \"decoder_layer2_block2\")"
      ]
    },
    {
      "cell_type": "markdown",
      "id": "b3db5f71",
      "metadata": {
        "id": "b3db5f71"
      },
      "source": [
        "## OUTPUTS are not absurd at all, It has LEARNED"
      ]
    },
    {
      "cell_type": "code",
      "execution_count": null,
      "id": "298cfd21",
      "metadata": {
        "colab": {
          "base_uri": "https://localhost:8080/"
        },
        "id": "298cfd21",
        "outputId": "f32a00cd-87f7-4b1d-adc2-8d5a0d9c8bed"
      },
      "outputs": [
        {
          "output_type": "stream",
          "name": "stdout",
          "text": [
            "=============\n",
            "Got end token\n",
            "=============\n",
            "Input: Ẹ káàbọ̀, sà. Kí ni mo lè ṣe fún yín?\n",
            "Predicted translation:  bẹẹni a ni irinṣẹ abẹ nla.\n"
          ]
        },
        {
          "output_type": "execute_result",
          "data": {
            "text/plain": [
              "('Ẹ káàbọ̀, sà. Kí ni mo lè ṣe fún yín?', ' bẹẹni a ni irinṣẹ abẹ nla.')"
            ]
          },
          "metadata": {},
          "execution_count": 66
        }
      ],
      "source": [
        "inp_sentence = \"Ẹ káàbọ̀, sà. Kí ni mo lè ṣe fún yín?\"\n",
        "reply(inp_sentence, transformer,  tokenizer_q, tokenizer_a)"
      ]
    },
    {
      "cell_type": "code",
      "execution_count": null,
      "id": "afd920ba",
      "metadata": {
        "scrolled": true,
        "id": "afd920ba"
      },
      "outputs": [],
      "source": [
        "train.iloc[400:406]"
      ]
    },
    {
      "cell_type": "code",
      "execution_count": null,
      "id": "14569967",
      "metadata": {
        "id": "14569967"
      },
      "outputs": [],
      "source": [
        "validation.iloc[400:406]"
      ]
    },
    {
      "cell_type": "code",
      "execution_count": null,
      "id": "a112d4ac",
      "metadata": {
        "scrolled": true,
        "colab": {
          "base_uri": "https://localhost:8080/",
          "height": 228
        },
        "id": "a112d4ac",
        "outputId": "15ad6ed3-5518-4b1f-fe27-7bbf8cee6bb6"
      },
      "outputs": [
        {
          "output_type": "stream",
          "name": "stdout",
          "text": [
            "Input: ó dára. fún mi ní ìdì ọ̀gẹ̀dẹ̀ wẹẹrẹ kan àti ìgò ẹ̀pà kan. eélòó ni gbogbo rẹ̀ lápapọ̀\n",
            "Predicted translation: gbogbo èyí tó gùn yẹn ni igba náírà àwọn èyí tí a dì yẹn jẹ́ ọgọ́rùnún \n",
            "Actual: gbogbo rẹ̀ jẹ́ ọgọ́rùnún mẹ́jọ náírà lápapọ̀\n"
          ]
        },
        {
          "output_type": "error",
          "ename": "AttributeError",
          "evalue": "'float' object has no attribute 'append'",
          "traceback": [
            "\u001b[0;31m---------------------------------------------------------------------------\u001b[0m",
            "\u001b[0;31mAttributeError\u001b[0m                            Traceback (most recent call last)",
            "\u001b[0;32m<ipython-input-67-d11200d029ab>\u001b[0m in \u001b[0;36m<cell line: 6>\u001b[0;34m()\u001b[0m\n\u001b[1;32m     11\u001b[0m     \u001b[0mtranslation\u001b[0m \u001b[0;34m=\u001b[0m \u001b[0mpred_string\u001b[0m\u001b[0;34m.\u001b[0m\u001b[0msplit\u001b[0m\u001b[0;34m(\u001b[0m\u001b[0;34m)\u001b[0m \u001b[0;31m# trasilated using model\u001b[0m\u001b[0;34m\u001b[0m\u001b[0;34m\u001b[0m\u001b[0m\n\u001b[1;32m     12\u001b[0m     \u001b[0mbs\u001b[0m \u001b[0;34m=\u001b[0m \u001b[0mbleu\u001b[0m\u001b[0;34m.\u001b[0m\u001b[0msentence_bleu\u001b[0m\u001b[0;34m(\u001b[0m\u001b[0mreference\u001b[0m\u001b[0;34m,\u001b[0m \u001b[0mtranslation\u001b[0m\u001b[0;34m)\u001b[0m\u001b[0;34m\u001b[0m\u001b[0;34m\u001b[0m\u001b[0m\n\u001b[0;32m---> 13\u001b[0;31m     \u001b[0mbs\u001b[0m\u001b[0;34m.\u001b[0m\u001b[0mappend\u001b[0m\u001b[0;34m(\u001b[0m\u001b[0mbs\u001b[0m\u001b[0;34m)\u001b[0m\u001b[0;34m\u001b[0m\u001b[0;34m\u001b[0m\u001b[0m\n\u001b[0m",
            "\u001b[0;31mAttributeError\u001b[0m: 'float' object has no attribute 'append'"
          ]
        }
      ],
      "source": [
        "import nltk.translate.bleu_score as bleu\n",
        "from tqdm import tqdm\n",
        "test_q = train[\"Question\"].values[:10]\n",
        "test_a = train[\"Answer\"].values[:10]\n",
        "bss = []\n",
        "for i in range(10):\n",
        "    input_test_sentence = test_q[i]\n",
        "    input_sentence, pred_string = reply(input_test_sentence, transformer,  tokenizer_q, tokenizer_a, plot='')\n",
        "    print(\"Actual:\", test_a[i])\n",
        "    reference = [test_a[i].split()] # the original\n",
        "    translation = pred_string.split() # trasilated using model\n",
        "    bs = bleu.sentence_bleu(reference, translation)\n",
        "    bs.append(bs)\n"
      ]
    },
    {
      "source": [
        "import nltk.translate.bleu_score as bleu\n",
        "from tqdm import tqdm\n",
        "test_q = train[\"Question\"].values[:10]\n",
        "test_a = train[\"Answer\"].values[:10]\n",
        "bss = []\n",
        "for i in range(10):\n",
        "    input_test_sentence = test_q[i]\n",
        "    input_sentence, pred_string = reply(input_test_sentence, transformer,  tokenizer_q, tokenizer_a, plot='')\n",
        "    print(\"Actual:\", test_a[i])\n",
        "    reference = [test_a[i].split()] # the original\n",
        "    translation = pred_string.split() # trasilated using model\n",
        "    bs = bleu.sentence_bleu(reference, translation)\n",
        "    bss.append(bs) # Append the float value 'bs' to the list 'bss'"
      ],
      "cell_type": "code",
      "metadata": {
        "colab": {
          "base_uri": "https://localhost:8080/"
        },
        "id": "1Z-NDQ0MrNAs",
        "outputId": "378cb60c-9101-4c4d-e767-9d194ec7d4f5"
      },
      "id": "1Z-NDQ0MrNAs",
      "execution_count": null,
      "outputs": [
        {
          "output_type": "stream",
          "name": "stdout",
          "text": [
            "Input: ó dára. fún mi ní ìdì ọ̀gẹ̀dẹ̀ wẹẹrẹ kan àti ìgò ẹ̀pà kan. eélòó ni gbogbo rẹ̀ lápapọ̀\n",
            "Predicted translation: gbogbo èyí tó gùn yẹn ni igba náírà àwọn èyí tí a dì yẹn jẹ́ ọgọ́rùnún \n",
            "Actual: gbogbo rẹ̀ jẹ́ ọgọ́rùnún mẹ́jọ náírà lápapọ̀\n",
            "=============\n",
            "Got end token\n",
            "=============\n",
            "Input: báwo ni i̇lorin şe ri\n",
            "Predicted translation: zagbayi lọ́nà iléìwòsàn.\n",
            "Actual: llú nlá ni ilú lọrin. oun si ni olúilú ìpínlè kwárà.\n",
            "=============\n",
            "Got end token\n",
            "=============\n",
            "Input: ẹgbẹ̀run méjì àbọ̀ naira\n",
            "Predicted translation: ẹ ǹlẹ́ o.\n",
            "Actual: bẹ́ẹ̀ni.\n",
            "=============\n",
            "Got end token\n",
            "=============\n",
            "Input:  mo fẹ ra kọmputa aleebu.\n",
            "Predicted translation:  a ni kọmputa aleebu to dara pupọ.\n",
            "Actual:  a ni kọmputa aleebu to dara pupọ.\n",
            "=============\n",
            "Got end token\n",
            "=============\n",
            "Input:  ṣé ẹ ni foonu alagbeka\n",
            "Predicted translation:  bẹẹni a ni ẹran malu tuntun.\n",
            "Actual:  bẹẹni a ni foonu alagbeka tuntun.\n",
            "=============\n",
            "Got end token\n",
            "=============\n",
            "Input:  o dara mo gba.\n",
            "Predicted translation:  o ṣeun sir.\n",
            "Actual:  o ṣeun sir.\n",
            "=============\n",
            "Got end token\n",
            "=============\n",
            "Input: màá san ogójì naira.\n",
            "Predicted translation: ọgọ́rùnún méjì náírà n200.\n",
            "Actual: àádọ̀rin naira\n",
            "=============\n",
            "Got end token\n",
            "=============\n",
            "Input: ṣùgbọ́n ẹ lè gbàgbé àti fi ṣúgà sí i..\n",
            "Predicted translation: ó dáa màá bá ẹ fi ṣúgà sí i dáadáa.\n",
            "Actual: ó dáa màá bá ẹ fi ṣúgà sí i dáadáa.\n",
            "=============\n",
            "Got end token\n",
            "=============\n",
            "Input: ǹjẹ́ ẹ̀ ń ta gboùngboùn etí àti àlòmọ́fóònú mìíràn\n",
            "Predicted translation: ó dàbọ̀.\n",
            "Actual: bẹ́ẹ̀ni\n",
            "=============\n",
            "Got end token\n",
            "=============\n",
            "Input: maggi oníràwọ̀ àti “mr. chef”. ǹjẹ́ ẹ ni ọṣẹ septol\n",
            "Predicted translation: ẹ ṣé\n",
            "Actual: septol wà.\n"
          ]
        }
      ]
    },
    {
      "cell_type": "code",
      "execution_count": null,
      "id": "c86d5e23",
      "metadata": {
        "colab": {
          "base_uri": "https://localhost:8080/"
        },
        "id": "c86d5e23",
        "outputId": "7d3e5998-58d4-4989-ea01-102a3d44e5e3"
      },
      "outputs": [
        {
          "output_type": "stream",
          "name": "stdout",
          "text": [
            "=============\n",
            "Got end token\n",
            "=============\n",
            "Input: ah ọgọ́rùnún méjì n200.\n",
            "Predicted translation: ẹ kú àbọ̀ .\n",
            "Actual: kò gbà mo kàn lè tà á ní n230 á jẹ́ pé mo ti dín yín ní n20 ní tipátipá.\n",
            "=============\n",
            "Got end token\n",
            "=============\n",
            "Input: eélòó ni ẹ máa tà á jálẹ̀jálẹ̀\n",
            "Predicted translation: ó dàbò.\n",
            "Actual: eélòó ni ẹ máa rà á jálẹ̀jálẹ̀\n",
            "=============\n",
            "Got end token\n",
            "=============\n",
            "Input: ọjọ́ kìíní sí ìkẹwàá ní oṣù kẹjọ /ọ́gọ́sìtì\n",
            "Predicted translation: mo nílò ohunmímu ààbọ̀ agolo mílíìkì ‘nescafe’ ẹyin méjì àti búrẹ́dì ọgbọ̀n náírà. eélòó ni gbogbo ẹ̀\n",
            "Actual: ọjọ́ mẹ́wàá kọ́ yẹn\n",
            "=============\n",
            "Got end token\n",
            "=============\n",
            "Input: ọ̀rò ìfọkàntán kọ́ yìí. ohun tó ṣẹlẹ̀ ni pé nígbà míràn oníbàárà á pa ètò rẹ̀ dà àwa ló sì máa fara da òfò rẹ̀.\n",
            "Predicted translation: iye kan náà ni wọ́n bá dé láti ọjà.\n",
            "Actual: ó dáa. ó ti yé mi. ẹgbẹ̀rún mẹ́ta náírà 3000 rèé.\n",
            "=============\n",
            "Got end token\n",
            "=============\n",
            "Input: eélòó ni àwọn tó wà nínú abọ́ yìí\n",
            "Predicted translation: ẹ ǹlẹ́ o.\n",
            "Actual: eléyìí jẹ́ ọgọ́rùnún mẹ́ta náírà èyí ọgọ́rùnún márùnún náírà.\n",
            "=============\n",
            "Got end token\n",
            "=============\n",
            "Input:  mo fẹ ra bata tuntun.\n",
            "Predicted translation:  a ni tabili tuntun ti o lẹwa.\n",
            "Actual:  a ni bata tuntun to gbona.\n",
            "=============\n",
            "Got end token\n",
            "=============\n",
            "Input: ǹjẹ́ ẹ ni mílíìkì alágolo\n",
            "Predicted translation: ọgọ́rùnún mẹ́fà náírà ni à ń ta àpò.\n",
            "Actual: ọgọ́rùnún márùnún àti àádọ́ta náírà ni mílíìkì alágolo.\n",
            "=============\n",
            "Got end token\n",
            "=============\n",
            "Input:  ṣé ẹ le din owo diẹ\n",
            "Predicted translation:  bẹẹni mo le din die. ṣe ẹgbẹrun mẹrinlelogun ba ọ\n",
            "Actual:  bẹẹni mo le din die. ṣe ẹgbẹrun mẹrinlelogun ba ọ\n",
            "=============\n",
            "Got end token\n",
            "=============\n",
            "Input:  ṣé ẹ le din owo\n",
            "Predicted translation:  bẹẹni mo le din die. ṣe ẹgbẹrun mẹrin ba ọ\n",
            "Actual:  bẹẹni mo le din die. ṣe ẹgbẹrun meji ati ọgọrun ba ọ\n",
            "=============\n",
            "Got end token\n",
            "=============\n",
            "Input: jowo mo fé rarú rè.\n",
            "Predicted translation: ẹran ńkọ́\n",
            "Actual: kò burú. tí a bá tí kúrò ní dùgbè a á lo jankara láti lọ rà á.\n"
          ]
        }
      ],
      "source": [
        "import nltk.translate.bleu_score as bleu\n",
        "from tqdm import tqdm\n",
        "test_q = validation[\"Question\"].values[100:110]\n",
        "test_a = validation[\"Answer\"].values[100:110]\n",
        "bss = []\n",
        "for i in range(10):\n",
        "    input_test_sentence = test_q[i]\n",
        "    input_sentence, pred_string = reply(input_test_sentence, transformer,  tokenizer_q, tokenizer_a, plot='')\n",
        "    print(\"Actual:\", test_a[i])\n",
        "    reference = [test_a[i].split()] # the original\n",
        "    translation = pred_string.split() # trasilated using model"
      ]
    },
    {
      "cell_type": "code",
      "execution_count": null,
      "id": "f5221356",
      "metadata": {
        "id": "f5221356"
      },
      "outputs": [],
      "source": [
        "# num_layers = 2\n",
        "# d_model = 256\n",
        "# dff = 512\n",
        "# num_heads = 8\n",
        "# input_vocab_size = tokenizer_q.vocab_size + 2\n",
        "# target_vocab_size = tokenizer_a.vocab_size + 2\n",
        "# dropout_rate = 0.1\n",
        "\n",
        "# load_transformer = Transformer(num_layers, d_model, num_heads, dff,\n",
        "#                           input_vocab_size, target_vocab_size,\n",
        "#                           pe_input=input_vocab_size,\n",
        "#                           pe_target=target_vocab_size,\n",
        "#                           rate=dropout_rate)\n",
        "# load_transformer.load_weights('transformer_model/weights')"
      ]
    },
    {
      "cell_type": "code",
      "execution_count": null,
      "id": "5d2d6845",
      "metadata": {
        "colab": {
          "base_uri": "https://localhost:8080/",
          "height": 388
        },
        "id": "5d2d6845",
        "outputId": "b48ec8cd-9768-4a38-c582-b37db92e171c"
      },
      "outputs": [
        {
          "output_type": "stream",
          "name": "stdout",
          "text": [
            "=============\n",
            "Got end token\n",
            "=============\n",
            "Input: Ó dáa. Onírú èròja lẹ fẹ́ẹ́ rà?\n",
            "Predicted translation: zagbayi lọ́nà iléìwòsàn.\n"
          ]
        },
        {
          "output_type": "display_data",
          "data": {
            "text/plain": [
              "<Figure size 1600x800 with 8 Axes>"
            ],
            "image/png": "[encoded data removed]"
          },
          "metadata": {}
        },
        {
          "output_type": "execute_result",
          "data": {
            "text/plain": [
              "('Ó dáa. Onírú èròja lẹ fẹ́ẹ́ rà?', 'zagbayi lọ́nà iléìwòsàn.')"
            ]
          },
          "metadata": {},
          "execution_count": 72
        }
      ],
      "source": [
        "inp_sentence = \"Ó dáa. Onírú èròja lẹ fẹ́ẹ́ rà?\"\n",
        "reply(inp_sentence, transformer,  tokenizer_q, tokenizer_a, \"decoder_layer2_block2\")"
      ]
    },
    {
      "cell_type": "markdown",
      "id": "76541209",
      "metadata": {
        "id": "76541209"
      },
      "source": [
        "* Results are great, better than encoder-decoder with bahadenau attention mechanism\n",
        "* Still we can see the results are not perfect, because the architecture has less parameters plus the dataset is not very big and transformers works close to humans with large data and large trainable parameters"
      ]
    },
    {
      "cell_type": "markdown",
      "id": "144f2d50",
      "metadata": {
        "id": "144f2d50"
      },
      "source": [
        "# On random inputs!\n",
        "### Results are genuine"
      ]
    },
    {
      "cell_type": "code",
      "execution_count": null,
      "id": "c357afa8",
      "metadata": {
        "colab": {
          "base_uri": "https://localhost:8080/"
        },
        "id": "c357afa8",
        "outputId": "90bd6bf1-4845-45f0-d97b-30cc35744b06"
      },
      "outputs": [
        {
          "output_type": "stream",
          "name": "stdout",
          "text": [
            "=============\n",
            "Got end token\n",
            "=============\n",
            "Input: o daa\n",
            "Predicted translation: ó dáa.\n"
          ]
        },
        {
          "output_type": "execute_result",
          "data": {
            "text/plain": [
              "('o daa', 'ó dáa.')"
            ]
          },
          "metadata": {},
          "execution_count": 73
        }
      ],
      "source": [
        "inp_sentence = \"o daa\"\n",
        "reply(inp_sentence, transformer,  tokenizer_q, tokenizer_a)\n"
      ]
    },
    {
      "cell_type": "code",
      "execution_count": null,
      "id": "a8dbf4e6",
      "metadata": {
        "colab": {
          "base_uri": "https://localhost:8080/"
        },
        "id": "a8dbf4e6",
        "outputId": "197be23e-55e6-4f23-9eee-6c7323144533"
      },
      "outputs": [
        {
          "output_type": "stream",
          "name": "stdout",
          "text": [
            "=============\n",
            "Got end token\n",
            "=============\n",
            "Input: Ìyẹn kò ṣòro. Ẹ máa san ìdajì owó ní àsansílẹ̀.\n",
            "Predicted translation: óyá jẹ́ ká lọ\n"
          ]
        },
        {
          "output_type": "execute_result",
          "data": {
            "text/plain": [
              "('Ìyẹn kò ṣòro. Ẹ máa san ìdajì owó ní àsansílẹ̀.', 'óyá jẹ́ ká lọ')"
            ]
          },
          "metadata": {},
          "execution_count": 74
        }
      ],
      "source": [
        "inp_sentence = \"Ìyẹn kò ṣòro. Ẹ máa san ìdajì owó ní àsansílẹ̀.\"\n",
        "reply(inp_sentence, transformer,  tokenizer_q, tokenizer_a)\n"
      ]
    },
    {
      "cell_type": "markdown",
      "id": "b357781a",
      "metadata": {
        "id": "b357781a"
      },
      "source": [
        "#### Making sense haha : ) \"who are you\""
      ]
    },
    {
      "cell_type": "markdown",
      "id": "e57d9937",
      "metadata": {
        "id": "e57d9937"
      },
      "source": [
        "# Even with this small architecture its working fine, what else it could do If I train it with trainable parameters with more data"
      ]
    }
  ],
  "metadata": {
    "kernelspec": {
      "display_name": "Python 3",
      "name": "python3"
    },
    "language_info": {
      "codemirror_mode": {
        "name": "ipython",
        "version": 3
      },
      "file_extension": ".py",
      "mimetype": "text/x-python",
      "name": "python",
      "nbconvert_exporter": "python",
      "pygments_lexer": "ipython3",
      "version": "3.9.7"
    },
    "colab": {
      "provenance": [],
      "gpuType": "T4"
    },
    "accelerator": "GPU"
  },
  "nbformat": 4,
  "nbformat_minor": 5
}