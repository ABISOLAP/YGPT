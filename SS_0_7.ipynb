{
  "nbformat": 4,
  "nbformat_minor": 0,
  "metadata": {
    "colab": {
      "provenance": [],
      "gpuType": "T4"
    },
    "kernelspec": {
      "name": "python3",
      "display_name": "Python 3"
    },
    "language_info": {
      "name": "python"
    },
    "accelerator": "GPU"
  },
  "cells": [
    {
      "cell_type": "code",
      "execution_count": null,
      "metadata": {
        "colab": {
          "base_uri": "https://localhost:8080/",
          "height": 206
        },
        "id": "eRu8s0Uv7ILG",
        "outputId": "55895e8d-4f85-44ee-9c13-72b1fb4ed469"
      },
      "outputs": [
        {
          "output_type": "execute_result",
          "data": {
            "text/plain": [
              "                       Question  \\\n",
              "0            Ẹ ǹlẹ́ o, Ẹlẹ́ran.   \n",
              "1               Ṣé ajé ń wọgbá?   \n",
              "2           Eélòó ni kilo ẹran?   \n",
              "3         Ṣé jálẹ̀jálẹ̀ nì yẹn?   \n",
              "4  Ṣe bí o ti mọ, ẹlẹ́wà Ṣàpọn.   \n",
              "\n",
              "                                              Answer  \n",
              "0                                Ẹ ǹlẹ́ o, Oníbàárà.  \n",
              "1                                        Olúwa ṣeun.  \n",
              "2               ẹgbẹ̀rún meji ati abo naira ni kílò.  \n",
              "3  Bẹ́ẹ̀ni, jálẹ̀jálẹ̀ nì yẹn. Kódà, àwọn kan ń t...  \n",
              "4                                        Òótó lẹ sọ.  "
            ],
            "text/html": [
              "\n",
              "  <div id=\"df-fed3d0ff-d3ce-4e82-81f3-96e016cedca0\" class=\"colab-df-container\">\n",
              "    <div>\n",
              "<style scoped>\n",
              "    .dataframe tbody tr th:only-of-type {\n",
              "        vertical-align: middle;\n",
              "    }\n",
              "\n",
              "    .dataframe tbody tr th {\n",
              "        vertical-align: top;\n",
              "    }\n",
              "\n",
              "    .dataframe thead th {\n",
              "        text-align: right;\n",
              "    }\n",
              "</style>\n",
              "<table border=\"1\" class=\"dataframe\">\n",
              "  <thead>\n",
              "    <tr style=\"text-align: right;\">\n",
              "      <th></th>\n",
              "      <th>Question</th>\n",
              "      <th>Answer</th>\n",
              "    </tr>\n",
              "  </thead>\n",
              "  <tbody>\n",
              "    <tr>\n",
              "      <th>0</th>\n",
              "      <td>Ẹ ǹlẹ́ o, Ẹlẹ́ran.</td>\n",
              "      <td>Ẹ ǹlẹ́ o, Oníbàárà.</td>\n",
              "    </tr>\n",
              "    <tr>\n",
              "      <th>1</th>\n",
              "      <td>Ṣé ajé ń wọgbá?</td>\n",
              "      <td>Olúwa ṣeun.</td>\n",
              "    </tr>\n",
              "    <tr>\n",
              "      <th>2</th>\n",
              "      <td>Eélòó ni kilo ẹran?</td>\n",
              "      <td>ẹgbẹ̀rún meji ati abo naira ni kílò.</td>\n",
              "    </tr>\n",
              "    <tr>\n",
              "      <th>3</th>\n",
              "      <td>Ṣé jálẹ̀jálẹ̀ nì yẹn?</td>\n",
              "      <td>Bẹ́ẹ̀ni, jálẹ̀jálẹ̀ nì yẹn. Kódà, àwọn kan ń t...</td>\n",
              "    </tr>\n",
              "    <tr>\n",
              "      <th>4</th>\n",
              "      <td>Ṣe bí o ti mọ, ẹlẹ́wà Ṣàpọn.</td>\n",
              "      <td>Òótó lẹ sọ.</td>\n",
              "    </tr>\n",
              "  </tbody>\n",
              "</table>\n",
              "</div>\n",
              "    <div class=\"colab-df-buttons\">\n",
              "\n",
              "  <div class=\"colab-df-container\">\n",
              "    <button class=\"colab-df-convert\" onclick=\"convertToInteractive('df-fed3d0ff-d3ce-4e82-81f3-96e016cedca0')\"\n",
              "            title=\"Convert this dataframe to an interactive table.\"\n",
              "            style=\"display:none;\">\n",
              "\n",
              "  <svg xmlns=\"http://www.w3.org/2000/svg\" height=\"24px\" viewBox=\"0 -960 960 960\">\n",
              "    <path d=\"M120-120v-720h720v720H120Zm60-500h600v-160H180v160Zm220 220h160v-160H400v160Zm0 220h160v-160H400v160ZM180-400h160v-160H180v160Zm440 0h160v-160H620v160ZM180-180h160v-160H180v160Zm440 0h160v-160H620v160Z\"/>\n",
              "  </svg>\n",
              "    </button>\n",
              "\n",
              "  <style>\n",
              "    .colab-df-container {\n",
              "      display:flex;\n",
              "      gap: 12px;\n",
              "    }\n",
              "\n",
              "    .colab-df-convert {\n",
              "      background-color: #E8F0FE;\n",
              "      border: none;\n",
              "      border-radius: 50%;\n",
              "      cursor: pointer;\n",
              "      display: none;\n",
              "      fill: #1967D2;\n",
              "      height: 32px;\n",
              "      padding: 0 0 0 0;\n",
              "      width: 32px;\n",
              "    }\n",
              "\n",
              "    .colab-df-convert:hover {\n",
              "      background-color: #E2EBFA;\n",
              "      box-shadow: 0px 1px 2px rgba(60, 64, 67, 0.3), 0px 1px 3px 1px rgba(60, 64, 67, 0.15);\n",
              "      fill: #174EA6;\n",
              "    }\n",
              "\n",
              "    .colab-df-buttons div {\n",
              "      margin-bottom: 4px;\n",
              "    }\n",
              "\n",
              "    [theme=dark] .colab-df-convert {\n",
              "      background-color: #3B4455;\n",
              "      fill: #D2E3FC;\n",
              "    }\n",
              "\n",
              "    [theme=dark] .colab-df-convert:hover {\n",
              "      background-color: #434B5C;\n",
              "      box-shadow: 0px 1px 3px 1px rgba(0, 0, 0, 0.15);\n",
              "      filter: drop-shadow(0px 1px 2px rgba(0, 0, 0, 0.3));\n",
              "      fill: #FFFFFF;\n",
              "    }\n",
              "  </style>\n",
              "\n",
              "    <script>\n",
              "      const buttonEl =\n",
              "        document.querySelector('#df-fed3d0ff-d3ce-4e82-81f3-96e016cedca0 button.colab-df-convert');\n",
              "      buttonEl.style.display =\n",
              "        google.colab.kernel.accessAllowed ? 'block' : 'none';\n",
              "\n",
              "      async function convertToInteractive(key) {\n",
              "        const element = document.querySelector('#df-fed3d0ff-d3ce-4e82-81f3-96e016cedca0');\n",
              "        const dataTable =\n",
              "          await google.colab.kernel.invokeFunction('convertToInteractive',\n",
              "                                                    [key], {});\n",
              "        if (!dataTable) return;\n",
              "\n",
              "        const docLinkHtml = 'Like what you see? Visit the ' +\n",
              "          '<a target=\"_blank\" href=https://colab.research.google.com/notebooks/data_table.ipynb>data table notebook</a>'\n",
              "          + ' to learn more about interactive tables.';\n",
              "        element.innerHTML = '';\n",
              "        dataTable['output_type'] = 'display_data';\n",
              "        await google.colab.output.renderOutput(dataTable, element);\n",
              "        const docLink = document.createElement('div');\n",
              "        docLink.innerHTML = docLinkHtml;\n",
              "        element.appendChild(docLink);\n",
              "      }\n",
              "    </script>\n",
              "  </div>\n",
              "\n",
              "\n",
              "<div id=\"df-209bd3b7-2a96-460c-a5a0-a5f5dbf27702\">\n",
              "  <button class=\"colab-df-quickchart\" onclick=\"quickchart('df-209bd3b7-2a96-460c-a5a0-a5f5dbf27702')\"\n",
              "            title=\"Suggest charts\"\n",
              "            style=\"display:none;\">\n",
              "\n",
              "<svg xmlns=\"http://www.w3.org/2000/svg\" height=\"24px\"viewBox=\"0 0 24 24\"\n",
              "     width=\"24px\">\n",
              "    <g>\n",
              "        <path d=\"M19 3H5c-1.1 0-2 .9-2 2v14c0 1.1.9 2 2 2h14c1.1 0 2-.9 2-2V5c0-1.1-.9-2-2-2zM9 17H7v-7h2v7zm4 0h-2V7h2v10zm4 0h-2v-4h2v4z\"/>\n",
              "    </g>\n",
              "</svg>\n",
              "  </button>\n",
              "\n",
              "<style>\n",
              "  .colab-df-quickchart {\n",
              "      --bg-color: #E8F0FE;\n",
              "      --fill-color: #1967D2;\n",
              "      --hover-bg-color: #E2EBFA;\n",
              "      --hover-fill-color: #174EA6;\n",
              "      --disabled-fill-color: #AAA;\n",
              "      --disabled-bg-color: #DDD;\n",
              "  }\n",
              "\n",
              "  [theme=dark] .colab-df-quickchart {\n",
              "      --bg-color: #3B4455;\n",
              "      --fill-color: #D2E3FC;\n",
              "      --hover-bg-color: #434B5C;\n",
              "      --hover-fill-color: #FFFFFF;\n",
              "      --disabled-bg-color: #3B4455;\n",
              "      --disabled-fill-color: #666;\n",
              "  }\n",
              "\n",
              "  .colab-df-quickchart {\n",
              "    background-color: var(--bg-color);\n",
              "    border: none;\n",
              "    border-radius: 50%;\n",
              "    cursor: pointer;\n",
              "    display: none;\n",
              "    fill: var(--fill-color);\n",
              "    height: 32px;\n",
              "    padding: 0;\n",
              "    width: 32px;\n",
              "  }\n",
              "\n",
              "  .colab-df-quickchart:hover {\n",
              "    background-color: var(--hover-bg-color);\n",
              "    box-shadow: 0 1px 2px rgba(60, 64, 67, 0.3), 0 1px 3px 1px rgba(60, 64, 67, 0.15);\n",
              "    fill: var(--button-hover-fill-color);\n",
              "  }\n",
              "\n",
              "  .colab-df-quickchart-complete:disabled,\n",
              "  .colab-df-quickchart-complete:disabled:hover {\n",
              "    background-color: var(--disabled-bg-color);\n",
              "    fill: var(--disabled-fill-color);\n",
              "    box-shadow: none;\n",
              "  }\n",
              "\n",
              "  .colab-df-spinner {\n",
              "    border: 2px solid var(--fill-color);\n",
              "    border-color: transparent;\n",
              "    border-bottom-color: var(--fill-color);\n",
              "    animation:\n",
              "      spin 1s steps(1) infinite;\n",
              "  }\n",
              "\n",
              "  @keyframes spin {\n",
              "    0% {\n",
              "      border-color: transparent;\n",
              "      border-bottom-color: var(--fill-color);\n",
              "      border-left-color: var(--fill-color);\n",
              "    }\n",
              "    20% {\n",
              "      border-color: transparent;\n",
              "      border-left-color: var(--fill-color);\n",
              "      border-top-color: var(--fill-color);\n",
              "    }\n",
              "    30% {\n",
              "      border-color: transparent;\n",
              "      border-left-color: var(--fill-color);\n",
              "      border-top-color: var(--fill-color);\n",
              "      border-right-color: var(--fill-color);\n",
              "    }\n",
              "    40% {\n",
              "      border-color: transparent;\n",
              "      border-right-color: var(--fill-color);\n",
              "      border-top-color: var(--fill-color);\n",
              "    }\n",
              "    60% {\n",
              "      border-color: transparent;\n",
              "      border-right-color: var(--fill-color);\n",
              "    }\n",
              "    80% {\n",
              "      border-color: transparent;\n",
              "      border-right-color: var(--fill-color);\n",
              "      border-bottom-color: var(--fill-color);\n",
              "    }\n",
              "    90% {\n",
              "      border-color: transparent;\n",
              "      border-bottom-color: var(--fill-color);\n",
              "    }\n",
              "  }\n",
              "</style>\n",
              "\n",
              "  <script>\n",
              "    async function quickchart(key) {\n",
              "      const quickchartButtonEl =\n",
              "        document.querySelector('#' + key + ' button');\n",
              "      quickchartButtonEl.disabled = true;  // To prevent multiple clicks.\n",
              "      quickchartButtonEl.classList.add('colab-df-spinner');\n",
              "      try {\n",
              "        const charts = await google.colab.kernel.invokeFunction(\n",
              "            'suggestCharts', [key], {});\n",
              "      } catch (error) {\n",
              "        console.error('Error during call to suggestCharts:', error);\n",
              "      }\n",
              "      quickchartButtonEl.classList.remove('colab-df-spinner');\n",
              "      quickchartButtonEl.classList.add('colab-df-quickchart-complete');\n",
              "    }\n",
              "    (() => {\n",
              "      let quickchartButtonEl =\n",
              "        document.querySelector('#df-209bd3b7-2a96-460c-a5a0-a5f5dbf27702 button');\n",
              "      quickchartButtonEl.style.display =\n",
              "        google.colab.kernel.accessAllowed ? 'block' : 'none';\n",
              "    })();\n",
              "  </script>\n",
              "</div>\n",
              "\n",
              "    </div>\n",
              "  </div>\n"
            ],
            "application/vnd.google.colaboratory.intrinsic+json": {
              "type": "dataframe",
              "variable_name": "df",
              "summary": "{\n  \"name\": \"df\",\n  \"rows\": 1229,\n  \"fields\": [\n    {\n      \"column\": \"Question\",\n      \"properties\": {\n        \"dtype\": \"string\",\n        \"num_unique_values\": 748,\n        \"samples\": [\n          \" Gbow\\u00f3 re\\u0323\",\n          \"\\u1eb8 k\\u00fa is\\u1eb9\\u0301 o. B\\u00e1wo ni?\",\n          \"\\u00d3 d\\u00e1a. \\u00c0b\\u00f9s\\u00ed Ol\\u00fawa o. \\u1eb8 gba ow\\u00f3.\"\n        ],\n        \"semantic_type\": \"\",\n        \"description\": \"\"\n      }\n    },\n    {\n      \"column\": \"Answer\",\n      \"properties\": {\n        \"dtype\": \"string\",\n        \"num_unique_values\": 694,\n        \"samples\": [\n          \" M\\u00e0\\u00e1 t\\u00e0 \\u00e1 f\\u00fan un y\\u00edn n\\u00ed  \\u1ecdg\\u1ecd\\u0301\\u1ecd\\u0300ru\\u0300n-\\u00fan m\\u00e9j\\u00ec l\\u00e9l\\u00e0\\u00e1d\\u1ecd\\u0301rin \\u1eb9gb\\u1eb9\\u0300run\",\n          \"\\u1eccg\\u1ecd\\u0301r\\u00f9n-\\u00fan m\\u00e9j\\u00ec \\u00e0ti \\u00e0\\u00e1d\\u1ecd\\u0301ta n\\u00e1\\u00edr\\u00e0\",\n          \"\\u1eb8 \\u1e63\\u00e9 o. \\u1eb8 gba \\u1e63\\u1eb9\\u0301\\u0144j\\u00ec y\\u00edn\"\n        ],\n        \"semantic_type\": \"\",\n        \"description\": \"\"\n      }\n    }\n  ]\n}"
            }
          },
          "metadata": {},
          "execution_count": 2
        }
      ],
      "source": [
        "import pandas as pd\n",
        "\n",
        "# Load the Excel file\n",
        "file_path = 'https://docs.google.com/spreadsheets/d/1R7kmn9LtcGZFUCplZVN804NXsGWyUBHF/export?format=xlsx'\n",
        "sheet_name = 'combinedata'\n",
        "\n",
        "# Read the specific sheet into a DataFrame\n",
        "df = pd.read_excel(file_path, sheet_name=sheet_name)\n",
        "\n",
        "# Display the DataFrame\n",
        "df.head()\n"
      ]
    },
    {
      "cell_type": "code",
      "source": [
        "df.info()"
      ],
      "metadata": {
        "colab": {
          "base_uri": "https://localhost:8080/"
        },
        "id": "OznBfrZAAzPv",
        "outputId": "95720fa8-983d-4061-bd1b-04cdca8f594d"
      },
      "execution_count": null,
      "outputs": [
        {
          "output_type": "stream",
          "name": "stdout",
          "text": [
            "<class 'pandas.core.frame.DataFrame'>\n",
            "RangeIndex: 1229 entries, 0 to 1228\n",
            "Data columns (total 2 columns):\n",
            " #   Column    Non-Null Count  Dtype \n",
            "---  ------    --------------  ----- \n",
            " 0   Question  1229 non-null   object\n",
            " 1   Answer    1228 non-null   object\n",
            "dtypes: object(2)\n",
            "memory usage: 19.3+ KB\n"
          ]
        }
      ]
    },
    {
      "cell_type": "code",
      "source": [
        "df=df.dropna()"
      ],
      "metadata": {
        "id": "QfiAR-caBAs5"
      },
      "execution_count": null,
      "outputs": []
    },
    {
      "cell_type": "code",
      "source": [
        "df.info()"
      ],
      "metadata": {
        "colab": {
          "base_uri": "https://localhost:8080/"
        },
        "id": "Wzhtfe2SBEvZ",
        "outputId": "c581df01-d996-4b73-ba69-73a40bda3108"
      },
      "execution_count": null,
      "outputs": [
        {
          "output_type": "stream",
          "name": "stdout",
          "text": [
            "<class 'pandas.core.frame.DataFrame'>\n",
            "Index: 1228 entries, 0 to 1228\n",
            "Data columns (total 2 columns):\n",
            " #   Column    Non-Null Count  Dtype \n",
            "---  ------    --------------  ----- \n",
            " 0   Question  1228 non-null   object\n",
            " 1   Answer    1228 non-null   object\n",
            "dtypes: object(2)\n",
            "memory usage: 28.8+ KB\n"
          ]
        }
      ]
    },
    {
      "cell_type": "code",
      "source": [
        "# Load the data and separate into train, validation and test data\n",
        "import os\n",
        "import math\n",
        "import torch\n",
        "import torch.nn as nn\n",
        "from torch.utils.data import Dataset, DataLoader, random_split\n",
        "from pathlib import Path\n",
        "\n",
        "from tqdm import tqdm"
      ],
      "metadata": {
        "id": "BJzYmiox7Vln"
      },
      "execution_count": null,
      "outputs": []
    },
    {
      "cell_type": "code",
      "source": [
        "device = torch.device(\"cuda\" if torch.cuda.is_available() else \"cpu\")"
      ],
      "metadata": {
        "id": "ZW_-oqaN7WL0"
      },
      "execution_count": null,
      "outputs": []
    },
    {
      "cell_type": "code",
      "source": [
        "# Let's now split up the data into train and validation sets\n",
        "data=df.copy()\n",
        "n = int(0.9*len(data)) # first 90% will be train, rest val\n",
        "raw_train_dataset = data[:n]\n",
        "raw_validation_dataset = data[n:]"
      ],
      "metadata": {
        "id": "BFAqxlOn75-m"
      },
      "execution_count": null,
      "outputs": []
    },
    {
      "cell_type": "code",
      "source": [
        "#Create tokenizers\n",
        "\n",
        "from tokenizers import Tokenizer\n",
        "from tokenizers.models import BPE\n",
        "from tokenizers.trainers import BpeTrainer\n",
        "from tokenizers.pre_tokenizers import Whitespace"
      ],
      "metadata": {
        "id": "MI9j9Amz8vkM"
      },
      "execution_count": null,
      "outputs": []
    },
    {
      "cell_type": "code",
      "source": [
        "os.mkdir(\"./tokenizer_que\")\n",
        "os.mkdir(\"./tokenizer_ans\")"
      ],
      "metadata": {
        "id": "h_AUyNyD8x02"
      },
      "execution_count": null,
      "outputs": []
    },
    {
      "cell_type": "code",
      "source": [
        "def get_ds_iterator(raw_train_dataset, lang):\n",
        "    for _, row in raw_train_dataset.iterrows():\n",
        "        yield row[lang]\n",
        "\n"
      ],
      "metadata": {
        "id": "KDT-iAVt_xgx"
      },
      "execution_count": null,
      "outputs": []
    },
    {
      "cell_type": "code",
      "source": [
        "# Create Source Tokenizer - Question\n",
        "tokenizer_en = Tokenizer(BPE(unk_token=\"[UNK]\"))\n",
        "trainer_en = BpeTrainer(min_frequency=2, special_tokens=[\"[PAD]\",\"[UNK]\",\"[CLS]\", \"[SEP]\", \"[MASK]\"])\n",
        "# We’ll also need to add a pre-tokenizer to split our input into words as without a pre-tokenizer, we might get tokens that overlap several words: for instance we could get a \"there is\" token since those two words often appear next to each other.\n",
        "# Using a pre-tokenizer will ensure no token is bigger than a word returned by the pre-tokenizer.\n",
        "tokenizer_en.pre_tokenizer = Whitespace()\n",
        "tokenizer_en.train_from_iterator(get_ds_iterator(raw_train_dataset, \"Question\"), trainer=trainer_en)\n",
        "tokenizer_en.save(\"./tokenizer_que/tokenizer_question.json\")\n",
        "\n"
      ],
      "metadata": {
        "id": "LSLR8XMp9lat"
      },
      "execution_count": null,
      "outputs": []
    },
    {
      "cell_type": "code",
      "source": [
        "# Create Target Tokenizer - answer\n",
        "tokenizer_my = Tokenizer(BPE(unk_token=\"[UNK]\"))\n",
        "trainer_my = BpeTrainer(min_frequency=2, special_tokens=[\"[PAD]\",\"[UNK]\",\"[CLS]\", \"[SEP]\", \"[MASK]\"])\n",
        "tokenizer_my.pre_tokenizer = Whitespace()\n",
        "tokenizer_my.train_from_iterator(get_ds_iterator(raw_train_dataset, \"Answer\"), trainer=trainer_my)\n",
        "tokenizer_my.save(\"./tokenizer_ans/tokenizer_answer.json\")\n"
      ],
      "metadata": {
        "id": "F3prYw38-_IA"
      },
      "execution_count": null,
      "outputs": []
    },
    {
      "cell_type": "code",
      "source": [
        "raw_train_dataset[0:1]"
      ],
      "metadata": {
        "colab": {
          "base_uri": "https://localhost:8080/",
          "height": 81
        },
        "id": "hineO27e_TZb",
        "outputId": "1da50fb2-54b6-4829-ad1a-e463fec2dfbe"
      },
      "execution_count": null,
      "outputs": [
        {
          "output_type": "execute_result",
          "data": {
            "text/plain": [
              "             Question               Answer\n",
              "0  Ẹ ǹlẹ́ o, Ẹlẹ́ran.  Ẹ ǹlẹ́ o, Oníbàárà."
            ],
            "text/html": [
              "\n",
              "  <div id=\"df-ff335b86-a97e-4094-96c8-7f923e6a466a\" class=\"colab-df-container\">\n",
              "    <div>\n",
              "<style scoped>\n",
              "    .dataframe tbody tr th:only-of-type {\n",
              "        vertical-align: middle;\n",
              "    }\n",
              "\n",
              "    .dataframe tbody tr th {\n",
              "        vertical-align: top;\n",
              "    }\n",
              "\n",
              "    .dataframe thead th {\n",
              "        text-align: right;\n",
              "    }\n",
              "</style>\n",
              "<table border=\"1\" class=\"dataframe\">\n",
              "  <thead>\n",
              "    <tr style=\"text-align: right;\">\n",
              "      <th></th>\n",
              "      <th>Question</th>\n",
              "      <th>Answer</th>\n",
              "    </tr>\n",
              "  </thead>\n",
              "  <tbody>\n",
              "    <tr>\n",
              "      <th>0</th>\n",
              "      <td>Ẹ ǹlẹ́ o, Ẹlẹ́ran.</td>\n",
              "      <td>Ẹ ǹlẹ́ o, Oníbàárà.</td>\n",
              "    </tr>\n",
              "  </tbody>\n",
              "</table>\n",
              "</div>\n",
              "    <div class=\"colab-df-buttons\">\n",
              "\n",
              "  <div class=\"colab-df-container\">\n",
              "    <button class=\"colab-df-convert\" onclick=\"convertToInteractive('df-ff335b86-a97e-4094-96c8-7f923e6a466a')\"\n",
              "            title=\"Convert this dataframe to an interactive table.\"\n",
              "            style=\"display:none;\">\n",
              "\n",
              "  <svg xmlns=\"http://www.w3.org/2000/svg\" height=\"24px\" viewBox=\"0 -960 960 960\">\n",
              "    <path d=\"M120-120v-720h720v720H120Zm60-500h600v-160H180v160Zm220 220h160v-160H400v160Zm0 220h160v-160H400v160ZM180-400h160v-160H180v160Zm440 0h160v-160H620v160ZM180-180h160v-160H180v160Zm440 0h160v-160H620v160Z\"/>\n",
              "  </svg>\n",
              "    </button>\n",
              "\n",
              "  <style>\n",
              "    .colab-df-container {\n",
              "      display:flex;\n",
              "      gap: 12px;\n",
              "    }\n",
              "\n",
              "    .colab-df-convert {\n",
              "      background-color: #E8F0FE;\n",
              "      border: none;\n",
              "      border-radius: 50%;\n",
              "      cursor: pointer;\n",
              "      display: none;\n",
              "      fill: #1967D2;\n",
              "      height: 32px;\n",
              "      padding: 0 0 0 0;\n",
              "      width: 32px;\n",
              "    }\n",
              "\n",
              "    .colab-df-convert:hover {\n",
              "      background-color: #E2EBFA;\n",
              "      box-shadow: 0px 1px 2px rgba(60, 64, 67, 0.3), 0px 1px 3px 1px rgba(60, 64, 67, 0.15);\n",
              "      fill: #174EA6;\n",
              "    }\n",
              "\n",
              "    .colab-df-buttons div {\n",
              "      margin-bottom: 4px;\n",
              "    }\n",
              "\n",
              "    [theme=dark] .colab-df-convert {\n",
              "      background-color: #3B4455;\n",
              "      fill: #D2E3FC;\n",
              "    }\n",
              "\n",
              "    [theme=dark] .colab-df-convert:hover {\n",
              "      background-color: #434B5C;\n",
              "      box-shadow: 0px 1px 3px 1px rgba(0, 0, 0, 0.15);\n",
              "      filter: drop-shadow(0px 1px 2px rgba(0, 0, 0, 0.3));\n",
              "      fill: #FFFFFF;\n",
              "    }\n",
              "  </style>\n",
              "\n",
              "    <script>\n",
              "      const buttonEl =\n",
              "        document.querySelector('#df-ff335b86-a97e-4094-96c8-7f923e6a466a button.colab-df-convert');\n",
              "      buttonEl.style.display =\n",
              "        google.colab.kernel.accessAllowed ? 'block' : 'none';\n",
              "\n",
              "      async function convertToInteractive(key) {\n",
              "        const element = document.querySelector('#df-ff335b86-a97e-4094-96c8-7f923e6a466a');\n",
              "        const dataTable =\n",
              "          await google.colab.kernel.invokeFunction('convertToInteractive',\n",
              "                                                    [key], {});\n",
              "        if (!dataTable) return;\n",
              "\n",
              "        const docLinkHtml = 'Like what you see? Visit the ' +\n",
              "          '<a target=\"_blank\" href=https://colab.research.google.com/notebooks/data_table.ipynb>data table notebook</a>'\n",
              "          + ' to learn more about interactive tables.';\n",
              "        element.innerHTML = '';\n",
              "        dataTable['output_type'] = 'display_data';\n",
              "        await google.colab.output.renderOutput(dataTable, element);\n",
              "        const docLink = document.createElement('div');\n",
              "        docLink.innerHTML = docLinkHtml;\n",
              "        element.appendChild(docLink);\n",
              "      }\n",
              "    </script>\n",
              "  </div>\n",
              "\n",
              "\n",
              "    </div>\n",
              "  </div>\n"
            ],
            "application/vnd.google.colaboratory.intrinsic+json": {
              "type": "dataframe",
              "summary": "{\n  \"name\": \"raw_train_dataset[0:1]\",\n  \"rows\": 1,\n  \"fields\": [\n    {\n      \"column\": \"Question\",\n      \"properties\": {\n        \"dtype\": \"string\",\n        \"num_unique_values\": 1,\n        \"samples\": [\n          \"\\u1eb8 \\u01f9l\\u1eb9\\u0301 o, \\u1eb8l\\u1eb9\\u0301ran.\"\n        ],\n        \"semantic_type\": \"\",\n        \"description\": \"\"\n      }\n    },\n    {\n      \"column\": \"Answer\",\n      \"properties\": {\n        \"dtype\": \"string\",\n        \"num_unique_values\": 1,\n        \"samples\": [\n          \"\\u1eb8 \\u01f9l\\u1eb9\\u0301 o, On\\u00edb\\u00e0\\u00e1r\\u00e0.\"\n        ],\n        \"semantic_type\": \"\",\n        \"description\": \"\"\n      }\n    }\n  ]\n}"
            }
          },
          "metadata": {},
          "execution_count": 14
        }
      ]
    },
    {
      "cell_type": "code",
      "source": [
        "tokenizer_que = Tokenizer.from_file(\"./tokenizer_que/tokenizer_question.json\")\n",
        "tokenizer_ans = Tokenizer.from_file(\"./tokenizer_ans/tokenizer_answer.json\")\n",
        "\n",
        "source_vocab_size = tokenizer_que.get_vocab_size()\n",
        "target_vocab_size = tokenizer_ans.get_vocab_size()\n",
        "\n",
        "# to calculate the max sequence lenth in the entire training dataset for the source and target dataset\n",
        "max_seq_len_source = 0\n",
        "max_seq_len_target = 0\n",
        "\n",
        "for  _, data in raw_train_dataset.iterrows():\n",
        "    enc_ids = tokenizer_en.encode(data['Question']).ids\n",
        "    dec_ids = tokenizer_my.encode(data['Answer']).ids\n",
        "    max_seq_len_source = max(max_seq_len_source, len(enc_ids))\n",
        "    max_seq_len_target = max(max_seq_len_target, len(dec_ids))\n",
        "\n",
        "print(f'max_seqlen_source: {max_seq_len_source}')   #99 - can be different in your case\n",
        "print(f'max_seqlen_target: {max_seq_len_target}')   #109 - can be different in your case\n",
        "\n",
        "# to make it standard for our training we'll just take max_seq_len_source and add 20-50 to cover the additional tokens such as PAD, CLS, SEP\n",
        "max_seq_len = 225"
      ],
      "metadata": {
        "colab": {
          "base_uri": "https://localhost:8080/"
        },
        "id": "2Bk6PUxe_RMz",
        "outputId": "d6be6bd2-444e-414e-8388-2360e8bcafb1"
      },
      "execution_count": null,
      "outputs": [
        {
          "output_type": "stream",
          "name": "stdout",
          "text": [
            "max_seqlen_source: 81\n",
            "max_seqlen_target: 175\n"
          ]
        }
      ]
    },
    {
      "cell_type": "code",
      "source": [],
      "metadata": {
        "id": "sx-cYv35WbM8"
      },
      "execution_count": null,
      "outputs": []
    },
    {
      "cell_type": "code",
      "source": [],
      "metadata": {
        "id": "Ahxo3i4wXHe1"
      },
      "execution_count": null,
      "outputs": []
    },
    {
      "cell_type": "markdown",
      "source": [],
      "metadata": {
        "id": "reqfC1YNB_Wi"
      }
    },
    {
      "cell_type": "code",
      "source": [
        "\n",
        "\n",
        "# Transform raw dataset to the encoded dataset that can be processed by the model\n",
        "class EncodeDataset(Dataset):\n",
        "    def __init__(self, raw_dataset, max_seq_len):\n",
        "        super().__init__()\n",
        "        self.raw_dataset = raw_dataset\n",
        "        self.max_seq_len = max_seq_len\n",
        "\n",
        "    def __len__(self):\n",
        "        return len(self.raw_dataset)\n",
        "\n",
        "    def __getitem__(self, index):\n",
        "\n",
        "        # fetching the single data for the given index value that consist of both question and response.\n",
        "        raw_text = self.raw_dataset.iloc[index]\n",
        "\n",
        "        # separating text by question and answer which will be later used for encoding.\n",
        "        source_text = raw_text[\"Question\"]\n",
        "        target_text = raw_text['Answer']\n",
        "\n",
        "        # Encoding both question and answer text\n",
        "        source_text_encoded = tokenizer_en.encode(source_text).ids\n",
        "        target_text_encoded = tokenizer_my.encode(target_text).ids\n",
        "\n",
        "        # Convert the CLS, SEP and PAD tokens to their corresponding index id in vocabulary using tokenizer [the id would be same with either tokenizers]\n",
        "        CLS_ID = torch.tensor([tokenizer_my.token_to_id(\"[CLS]\")], dtype=torch.int64)\n",
        "        SEP_ID = torch.tensor([tokenizer_my.token_to_id(\"[SEP]\")], dtype=torch.int64)\n",
        "        PAD_ID = torch.tensor([tokenizer_my.token_to_id(\"[PAD]\")], dtype=torch.int64)\n",
        "\n",
        "        # To train the model, the sequence lenth of each input should be equal max seq length. Hence additional number of padding will be added to the input sequence if the length is not equal to the max seq length.\n",
        "        num_source_padding = self.max_seq_len - len(source_text_encoded) - 2\n",
        "        num_target_padding = self.max_seq_len - len(target_text_encoded) - 1\n",
        "\n",
        "        encoder_padding = torch.tensor([PAD_ID] * num_source_padding, dtype = torch.int64)\n",
        "        decoder_padding = torch.tensor([PAD_ID] * num_target_padding, dtype = torch.int64)\n",
        "\n",
        "        # encoder_input has the first token as start of senstence - CLS_ID, followed by source encoding which is then followed by the end of sentence token - SEP.\n",
        "        # To reach the required max_seq_len, addition PAD token will be added at the end.\n",
        "        encoder_input = torch.cat([CLS_ID, torch.tensor(source_text_encoded, dtype=torch.int64), SEP_ID, encoder_padding], dim=0)\n",
        "\n",
        "        # decoder_input has the first token as start of senstence - CLS_ID, followed by target encoding.\n",
        "        # To reach the required max_seq_len, addition PAD token will be added at the end. There is no end of sentence token - SEP in decoder input.\n",
        "        decoder_input = torch.cat([CLS_ID, torch.tensor(target_text_encoded, dtype=torch.int64), decoder_padding ], dim=0)\n",
        "\n",
        "        # target_label is required for the loss calculation during training to compare between the predicted and target label.\n",
        "        # target_label has the first token as target encoding followed by actual target encoding. There is no start of sentence token - CLS in target label.\n",
        "        # To reach the required max_seq_len, addition PAD token will be added at the end.\n",
        "        target_label = torch.cat([torch.tensor(target_text_encoded, dtype=torch.int64),SEP_ID,decoder_padding], dim=0)\n",
        "\n",
        "        # Since we've added extra padding token with input encoding, we don't want this token to be trained by model.\n",
        "        # So, we'll use encoder mask to nullify the padding value prior to producing output of self attention in encoder block\n",
        "        encoder_mask = (encoder_input != PAD_ID).unsqueeze(0).unsqueeze(0).int()\n",
        "\n",
        "        # We don't want any token to get influence the future token during the decoding stage. Hence, Causal mask is being implemented during masked multihead attention to handle this.\n",
        "        decoder_mask = (decoder_input != PAD_ID).unsqueeze(0).unsqueeze(0).int() & causal_mask(decoder_input.size(0))\n",
        "\n",
        "        return {\n",
        "            'encoder_input': encoder_input,\n",
        "            'decoder_input': decoder_input,\n",
        "            'target_label': target_label,\n",
        "            'encoder_mask': encoder_mask,\n",
        "            'decoder_mask': decoder_mask,\n",
        "            'source_text': source_text,\n",
        "            'target_text': target_text\n",
        "        }\n",
        "\n",
        "# Causal mask will make sure any token that comes after the current token will be masked meaning the value will be replaced by -infinity that will be converted to zero or neearly zero after softmax operation. Hence the model will just ignore these value or willn't be able to learn anything.\n",
        "def causal_mask(size):\n",
        "        # Creating a square matrix of dimensions 'size x size' filled with ones\n",
        "        mask = torch.triu(torch.ones(1, size, size), diagonal = 1).type(torch.int)\n",
        "        return mask == 0\n",
        "\n",
        "# create a dataloader to use for model training and validation\n",
        "train_ds = EncodeDataset(raw_train_dataset, max_seq_len)\n",
        "val_ds = EncodeDataset(raw_validation_dataset, max_seq_len)\n",
        "\n",
        "train_dataloader = DataLoader(train_ds, batch_size = 5, shuffle = True)\n",
        "val_dataloader = DataLoader(val_ds, batch_size = 1, shuffle = True)"
      ],
      "metadata": {
        "id": "aj2sxENzXHtJ"
      },
      "execution_count": null,
      "outputs": []
    },
    {
      "cell_type": "code",
      "source": [
        "import torch\n",
        "import torch.nn as nn\n",
        "import math\n",
        "\n",
        "#  Input embedding and positional encoding\n",
        "class EmbeddingLayer(nn.Module):\n",
        "    def __init__(self, d_model: int, vocab_size: int):\n",
        "        super().__init__()\n",
        "        self.d_model = d_model\n",
        "        # using pytorch models embedding layer to map token id to embedding vector which has the shape of (vocab_size, d_model)\n",
        "        # The vocab_size is the vocabulary size of the training data created by tokenizer in step 2\n",
        "        self.embedding = nn.Embedding(vocab_size, d_model)\n",
        "\n",
        "    def forward(self, input):\n",
        "        # In addition of giving input to the embedding, the extra multiplication by square root of d_model is to normalize the embedding layer output\n",
        "        embedding_output = self.embedding(input) * math.sqrt(self.d_model)\n",
        "        return embedding_output\n",
        "\n",
        "class PositionalEncoding(nn.Module):\n",
        "    def __init__(self, d_model: int, max_seq_len: int, dropout_rate: float):\n",
        "        super().__init__()\n",
        "        self.dropout = nn.Dropout(dropout_rate)\n",
        "        pe = torch.zeros(max_seq_len, d_model)\n",
        "\n",
        "        pos = torch.arange(0, max_seq_len, dtype=torch.float).unsqueeze(1)\n",
        "        div_term = torch.exp(torch.arange(0, d_model, 2).float() * (-math.log(10000.0) / d_model))\n",
        "\n",
        "        pe[:, 0::2] = torch.sin(pos * div_term)\n",
        "        pe[:, 1::2] = torch.cos(pos * div_term)\n",
        "\n",
        "        # since we're expecting the input sentences in batches so the extra dimension to cater batch number needs to be added in 0 postion\n",
        "        pe = pe.unsqueeze(0)\n",
        "        self.register_buffer('pe', pe)\n",
        "\n",
        "    def forward(self, input_embdding):\n",
        "        input_embdding = input_embdding + (self.pe[:, :input_embdding.shape[1], :]).requires_grad_(False)   # to prevent from calculating gradient\n",
        "        return self.dropout(input_embdding)\n",
        "\n",
        "#  Multihead Attention\n",
        "class MultiHeadAttention(nn.Module):\n",
        "    def __init__(self, d_model: int, num_heads: int, dropout_rate: float):\n",
        "        super().__init__()\n",
        "        # Defining dropout to prevent overfitting\n",
        "        self.dropout = nn.Dropout(dropout_rate)\n",
        "        self.num_heads = num_heads\n",
        "        assert d_model % num_heads == 0, \"d_model must be divisible by number of heads\"\n",
        "\n",
        "        # d_k is the new dimension of each self attention heads\n",
        "        self.d_k = d_model // num_heads\n",
        "\n",
        "        # Weight matrix are defined which are all learnable parameters\n",
        "        self.W_q = nn.Linear(d_model, d_model, bias=False)\n",
        "        self.W_k = nn.Linear(d_model, d_model, bias=False)\n",
        "        self.W_v = nn.Linear(d_model, d_model, bias=False)\n",
        "        self.W_o = nn.Linear(d_model, d_model, bias=False)\n",
        "\n",
        "    def forward(self, q, k, v, encoder_mask):\n",
        "\n",
        "        # Please note that we'll be training our model with not just a single sequence but rather batches of sequence, hence we'll include batch_size in the shape\n",
        "        # query, Key and value are calculated by matrix multiplication of corresponding weights with the input embeddings\n",
        "        # Change of shape: q(batch_size, seq_len, d_model) @ W_q(d_model, d_model) => query(batch_size, seq_len, d_model) [same goes to key and value]\n",
        "        query = self.W_q(q)\n",
        "        key = self.W_k(k)\n",
        "        value = self.W_v(v)\n",
        "\n",
        "        # Dividing query, key and value into number of heads, hence new dimenstion will be d_k.\n",
        "        # Change of shape: query(batch_size, seq_len, d_model) => query(batch_size, seq_len, num_heads, d_k) -> query(batch_size,num_heads, seq_len,d_k) [same goes to key and value]\n",
        "        query = query.view(query.shape[0], query.shape[1], self.num_heads ,self.d_k).transpose(1,2)\n",
        "        key = key.view(key.shape[0], key.shape[1], self.num_heads ,self.d_k).transpose(1,2)\n",
        "        value = value.view(value.shape[0], value.shape[1], self.num_heads ,self.d_k).transpose(1,2)\n",
        "\n",
        "        # :: SELF ATTENTION BLOCK STARTS ::\n",
        "\n",
        "        # Attention score is calculated to find the similarity or relation of query with key of itself and all other embedding in the sequence\n",
        "        #  Change of shape: query(batch_size,num_heads, seq_len,d_k) @ key(batch_size,num_heads, seq_len,d_k) => attention_score(batch_size,num_heads, seq_len,seq_len)\n",
        "        attention_score = (query @ key.transpose(-2,-1))/math.sqrt(self.d_k)\n",
        "\n",
        "        # If mask is provided the attention score needs to modify as per the mask value. Refer to the details in point no 4.\n",
        "        if encoder_mask is not None:\n",
        "          attention_score.masked_fill_(encoder_mask==0, -1e9)\n",
        "\n",
        "        # Softmax operation calculates the probability distribution among all the attention scores. This will determine which embedding is more similar to the given query embedding and assign the attention weight accordingly.\n",
        "        # Change of shape: same as attention_score\n",
        "        attention_score = attention_score.softmax(dim=-1)\n",
        "\n",
        "        if self.dropout is not None:\n",
        "          attention_score = self.dropout(attention_score)\n",
        "\n",
        "        # Final step of Self attention block is to matrix multiplication of attention_weight with value embedding.\n",
        "        # Change of shape: attention_score(batch_size,num_heads, seq_len,seq_len) @  value(batch_size,num_heads, seq_len,d_k) => attention_output(batch_size,num_heads, seq_len,d_k)\n",
        "        attention_output = attention_score @ value\n",
        "\n",
        "        # :: SELF ATTENTION BLOCK ENDS ::\n",
        "\n",
        "        # Now, all the heads will be concated back to for a single head\n",
        "        # Change of shape:attention_output(batch_size,num_heads, seq_len,d_k) => attention_output(batch_size,seq_len,num_heads,d_k) => attention_output(batch_size,seq_len,d_model)\n",
        "        attention_output = attention_output.transpose(1,2).contiguous().view(attention_output.shape[0], -1, self.num_heads * self.d_k)\n",
        "\n",
        "        # Finally attention_output is matrix multiplied with output weight matrix to give the final Multi-Head attention output.\n",
        "        # The shape of the multihead_output is same as the embedding input\n",
        "        # Change of shape: attention_output(batch_size,seq_len,d_model) @ W_o(d_model, d_model) => multihead_output(batch_size, seq_len, d_model)\n",
        "        multihead_output = self.W_o(attention_output)\n",
        "\n",
        "        return multihead_output\n",
        "\n",
        "#  Feedfoward Network, Layer Normalization and AddAndNorm\n",
        "\n",
        "class FeedForward(nn.Module):\n",
        "    def __init__(self, d_model: int, d_ff: int, dropout_rate: float):\n",
        "        super().__init__()\n",
        "\n",
        "        self.dropout = nn.Dropout(dropout_rate)\n",
        "        self.layer_1 = nn.Linear(d_model, d_ff)\n",
        "        self.layer_2 = nn.Linear(d_ff, d_model)\n",
        "\n",
        "    def forward(self, input):\n",
        "        return self.layer_2(self.dropout(torch.relu(self.layer_1(input))))\n",
        "\n",
        "class LayerNorm(nn.Module):\n",
        "    # def __init__(self, features:int=512, eps: float = 1e-5):\n",
        "    def __init__(self, eps: float = 1e-5):\n",
        "        super().__init__()\n",
        "        # epsilon is a very small value and is plays an important role to avoid division by zero problem\n",
        "        self.eps = eps\n",
        "        #Extra learning parameters gamma and beta are introduced to scale and shift the embedding value as the network needed.\n",
        "        self.gamma = nn.Parameter(torch.ones(512))  # 512 = advisable to initialize with same number as d_model\n",
        "        self.beta = nn.Parameter(torch.zeros(512))\n",
        "\n",
        "    def forward(self, input):\n",
        "        mean = input.mean(dim = -1, keepdim=True)\n",
        "        std = input.std(dim = -1, keepdim=True)\n",
        "        return self.gamma * (input - mean)/(std + self.eps) + self.beta\n",
        "\n",
        "class AddAndNorm(nn.Module):\n",
        "  def __init__(self, dropout_rate: float):\n",
        "        super().__init__()\n",
        "        self.dropout = nn.Dropout(dropout_rate)\n",
        "        self.layer_norm = LayerNorm()\n",
        "\n",
        "  def forward(self, input, sub_layer):\n",
        "        return input + self.dropout(sub_layer(self.layer_norm(input)))\n",
        "\n",
        "# Encoder block and Encoder\n",
        "\n",
        "class EncoderBlock(nn.Module):\n",
        "    # def __init__(self, features: int, self_attention_block: MultiHeadAttention, feed_forward_block: FeedForward, dropout_rate: float) -> None:\n",
        "    def __init__(self, multihead_attention: MultiHeadAttention, feed_forward: FeedForward, dropout_rate: float) -> None:\n",
        "        super().__init__()\n",
        "        self.multihead_attention = multihead_attention\n",
        "        self.feed_forward = feed_forward\n",
        "        self.addnorm_1 = AddAndNorm(dropout_rate)\n",
        "        self.addnorm_2 = AddAndNorm(dropout_rate)\n",
        "\n",
        "    def forward(self, encoder_input, encoder_mask):\n",
        "        # First AddAndNorm unit taking encoder input from skip connection and adding it with the output of MultiHead attention block\n",
        "        encoder_input = self.addnorm_1(encoder_input, lambda encoder_input: self.multihead_attention(encoder_input, encoder_input, encoder_input, encoder_mask))\n",
        "        # Second AddAndNorm unit taking output of MultiHead attention block from skip connection and adding it with the output of Feedforward layer\n",
        "        encoder_input = self.addnorm_2(encoder_input, self.feed_forward)\n",
        "        return encoder_input\n",
        "\n",
        "class Encoder(nn.Module):\n",
        "    def __init__(self, encoderblocklist: nn.ModuleList) -> None:\n",
        "        super().__init__()\n",
        "        # Encoder class initialized by taking encoderblock list\n",
        "        self.encoderblocklist = encoderblocklist\n",
        "        self.layer_norm = LayerNorm()\n",
        "\n",
        "    def forward(self, encoder_input, encoder_mask):\n",
        "        # Looping through all the encoder block - 6 times\n",
        "        for encoderblock in self.encoderblocklist:\n",
        "            encoder_input = encoderblock(encoder_input, encoder_mask)\n",
        "        # Normalize the final encoder block output and return. This encoder output will be used later on as key and value for the cross attention in decoder block\n",
        "        encoder_output = self.layer_norm(encoder_input)\n",
        "        return encoder_output\n",
        "\n",
        "# Decoder block and decoder and the projection\n",
        "\n",
        "class DecoderBlock(nn.Module):\n",
        "    # def __init__(self, features: int, self_attention_block: MultiHeadAttention, cross_attention_block: MultiHeadAttention, feed_forward_block: FeedForward, dropout_rate: float) -> None:\n",
        "    def __init__(self, masked_multihead_attention: MultiHeadAttention, cross_multihead_attention: MultiHeadAttention, feed_forward: FeedForward, dropout_rate: float) -> None:\n",
        "        super().__init__()\n",
        "        self.masked_multihead_attention = masked_multihead_attention\n",
        "        self.cross_multihead_attention = cross_multihead_attention\n",
        "        self.feed_forward = feed_forward\n",
        "        self.addnorm_1 = AddAndNorm(dropout_rate)\n",
        "        self.addnorm_2 = AddAndNorm(dropout_rate)\n",
        "        self.addnorm_3 = AddAndNorm(dropout_rate)\n",
        "\n",
        "    def forward(self, decoder_input, encoder_output, encoder_mask, decoder_mask):\n",
        "        # First AddAndNorm unit taking decoder input from skip connection and adding it with the output of Masked Multi-Head attention block\n",
        "        decoder_input = self.addnorm_1(decoder_input, lambda decoder_input: self.masked_multihead_attention(decoder_input, decoder_input, decoder_input, decoder_mask))\n",
        "        # Second AddAndNorm unit taking output of Masked Multi-Head attention block from skip connection and adding it with the output of MultiHead attention block\n",
        "        decoder_input = self.addnorm_2(decoder_input, lambda decoder_input: self.cross_multihead_attention(decoder_input, encoder_output, encoder_output, encoder_mask))\n",
        "        # Third AddAndNorm unit taking output of MultiHead attention block from skip connection and adding it with the output of Feedforward layer\n",
        "        decoder_input = self.addnorm_3(decoder_input, self.feed_forward)\n",
        "        return decoder_input\n",
        "\n",
        "class Decoder(nn.Module):\n",
        "    # def __init__(self, features: int, layers: nn.ModuleList) -> None:\n",
        "    def __init__(self, decoderblocklist: nn.ModuleList) -> None:\n",
        "        super().__init__()\n",
        "        self.decoderblocklist = decoderblocklist\n",
        "        self.layer_norm = LayerNorm()\n",
        "\n",
        "    def forward(self, decoder_input, encoder_output, encoder_mask, decoder_mask):\n",
        "        for decoderblock in self.decoderblocklist:\n",
        "            decoder_input = decoderblock(decoder_input, encoder_output, encoder_mask, decoder_mask)\n",
        "        decoder_output = self.layer_norm(decoder_input)\n",
        "        return decoder_output\n",
        "\n",
        "class ProjectionLayer(nn.Module):\n",
        "    def __init__(self, d_model, vocab_size) -> None:\n",
        "        super().__init__()\n",
        "        self.projection_layer = nn.Linear(d_model, vocab_size)\n",
        "\n",
        "    def forward(self, decoder_output) -> None:\n",
        "        # Projection layer first take in decoder output and feed into the linear layer of shape (d_model, vocab_size)\n",
        "        #Change in shape: decoder_output(batch_size, seq_len, d_model) @ linear_layer(d_model, vocab_size) => output(batch_size, seq_len, vocab_size)\n",
        "        output = self.projection_layer(decoder_output)\n",
        "        return output\n",
        "\n",
        "# Create and build Transfomer\n",
        "\n",
        "class Transformer(nn.Module):\n",
        "    def __init__(self, encoder: Encoder, decoder: Decoder, source_embed: EmbeddingLayer, target_embed: EmbeddingLayer, source_pos: PositionalEncoding, target_pos: PositionalEncoding, projection_layer: ProjectionLayer) -> None:\n",
        "        super().__init__()\n",
        "\n",
        "        self.source_embed = source_embed\n",
        "        self.source_pos = source_pos\n",
        "        self.encoder = encoder\n",
        "\n",
        "        self.target_embed = target_embed\n",
        "        self.target_pos = target_pos\n",
        "        self.decoder = decoder\n",
        "\n",
        "        self.projection_layer = projection_layer\n",
        "\n",
        "    def encode(self, encoder_input, encoder_mask):\n",
        "        encoder_input = self.source_embed(encoder_input)\n",
        "        encoder_input = self.source_pos(encoder_input)\n",
        "        encoder_output = self.encoder(encoder_input, encoder_mask)\n",
        "        return encoder_output\n",
        "\n",
        "    def decode(self, encoder_output, encoder_mask, decoder_input, decoder_mask):\n",
        "        decoder_input = self.target_embed(decoder_input)\n",
        "        decoder_input = self.target_pos(decoder_input)\n",
        "        decoder_output = self.decoder(decoder_input, encoder_output, encoder_mask, decoder_mask)\n",
        "        return decoder_output\n",
        "\n",
        "    def project(self, decoder_output):\n",
        "        return self.projection_layer(decoder_output)\n",
        "\n",
        "def build_model(source_vocab_size: int, target_vocab_size: int, source_seq_len: int, target_seq_len: int, d_model: int=512, num_blocks: int=6, num_heads: int=8, dropout_rate: float=0.1, d_ff: int=2048) -> Transformer:\n",
        "    # Create the embedding layers\n",
        "    source_embed = EmbeddingLayer(d_model, source_vocab_size)\n",
        "    target_embed = EmbeddingLayer(d_model, target_vocab_size)\n",
        "\n",
        "    # Create the positional encoding layers\n",
        "    source_pos = PositionalEncoding(d_model, source_seq_len, dropout_rate)\n",
        "    target_pos = PositionalEncoding(d_model, target_seq_len, dropout_rate)\n",
        "\n",
        "    # Create the encoder-block-list\n",
        "    encoderblocklist = []\n",
        "    for _ in range(num_blocks):\n",
        "        multihead_attention = MultiHeadAttention(d_model, num_heads, dropout_rate)\n",
        "        feed_forward = FeedForward(d_model, d_ff, dropout_rate)\n",
        "        encoder_block = EncoderBlock(multihead_attention, feed_forward, dropout_rate)\n",
        "        encoderblocklist.append(encoder_block)\n",
        "    # Create the encoder\n",
        "    encoder = Encoder(nn.ModuleList(encoderblocklist))\n",
        "\n",
        "    # Create the decoder-block-list\n",
        "    decoderblocklist = []\n",
        "    for _ in range(num_blocks):\n",
        "        masked_multihead_attention = MultiHeadAttention(d_model,num_heads, dropout_rate)\n",
        "        cross_multihead_attention = MultiHeadAttention(d_model, num_heads, dropout_rate)\n",
        "        feed_forward = FeedForward(d_model, d_ff, dropout_rate)\n",
        "        decoder_block = DecoderBlock(masked_multihead_attention, cross_multihead_attention, feed_forward, dropout_rate)\n",
        "        decoderblocklist.append(decoder_block)\n",
        "    # Create the decoder\n",
        "    decoder = Decoder(nn.ModuleList(decoderblocklist))\n",
        "\n",
        "    # Create the projection layer\n",
        "    projection_layer = ProjectionLayer(d_model, target_vocab_size)\n",
        "\n",
        "    # Now that we've initialized all the required blocks of transformer, we can now inititiate a model\n",
        "    model = Transformer(encoder, decoder, source_embed, target_embed, source_pos, target_pos, projection_layer)\n",
        "\n",
        "    # For the first time, we'll initialize the model parameters using xavier uniform method. Once training begings the parameters will be updated by the network\n",
        "    for p in model.parameters():\n",
        "        if p.dim() > 1:\n",
        "            nn.init.xavier_uniform_(p)\n",
        "\n",
        "    return model"
      ],
      "metadata": {
        "id": "BmsWyoWlXIAN"
      },
      "execution_count": null,
      "outputs": []
    },
    {
      "cell_type": "code",
      "source": [
        "\n",
        "# Let's build the model.\n",
        "model = build_model(tokenizer_en.get_vocab_size(), tokenizer_my.get_vocab_size(),max_seq_len, max_seq_len, d_model=512).to(device)\n",
        "\n",
        "# Let's look at the architecture that we've just build ourself\n",
        "print(model)"
      ],
      "metadata": {
        "colab": {
          "base_uri": "https://localhost:8080/"
        },
        "id": "I511ToBzXIMP",
        "outputId": "bab3029d-3827-4cc0-e0ba-97e0500e49c2"
      },
      "execution_count": null,
      "outputs": [
        {
          "output_type": "stream",
          "name": "stdout",
          "text": [
            "Transformer(\n",
            "  (source_embed): EmbeddingLayer(\n",
            "    (embedding): Embedding(1308, 512)\n",
            "  )\n",
            "  (source_pos): PositionalEncoding(\n",
            "    (dropout): Dropout(p=0.1, inplace=False)\n",
            "  )\n",
            "  (encoder): Encoder(\n",
            "    (encoderblocklist): ModuleList(\n",
            "      (0-5): 6 x EncoderBlock(\n",
            "        (multihead_attention): MultiHeadAttention(\n",
            "          (dropout): Dropout(p=0.1, inplace=False)\n",
            "          (W_q): Linear(in_features=512, out_features=512, bias=False)\n",
            "          (W_k): Linear(in_features=512, out_features=512, bias=False)\n",
            "          (W_v): Linear(in_features=512, out_features=512, bias=False)\n",
            "          (W_o): Linear(in_features=512, out_features=512, bias=False)\n",
            "        )\n",
            "        (feed_forward): FeedForward(\n",
            "          (dropout): Dropout(p=0.1, inplace=False)\n",
            "          (layer_1): Linear(in_features=512, out_features=2048, bias=True)\n",
            "          (layer_2): Linear(in_features=2048, out_features=512, bias=True)\n",
            "        )\n",
            "        (addnorm_1): AddAndNorm(\n",
            "          (dropout): Dropout(p=0.1, inplace=False)\n",
            "          (layer_norm): LayerNorm()\n",
            "        )\n",
            "        (addnorm_2): AddAndNorm(\n",
            "          (dropout): Dropout(p=0.1, inplace=False)\n",
            "          (layer_norm): LayerNorm()\n",
            "        )\n",
            "      )\n",
            "    )\n",
            "    (layer_norm): LayerNorm()\n",
            "  )\n",
            "  (target_embed): EmbeddingLayer(\n",
            "    (embedding): Embedding(1333, 512)\n",
            "  )\n",
            "  (target_pos): PositionalEncoding(\n",
            "    (dropout): Dropout(p=0.1, inplace=False)\n",
            "  )\n",
            "  (decoder): Decoder(\n",
            "    (decoderblocklist): ModuleList(\n",
            "      (0-5): 6 x DecoderBlock(\n",
            "        (masked_multihead_attention): MultiHeadAttention(\n",
            "          (dropout): Dropout(p=0.1, inplace=False)\n",
            "          (W_q): Linear(in_features=512, out_features=512, bias=False)\n",
            "          (W_k): Linear(in_features=512, out_features=512, bias=False)\n",
            "          (W_v): Linear(in_features=512, out_features=512, bias=False)\n",
            "          (W_o): Linear(in_features=512, out_features=512, bias=False)\n",
            "        )\n",
            "        (cross_multihead_attention): MultiHeadAttention(\n",
            "          (dropout): Dropout(p=0.1, inplace=False)\n",
            "          (W_q): Linear(in_features=512, out_features=512, bias=False)\n",
            "          (W_k): Linear(in_features=512, out_features=512, bias=False)\n",
            "          (W_v): Linear(in_features=512, out_features=512, bias=False)\n",
            "          (W_o): Linear(in_features=512, out_features=512, bias=False)\n",
            "        )\n",
            "        (feed_forward): FeedForward(\n",
            "          (dropout): Dropout(p=0.1, inplace=False)\n",
            "          (layer_1): Linear(in_features=512, out_features=2048, bias=True)\n",
            "          (layer_2): Linear(in_features=2048, out_features=512, bias=True)\n",
            "        )\n",
            "        (addnorm_1): AddAndNorm(\n",
            "          (dropout): Dropout(p=0.1, inplace=False)\n",
            "          (layer_norm): LayerNorm()\n",
            "        )\n",
            "        (addnorm_2): AddAndNorm(\n",
            "          (dropout): Dropout(p=0.1, inplace=False)\n",
            "          (layer_norm): LayerNorm()\n",
            "        )\n",
            "        (addnorm_3): AddAndNorm(\n",
            "          (dropout): Dropout(p=0.1, inplace=False)\n",
            "          (layer_norm): LayerNorm()\n",
            "        )\n",
            "      )\n",
            "    )\n",
            "    (layer_norm): LayerNorm()\n",
            "  )\n",
            "  (projection_layer): ProjectionLayer(\n",
            "    (projection_layer): Linear(in_features=512, out_features=1333, bias=True)\n",
            "  )\n",
            ")\n"
          ]
        }
      ]
    },
    {
      "cell_type": "code",
      "source": [
        "os.mkdir(\"./Yorubagpt\")"
      ],
      "metadata": {
        "id": "MMC8_mT1WeuK"
      },
      "execution_count": null,
      "outputs": []
    },
    {
      "cell_type": "code",
      "source": [
        "import nltk\n",
        "from nltk.translate.bleu_score import sentence_bleu"
      ],
      "metadata": {
        "id": "eLgW68cfYAmr"
      },
      "execution_count": null,
      "outputs": []
    },
    {
      "cell_type": "code",
      "source": [
        "%%time\n",
        "from nltk.translate.bleu_score import sentence_bleu, SmoothingFunction"
      ],
      "metadata": {
        "id": "8bzJ4FUjTCwy",
        "colab": {
          "base_uri": "https://localhost:8080/"
        },
        "outputId": "7316764b-a4d2-48de-c933-5d22be0770a5"
      },
      "execution_count": null,
      "outputs": [
        {
          "output_type": "stream",
          "name": "stdout",
          "text": [
            "CPU times: user 12 µs, sys: 2 µs, total: 14 µs\n",
            "Wall time: 17.4 µs\n"
          ]
        }
      ]
    },
    {
      "cell_type": "code",
      "source": [
        "#from nltk.translate.bleu_score import sentence_bleu, SmoothingFunction"
      ],
      "metadata": {
        "id": "6Re_6pJnL-wc"
      },
      "execution_count": null,
      "outputs": []
    },
    {
      "cell_type": "code",
      "source": [
        "import time\n",
        "import torch\n",
        "import torch.nn as nn\n",
        "from tqdm import tqdm\n",
        "import matplotlib.pyplot as plt\n",
        "from nltk.translate.bleu_score import sentence_bleu, corpus_bleu\n",
        "import numpy as np\n",
        "\n",
        "# Define the validation function\n",
        "def run_validation(model, validation_ds, tokenizer_en, tokenizer_my, max_seq_len, device, print_msg, global_step):\n",
        "    model.eval()\n",
        "    count = 0\n",
        "    reference_texts = []\n",
        "    generated_texts = []\n",
        "\n",
        "    with torch.no_grad():\n",
        "        for batch in validation_ds:\n",
        "            count += 1\n",
        "            encoder_input = batch[\"encoder_input\"].to(device)\n",
        "            encoder_mask = batch[\"encoder_mask\"].to(device)\n",
        "\n",
        "            cls_id = tokenizer_my.token_to_id('[CLS]')\n",
        "            sep_id = tokenizer_my.token_to_id('[SEP]')\n",
        "\n",
        "            # Computing the output of the encoder for the source sequence\n",
        "            encoder_output = model.encode(encoder_input, encoder_mask)\n",
        "            # for prediction task, the first token that goes in decoder input is the [CLS] token\n",
        "            decoder_input = torch.empty(1, 1).fill_(cls_id).type_as(encoder_input).to(device)\n",
        "            # since we need to keep adding the output back to the input until the [SEP] - end token is received.\n",
        "            while True:\n",
        "                # check if the max length is received\n",
        "                if decoder_input.size(1) == max_seq_len:\n",
        "                    break\n",
        "\n",
        "                # recreate mask each time the new output is added the decoder input for next token prediction\n",
        "                decoder_mask = causal_mask(decoder_input.size(1)).type_as(encoder_mask).to(device)\n",
        "\n",
        "                # apply projection only to the next token\n",
        "                out = model.decode(encoder_output, encoder_mask, decoder_input, decoder_mask)\n",
        "\n",
        "                # apply projection only to the next token\n",
        "                prob = model.project(out[:, -1])\n",
        "\n",
        "                # select the token with highest probability which is a greedy search implementation\n",
        "                _, next_word = torch.max(prob, dim=1)\n",
        "                decoder_input = torch.cat(\n",
        "                    [decoder_input, torch.empty(1, 1).type_as(encoder_input).fill_(next_word.item()).to(device)], dim=1\n",
        "                )\n",
        "                # check if the new token is the end of token\n",
        "                if next_word == sep_id:\n",
        "                    break\n",
        "            # final output is the concatenated decoder input till the end token is reached\n",
        "            model_out = decoder_input.squeeze(0)\n",
        "\n",
        "            source_text = batch[\"source_text\"][0]\n",
        "            target_text = batch[\"target_text\"][0]\n",
        "            model_out_text = tokenizer_my.decode(model_out.detach().cpu().numpy())\n",
        "\n",
        "            reference_texts.append(target_text)\n",
        "            generated_texts.append(model_out_text)\n",
        "\n",
        "            # Print the source, target, and model output\n",
        "            print_msg('-'*55)\n",
        "            print_msg(f'Source Text: {source_text}')\n",
        "            print_msg(f'Target Text: {target_text}')\n",
        "            print_msg(f'Predicted by YorubaChatbot: {model_out_text}')\n",
        "\n",
        "            if count == 2:\n",
        "                break\n",
        "\n",
        "    # Compute BLEU score\n",
        "    bleu_score = compute_bleu_score(reference_texts, generated_texts)\n",
        "    print_msg(f'BLEU score: {bleu_score:.4f}')\n",
        "\n",
        "    corpus_bleu_score = corpus_bleu(reference_texts, generated_texts)\n",
        "    #print(f'Corpus BLEU score: {corpus_bleu_score:.4f}')\n",
        "\n",
        "    return bleu_score  # Ensure the function returns the BLEU score\n",
        "\n",
        "\n",
        "def compute_bleu_score(reference_texts, generated_texts):\n",
        "    \"\"\"\n",
        "    Compute the BLEU score for a list of reference texts and generated texts.\n",
        "\n",
        "    :param reference_texts: List of reference texts (ground truth)\n",
        "    :param generated_texts: List of generated texts by the model\n",
        "    :return: BLEU score\n",
        "    \"\"\"\n",
        "    scores = []\n",
        "    for ref, gen in zip(reference_texts, generated_texts):\n",
        "        ref_tokens = ref.split()  # Tokenize reference text\n",
        "        gen_tokens = gen.split()  # Tokenize generated text\n",
        "        scores.append(sentence_bleu([ref_tokens], gen_tokens))\n",
        "\n",
        "    return sum(scores) / len(scores) if scores else 0\n",
        "\n",
        "\n",
        "def train_model(preload_epoch=None):\n",
        "    # The entire training, validation cycle will run for 60 cycles or epochs.\n",
        "    EPOCHS = 60\n",
        "    initial_epoch = 0\n",
        "    global_step = 0\n",
        "\n",
        "    # Adam is one of the most commonly used optimization algorithms that hold the current state and will update the parameters based on the computed gradients.\n",
        "    optimizer = torch.optim.Adam(model.parameters(), lr=1e-4, eps=1e-9)\n",
        "\n",
        "    # If the preload_epoch is not none, that means the training will start with the weights, optimizer that has been last saved and start with preload epoch + 1\n",
        "    if preload_epoch is not None:\n",
        "        model_filename = f\"./Yorubagpt/model_{preload_epoch}.pt\"\n",
        "        state = torch.load(model_filename)\n",
        "        model.load_state_dict(state['model_state_dict'])\n",
        "        initial_epoch = state['epoch'] + 1\n",
        "        optimizer.load_state_dict(state['optimizer_state_dict'])\n",
        "        global_step = state['global_step']\n",
        "\n",
        "    # The CrossEntropyLoss loss function computes the difference between the projection output and target label.\n",
        "    loss_fn = nn.CrossEntropyLoss(ignore_index=tokenizer_en.token_to_id('[PAD]'), label_smoothing=0.1).to(device)\n",
        "\n",
        "    # Lists to store metrics\n",
        "    train_losses = []\n",
        "    val_bleu_scores = []\n",
        "    cumulative_bleu_scores = []\n",
        "\n",
        "    for epoch in range(initial_epoch, EPOCHS):\n",
        "        epoch_start_time = time.time()\n",
        "        cpu_start_time = time.process_time()\n",
        "\n",
        "        model.train()\n",
        "        epoch_loss = 0.0\n",
        "        batch_iterator = tqdm(train_dataloader, desc=f\"Processing Epoch {epoch:02d}\")\n",
        "        for batch in batch_iterator:\n",
        "            encoder_input = batch['encoder_input'].to(device)  # (B, seq_len)\n",
        "            decoder_input = batch['decoder_input'].to(device)  # (B, seq_len)\n",
        "            encoder_mask = batch['encoder_mask'].to(device)  # (B, 1, 1, seq_len)\n",
        "            decoder_mask = batch['decoder_mask'].to(device)  # (B, 1, seq_len, seq_len)\n",
        "            target_label = batch['target_label'].to(device)  # (B, seq_len)\n",
        "\n",
        "            # Run the tensors through the encoder, decoder, and the projection layer\n",
        "            encoder_output = model.encode(encoder_input, encoder_mask)  # (B, seq_len, d_model)\n",
        "            decoder_output = model.decode(encoder_output, encoder_mask, decoder_input, decoder_mask)  # (B, seq_len, d_model)\n",
        "            projection_output = model.project(decoder_output)  # (B, seq_len, vocab_size)\n",
        "\n",
        "            # Compute the loss using a simple cross-entropy\n",
        "            loss = loss_fn(projection_output.view(-1, tokenizer_my.get_vocab_size()), target_label.view(-1))\n",
        "            epoch_loss += loss.item()\n",
        "            batch_iterator.set_postfix({\"loss\": f\"{loss.item():6.3f}\"})\n",
        "\n",
        "            # Backpropagate the loss\n",
        "            loss.backward()\n",
        "\n",
        "            # Update the weights\n",
        "            optimizer.step()\n",
        "            optimizer.zero_grad(set_to_none=True)\n",
        "\n",
        "            global_step += 1\n",
        "\n",
        "        epoch_loss /= len(train_dataloader)\n",
        "        train_losses.append(epoch_loss)\n",
        "\n",
        "        # Calculate CPU time and wall time for the epoch\n",
        "        cpu_time = time.process_time() - cpu_start_time\n",
        "        wall_time = time.time() - epoch_start_time\n",
        "        print(f\"Epoch {epoch} - CPU time: {cpu_time:.4f}s, Wall time: {wall_time:.4f}s\")\n",
        "\n",
        "        print(f\"Validation for Epoch {epoch}\")\n",
        "        bleu_score = run_validation(model, val_dataloader, tokenizer_en, tokenizer_my, max_seq_len, device, print, global_step)\n",
        "        val_bleu_scores.append(bleu_score)\n",
        "\n",
        "        # Compute cumulative BLEU score\n",
        "        cumulative_bleu = np.cumsum(val_bleu_scores) / (np.arange(len(val_bleu_scores)) + 1)\n",
        "        cumulative_bleu_scores.append(cumulative_bleu[-1])\n",
        "\n",
        "        print(f\"BLEU score for Epoch {epoch}: {bleu_score:.4f}\")\n",
        "        print(f\"Cumulative BLEU score for Epoch {epoch}: {cumulative_bleu[-1]:.4f}\")\n",
        "\n",
        "        # Save the model at the end of every epoch\n",
        "        model_filename = f\"./Yorubagpt/model_{epoch}.pt\"\n",
        "        torch.save({\n",
        "            'epoch': epoch,\n",
        "            'model_state_dict': model.state_dict(),\n",
        "            'optimizer_state_dict': optimizer.state_dict(),\n",
        "            'global_step': global_step\n",
        "        }, model_filename)\n",
        "\n",
        "    # Plotting the results\n",
        "    plt.figure(figsize=(18, 6))\n",
        "\n",
        "    plt.subplot(1, 3, 1)\n",
        "    plt.plot(range(1, EPOCHS + 1), train_losses, marker='o', label='Training Loss')\n",
        "    plt.xlabel('Epoch')\n",
        "    plt.ylabel('Loss')\n",
        "    plt.title('Training Loss over Epochs')\n",
        "    plt.legend()\n",
        "\n",
        "    plt.subplot(1, 3, 2)\n",
        "    plt.plot(range(1, EPOCHS + 1), val_bleu_scores, marker='o', label='Validation BLEU Score', color='orange')\n",
        "    plt.xlabel('Epoch')\n",
        "    plt.ylabel('BLEU Score')\n",
        "    plt.title('Validation BLEU Score over Epochs')\n",
        "    plt.legend()\n",
        "\n",
        "    plt.subplot(1, 3, 3)\n",
        "    plt.plot(range(1, EPOCHS + 1), cumulative_bleu_scores, marker='o', label='Cumulative BLEU Score', color='green')\n",
        "    plt.xlabel('Epoch')\n",
        "    plt.ylabel('Cumulative BLEU Score')\n",
        "    plt.title('Cumulative BLEU Score over Epochs')\n",
        "    plt.legend()\n",
        "\n",
        "    plt.tight_layout()\n",
        "    plt.show()\n"
      ],
      "metadata": {
        "id": "FacE-U9CSzMt"
      },
      "execution_count": null,
      "outputs": []
    },
    {
      "cell_type": "code",
      "source": [],
      "metadata": {
        "id": "3-y2C2sbS0CE"
      },
      "execution_count": null,
      "outputs": []
    },
    {
      "cell_type": "code",
      "source": [
        "\n",
        "# Train our model\n",
        "train_model(preload_epoch=None)"
      ],
      "metadata": {
        "colab": {
          "base_uri": "https://localhost:8080/"
        },
        "id": "im5SwFdYYWs6",
        "outputId": "f27b7178-152d-4463-e0be-c087589a3a14"
      },
      "execution_count": null,
      "outputs": [
        {
          "metadata": {
            "tags": null
          },
          "name": "stderr",
          "output_type": "stream",
          "text": [
            "Processing Epoch 00: 100%|██████████| 221/221 [00:31<00:00,  7.13it/s, loss=3.682]\n"
          ]
        },
        {
          "metadata": {
            "tags": null
          },
          "name": "stdout",
          "output_type": "stream",
          "text": [
            "Epoch 0 - CPU time: 29.8176s, Wall time: 31.0089s\n",
            "Validation for Epoch 0\n",
            "-------------------------------------------------------\n",
            "Source Text: Eélòó ni jálẹ̀jálẹ̀?\n",
            "Target Text: Àádọ́rin náírà ni jálẹ̀jálẹ̀.\n",
            "Predicted by YorubaChatbot: Bẹẹni , a ni tuntun ti o dara .\n",
            "-------------------------------------------------------\n",
            "Source Text: Eélòó ni ọ̀rá Santana tí wọ́n ń pè ní ‘Abiola’?\n",
            "Target Text: Soji ni àwa ń pè é níbí. Ọgọ́rin náírà péré ni.\n",
            "Predicted by YorubaChatbot: Ẹ ṣé\n",
            "BLEU score: 0.0000\n",
            "BLEU score for Epoch 0: 0.0000\n",
            "Cumulative BLEU score for Epoch 0: 0.0000\n"
          ]
        },
        {
          "metadata": {
            "tags": null
          },
          "name": "stderr",
          "output_type": "stream",
          "text": [
            "/usr/local/lib/python3.10/dist-packages/nltk/translate/bleu_score.py:552: UserWarning: \n",
            "The hypothesis contains 0 counts of 2-gram overlaps.\n",
            "Therefore the BLEU score evaluates to 0, independently of\n",
            "how many N-gram overlaps of lower order it contains.\n",
            "Consider using lower n-gram order or use SmoothingFunction()\n",
            "  warnings.warn(_msg)\n",
            "/usr/local/lib/python3.10/dist-packages/nltk/translate/bleu_score.py:552: UserWarning: \n",
            "The hypothesis contains 0 counts of 3-gram overlaps.\n",
            "Therefore the BLEU score evaluates to 0, independently of\n",
            "how many N-gram overlaps of lower order it contains.\n",
            "Consider using lower n-gram order or use SmoothingFunction()\n",
            "  warnings.warn(_msg)\n",
            "/usr/local/lib/python3.10/dist-packages/nltk/translate/bleu_score.py:552: UserWarning: \n",
            "The hypothesis contains 0 counts of 4-gram overlaps.\n",
            "Therefore the BLEU score evaluates to 0, independently of\n",
            "how many N-gram overlaps of lower order it contains.\n",
            "Consider using lower n-gram order or use SmoothingFunction()\n",
            "  warnings.warn(_msg)\n",
            "Processing Epoch 01: 100%|██████████| 221/221 [00:31<00:00,  7.12it/s, loss=1.606]\n"
          ]
        },
        {
          "metadata": {
            "tags": null
          },
          "name": "stdout",
          "output_type": "stream",
          "text": [
            "Epoch 1 - CPU time: 30.5083s, Wall time: 31.0603s\n",
            "Validation for Epoch 1\n",
            "-------------------------------------------------------\n",
            "Source Text: Ẹ jọ̀ọ́, ẹ wá fún wa ní Maggi!\n",
            "Target Text: Irú èwo ni ẹ fẹ́ rà?\n",
            "Predicted by YorubaChatbot: Ẹ ṣé\n",
            "-------------------------------------------------------\n",
            "Source Text: Ẹ dì í pọ̀ bí ẹ ṣe máa ń ṣe é.\n",
            "Target Text: Ó dáa.\n",
            "Predicted by YorubaChatbot: Ó dáa .\n",
            "BLEU score: 0.0000\n",
            "BLEU score for Epoch 1: 0.0000\n",
            "Cumulative BLEU score for Epoch 1: 0.0000\n"
          ]
        },
        {
          "metadata": {
            "tags": null
          },
          "name": "stderr",
          "output_type": "stream",
          "text": [
            "Processing Epoch 02: 100%|██████████| 221/221 [00:31<00:00,  6.91it/s, loss=3.941]\n"
          ]
        },
        {
          "metadata": {
            "tags": null
          },
          "name": "stdout",
          "output_type": "stream",
          "text": [
            "Epoch 2 - CPU time: 31.4939s, Wall time: 32.0033s\n",
            "Validation for Epoch 2\n",
            "-------------------------------------------------------\n",
            "Source Text: Ó dáa, ẹ pò ó!\n",
            "Target Text: Ó dáa.\n",
            "Predicted by YorubaChatbot: Ó dáa .\n",
            "-------------------------------------------------------\n",
            "Source Text: Ó dáa, ẹ seun.\n",
            "Target Text: Ẹ̀yin náà seun.\n",
            "Predicted by YorubaChatbot: Ó dàbọ̀ .\n",
            "BLEU score: 0.0000\n",
            "BLEU score for Epoch 2: 0.0000\n",
            "Cumulative BLEU score for Epoch 2: 0.0000\n"
          ]
        },
        {
          "metadata": {
            "tags": null
          },
          "name": "stderr",
          "output_type": "stream",
          "text": [
            "Processing Epoch 03: 100%|██████████| 221/221 [00:31<00:00,  7.05it/s, loss=3.104]\n"
          ]
        },
        {
          "metadata": {
            "tags": null
          },
          "name": "stdout",
          "output_type": "stream",
          "text": [
            "Epoch 3 - CPU time: 30.8558s, Wall time: 31.3334s\n",
            "Validation for Epoch 3\n",
            "-------------------------------------------------------\n",
            "Source Text: Ẹ ǹlẹ́ o, Olóbì.\n",
            "Target Text: Ẹ ǹlẹ́ o.\n",
            "Predicted by YorubaChatbot: Ẹ ǹlẹ́ o .\n",
            "-------------------------------------------------------\n",
            "Source Text: Ọgọ́fà náírà kẹ̀?\n",
            "Target Text: Bẹ́ẹ̀ni, ọgọ́fà náírà ni.\n",
            "Predicted by YorubaChatbot: Ọgọ́rùn - ún méjì náírà .\n",
            "BLEU score: 0.0000\n",
            "BLEU score for Epoch 3: 0.0000\n",
            "Cumulative BLEU score for Epoch 3: 0.0000\n"
          ]
        },
        {
          "metadata": {
            "tags": null
          },
          "name": "stderr",
          "output_type": "stream",
          "text": [
            "Processing Epoch 04: 100%|██████████| 221/221 [00:31<00:00,  7.05it/s, loss=1.701]\n"
          ]
        },
        {
          "metadata": {
            "tags": null
          },
          "name": "stdout",
          "output_type": "stream",
          "text": [
            "Epoch 4 - CPU time: 30.7416s, Wall time: 31.3655s\n",
            "Validation for Epoch 4\n",
            "-------------------------------------------------------\n",
            "Source Text: Ṣé pé kò gbá Ọgọ́ta náírà?\n",
            "Target Text: Kò gbà.\n",
            "Predicted by YorubaChatbot: Bẹ́ẹ̀ni .\n",
            "-------------------------------------------------------\n",
            "Source Text: Màá san ọgbọ̀n náírà.\n",
            "Target Text: Ẹ san ogójì náírà.\n",
            "Predicted by YorubaChatbot: Ó dáa .\n",
            "BLEU score: 0.0000\n",
            "BLEU score for Epoch 4: 0.0000\n",
            "Cumulative BLEU score for Epoch 4: 0.0000\n"
          ]
        },
        {
          "metadata": {
            "tags": null
          },
          "name": "stderr",
          "output_type": "stream",
          "text": [
            "Processing Epoch 05: 100%|██████████| 221/221 [00:31<00:00,  7.01it/s, loss=1.973]\n"
          ]
        },
        {
          "metadata": {
            "tags": null
          },
          "name": "stdout",
          "output_type": "stream",
          "text": [
            "Epoch 5 - CPU time: 31.1462s, Wall time: 31.5447s\n",
            "Validation for Epoch 5\n",
            "-------------------------------------------------------\n",
            "Source Text: Mí ò lè rà á bẹ́ẹ̀.\n",
            "Target Text: Ẹ̀ ń ná an ní ọgọ́rùn-ún méje àti àádọ́ta náírà. Eélòó ni mo rà á?\n",
            "Predicted by YorubaChatbot: Kò sí\n",
            "-------------------------------------------------------\n",
            "Source Text: Eélòó ni ẹ ń ta date?  ẹ fún mi ní date ogún náírà àti àgbọn ogún náírà.\n",
            "Target Text: Ó dáa.\n",
            "Predicted by YorubaChatbot: Ó dáa .\n",
            "BLEU score: 0.0000\n",
            "BLEU score for Epoch 5: 0.0000\n",
            "Cumulative BLEU score for Epoch 5: 0.0000\n"
          ]
        },
        {
          "metadata": {
            "tags": null
          },
          "name": "stderr",
          "output_type": "stream",
          "text": [
            "Processing Epoch 06: 100%|██████████| 221/221 [00:31<00:00,  7.03it/s, loss=2.327]\n"
          ]
        },
        {
          "metadata": {
            "tags": null
          },
          "name": "stdout",
          "output_type": "stream",
          "text": [
            "Epoch 6 - CPU time: 30.9726s, Wall time: 31.4475s\n",
            "Validation for Epoch 6\n",
            "-------------------------------------------------------\n",
            "Source Text: Alágbọn, Eélòó ni ègé àgbọn?\n",
            "Target Text: Ogún náírà.\n",
            "Predicted by YorubaChatbot: Ọgọ́rùn - ún méjì náírà .\n",
            "-------------------------------------------------------\n",
            "Source Text: Alhaji, ṣé ajé ń wọgbá?\n",
            "Target Text: A dúpẹ́\n",
            "Predicted by YorubaChatbot: A dúpẹ́ .\n",
            "BLEU score: 0.0000\n",
            "BLEU score for Epoch 6: 0.0000\n",
            "Cumulative BLEU score for Epoch 6: 0.0000\n"
          ]
        },
        {
          "metadata": {
            "tags": null
          },
          "name": "stderr",
          "output_type": "stream",
          "text": [
            "Processing Epoch 07: 100%|██████████| 221/221 [00:31<00:00,  7.01it/s, loss=2.652]\n"
          ]
        },
        {
          "metadata": {
            "tags": null
          },
          "name": "stdout",
          "output_type": "stream",
          "text": [
            "Epoch 7 - CPU time: 30.8657s, Wall time: 31.5362s\n",
            "Validation for Epoch 7\n",
            "-------------------------------------------------------\n",
            "Source Text: Eélòó ni jálẹ̀jálẹ̀?\n",
            "Target Text: Ọ̀gá, iye ẹ̀ nì yẹn.\n",
            "Predicted by YorubaChatbot: Kò gbà , mo lè tà á ní N230 , 500 , 500 , 500 , 500 , 500 , 500 , 500 , 500 , 500 .\n",
            "-------------------------------------------------------\n",
            "Source Text: Ó dáa.\n",
            "Target Text: Ẹ ǹlẹ́\n",
            "Predicted by YorubaChatbot: Ó dàbọ̀ .\n",
            "BLEU score: 0.0000\n",
            "BLEU score for Epoch 7: 0.0000\n",
            "Cumulative BLEU score for Epoch 7: 0.0000\n"
          ]
        },
        {
          "metadata": {
            "tags": null
          },
          "name": "stderr",
          "output_type": "stream",
          "text": [
            "Processing Epoch 08: 100%|██████████| 221/221 [00:31<00:00,  7.02it/s, loss=1.679]\n"
          ]
        },
        {
          "metadata": {
            "tags": null
          },
          "name": "stdout",
          "output_type": "stream",
          "text": [
            "Epoch 8 - CPU time: 31.0639s, Wall time: 31.5034s\n",
            "Validation for Epoch 8\n",
            "-------------------------------------------------------\n",
            "Source Text: Ó dàbọ̀.\n",
            "Target Text: Ẹ seun.\n",
            "Predicted by YorubaChatbot: Ó dàbọ̀ .\n",
            "-------------------------------------------------------\n",
            "Source Text: Alágbọn, Eélòó ni ègé àgbọn?\n",
            "Target Text: Ogún náírà.\n",
            "Predicted by YorubaChatbot: Ó dáa .\n",
            "BLEU score: 0.0000\n",
            "BLEU score for Epoch 8: 0.0000\n",
            "Cumulative BLEU score for Epoch 8: 0.0000\n"
          ]
        },
        {
          "metadata": {
            "tags": null
          },
          "name": "stderr",
          "output_type": "stream",
          "text": [
            "Processing Epoch 09: 100%|██████████| 221/221 [00:31<00:00,  7.03it/s, loss=1.235]\n"
          ]
        },
        {
          "metadata": {
            "tags": null
          },
          "name": "stdout",
          "output_type": "stream",
          "text": [
            "Epoch 9 - CPU time: 30.9202s, Wall time: 31.4531s\n",
            "Validation for Epoch 9\n",
            "-------------------------------------------------------\n",
            "Source Text: Eélòó ni ẹ máa tà á jálẹ̀jálẹ̀?\n",
            "Target Text: Eélòó ni ẹ máa rà á jálẹ̀jálẹ̀?\n",
            "Predicted by YorubaChatbot: Ẹ ṣé\n",
            "-------------------------------------------------------\n",
            "Source Text: Ọgọ́ta náírà?\n",
            "Target Text: Kò gbà.\n",
            "Predicted by YorubaChatbot: Kò gbà .\n",
            "BLEU score: 0.0000\n",
            "BLEU score for Epoch 9: 0.0000\n",
            "Cumulative BLEU score for Epoch 9: 0.0000\n"
          ]
        },
        {
          "metadata": {
            "tags": null
          },
          "name": "stderr",
          "output_type": "stream",
          "text": [
            "Processing Epoch 10: 100%|██████████| 221/221 [00:31<00:00,  7.02it/s, loss=1.309]\n"
          ]
        },
        {
          "metadata": {
            "tags": null
          },
          "name": "stdout",
          "output_type": "stream",
          "text": [
            "Epoch 10 - CPU time: 30.8727s, Wall time: 31.4687s\n",
            "Validation for Epoch 10\n",
            "-------------------------------------------------------\n",
            "Source Text: Ó dáa, ẹ seun.\n",
            "Target Text: Ẹ̀yin náà seun.\n",
            "Predicted by YorubaChatbot: Ó dàbọ̀ .\n",
            "-------------------------------------------------------\n",
            "Source Text: Eélòó ni ẹ ń ta date?  ẹ fún mi ní date ogún náírà àti àgbọn ogún náírà.\n",
            "Target Text: Ó dáa.\n",
            "Predicted by YorubaChatbot: Ó dáa .\n",
            "BLEU score: 0.0000\n",
            "BLEU score for Epoch 10: 0.0000\n",
            "Cumulative BLEU score for Epoch 10: 0.0000\n"
          ]
        },
        {
          "metadata": {
            "tags": null
          },
          "name": "stderr",
          "output_type": "stream",
          "text": [
            "Processing Epoch 11: 100%|██████████| 221/221 [00:31<00:00,  7.02it/s, loss=1.650]\n"
          ]
        },
        {
          "metadata": {
            "tags": null
          },
          "name": "stdout",
          "output_type": "stream",
          "text": [
            "Epoch 11 - CPU time: 31.0662s, Wall time: 31.4874s\n",
            "Validation for Epoch 11\n",
            "-------------------------------------------------------\n",
            "Source Text: Ó dàbọ̀.\n",
            "Target Text: Ẹ seun.\n",
            "Predicted by YorubaChatbot: Ó dàbọ̀ .\n",
            "-------------------------------------------------------\n",
            "Source Text: Ó dáa, mot i mún ìkan.\n",
            "Target Text: Ó dáa.\n",
            "Predicted by YorubaChatbot: Ó dàbọ̀ .\n",
            "BLEU score: 0.0000\n",
            "BLEU score for Epoch 11: 0.0000\n",
            "Cumulative BLEU score for Epoch 11: 0.0000\n"
          ]
        },
        {
          "metadata": {
            "tags": null
          },
          "name": "stderr",
          "output_type": "stream",
          "text": [
            "Processing Epoch 12: 100%|██████████| 221/221 [00:31<00:00,  7.02it/s, loss=1.543]\n"
          ]
        },
        {
          "metadata": {
            "tags": null
          },
          "name": "stdout",
          "output_type": "stream",
          "text": [
            "Epoch 12 - CPU time: 30.7980s, Wall time: 31.4676s\n",
            "Validation for Epoch 12\n",
            "-------------------------------------------------------\n",
            "Source Text: Àwọn rèé:  orí màlúù kan, awọ, ẹsẹ̀, àti orí àgbò.\n",
            "Target Text: orí màlúù kan, ẹsẹ̀ mẹ́rin, ìrù màlúù àti orí àgbò márùn-ún.\n",
            "Predicted by YorubaChatbot: orí màlúù kan , ẹsẹ̀ mẹ́rin , ì rù màlúù àti orí àgbò márùn - ún .\n",
            "-------------------------------------------------------\n",
            "Source Text: Ó dáa, ẹ pò ó!\n",
            "Target Text: Ó dáa.\n",
            "Predicted by YorubaChatbot: Ó dáa .\n",
            "BLEU score: 0.0885\n",
            "BLEU score for Epoch 12: 0.0885\n",
            "Cumulative BLEU score for Epoch 12: 0.0068\n"
          ]
        },
        {
          "metadata": {
            "tags": null
          },
          "name": "stderr",
          "output_type": "stream",
          "text": [
            "Processing Epoch 13: 100%|██████████| 221/221 [00:31<00:00,  7.01it/s, loss=1.275]\n"
          ]
        },
        {
          "metadata": {
            "tags": null
          },
          "name": "stdout",
          "output_type": "stream",
          "text": [
            "Epoch 13 - CPU time: 30.9706s, Wall time: 31.5352s\n",
            "Validation for Epoch 13\n",
            "-------------------------------------------------------\n",
            "Source Text: Eélòó ni ẹ ń ta a kóńgò àbùfọ̀?\n",
            "Target Text: Ọgọ́rùn-ún mẹjọ náírà ni kóńgò, ààbọ̀ jẹ   Ọgọ́rùn-ún mẹ́rin náírà (N400) ìlàrin sì jẹ́ Ọgọ́rùn-ún méjì náírà.\n",
            "Predicted by YorubaChatbot: Ọgọ́rùn - ún méjì àti àádọ́ta náírà\n",
            "-------------------------------------------------------\n",
            "Source Text: Ìdì kan ni. Eélòó ni yẹn?\n",
            "Target Text: Ẹgbẹ̀rún kan-àbọ̀ naira, ó lé àádọ́rin náírà (N1,570).\n",
            "Predicted by YorubaChatbot: Ẹgbẹ̀rún kan - àbọ̀ náírà , ó lé àádọ́rin náírà\n",
            "BLEU score: 0.1389\n",
            "BLEU score for Epoch 13: 0.1389\n",
            "Cumulative BLEU score for Epoch 13: 0.0162\n"
          ]
        },
        {
          "metadata": {
            "tags": null
          },
          "name": "stderr",
          "output_type": "stream",
          "text": [
            "Processing Epoch 14: 100%|██████████| 221/221 [00:31<00:00,  7.03it/s, loss=1.564]\n"
          ]
        },
        {
          "metadata": {
            "tags": null
          },
          "name": "stdout",
          "output_type": "stream",
          "text": [
            "Epoch 14 - CPU time: 31.0051s, Wall time: 31.4379s\n",
            "Validation for Epoch 14\n",
            "-------------------------------------------------------\n",
            "Source Text: Ó dáa, ẹ seun.\n",
            "Target Text: Ẹ̀yin náà seun.\n",
            "Predicted by YorubaChatbot: Ó dáa .\n",
            "-------------------------------------------------------\n",
            "Source Text: Ẹ jẹ́ kí a san ogọ́rùn-ún márùn-ún àti àádọ́ta náírà (N550).ọgọ́rùn-ún náírà, àwa náà a lè jẹ èrè àádọ́ta náírà.\n",
            "Target Text: Àpò mélòó ni ẹ fẹ́?\n",
            "Predicted by YorubaChatbot: Ó dáa . Kò sí wàhálà . Ẹ gbà !\n",
            "BLEU score: 0.0000\n",
            "BLEU score for Epoch 14: 0.0000\n",
            "Cumulative BLEU score for Epoch 14: 0.0152\n"
          ]
        },
        {
          "metadata": {
            "tags": null
          },
          "name": "stderr",
          "output_type": "stream",
          "text": [
            "Processing Epoch 15: 100%|██████████| 221/221 [00:31<00:00,  7.03it/s, loss=1.182]\n"
          ]
        },
        {
          "metadata": {
            "tags": null
          },
          "name": "stdout",
          "output_type": "stream",
          "text": [
            "Epoch 15 - CPU time: 30.8389s, Wall time: 31.4583s\n",
            "Validation for Epoch 15\n",
            "-------------------------------------------------------\n",
            "Source Text: Eélòó ni gbogbo ẹ̀?\n",
            "Target Text: Gbogbo ẹ̀ jẹ́ ọgọ́rùn-ún méjì àti ọgọ́rin náírà.\n",
            "Predicted by YorubaChatbot: Gbogbo ẹ̀ jẹ́ ọgọ́rùn - ún méjì àti ọgọ́ rin náírà .\n",
            "-------------------------------------------------------\n",
            "Source Text: Ẹ dì í pọ̀ bí ẹ ṣe máa ń ṣe é.\n",
            "Target Text: Ó dáa.\n",
            "Predicted by YorubaChatbot: Ó dáa .\n",
            "BLEU score: 0.0000\n",
            "BLEU score for Epoch 15: 0.0000\n",
            "Cumulative BLEU score for Epoch 15: 0.0142\n"
          ]
        },
        {
          "metadata": {
            "tags": null
          },
          "name": "stderr",
          "output_type": "stream",
          "text": [
            "Processing Epoch 16: 100%|██████████| 221/221 [00:31<00:00,  7.05it/s, loss=1.427]\n"
          ]
        },
        {
          "metadata": {
            "tags": null
          },
          "name": "stdout",
          "output_type": "stream",
          "text": [
            "Epoch 16 - CPU time: 30.9617s, Wall time: 31.3573s\n",
            "Validation for Epoch 16\n",
            "-------------------------------------------------------\n",
            "Source Text: Ṣé eléyìí tó kilo kan?\n",
            "Target Text: Kilo kan ni.\n",
            "Predicted by YorubaChatbot: Kilo kan ni .\n",
            "-------------------------------------------------------\n",
            "Source Text: Eélòó ni àwọn tó wà nínú abọ́ yìí?\n",
            "Target Text: Eléyìí jẹ́ Ọgọ́rùn-ún mẹ́ta náírà, èyí Ọgọ́rùn-ún márùn-ún náírà.\n",
            "Predicted by YorubaChatbot: Ọgọ́rùn - ún méjì náírà .\n",
            "BLEU score: 0.0000\n",
            "BLEU score for Epoch 16: 0.0000\n",
            "Cumulative BLEU score for Epoch 16: 0.0134\n"
          ]
        },
        {
          "metadata": {
            "tags": null
          },
          "name": "stderr",
          "output_type": "stream",
          "text": [
            "Processing Epoch 17: 100%|██████████| 221/221 [00:31<00:00,  7.02it/s, loss=1.268]\n"
          ]
        },
        {
          "metadata": {
            "tags": null
          },
          "name": "stdout",
          "output_type": "stream",
          "text": [
            "Epoch 17 - CPU time: 30.9794s, Wall time: 31.4663s\n",
            "Validation for Epoch 17\n",
            "-------------------------------------------------------\n",
            "Source Text: Ṣé kí ń san àádọ́ta náírà fún méjì?\n",
            "Target Text: Ó tì.\n",
            "Predicted by YorubaChatbot: Ó tì .\n",
            "-------------------------------------------------------\n",
            "Source Text: Eélòó ni àpò yí?\n",
            "Target Text: Ẹgbẹ̀rún kan-àbọ̀ náírà ni àpò.\n",
            "Predicted by YorubaChatbot: Ẹgbẹ̀rún kan - àbọ̀ náírà ni àpò .\n",
            "BLEU score: 0.0000\n",
            "BLEU score for Epoch 17: 0.0000\n",
            "Cumulative BLEU score for Epoch 17: 0.0126\n"
          ]
        },
        {
          "metadata": {
            "tags": null
          },
          "name": "stderr",
          "output_type": "stream",
          "text": [
            "Processing Epoch 18: 100%|██████████| 221/221 [00:31<00:00,  7.03it/s, loss=1.310]\n"
          ]
        },
        {
          "metadata": {
            "tags": null
          },
          "name": "stdout",
          "output_type": "stream",
          "text": [
            "Epoch 18 - CPU time: 30.8935s, Wall time: 31.4522s\n",
            "Validation for Epoch 18\n",
            "-------------------------------------------------------\n",
            "Source Text: Ẹ seun.\n",
            "Target Text: A dúpẹ́.\n",
            "Predicted by YorubaChatbot: Ó dàbọ̀ .\n",
            "-------------------------------------------------------\n",
            "Source Text: Eélòó ni páálí‘Tiara’?\n",
            "Target Text: Ẹgbẹ̀rún kan lé ní Ọgọ́rùn-ún náírà ni páálí tiara.\n",
            "Predicted by YorubaChatbot: Ẹgbẹ̀rún kan lé ní Ọgọ́rùn - ún náírà ni páálí ti a ra .\n",
            "BLEU score: 0.1286\n",
            "BLEU score for Epoch 18: 0.1286\n",
            "Cumulative BLEU score for Epoch 18: 0.0187\n"
          ]
        },
        {
          "metadata": {
            "tags": null
          },
          "name": "stderr",
          "output_type": "stream",
          "text": [
            "Processing Epoch 19: 100%|██████████| 221/221 [00:31<00:00,  7.03it/s, loss=1.317]\n"
          ]
        },
        {
          "metadata": {
            "tags": null
          },
          "name": "stdout",
          "output_type": "stream",
          "text": [
            "Epoch 19 - CPU time: 31.0088s, Wall time: 31.4347s\n",
            "Validation for Epoch 19\n",
            "-------------------------------------------------------\n",
            "Source Text: Ọgọ́fà náírà, ní ìgbà òjò yí?\n",
            "Target Text: Bẹ́ẹ̀ni, ọgọ́fà náírà ni. Ṣé kí n dì í?\n",
            "Predicted by YorubaChatbot: Ọgọ́rùn - ún méjì náírà àti àádọ́ta náà ni já lẹ̀\n",
            "-------------------------------------------------------\n",
            "Source Text: Ẹ fún mi ní àgbọn ogún náírà àti date ogún náírà.\n",
            "Target Text: Ó dáa. Òun rèé!\n",
            "Predicted by YorubaChatbot: Òun nìyí . Òun rèé !\n",
            "BLEU score: 0.0000\n",
            "BLEU score for Epoch 19: 0.0000\n",
            "Cumulative BLEU score for Epoch 19: 0.0178\n"
          ]
        },
        {
          "metadata": {
            "tags": null
          },
          "name": "stderr",
          "output_type": "stream",
          "text": [
            "Processing Epoch 20: 100%|██████████| 221/221 [00:31<00:00,  7.00it/s, loss=1.302]\n"
          ]
        },
        {
          "metadata": {
            "tags": null
          },
          "name": "stdout",
          "output_type": "stream",
          "text": [
            "Epoch 20 - CPU time: 31.1040s, Wall time: 31.5877s\n",
            "Validation for Epoch 20\n",
            "-------------------------------------------------------\n",
            "Source Text: Ó dáa. Ẹ seun. Owó rèé!\n",
            "Target Text: Ẹ seun o. \n",
            "Predicted by YorubaChatbot: Ó dàbọ̀ .\n",
            "-------------------------------------------------------\n",
            "Source Text: Ọlọ́run á sọ òde dẹ̀rọ̀. Ẹ mún ún wá bẹ́ẹ̀.\n",
            "Target Text: Òhun rè é!\n",
            "Predicted by YorubaChatbot: Ò hun rè é !\n",
            "BLEU score: 0.0000\n",
            "BLEU score for Epoch 20: 0.0000\n",
            "Cumulative BLEU score for Epoch 20: 0.0169\n"
          ]
        },
        {
          "metadata": {
            "tags": null
          },
          "name": "stderr",
          "output_type": "stream",
          "text": [
            "Processing Epoch 21: 100%|██████████| 221/221 [00:31<00:00,  7.00it/s, loss=1.203]\n"
          ]
        },
        {
          "metadata": {
            "tags": null
          },
          "name": "stdout",
          "output_type": "stream",
          "text": [
            "Epoch 21 - CPU time: 31.0183s, Wall time: 31.5915s\n",
            "Validation for Epoch 21\n",
            "-------------------------------------------------------\n",
            "Source Text: Ẹ ǹlẹ́ o, Baba.\n",
            "Target Text: Pẹ̀lẹ́ o.\n",
            "Predicted by YorubaChatbot: Ẹ ǹlẹ́ o , ọ̀gá .\n",
            "-------------------------------------------------------\n",
            "Source Text: Ẹ jọ̀ọ́, mò ń kánjú. Àwọn ọmọ mi ń lọ sí ilé-ìwé láì pẹ́.\n",
            "Target Text: Bí ẹ ṣe ń ná an, èmi gan-an ò rí i rà bẹ́ẹ̀, ká má ì tíì sọ ti èrè.\n",
            "Predicted by YorubaChatbot: Bí ẹ ṣe ń ná an , è mi gan - an ò rí i rà bẹ́ẹ̀ , ká má ì tíì sọ ti èrè .\n",
            "BLEU score: 0.2028\n",
            "BLEU score for Epoch 21: 0.2028\n",
            "Cumulative BLEU score for Epoch 21: 0.0254\n"
          ]
        },
        {
          "metadata": {
            "tags": null
          },
          "name": "stderr",
          "output_type": "stream",
          "text": [
            "Processing Epoch 22: 100%|██████████| 221/221 [00:31<00:00,  6.99it/s, loss=1.139]\n"
          ]
        },
        {
          "metadata": {
            "tags": null
          },
          "name": "stdout",
          "output_type": "stream",
          "text": [
            "Epoch 22 - CPU time: 30.9725s, Wall time: 31.6395s\n",
            "Validation for Epoch 22\n",
            "-------------------------------------------------------\n",
            "Source Text: Ẹ ò ṣe fún mi lára èyí tí ẹ lé yìí? Èyí. Màá san àádọ́ta náírà.\n",
            "Target Text: Ó tì.\n",
            "Predicted by YorubaChatbot: Èwo ?\n",
            "-------------------------------------------------------\n",
            "Source Text: Eélòó ni kóńgò ẹ̀pà?\n",
            "Target Text: Ọgọ́ta náírà.\n",
            "Predicted by YorubaChatbot: Ọgọ́ta náírà .\n",
            "BLEU score: 0.0000\n",
            "BLEU score for Epoch 22: 0.0000\n",
            "Cumulative BLEU score for Epoch 22: 0.0243\n"
          ]
        },
        {
          "metadata": {
            "tags": null
          },
          "name": "stderr",
          "output_type": "stream",
          "text": [
            "Processing Epoch 23: 100%|██████████| 221/221 [00:31<00:00,  6.99it/s, loss=1.244]\n"
          ]
        },
        {
          "metadata": {
            "tags": null
          },
          "name": "stdout",
          "output_type": "stream",
          "text": [
            "Epoch 23 - CPU time: 31.0292s, Wall time: 31.6367s\n",
            "Validation for Epoch 23\n",
            "-------------------------------------------------------\n",
            "Source Text: Ìdì kan ni. Eélòó ni yẹn?\n",
            "Target Text: Ẹgbẹ̀rún kan-àbọ̀ naira, ó lé àádọ́rin náírà (N1,570).\n",
            "Predicted by YorubaChatbot: Ẹgbẹ̀rún kan - àbọ̀ naira , ó lé àádọ́rin náírà\n",
            "-------------------------------------------------------\n",
            "Source Text: Coconut seller, eélòó ni àgbọn?\n",
            "Target Text: Ogún náírà ni àgbọn.\n",
            "Predicted by YorubaChatbot: Wọ́n ní àkànṣe - ètò fún ìrìnàjò ẹlẹ yọ ẹnìkan : ẹgbẹ̀rún méjì dín lọ gọ́rùn - ún , ó lé ọ̀ rìndín lẹ́gbẹ̀ rin náírà fún ọjọ́ mẹ́wàá ni C ala ba r .\n",
            "BLEU score: 0.1389\n",
            "BLEU score for Epoch 23: 0.1389\n",
            "Cumulative BLEU score for Epoch 23: 0.0291\n"
          ]
        },
        {
          "metadata": {
            "tags": null
          },
          "name": "stderr",
          "output_type": "stream",
          "text": [
            "Processing Epoch 24: 100%|██████████| 221/221 [00:31<00:00,  7.02it/s, loss=1.270]\n"
          ]
        },
        {
          "metadata": {
            "tags": null
          },
          "name": "stdout",
          "output_type": "stream",
          "text": [
            "Epoch 24 - CPU time: 30.9046s, Wall time: 31.4827s\n",
            "Validation for Epoch 24\n",
            "-------------------------------------------------------\n",
            "Source Text: Bá wo ni ẹ ṣe ń tà á?\n",
            "Target Text: Bí ẹ bá ṣe fẹ́ ẹ sí ni. A ń ta oní- àádọ́ta náírà ogójì náírà àti ọgbọ̀n náírà.\n",
            "Predicted by YorubaChatbot: Bí ẹ bá ṣe fẹ́ ẹ sí ni . A ń ta oní - àádọ́ta náírà ogójì náírà àti ọgbọ̀n náírà .\n",
            "-------------------------------------------------------\n",
            "Source Text: Eélòó ni eléyìí?\n",
            "Target Text: Ọgọ́rùn-ún náírà ni!\n",
            "Predicted by YorubaChatbot: Ọgọ́rùn - ún náírà ni !\n",
            "BLEU score: 0.2683\n",
            "BLEU score for Epoch 24: 0.2683\n",
            "Cumulative BLEU score for Epoch 24: 0.0386\n"
          ]
        },
        {
          "metadata": {
            "tags": null
          },
          "name": "stderr",
          "output_type": "stream",
          "text": [
            "Processing Epoch 25: 100%|██████████| 221/221 [00:31<00:00,  7.04it/s, loss=1.207]\n"
          ]
        },
        {
          "metadata": {
            "tags": null
          },
          "name": "stdout",
          "output_type": "stream",
          "text": [
            "Epoch 25 - CPU time: 30.8897s, Wall time: 31.3971s\n",
            "Validation for Epoch 25\n",
            "-------------------------------------------------------\n",
            "Source Text: Eélòó ni ẹ ń ta?\n",
            "Target Text: Èyí àádọ́ta náírà, èyí ọgbọ̀n náírà.\n",
            "Predicted by YorubaChatbot: Èyí àádọ́ta náírà , èyí ọgbọ̀n náírà .\n",
            "-------------------------------------------------------\n",
            "Source Text: Ẹ fi í sílẹ̀ fún mi bẹ́ẹ̀.\n",
            "Target Text: Ẹ jọ̀ọ́, mi ò lè tà á bẹ́ẹ̀.\n",
            "Predicted by YorubaChatbot: Ẹ jọ̀ọ́ , mi ò lè tà á bẹ́ẹ̀ .\n",
            "BLEU score: 0.2056\n",
            "BLEU score for Epoch 25: 0.2056\n",
            "Cumulative BLEU score for Epoch 25: 0.0451\n"
          ]
        },
        {
          "metadata": {
            "tags": null
          },
          "name": "stderr",
          "output_type": "stream",
          "text": [
            "Processing Epoch 26: 100%|██████████| 221/221 [00:31<00:00,  6.99it/s, loss=1.263]\n"
          ]
        },
        {
          "metadata": {
            "tags": null
          },
          "name": "stdout",
          "output_type": "stream",
          "text": [
            "Epoch 26 - CPU time: 31.1987s, Wall time: 31.6045s\n",
            "Validation for Epoch 26\n",
            "-------------------------------------------------------\n",
            "Source Text: Mí ò lè rà á bẹ́ẹ̀.\n",
            "Target Text: Ẹ̀ ń ná an ní ọgọ́rùn-ún méje àti àádọ́ta náírà. Eélòó ni mo rà á?\n",
            "Predicted by YorubaChatbot: Ẹ̀ ń ná an ní ọgọ́rùn - ún méje àti àádọ́ta náírà . Eélòó ni mo rà á ?\n",
            "-------------------------------------------------------\n",
            "Source Text: Eélòó ni jálẹ̀jálẹ̀?\n",
            "Target Text: Àádọ́rin náírà ni jálẹ̀jálẹ̀.\n",
            "Predicted by YorubaChatbot: Jálẹ̀jálẹ̀ nì yẹn .\n",
            "BLEU score: 0.1901\n",
            "BLEU score for Epoch 26: 0.1901\n",
            "Cumulative BLEU score for Epoch 26: 0.0504\n"
          ]
        },
        {
          "metadata": {
            "tags": null
          },
          "name": "stderr",
          "output_type": "stream",
          "text": [
            "Processing Epoch 27: 100%|██████████| 221/221 [00:31<00:00,  7.01it/s, loss=1.170]\n"
          ]
        },
        {
          "metadata": {
            "tags": null
          },
          "name": "stdout",
          "output_type": "stream",
          "text": [
            "Epoch 27 - CPU time: 30.9675s, Wall time: 31.5191s\n",
            "Validation for Epoch 27\n",
            "-------------------------------------------------------\n",
            "Source Text: Ṣé kí ń san àádọ́ta náírà fún méjì?\n",
            "Target Text: Ó tì.\n",
            "Predicted by YorubaChatbot: Ó tì .\n",
            "-------------------------------------------------------\n",
            "Source Text: Ẹ gba Ẹgbẹ̀rún ó lé àádọ́rin naira\n",
            "Target Text: Ó ku Ọgọ́rùn-ún márùn-ún náírà (N500).\n",
            "Predicted by YorubaChatbot: Ó ku Ọgọ́rùn - ún márùn - ún náírà\n",
            "BLEU score: 0.0000\n",
            "BLEU score for Epoch 27: 0.0000\n",
            "Cumulative BLEU score for Epoch 27: 0.0486\n"
          ]
        },
        {
          "metadata": {
            "tags": null
          },
          "name": "stderr",
          "output_type": "stream",
          "text": [
            "Processing Epoch 28: 100%|██████████| 221/221 [00:31<00:00,  7.01it/s, loss=1.341]\n"
          ]
        },
        {
          "metadata": {
            "tags": null
          },
          "name": "stdout",
          "output_type": "stream",
          "text": [
            "Epoch 28 - CPU time: 31.0587s, Wall time: 31.5449s\n",
            "Validation for Epoch 28\n",
            "-------------------------------------------------------\n",
            "Source Text: Ó dáa, ẹ fún mi ní kóńgò méjì sóbò.\n",
            "Target Text: Àwọn eléyìí ńkọ́, mélòó ni kí n fi si?\n",
            "Predicted by YorubaChatbot: Àwọn eléyìí ńkọ́ , mélòó ni kí n fi si ?\n",
            "-------------------------------------------------------\n",
            "Source Text: Eélòó ni jálẹ̀jálẹ̀?\n",
            "Target Text: Jálẹ̀jálẹ̀ nì yẹn.\n",
            "Predicted by YorubaChatbot: Jálẹ̀jálẹ̀ nì yẹn .\n",
            "BLEU score: 0.2018\n",
            "BLEU score for Epoch 28: 0.2018\n",
            "Cumulative BLEU score for Epoch 28: 0.0539\n"
          ]
        },
        {
          "metadata": {
            "tags": null
          },
          "name": "stderr",
          "output_type": "stream",
          "text": [
            "Processing Epoch 29: 100%|██████████| 221/221 [00:31<00:00,  6.99it/s, loss=1.151]\n"
          ]
        },
        {
          "metadata": {
            "tags": null
          },
          "name": "stdout",
          "output_type": "stream",
          "text": [
            "Epoch 29 - CPU time: 31.0143s, Wall time: 31.6238s\n",
            "Validation for Epoch 29\n",
            "-------------------------------------------------------\n",
            "Source Text: Ẹ seun.\n",
            "Target Text: A dúpẹ́\n",
            "Predicted by YorubaChatbot: Ó dàbọ̀ .\n",
            "-------------------------------------------------------\n",
            "Source Text: Eélòó ni àwọn tó wà nínú abọ́ yìí?\n",
            "Target Text: Eléyìí jẹ́ Ọgọ́rùn-ún mẹ́ta náírà, èyí Ọgọ́rùn-ún márùn-ún náírà.\n",
            "Predicted by YorubaChatbot: Eléyìí jẹ́ Ọgọ́rùn - ún márùn - ún náírà , èyí Ọgọ́rùn - ún náírà .\n",
            "BLEU score: 0.0000\n",
            "BLEU score for Epoch 29: 0.0000\n",
            "Cumulative BLEU score for Epoch 29: 0.0521\n"
          ]
        },
        {
          "metadata": {
            "tags": null
          },
          "name": "stderr",
          "output_type": "stream",
          "text": [
            "Processing Epoch 30: 100%|██████████| 221/221 [00:31<00:00,  7.03it/s, loss=1.175]\n"
          ]
        },
        {
          "metadata": {
            "tags": null
          },
          "name": "stdout",
          "output_type": "stream",
          "text": [
            "Epoch 30 - CPU time: 31.0226s, Wall time: 31.4624s\n",
            "Validation for Epoch 30\n",
            "-------------------------------------------------------\n",
            "Source Text: Onígbàá, ṣé ajé ń wọgbá?\n",
            "Target Text: A dúpẹ́.\n",
            "Predicted by YorubaChatbot: Olúwa ṣeun .\n",
            "-------------------------------------------------------\n",
            "Source Text: Ọlọ́run á sọ òde dẹ̀rọ̀. Ẹ mún ún wá bẹ́ẹ̀.\n",
            "Target Text: Òhun rè é!\n",
            "Predicted by YorubaChatbot: Ò hun rè é !\n",
            "BLEU score: 0.0000\n",
            "BLEU score for Epoch 30: 0.0000\n",
            "Cumulative BLEU score for Epoch 30: 0.0504\n"
          ]
        },
        {
          "metadata": {
            "tags": null
          },
          "name": "stderr",
          "output_type": "stream",
          "text": [
            "Processing Epoch 31: 100%|██████████| 221/221 [00:31<00:00,  7.04it/s, loss=1.242]\n"
          ]
        },
        {
          "metadata": {
            "tags": null
          },
          "name": "stdout",
          "output_type": "stream",
          "text": [
            "Epoch 31 - CPU time: 30.7934s, Wall time: 31.3880s\n",
            "Validation for Epoch 31\n",
            "-------------------------------------------------------\n",
            "Source Text: Eélòó ni èyí?\n",
            "Target Text: Ọgbọ̀n náírà.\n",
            "Predicted by YorubaChatbot: Ọ gbọ̀n náírà .\n",
            "-------------------------------------------------------\n",
            "Source Text: Eélòó ni kilo inú ẹran?\n",
            "Target Text: Ẹgbẹ̀rún náírà ni kílò.\n",
            "Predicted by YorubaChatbot: Ẹgbẹ̀rún náírà ni kílò .\n",
            "BLEU score: 0.0000\n",
            "BLEU score for Epoch 31: 0.0000\n",
            "Cumulative BLEU score for Epoch 31: 0.0489\n"
          ]
        },
        {
          "metadata": {
            "tags": null
          },
          "name": "stderr",
          "output_type": "stream",
          "text": [
            "Processing Epoch 32: 100%|██████████| 221/221 [00:31<00:00,  6.99it/s, loss=1.167]\n"
          ]
        },
        {
          "metadata": {
            "tags": null
          },
          "name": "stdout",
          "output_type": "stream",
          "text": [
            "Epoch 32 - CPU time: 31.0187s, Wall time: 31.6279s\n",
            "Validation for Epoch 32\n",
            "-------------------------------------------------------\n",
            "Source Text: Ó dáa, mot i mún ìkan.\n",
            "Target Text: Ó dáa.\n",
            "Predicted by YorubaChatbot: Ó dàbọ̀ .\n",
            "-------------------------------------------------------\n",
            "Source Text: Ṣé èyí ni wọ́n ń tà ní ẹgbẹ̀rún kan àti ọgọ́rùn-ún mẹ́ta náírà?\n",
            "Target Text: Bẹ́ẹ̀ni, ẹgbẹ̀rún kan àti ọgọ́rùn-ún mẹ́ta náírà ni.\n",
            "Predicted by YorubaChatbot: Bẹ́ẹ̀ni\n",
            "BLEU score: 0.0000\n",
            "BLEU score for Epoch 32: 0.0000\n",
            "Cumulative BLEU score for Epoch 32: 0.0474\n"
          ]
        },
        {
          "metadata": {
            "tags": null
          },
          "name": "stderr",
          "output_type": "stream",
          "text": [
            "Processing Epoch 33: 100%|██████████| 221/221 [00:31<00:00,  7.02it/s, loss=1.175]\n"
          ]
        },
        {
          "metadata": {
            "tags": null
          },
          "name": "stdout",
          "output_type": "stream",
          "text": [
            "Epoch 33 - CPU time: 30.8163s, Wall time: 31.5104s\n",
            "Validation for Epoch 33\n",
            "-------------------------------------------------------\n",
            "Source Text: Eléyìí ńkọ́?\n",
            "Target Text: Ọgọ́rùn-ún náírà.\n",
            "Predicted by YorubaChatbot: Ọgọ́rùn - ún náírà .\n",
            "-------------------------------------------------------\n",
            "Source Text: Hajiya, òun rèé !\n",
            "Target Text: Ẹ fi ọlọ́gọ́rùn-ún márùn-ún náírà mìíràn si.\n",
            "Predicted by YorubaChatbot: Ó dàbọ̀ .\n",
            "BLEU score: 0.0000\n",
            "BLEU score for Epoch 33: 0.0000\n",
            "Cumulative BLEU score for Epoch 33: 0.0460\n"
          ]
        },
        {
          "metadata": {
            "tags": null
          },
          "name": "stderr",
          "output_type": "stream",
          "text": [
            "Processing Epoch 34: 100%|██████████| 221/221 [00:31<00:00,  7.00it/s, loss=1.198]\n"
          ]
        },
        {
          "metadata": {
            "tags": null
          },
          "name": "stdout",
          "output_type": "stream",
          "text": [
            "Epoch 34 - CPU time: 30.8132s, Wall time: 31.5910s\n",
            "Validation for Epoch 34\n",
            "-------------------------------------------------------\n",
            "Source Text: Eélòó ni jálẹ̀jálẹ̀?\n",
            "Target Text: Ogójì náírà.\n",
            "Predicted by YorubaChatbot: Jálẹ̀jálẹ̀ nì yẹn .\n",
            "-------------------------------------------------------\n",
            "Source Text: Ẹ dì í pọ̀ bí ẹ ṣe máa ń ṣe é.\n",
            "Target Text: Ó dáa.\n",
            "Predicted by YorubaChatbot: Ó dáa .\n",
            "BLEU score: 0.0000\n",
            "BLEU score for Epoch 34: 0.0000\n",
            "Cumulative BLEU score for Epoch 34: 0.0447\n"
          ]
        },
        {
          "metadata": {
            "tags": null
          },
          "name": "stderr",
          "output_type": "stream",
          "text": [
            "Processing Epoch 35: 100%|██████████| 221/221 [00:31<00:00,  7.03it/s, loss=1.117]\n"
          ]
        },
        {
          "metadata": {
            "tags": null
          },
          "name": "stdout",
          "output_type": "stream",
          "text": [
            "Epoch 35 - CPU time: 30.9023s, Wall time: 31.4361s\n",
            "Validation for Epoch 35\n",
            "-------------------------------------------------------\n",
            "Source Text: Alánàmá, eélòó ni ànàmá?\n",
            "Target Text: Ọgọ́rùn-ún méjì náírà ni èyí.\n",
            "Predicted by YorubaChatbot: Ọgọ́rùn - ún méjì náírà ni èyí .\n",
            "-------------------------------------------------------\n",
            "Source Text: Ẹ jọ̀ọ́, mò ń kánjú. Àwọn ọmọ mi ń lọ sí ilé-ìwé láì pẹ́.\n",
            "Target Text: Bí ẹ ṣe ń ná an, èmi gan-an ò rí i rà bẹ́ẹ̀, ká má ì tíì sọ ti èrè.\n",
            "Predicted by YorubaChatbot: Bí ẹ ṣe ń ná an , è mi gan - an ò rí i rà bẹ́ẹ̀ , ká má ì tíì sọ ti èrè .\n",
            "BLEU score: 0.2028\n",
            "BLEU score for Epoch 35: 0.2028\n",
            "Cumulative BLEU score for Epoch 35: 0.0491\n"
          ]
        },
        {
          "metadata": {
            "tags": null
          },
          "name": "stderr",
          "output_type": "stream",
          "text": [
            "Processing Epoch 36: 100%|██████████| 221/221 [00:31<00:00,  7.01it/s, loss=1.233]\n"
          ]
        },
        {
          "metadata": {
            "tags": null
          },
          "name": "stdout",
          "output_type": "stream",
          "text": [
            "Epoch 36 - CPU time: 30.8795s, Wall time: 31.5598s\n",
            "Validation for Epoch 36\n",
            "-------------------------------------------------------\n",
            "Source Text: Ó dáa. Ẹ seun. Owó rèé!\n",
            "Target Text: Ẹ seun o. \n",
            "Predicted by YorubaChatbot: Ó dàbọ̀ .\n",
            "-------------------------------------------------------\n",
            "Source Text: Mo fẹ́ “Lipton” àti mílíìkì, àti blueband.\n",
            "Target Text: Pẹ̀lú bọ̀tà?\n",
            "Predicted by YorubaChatbot: Pẹ̀ lú bọ̀ tà ?\n",
            "BLEU score: 0.0000\n",
            "BLEU score for Epoch 36: 0.0000\n",
            "Cumulative BLEU score for Epoch 36: 0.0477\n"
          ]
        },
        {
          "metadata": {
            "tags": null
          },
          "name": "stderr",
          "output_type": "stream",
          "text": [
            "Processing Epoch 37: 100%|██████████| 221/221 [00:31<00:00,  6.97it/s, loss=1.125]\n"
          ]
        },
        {
          "metadata": {
            "tags": null
          },
          "name": "stdout",
          "output_type": "stream",
          "text": [
            "Epoch 37 - CPU time: 31.1526s, Wall time: 31.7127s\n",
            "Validation for Epoch 37\n",
            "-------------------------------------------------------\n",
            "Source Text: Ẹ fi í sílẹ̀ fún mi bẹ́ẹ̀.\n",
            "Target Text: Ẹ jọ̀ọ́, mi ò lè tà á bẹ́ẹ̀.\n",
            "Predicted by YorubaChatbot: Ẹ jọ̀ọ́ , mi ò lè tà á bẹ́ẹ̀ .\n",
            "-------------------------------------------------------\n",
            "Source Text: Ẹ kú iṣẹ́ o.\n",
            "Target Text: Ẹ kú àbọ̀ .\n",
            "Predicted by YorubaChatbot: Ẹ kú àbọ̀ .\n",
            "BLEU score: 0.7056\n",
            "BLEU score for Epoch 37: 0.7056\n",
            "Cumulative BLEU score for Epoch 37: 0.0650\n"
          ]
        },
        {
          "metadata": {
            "tags": null
          },
          "name": "stderr",
          "output_type": "stream",
          "text": [
            "Processing Epoch 38: 100%|██████████| 221/221 [00:31<00:00,  6.99it/s, loss=1.111]\n"
          ]
        },
        {
          "metadata": {
            "tags": null
          },
          "name": "stdout",
          "output_type": "stream",
          "text": [
            "Epoch 38 - CPU time: 31.0458s, Wall time: 31.6259s\n",
            "Validation for Epoch 38\n",
            "-------------------------------------------------------\n",
            "Source Text: Ó dáa. Ẹ seun.\n",
            "Target Text: A dúpẹ́\n",
            "Predicted by YorubaChatbot: Ó dàbọ̀ .\n",
            "-------------------------------------------------------\n",
            "Source Text: Ìdì kan ni. Eélòó ni yẹn?\n",
            "Target Text: Ẹgbẹ̀rún kan-àbọ̀ naira, ó lé àádọ́rin náírà (N1,570).\n",
            "Predicted by YorubaChatbot: Ẹgbẹ̀rún kan - àbọ̀ naira , ó lé àádọ́rin náírà\n",
            "BLEU score: 0.1389\n",
            "BLEU score for Epoch 38: 0.1389\n",
            "Cumulative BLEU score for Epoch 38: 0.0669\n"
          ]
        },
        {
          "metadata": {
            "tags": null
          },
          "name": "stderr",
          "output_type": "stream",
          "text": [
            "Processing Epoch 39: 100%|██████████| 221/221 [00:31<00:00,  7.00it/s, loss=1.193]\n"
          ]
        },
        {
          "metadata": {
            "tags": null
          },
          "name": "stdout",
          "output_type": "stream",
          "text": [
            "Epoch 39 - CPU time: 30.9230s, Wall time: 31.5752s\n",
            "Validation for Epoch 39\n",
            "-------------------------------------------------------\n",
            "Source Text: Bá wo ni ẹ ṣe ń tà á?\n",
            "Target Text: Bí ẹ bá ṣe fẹ́ ẹ sí ni. A ń ta oní- àádọ́ta náírà ogójì náírà àti ọgbọ̀n náírà.\n",
            "Predicted by YorubaChatbot: Bí ẹ bá ṣe fẹ́ ẹ sí ni . A ń ta oní - àádọ́ta náírà ogójì náírà àti ọgbọ̀n náírà .\n",
            "-------------------------------------------------------\n",
            "Source Text: Ṣé pé kò gbá Ọgọ́ta náírà?\n",
            "Target Text: Kò gbà.\n",
            "Predicted by YorubaChatbot: Kò gbà .\n",
            "BLEU score: 0.2683\n",
            "BLEU score for Epoch 39: 0.2683\n",
            "Cumulative BLEU score for Epoch 39: 0.0720\n"
          ]
        },
        {
          "metadata": {
            "tags": null
          },
          "name": "stderr",
          "output_type": "stream",
          "text": [
            "Processing Epoch 40: 100%|██████████| 221/221 [00:31<00:00,  6.98it/s, loss=1.188]\n"
          ]
        },
        {
          "metadata": {
            "tags": null
          },
          "name": "stdout",
          "output_type": "stream",
          "text": [
            "Epoch 40 - CPU time: 31.0676s, Wall time: 31.6707s\n",
            "Validation for Epoch 40\n",
            "-------------------------------------------------------\n",
            "Source Text: Alánàmá, eélòó ni ànàmá?\n",
            "Target Text: Ọgọ́rùn-ún méjì náírà ni èyí.\n",
            "Predicted by YorubaChatbot: Ọgọ́rùn - ún méjì náírà ni èyí .\n",
            "-------------------------------------------------------\n",
            "Source Text: Eélòó ni odindi?\n",
            "Target Text: Èwo ni ẹ fẹ́?\n",
            "Predicted by YorubaChatbot: Èwo ni ẹ fẹ́ ?\n",
            "BLEU score: 0.0000\n",
            "BLEU score for Epoch 40: 0.0000\n",
            "Cumulative BLEU score for Epoch 40: 0.0702\n"
          ]
        },
        {
          "metadata": {
            "tags": null
          },
          "name": "stderr",
          "output_type": "stream",
          "text": [
            "Processing Epoch 41: 100%|██████████| 221/221 [00:31<00:00,  6.98it/s, loss=1.246]\n"
          ]
        },
        {
          "metadata": {
            "tags": null
          },
          "name": "stdout",
          "output_type": "stream",
          "text": [
            "Epoch 41 - CPU time: 30.9039s, Wall time: 31.6507s\n",
            "Validation for Epoch 41\n",
            "-------------------------------------------------------\n",
            "Source Text: Ó dáa, ẹ pò ó!\n",
            "Target Text: Ó dáa.\n",
            "Predicted by YorubaChatbot: Ó dáa .\n",
            "-------------------------------------------------------\n",
            "Source Text: Eélòó ni àbùfọ̀ Ariel?\n",
            "Target Text: Ńlá tàbí kékeré?\n",
            "Predicted by YorubaChatbot: Ń lá tàbí kékeré ?\n",
            "BLEU score: 0.0000\n",
            "BLEU score for Epoch 41: 0.0000\n",
            "Cumulative BLEU score for Epoch 41: 0.0685\n"
          ]
        },
        {
          "output_type": "stream",
          "name": "stderr",
          "text": [
            "Processing Epoch 42: 100%|██████████| 221/221 [00:31<00:00,  7.02it/s, loss=1.124]\n"
          ]
        },
        {
          "output_type": "stream",
          "name": "stdout",
          "text": [
            "Epoch 42 - CPU time: 30.8045s, Wall time: 31.5053s\n",
            "Validation for Epoch 42\n",
            "-------------------------------------------------------\n",
            "Source Text: Eélòó ni jálẹ̀jálẹ̀?\n",
            "Target Text: Àádọ́rin náírà ni jálẹ̀jálẹ̀.\n",
            "Predicted by YorubaChatbot: Jálẹ̀jálẹ̀ nì yẹn .\n",
            "-------------------------------------------------------\n",
            "Source Text: Ẹ fi í sílẹ̀ fún mi bẹ́ẹ̀.\n",
            "Target Text: Ẹ jọ̀ọ́, mi ò lè tà á bẹ́ẹ̀.\n",
            "Predicted by YorubaChatbot: Ẹ jọ̀ọ́ , mi ò lè tà á bẹ́ẹ̀ .\n",
            "BLEU score: 0.2056\n",
            "BLEU score for Epoch 42: 0.2056\n",
            "Cumulative BLEU score for Epoch 42: 0.0717\n"
          ]
        },
        {
          "output_type": "stream",
          "name": "stderr",
          "text": [
            "Processing Epoch 43: 100%|██████████| 221/221 [00:31<00:00,  6.98it/s, loss=1.141]\n"
          ]
        },
        {
          "output_type": "stream",
          "name": "stdout",
          "text": [
            "Epoch 43 - CPU time: 30.8180s, Wall time: 31.6836s\n",
            "Validation for Epoch 43\n",
            "-------------------------------------------------------\n",
            "Source Text: Eélòó ni kóńgò ẹ̀pà?\n",
            "Target Text: Ọgọ́ta náírà.\n",
            "Predicted by YorubaChatbot: Ọgọ́ta náírà .\n",
            "-------------------------------------------------------\n",
            "Source Text: Alánàmá, eélòó ni ànàmá?\n",
            "Target Text: Ọgọ́rùn-ún méjì náírà ni èyí.\n",
            "Predicted by YorubaChatbot: Ọgọ́rùn - ún méjì náírà ni èyí .\n",
            "BLEU score: 0.0000\n",
            "BLEU score for Epoch 43: 0.0000\n",
            "Cumulative BLEU score for Epoch 43: 0.0701\n"
          ]
        },
        {
          "output_type": "stream",
          "name": "stderr",
          "text": [
            "Processing Epoch 44: 100%|██████████| 221/221 [00:31<00:00,  7.00it/s, loss=1.186]\n"
          ]
        },
        {
          "output_type": "stream",
          "name": "stdout",
          "text": [
            "Epoch 44 - CPU time: 30.9204s, Wall time: 31.5608s\n",
            "Validation for Epoch 44\n",
            "-------------------------------------------------------\n",
            "Source Text: Eélòó ni jálẹ̀jálẹ̀?\n",
            "Target Text: Jálẹ̀jálẹ̀ nì yẹn.\n",
            "Predicted by YorubaChatbot: Àádọ́rin náírà ni jálẹ̀jálẹ̀ .\n",
            "-------------------------------------------------------\n",
            "Source Text: Ẹ ò ṣe fún mi lára èyí tí ẹ lé yìí? Èyí. Màá san àádọ́ta náírà.\n",
            "Target Text: Ó tì.\n",
            "Predicted by YorubaChatbot: Èwo ?\n",
            "BLEU score: 0.0000\n",
            "BLEU score for Epoch 44: 0.0000\n",
            "Cumulative BLEU score for Epoch 44: 0.0685\n"
          ]
        },
        {
          "output_type": "stream",
          "name": "stderr",
          "text": [
            "Processing Epoch 45: 100%|██████████| 221/221 [00:31<00:00,  7.00it/s, loss=1.160]\n"
          ]
        },
        {
          "output_type": "stream",
          "name": "stdout",
          "text": [
            "Epoch 45 - CPU time: 30.9268s, Wall time: 31.5711s\n",
            "Validation for Epoch 45\n",
            "-------------------------------------------------------\n",
            "Source Text: Eélòó ni jálẹ̀jálẹ̀?\n",
            "Target Text: Ogójì náírà.\n",
            "Predicted by YorubaChatbot: Jálẹ̀jálẹ̀ nì yẹn .\n",
            "-------------------------------------------------------\n",
            "Source Text: Ẹ tà á fún mi bẹ́ẹ̀, ṣe bí oníbàárà yín ni mí.\n",
            "Target Text: Eélòó ni ẹ máa rà á jálẹ̀jálẹ̀?\n",
            "Predicted by YorubaChatbot: Eélòó ni ẹ máa rà á jálẹ̀jálẹ̀ ?\n",
            "BLEU score: 0.3402\n",
            "BLEU score for Epoch 45: 0.3402\n",
            "Cumulative BLEU score for Epoch 45: 0.0745\n"
          ]
        },
        {
          "output_type": "stream",
          "name": "stderr",
          "text": [
            "Processing Epoch 46:   9%|▉         | 20/221 [00:02<00:28,  7.00it/s, loss=1.269]"
          ]
        }
      ]
    },
    {
      "cell_type": "code",
      "source": [],
      "metadata": {
        "id": "NDqivXbV4pjO"
      },
      "execution_count": null,
      "outputs": []
    },
    {
      "cell_type": "code",
      "source": [],
      "metadata": {
        "id": "4G993CS8YZWx"
      },
      "execution_count": null,
      "outputs": []
    }
  ]
}